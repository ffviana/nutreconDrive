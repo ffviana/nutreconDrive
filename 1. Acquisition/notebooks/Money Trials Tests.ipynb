{
 "cells": [
  {
   "cell_type": "code",
   "execution_count": 2,
   "metadata": {},
   "outputs": [
    {
     "name": "stdout",
     "output_type": "stream",
     "text": [
      "Running Code locally\n",
      "Running Code locally\n"
     ]
    }
   ],
   "source": [
    "try:\n",
    "    from google.colab import drive\n",
    "    drive.mount('/content/drive/')\n",
    "    shared_drive_foldername = 'NUTRECON'\n",
    "    root = '/content/drive/Shareddrives/{}/'.format(shared_drive_foldername)\n",
    "    %pip install pandas==1.4.2\n",
    "    data_path = _v_.dataPath\n",
    "    print('Running Code in Colab')\n",
    "except:\n",
    "    root = 'D:/FV/Projects/NUTRECON/nutreconDrive/'\n",
    "    data_path = \"D:/FV/Projects/NUTRECON/Data/nutrecon/\"\n",
    "    print('Running Code locally')\n",
    "\n",
    "import sys\n",
    "sys.path.append(root + '1. Acquisition/notebooks')\n",
    "# sys.path.append(root + '1. Acquisition/notebooks_psychophysics')\n",
    "\n",
    "\n",
    "experimentCode = 'nutreMoneyTest'\n",
    "from nutrecon import *\n",
    "\n",
    "from random import shuffle, sample\n",
    "import pandas as pd\n",
    "import numpy as np\n",
    "\n",
    "from glob import glob\n",
    "from datetime import datetime\n",
    "\n",
    "_v_ = Vars()"
   ]
  },
  {
   "cell_type": "code",
   "execution_count": 3,
   "metadata": {},
   "outputs": [
    {
     "name": "stdout",
     "output_type": "stream",
     "text": [
      "nutreMoneyTest000\n"
     ]
    }
   ],
   "source": [
    "subject_nr = 0\n",
    "\n",
    "subject_code = '{}{:03d}'.format(experimentCode, subject_nr)\n",
    "\n",
    "print(subject_code)"
   ]
  },
  {
   "cell_type": "code",
   "execution_count": 39,
   "metadata": {},
   "outputs": [],
   "source": [
    "with open(data_path + \"moneyTrialsTest_UniqueLotteries\", \"r\") as fp:\n",
    "  conditions = json.load(fp)\n",
    "Subject_code = subject_code\n",
    "section_fileID = 'day4_neuroEconOrder'\n",
    "n_Lott_reps = 6\n",
    "mixed_blocks = False\n",
    "\n",
    "df = pd.DataFrame(conditions, columns = ['Trial Type', 'reference type','reference qt','reference p', 'lottery type', 'lottery qt','lottery p'])\n",
    "\n",
    "fpath = '{}{}_{}_{}.json'.format(data_path, Subject_code, section_fileID, strTimestamp())\n",
    "fileMatchingPattern = glob('{}{}*{}*.json'.format(data_path, Subject_code, section_fileID))\n",
    "# if the file exists...\n",
    "if check_MatchingPattern(data_path, Subject_code, section_fileID)[1]:\n",
    "    # get the timestamp of file creation from the file name and provide the user that information\n",
    "    timestamp = float(fileMatchingPattern[0][:-5].split('_')[-1])\n",
    "    print('File already exists. Created on {}'.format(datetime.fromtimestamp(timestamp)))\n",
    "    # open the json file as a dataframe\n",
    "    df_final = pd.read_json(fileMatchingPattern[0], orient = 'index')\n",
    "else:\n",
    "    df = pd.DataFrame(conditions, columns = ['Trial Type', 'reference type','reference qt','reference p', 'lottery type', 'lottery qt','lottery p'])\n",
    "    df['Trial ID'] = np.arange(len(df))\n",
    "    df['reference flavor'] = ''\n",
    "    df['reference shape'] = ''\n",
    "    df['lottery flavor'] = ''\n",
    "    df['lottery shape'] = ''\n",
    "    # each lotery option is repeated 6 times (in the whole task)\n",
    "    blocks = []\n",
    "    for p in range(n_Lott_reps):\n",
    "        blocks += [df.sample(frac = 1).values.tolist()]        \n",
    "\n",
    "    df_final = pd.DataFrame()  # new empty dataframe\n",
    "    block = 0\n",
    "    for b in blocks: # each block \n",
    "        df_tmp = pd.DataFrame(b, columns=df.columns)\n",
    "        # df_tmp.columns = same_df.columns\n",
    "        df_tmp['block'] = block\n",
    "        #df_final = df_final.append(df_tmp)\n",
    "        df_final = pd.concat([df_final, df_tmp]) \n",
    "        block += 1\n",
    "\n",
    "    df_final.reset_index(drop = True, inplace = True)\n",
    "    df_final.to_json(fpath, orient='index')\n",
    "    # save the file as json in the proper path\n",
    "    # df_final.to_json(fpath, orient='index')\n",
    "  \n",
    "#   #return the task trials as a dataframe, as well as the C+ and C- flavours\n",
    "#   return df_final, cPlus_flavor, cMinus_flavor"
   ]
  },
  {
   "cell_type": "code",
   "execution_count": null,
   "metadata": {},
   "outputs": [],
   "source": []
  }
 ],
 "metadata": {
  "kernelspec": {
   "display_name": "nutrecon",
   "language": "python",
   "name": "python3"
  },
  "language_info": {
   "codemirror_mode": {
    "name": "ipython",
    "version": 3
   },
   "file_extension": ".py",
   "mimetype": "text/x-python",
   "name": "python",
   "nbconvert_exporter": "python",
   "pygments_lexer": "ipython3",
   "version": "3.10.4"
  },
  "orig_nbformat": 4
 },
 "nbformat": 4,
 "nbformat_minor": 2
}
