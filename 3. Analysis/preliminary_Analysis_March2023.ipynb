{
 "cells": [
  {
   "attachments": {},
   "cell_type": "markdown",
   "metadata": {},
   "source": [
    "# Preliminary analysis March 2023\n",
    "\n",
    "In this notebook a preliminary analysis of the NUTRECON data will be performed. It is divided in the following sections:\n",
    "\n",
    "*Section 1*\n",
    "\n",
    "        <Population charachterization>\n",
    "        sociodemographic data (Age, Sex, BMI, Education)\n",
    "        Feeding behaviour (PFS, YFAS, DEBQ and QAA)\n",
    "        psychometrics (BDI, BAI and PANAS)\n",
    "*Section 2*\n",
    "\n",
    "        <Hunger, Satiety and flavour ratings>\n",
    "        Hunger and Satiety \n",
    "        analisar a variação do pleasantness: group level, subject level (point-plots, classify subject as decreasers, stable or not), By day\n",
    "*Section 3*\n",
    "\n",
    "        <NUTRECON data>\n",
    "        Tempos de tarefa (Por bloco, entre blocos, total, e por dia)\n",
    "        parametros de 2nd vs 3o e 1o vs 2nd vs 3o.\n",
    "        estimar parametros com primeiros blocos vs com todos, etc."
   ]
  },
  {
   "cell_type": "code",
   "execution_count": null,
   "metadata": {},
   "outputs": [],
   "source": [
    "# try to run the code on google colab...\n",
    "try:\n",
    "  from google.colab import drive\n",
    "  drive.mount('/content/drive/')\n",
    "  shared_drive_foldername = 'NUTRECON'\n",
    "  root = '/content/drive/Shareddrives/{}/'.format(shared_drive_foldername)\n",
    "  subject_figures_path = root + \"4. Results/2. Group level/\"\n",
    "  !pip install pandas==1.4.2\n",
    "  print('Running Code in Colab')\n",
    "# ...or locally\n",
    "except:\n",
    "  # define the local directory of the project\n",
    "#   root = \"C:/Users/DiogoMelo/nutreconDrive/\"\n",
    "  root = 'D:/FV/Projects/NUTRECON/nutreconDrive/'\n",
    "  # define a path to save the the figures from the analysis\n",
    "#   subject_figures_path = \"C:/Users/DiogoMelo/NUTRECON/Results/Group Level/\"\n",
    "  subject_figures_path = \"D:/FV/Projects/NUTRECON/Results/Group Level/\"\n",
    "  print('Running Code locally')\n",
    "\n",
    "# import necessary packages\n",
    "import pandas as pd\n",
    "import numpy as np\n",
    "from datetime import datetime\n",
    "from glob import glob\n",
    "import sys\n",
    "import matplotlib.pyplot as plt\n",
    "import seaborn as sns\n",
    "from scipy.optimize import minimize\n",
    "#from sklearn.linear_model import LogisticRegression\n",
    "from numpy.core.fromnumeric import resize\n",
    "from pathlib import Path\n",
    "\n",
    "# append the folder containing the data acquisition Jupyter Notebooks to the system's path\n",
    "sys.path.append(root + '1. Acquisition/notebooks')\n",
    "\n",
    "# import nutrecon.py variables and functions\n",
    "from nutrecon import *\n",
    "\n",
    "# variable names and IDs object initiation\n",
    "_v_ = Vars()\n",
    "\n",
    "experiment_code = _v_.experiment_code\n",
    "dataPath = _v_.dataPath\n",
    "# path for the folders containing the sequence and response files, respectively\n",
    "sequences_dataPath = _v_.sequences_dataPath\n",
    "responses_dataPath = _v_.responses_dataPath\n",
    "\n",
    "# correspondance between flavors tested and single letter code\n",
    "flavorCodes = _v_.flavorCodes\n",
    "\n",
    "# correspondance between image number and shape\n",
    "imageCodes = _v_.imageCodes\n",
    "\n",
    "# map of indexes to image numbers\n",
    "imageDecoder = _v_.imageDecoder\n",
    "\n",
    "# set of file identifiers and column names for dataframes\n",
    "\n",
    "pres_order_fileID = _v_.pres_order_fileID\n",
    "pres_order_colName = _v_.pres_order_colName\n",
    "flavorID_colName = _v_.flavorID_colName\n",
    "flavorName_colName = _v_.flavorName_colName\n",
    "\n",
    "pres_order_d2_fileID = _v_.pres_order_d2_fileID\n",
    "pres_order_d3_fileID = _v_.pres_order_d3_fileID\n",
    "\n",
    "# these files contain the ratings of intensity, novelty and pleasantness for each of the three days\n",
    "flav_ratings_fileID = _v_.flav_ratings_fileID\n",
    "\n",
    "intensity_colName = _v_.intensity_colName\n",
    "novelty_colName = _v_.novelty_colName\n",
    "pleasanteness_colName = _v_.pleasanteness_colName\n",
    "\n",
    "# order of the four selected flavors at day 1 learnig phase\n",
    "learn_order_fileID = _v_.learn_order_fileID\n",
    "learningOrder_colName = _v_.learningOrder_colName\n",
    "imageName_colName = _v_.imageName_colName\n",
    "imageID_colName = _v_.imageID_colName\n",
    "\n",
    "# order of flavour presentation during day 1 association test\n",
    "assocTestOrder1_colName = _v_.assocTestOrder1_colName\n",
    "assoc1_order_fileID = _v_.assoc1_order_fileID\n",
    "\n",
    "# order of flavour presentation during day 2 association test\n",
    "assocTestOrder2_colName = _v_.assocTestOrder2_colName\n",
    "assoc2_order_fileID = _v_.assoc2_order_fileID\n",
    "\n",
    "# order of flavour presentation during day 3 association test\n",
    "assocTestOrder3_colName = _v_.assocTestOrder3_colName\n",
    "assoc3_order_fileID = _v_.assoc3_order_fileID\n",
    "\n",
    "neuroEconOrder1_fileID = _v_.neuroEconOrder1_fileID\n",
    "neuroEconOrder2_fileID = _v_.neuroEconOrder2_fileID\n",
    "\n",
    "conditioning_order_fileID = _v_.conditioning_order_fileID\n",
    "conditioning_order_colName = _v_.conditioning_order_colName\n",
    "\n",
    "ratings_id = _v_.ratings_id\n",
    "orders_id = _v_.orders_id\n",
    "neuroEcon_id = _v_.neuroEcon_id\n",
    "\n"
   ]
  },
  {
   "cell_type": "code",
   "execution_count": null,
   "metadata": {},
   "outputs": [],
   "source": [
    "root + 'python'"
   ]
  },
  {
   "cell_type": "code",
   "execution_count": 1,
   "metadata": {},
   "outputs": [
    {
     "name": "stdout",
     "output_type": "stream",
     "text": [
      "Running Code locally\n",
      "Running Code locally\n"
     ]
    }
   ],
   "source": [
    "# try to run the code on google colab...\n",
    "try:\n",
    "  from google.colab import drive\n",
    "  drive.mount('/content/drive/')\n",
    "  shared_drive_foldername = 'NUTRECON'\n",
    "  root = '/content/drive/Shareddrives/{}/'.format(shared_drive_foldername)\n",
    "  subject_figures_path = root + \"4. Results/2. Group level/\"\n",
    "  !pip install pandas==1.4.2\n",
    "  print('Running Code in Colab')\n",
    "# ...or locally\n",
    "except:\n",
    "  # define the local directory of the project\n",
    "#   root = \"C:/Users/DiogoMelo/nutreconDrive/\"\n",
    "  root = 'D:/FV/Projects/NUTRECON/nutreconDrive/'\n",
    "  # define a path to save the the figures from the analysis\n",
    "#   subject_figures_path = \"C:/Users/DiogoMelo/NUTRECON/Results/Group Level/\"\n",
    "  subject_figures_path = \"D:/FV/Projects/NUTRECON/Results/Group Level/\"\n",
    "  print('Running Code locally')\n",
    "\n",
    "from glob import glob\n",
    "import sys\n",
    "sys.path.append(root + 'python')\n",
    "from variableCoding import Vars\n",
    "import importData as load_data\n",
    "\n",
    "_v_ = Vars()\n",
    "experiment_code = _v_.experiment_code\n",
    "responses_dataPath = _v_.responses_dataPath\n",
    "ratings_id = _v_.ratings_id\n",
    "\n",
    "subject_code_list = list(set([s.split('\\\\')[-1].split('_')[0] for s in glob('{}{}*{}*'.format(responses_dataPath, experiment_code, ratings_id))]))\n"
   ]
  },
  {
   "attachments": {},
   "cell_type": "markdown",
   "metadata": {},
   "source": [
    "## 1. Population Characterisation "
   ]
  },
  {
   "cell_type": "code",
   "execution_count": 2,
   "metadata": {},
   "outputs": [],
   "source": [
    "# Load sociodemographic, feeding behaviour and psychometrics into DataFrames\n",
    "# Data is stored in a Google sheets and each sheet corresponds to a scale or sociodemographic data\n",
    "\n"
   ]
  },
  {
   "cell_type": "code",
   "execution_count": 3,
   "metadata": {},
   "outputs": [],
   "source": [
    "# Plot all Variables Distribuitions"
   ]
  },
  {
   "cell_type": "code",
   "execution_count": 4,
   "metadata": {},
   "outputs": [],
   "source": [
    "# Plot Age, Gender and Education\n",
    "\n",
    "# Figure 1.1 - Age, Age by Gender, Age by Education\n",
    "\n",
    "# \n",
    "# Boxplot of Age by Gender where markers are Education level"
   ]
  },
  {
   "cell_type": "code",
   "execution_count": null,
   "metadata": {},
   "outputs": [],
   "source": [
    "\n"
   ]
  },
  {
   "attachments": {},
   "cell_type": "markdown",
   "metadata": {},
   "source": [
    "## 2. Hunger, Satiety and Flavour Ratings"
   ]
  },
  {
   "cell_type": "code",
   "execution_count": 5,
   "metadata": {},
   "outputs": [],
   "source": [
    "# Load all Flavour Ratings\n",
    "\n",
    "\n",
    "allRatings_df = load_data.flavorRatings(subject_code_list, responses_dataPath)"
   ]
  },
  {
   "attachments": {},
   "cell_type": "markdown",
   "metadata": {},
   "source": [
    "## 3. NUTRECON"
   ]
  },
  {
   "cell_type": "code",
   "execution_count": 6,
   "metadata": {},
   "outputs": [],
   "source": [
    "all_neuroEcon_df = load_data.nutreconTrials(subject_code_list, responses_dataPath)"
   ]
  },
  {
   "cell_type": "code",
   "execution_count": null,
   "metadata": {},
   "outputs": [],
   "source": []
  }
 ],
 "metadata": {
  "kernelspec": {
   "display_name": "nutrecon",
   "language": "python",
   "name": "python3"
  },
  "language_info": {
   "codemirror_mode": {
    "name": "ipython",
    "version": 3
   },
   "file_extension": ".py",
   "mimetype": "text/x-python",
   "name": "python",
   "nbconvert_exporter": "python",
   "pygments_lexer": "ipython3",
   "version": "3.10.4"
  },
  "orig_nbformat": 4
 },
 "nbformat": 4,
 "nbformat_minor": 2
}
