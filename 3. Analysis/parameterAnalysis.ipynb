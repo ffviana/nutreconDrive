{
 "cells": [
  {
   "cell_type": "code",
   "execution_count": 1,
   "metadata": {},
   "outputs": [
    {
     "name": "stdout",
     "output_type": "stream",
     "text": [
      "Running Code locally\n",
      "Running Code locally\n",
      "20 files.\n",
      "Example path: D:/FV/Projects/NUTRECON/Results/Subject Level/parameter estimates\\nutre018_parameterEstimates.csv\n"
     ]
    }
   ],
   "source": [
    "# try to run the code on google colab...\n",
    "try:\n",
    "  from google.colab import drive\n",
    "  drive.mount('/content/drive/')\n",
    "  shared_drive_foldername = 'NUTRECON'\n",
    "  root = '/content/drive/Shareddrives/{}/'.format(shared_drive_foldername)\n",
    "  !pip install pandas==1.4.2\n",
    "  print('Running Code in Colab')\n",
    "# ...or locally\n",
    "except:\n",
    "  # define the local directory of the project\n",
    "#   root = \"C:/Users/DiogoMelo/nutreconDrive/\"\n",
    "  root = 'D:/FV/Projects/NUTRECON/nutreconDrive/'\n",
    "  print('Running Code locally')\n",
    "\n",
    "import sys\n",
    "import pandas as pd\n",
    "from glob import glob\n",
    "import plotly.express as px\n",
    "from random import randrange\n",
    "\n",
    "sys.path.append(root + 'python')\n",
    "from variableCoding import Vars\n",
    "import importData as load_data\n",
    "_v_ = Vars()\n",
    "\n",
    "csv_paths = glob('D:/FV/Projects/NUTRECON/Results/Subject Level/parameter estimates/*.csv')\n",
    "print('{} files.\\nExample path: {}'.format(len(csv_paths), csv_paths[randrange(len(csv_paths))]))\n",
    "\n",
    "par_dic = {0:'money alpha',\n",
    "           6:'money alpha',\n",
    "           12:'money alpha',\n",
    "           1:'CS+ alpha',\n",
    "           7:'CS+ alpha',\n",
    "           13:'CS+ alpha',\n",
    "           2:'CS- alpha',\n",
    "           8:'CS- alpha',\n",
    "           14:'CS- alpha',\n",
    "           3: 'beta',\n",
    "           9: 'beta',\n",
    "           15: 'beta',\n",
    "           4: 'CS+ sFactor',\n",
    "           10: 'CS+ sFactor',\n",
    "           16: 'CS+ sFactor',\n",
    "           5: 'CS- sFactor',\n",
    "           11: 'CS- sFactor',\n",
    "           17: 'CS- sFactor',}"
   ]
  },
  {
   "cell_type": "code",
   "execution_count": 2,
   "metadata": {},
   "outputs": [
    {
     "name": "stdout",
     "output_type": "stream",
     "text": [
      "['sociodemografic', 'PFS', 'YFAS', 'DEBQ', 'QAA', 'BDI', 'BAI', 'PANAS', 'Taste-strips', 'Conditioning']\n"
     ]
    },
    {
     "name": "stderr",
     "output_type": "stream",
     "text": [
      "C:\\Users\\Admin\\AppData\\Local\\Temp\\ipykernel_4572\\3159417550.py:15: SettingWithCopyWarning: \n",
      "A value is trying to be set on a copy of a slice from a DataFrame.\n",
      "Try using .loc[row_indexer,col_indexer] = value instead\n",
      "\n",
      "See the caveats in the documentation: https://pandas.pydata.org/pandas-docs/stable/user_guide/indexing.html#returning-a-view-versus-a-copy\n",
      "  group_exclusion_df['problematic participants'] = np.where(group_exclusion_df['sub_id'].isin(problem_participants),\n"
     ]
    },
    {
     "data": {
      "text/html": [
       "<div>\n",
       "<style scoped>\n",
       "    .dataframe tbody tr th:only-of-type {\n",
       "        vertical-align: middle;\n",
       "    }\n",
       "\n",
       "    .dataframe tbody tr th {\n",
       "        vertical-align: top;\n",
       "    }\n",
       "\n",
       "    .dataframe thead th {\n",
       "        text-align: right;\n",
       "    }\n",
       "</style>\n",
       "<table border=\"1\" class=\"dataframe\">\n",
       "  <thead>\n",
       "    <tr style=\"text-align: right;\">\n",
       "      <th></th>\n",
       "      <th>init guess</th>\n",
       "      <th>Day</th>\n",
       "      <th>comment</th>\n",
       "      <th>sub_id</th>\n",
       "      <th>parameter</th>\n",
       "      <th>estimate mean</th>\n",
       "      <th>estimate CI</th>\n",
       "      <th>cohort_id</th>\n",
       "      <th>excluded</th>\n",
       "      <th>problematic participants</th>\n",
       "      <th>problem or comment</th>\n",
       "    </tr>\n",
       "  </thead>\n",
       "  <tbody>\n",
       "    <tr>\n",
       "      <th>0</th>\n",
       "      <td>0.0</td>\n",
       "      <td>2</td>\n",
       "      <td>Both alphas are negative but only CS- should be</td>\n",
       "      <td>nutre001</td>\n",
       "      <td>money alpha</td>\n",
       "      <td>0.475</td>\n",
       "      <td>0.086</td>\n",
       "      <td>cohort 1</td>\n",
       "      <td>0</td>\n",
       "      <td>1</td>\n",
       "      <td>1</td>\n",
       "    </tr>\n",
       "    <tr>\n",
       "      <th>1</th>\n",
       "      <td>0.0</td>\n",
       "      <td>2</td>\n",
       "      <td>Both alphas are negative but only CS- should be</td>\n",
       "      <td>nutre001</td>\n",
       "      <td>CS+ alpha</td>\n",
       "      <td>0.374</td>\n",
       "      <td>0.065</td>\n",
       "      <td>cohort 1</td>\n",
       "      <td>0</td>\n",
       "      <td>1</td>\n",
       "      <td>1</td>\n",
       "    </tr>\n",
       "    <tr>\n",
       "      <th>2</th>\n",
       "      <td>0.0</td>\n",
       "      <td>2</td>\n",
       "      <td>Both alphas are negative but only CS- should be</td>\n",
       "      <td>nutre001</td>\n",
       "      <td>CS- alpha</td>\n",
       "      <td>-0.704</td>\n",
       "      <td>0.483</td>\n",
       "      <td>cohort 1</td>\n",
       "      <td>0</td>\n",
       "      <td>1</td>\n",
       "      <td>1</td>\n",
       "    </tr>\n",
       "    <tr>\n",
       "      <th>3</th>\n",
       "      <td>2.0</td>\n",
       "      <td>2</td>\n",
       "      <td>Both alphas are negative but only CS- should be</td>\n",
       "      <td>nutre001</td>\n",
       "      <td>beta</td>\n",
       "      <td>2.006</td>\n",
       "      <td>0.536</td>\n",
       "      <td>cohort 1</td>\n",
       "      <td>0</td>\n",
       "      <td>1</td>\n",
       "      <td>1</td>\n",
       "    </tr>\n",
       "    <tr>\n",
       "      <th>4</th>\n",
       "      <td>1.0</td>\n",
       "      <td>2</td>\n",
       "      <td>Both alphas are negative but only CS- should be</td>\n",
       "      <td>nutre001</td>\n",
       "      <td>CS+ sFactor</td>\n",
       "      <td>0.516</td>\n",
       "      <td>0.111</td>\n",
       "      <td>cohort 1</td>\n",
       "      <td>0</td>\n",
       "      <td>1</td>\n",
       "      <td>1</td>\n",
       "    </tr>\n",
       "    <tr>\n",
       "      <th>...</th>\n",
       "      <td>...</td>\n",
       "      <td>...</td>\n",
       "      <td>...</td>\n",
       "      <td>...</td>\n",
       "      <td>...</td>\n",
       "      <td>...</td>\n",
       "      <td>...</td>\n",
       "      <td>...</td>\n",
       "      <td>...</td>\n",
       "      <td>...</td>\n",
       "      <td>...</td>\n",
       "    </tr>\n",
       "    <tr>\n",
       "      <th>307</th>\n",
       "      <td>0.2</td>\n",
       "      <td>3</td>\n",
       "      <td></td>\n",
       "      <td>nutre020</td>\n",
       "      <td>CS+ alpha</td>\n",
       "      <td>0.377</td>\n",
       "      <td>0.049</td>\n",
       "      <td>cohort 2</td>\n",
       "      <td>0</td>\n",
       "      <td>0</td>\n",
       "      <td>0</td>\n",
       "    </tr>\n",
       "    <tr>\n",
       "      <th>308</th>\n",
       "      <td>0.2</td>\n",
       "      <td>3</td>\n",
       "      <td></td>\n",
       "      <td>nutre020</td>\n",
       "      <td>CS- alpha</td>\n",
       "      <td>0.391</td>\n",
       "      <td>0.053</td>\n",
       "      <td>cohort 2</td>\n",
       "      <td>0</td>\n",
       "      <td>0</td>\n",
       "      <td>0</td>\n",
       "    </tr>\n",
       "    <tr>\n",
       "      <th>309</th>\n",
       "      <td>10.0</td>\n",
       "      <td>3</td>\n",
       "      <td></td>\n",
       "      <td>nutre020</td>\n",
       "      <td>beta</td>\n",
       "      <td>2.366</td>\n",
       "      <td>0.479</td>\n",
       "      <td>cohort 2</td>\n",
       "      <td>0</td>\n",
       "      <td>0</td>\n",
       "      <td>0</td>\n",
       "    </tr>\n",
       "    <tr>\n",
       "      <th>310</th>\n",
       "      <td>1.0</td>\n",
       "      <td>3</td>\n",
       "      <td></td>\n",
       "      <td>nutre020</td>\n",
       "      <td>CS+ sFactor</td>\n",
       "      <td>0.231</td>\n",
       "      <td>0.056</td>\n",
       "      <td>cohort 2</td>\n",
       "      <td>0</td>\n",
       "      <td>0</td>\n",
       "      <td>0</td>\n",
       "    </tr>\n",
       "    <tr>\n",
       "      <th>311</th>\n",
       "      <td>1.0</td>\n",
       "      <td>3</td>\n",
       "      <td></td>\n",
       "      <td>nutre020</td>\n",
       "      <td>CS- sFactor</td>\n",
       "      <td>0.201</td>\n",
       "      <td>0.052</td>\n",
       "      <td>cohort 2</td>\n",
       "      <td>0</td>\n",
       "      <td>0</td>\n",
       "      <td>0</td>\n",
       "    </tr>\n",
       "  </tbody>\n",
       "</table>\n",
       "<p>246 rows × 11 columns</p>\n",
       "</div>"
      ],
      "text/plain": [
       "     init guess  Day                                          comment  \\\n",
       "0           0.0    2  Both alphas are negative but only CS- should be   \n",
       "1           0.0    2  Both alphas are negative but only CS- should be   \n",
       "2           0.0    2  Both alphas are negative but only CS- should be   \n",
       "3           2.0    2  Both alphas are negative but only CS- should be   \n",
       "4           1.0    2  Both alphas are negative but only CS- should be   \n",
       "..          ...  ...                                              ...   \n",
       "307         0.2    3                                                    \n",
       "308         0.2    3                                                    \n",
       "309        10.0    3                                                    \n",
       "310         1.0    3                                                    \n",
       "311         1.0    3                                                    \n",
       "\n",
       "       sub_id    parameter  estimate mean estimate CI cohort_id excluded  \\\n",
       "0    nutre001  money alpha          0.475       0.086  cohort 1        0   \n",
       "1    nutre001    CS+ alpha          0.374       0.065  cohort 1        0   \n",
       "2    nutre001    CS- alpha         -0.704       0.483  cohort 1        0   \n",
       "3    nutre001         beta          2.006       0.536  cohort 1        0   \n",
       "4    nutre001  CS+ sFactor          0.516       0.111  cohort 1        0   \n",
       "..        ...          ...            ...         ...       ...      ...   \n",
       "307  nutre020    CS+ alpha          0.377       0.049  cohort 2        0   \n",
       "308  nutre020    CS- alpha          0.391       0.053  cohort 2        0   \n",
       "309  nutre020         beta          2.366       0.479  cohort 2        0   \n",
       "310  nutre020  CS+ sFactor          0.231       0.056  cohort 2        0   \n",
       "311  nutre020  CS- sFactor          0.201       0.052  cohort 2        0   \n",
       "\n",
       "     problematic participants  problem or comment  \n",
       "0                           1                   1  \n",
       "1                           1                   1  \n",
       "2                           1                   1  \n",
       "3                           1                   1  \n",
       "4                           1                   1  \n",
       "..                        ...                 ...  \n",
       "307                         0                   0  \n",
       "308                         0                   0  \n",
       "309                         0                   0  \n",
       "310                         0                   0  \n",
       "311                         0                   0  \n",
       "\n",
       "[246 rows x 11 columns]"
      ]
     },
     "execution_count": 2,
     "metadata": {},
     "output_type": "execute_result"
    }
   ],
   "source": [
    "data_folder = _v_.responses_dataPath.split('Data')[0] + 'Data/'\n",
    "\n",
    "psychometrics_path = \"{}NUTRECON_psychometrics.xlsx\".format(data_folder)\n",
    "\n",
    "psychometrics_dict = pd.read_excel(psychometrics_path, sheet_name=None, index_col=0)\n",
    "print(list(psychometrics_dict.keys()))\n",
    "\n",
    "sociodemo_df = load_data.sociodemographic(psychometrics_dict)\n",
    "\n",
    "group_exclusion_df = sociodemo_df[['sub_id', 'cohort_id', 'excluded']]\n",
    "\n",
    "problem_participants = ['nutre001', 'nutre002', 'nutre004', 'nutre005',\n",
    "                'nutre012','nutre014', 'nutre015', 'nutre017']\n",
    "import numpy as np\n",
    "group_exclusion_df['problematic participants'] = np.where(group_exclusion_df['sub_id'].isin(problem_participants), \n",
    "                                                          1,0)\n",
    "first = True\n",
    "for path in csv_paths:\n",
    "    subject_id = path.split('_parameterEstimates')[0].split('\\\\')[-1]\n",
    "    sub_df = pd.read_csv(path)\n",
    "    sub_df['sub_id'] = subject_id\n",
    "    if first:\n",
    "        pars_df = sub_df\n",
    "        first = False\n",
    "    else:\n",
    "        pars_df = pd.concat([pars_df, sub_df])\n",
    "\n",
    "\n",
    "pars_df['parameter'] = pars_df.reset_index()['index'].replace(par_dic)\n",
    "pars_df[['estimate mean','_','estimate CI']] = pars_df['mean and CI'].str.split(' ', expand = True)\n",
    "pars_df.drop(columns=['mean and CI', '_'], inplace=True)\n",
    "pars_df['estimate mean'] = pars_df['estimate mean'].astype(float)\n",
    "pars_df = pars_df.merge(group_exclusion_df, on='sub_id')\n",
    "pars_df['comment'] = pars_df['comment'].fillna('')\n",
    "pars_df = pars_df[pars_df['excluded'] == 0]\n",
    "\n",
    "problem_or_comment_mask = (pars_df['problematic participants'] != 0) | (pars_df['comment'] != '')\n",
    "pars_df['problem or comment'] = np.where(problem_or_comment_mask, 1,0)\n",
    "pars_df"
   ]
  },
  {
   "cell_type": "code",
   "execution_count": 3,
   "metadata": {},
   "outputs": [
    {
     "data": {
      "application/vnd.plotly.v1+json": {
       "config": {
        "plotlyServerURL": "https://plot.ly"
       },
       "data": [
        {
         "cells": {
          "values": [
           [
            "cohort 1",
            "cohort 1",
            "cohort 1",
            "cohort 1",
            "cohort 1",
            "cohort 1",
            "cohort 2",
            "cohort 2",
            "cohort 2",
            "cohort 2",
            "cohort 2",
            "cohort 2",
            "cohort 2"
           ],
           [
            "nutre001",
            "nutre001",
            "nutre004",
            "nutre004",
            "nutre005",
            "nutre005",
            "nutre014",
            "nutre014",
            "nutre014",
            "nutre017",
            "nutre017",
            "nutre017",
            "nutre019"
           ],
           [
            2,
            3,
            2,
            3,
            2,
            3,
            1,
            2,
            3,
            1,
            2,
            3,
            1
           ],
           [
            1,
            1,
            1,
            1,
            1,
            1,
            1,
            1,
            1,
            1,
            1,
            1,
            0
           ],
           [
            "Both alphas are negative but only CS- should be",
            "Desired error not necessarily achieved due to precision loss in Mixed type trials",
            "",
            "",
            "Desired error not necessarily achieved due to precision loss in day 2",
            "",
            "weird behaviour",
            "weird behaviour",
            "weird behaviour",
            "rarely choses CS- lottery, negative alpha and negative sFactor",
            "negative sFactor",
            "rarelu choses CS- lottery, negative alpha and negative sFactor",
            "negative sFactor"
           ]
          ]
         },
         "header": {
          "values": [
           "cohort_id",
           "sub_id",
           "Day",
           "problematic participants",
           "comment"
          ]
         },
         "type": "table"
        }
       ],
       "layout": {
        "template": {
         "data": {
          "bar": [
           {
            "error_x": {
             "color": "#2a3f5f"
            },
            "error_y": {
             "color": "#2a3f5f"
            },
            "marker": {
             "line": {
              "color": "#E5ECF6",
              "width": 0.5
             },
             "pattern": {
              "fillmode": "overlay",
              "size": 10,
              "solidity": 0.2
             }
            },
            "type": "bar"
           }
          ],
          "barpolar": [
           {
            "marker": {
             "line": {
              "color": "#E5ECF6",
              "width": 0.5
             },
             "pattern": {
              "fillmode": "overlay",
              "size": 10,
              "solidity": 0.2
             }
            },
            "type": "barpolar"
           }
          ],
          "carpet": [
           {
            "aaxis": {
             "endlinecolor": "#2a3f5f",
             "gridcolor": "white",
             "linecolor": "white",
             "minorgridcolor": "white",
             "startlinecolor": "#2a3f5f"
            },
            "baxis": {
             "endlinecolor": "#2a3f5f",
             "gridcolor": "white",
             "linecolor": "white",
             "minorgridcolor": "white",
             "startlinecolor": "#2a3f5f"
            },
            "type": "carpet"
           }
          ],
          "choropleth": [
           {
            "colorbar": {
             "outlinewidth": 0,
             "ticks": ""
            },
            "type": "choropleth"
           }
          ],
          "contour": [
           {
            "colorbar": {
             "outlinewidth": 0,
             "ticks": ""
            },
            "colorscale": [
             [
              0,
              "#0d0887"
             ],
             [
              0.1111111111111111,
              "#46039f"
             ],
             [
              0.2222222222222222,
              "#7201a8"
             ],
             [
              0.3333333333333333,
              "#9c179e"
             ],
             [
              0.4444444444444444,
              "#bd3786"
             ],
             [
              0.5555555555555556,
              "#d8576b"
             ],
             [
              0.6666666666666666,
              "#ed7953"
             ],
             [
              0.7777777777777778,
              "#fb9f3a"
             ],
             [
              0.8888888888888888,
              "#fdca26"
             ],
             [
              1,
              "#f0f921"
             ]
            ],
            "type": "contour"
           }
          ],
          "contourcarpet": [
           {
            "colorbar": {
             "outlinewidth": 0,
             "ticks": ""
            },
            "type": "contourcarpet"
           }
          ],
          "heatmap": [
           {
            "colorbar": {
             "outlinewidth": 0,
             "ticks": ""
            },
            "colorscale": [
             [
              0,
              "#0d0887"
             ],
             [
              0.1111111111111111,
              "#46039f"
             ],
             [
              0.2222222222222222,
              "#7201a8"
             ],
             [
              0.3333333333333333,
              "#9c179e"
             ],
             [
              0.4444444444444444,
              "#bd3786"
             ],
             [
              0.5555555555555556,
              "#d8576b"
             ],
             [
              0.6666666666666666,
              "#ed7953"
             ],
             [
              0.7777777777777778,
              "#fb9f3a"
             ],
             [
              0.8888888888888888,
              "#fdca26"
             ],
             [
              1,
              "#f0f921"
             ]
            ],
            "type": "heatmap"
           }
          ],
          "heatmapgl": [
           {
            "colorbar": {
             "outlinewidth": 0,
             "ticks": ""
            },
            "colorscale": [
             [
              0,
              "#0d0887"
             ],
             [
              0.1111111111111111,
              "#46039f"
             ],
             [
              0.2222222222222222,
              "#7201a8"
             ],
             [
              0.3333333333333333,
              "#9c179e"
             ],
             [
              0.4444444444444444,
              "#bd3786"
             ],
             [
              0.5555555555555556,
              "#d8576b"
             ],
             [
              0.6666666666666666,
              "#ed7953"
             ],
             [
              0.7777777777777778,
              "#fb9f3a"
             ],
             [
              0.8888888888888888,
              "#fdca26"
             ],
             [
              1,
              "#f0f921"
             ]
            ],
            "type": "heatmapgl"
           }
          ],
          "histogram": [
           {
            "marker": {
             "pattern": {
              "fillmode": "overlay",
              "size": 10,
              "solidity": 0.2
             }
            },
            "type": "histogram"
           }
          ],
          "histogram2d": [
           {
            "colorbar": {
             "outlinewidth": 0,
             "ticks": ""
            },
            "colorscale": [
             [
              0,
              "#0d0887"
             ],
             [
              0.1111111111111111,
              "#46039f"
             ],
             [
              0.2222222222222222,
              "#7201a8"
             ],
             [
              0.3333333333333333,
              "#9c179e"
             ],
             [
              0.4444444444444444,
              "#bd3786"
             ],
             [
              0.5555555555555556,
              "#d8576b"
             ],
             [
              0.6666666666666666,
              "#ed7953"
             ],
             [
              0.7777777777777778,
              "#fb9f3a"
             ],
             [
              0.8888888888888888,
              "#fdca26"
             ],
             [
              1,
              "#f0f921"
             ]
            ],
            "type": "histogram2d"
           }
          ],
          "histogram2dcontour": [
           {
            "colorbar": {
             "outlinewidth": 0,
             "ticks": ""
            },
            "colorscale": [
             [
              0,
              "#0d0887"
             ],
             [
              0.1111111111111111,
              "#46039f"
             ],
             [
              0.2222222222222222,
              "#7201a8"
             ],
             [
              0.3333333333333333,
              "#9c179e"
             ],
             [
              0.4444444444444444,
              "#bd3786"
             ],
             [
              0.5555555555555556,
              "#d8576b"
             ],
             [
              0.6666666666666666,
              "#ed7953"
             ],
             [
              0.7777777777777778,
              "#fb9f3a"
             ],
             [
              0.8888888888888888,
              "#fdca26"
             ],
             [
              1,
              "#f0f921"
             ]
            ],
            "type": "histogram2dcontour"
           }
          ],
          "mesh3d": [
           {
            "colorbar": {
             "outlinewidth": 0,
             "ticks": ""
            },
            "type": "mesh3d"
           }
          ],
          "parcoords": [
           {
            "line": {
             "colorbar": {
              "outlinewidth": 0,
              "ticks": ""
             }
            },
            "type": "parcoords"
           }
          ],
          "pie": [
           {
            "automargin": true,
            "type": "pie"
           }
          ],
          "scatter": [
           {
            "fillpattern": {
             "fillmode": "overlay",
             "size": 10,
             "solidity": 0.2
            },
            "type": "scatter"
           }
          ],
          "scatter3d": [
           {
            "line": {
             "colorbar": {
              "outlinewidth": 0,
              "ticks": ""
             }
            },
            "marker": {
             "colorbar": {
              "outlinewidth": 0,
              "ticks": ""
             }
            },
            "type": "scatter3d"
           }
          ],
          "scattercarpet": [
           {
            "marker": {
             "colorbar": {
              "outlinewidth": 0,
              "ticks": ""
             }
            },
            "type": "scattercarpet"
           }
          ],
          "scattergeo": [
           {
            "marker": {
             "colorbar": {
              "outlinewidth": 0,
              "ticks": ""
             }
            },
            "type": "scattergeo"
           }
          ],
          "scattergl": [
           {
            "marker": {
             "colorbar": {
              "outlinewidth": 0,
              "ticks": ""
             }
            },
            "type": "scattergl"
           }
          ],
          "scattermapbox": [
           {
            "marker": {
             "colorbar": {
              "outlinewidth": 0,
              "ticks": ""
             }
            },
            "type": "scattermapbox"
           }
          ],
          "scatterpolar": [
           {
            "marker": {
             "colorbar": {
              "outlinewidth": 0,
              "ticks": ""
             }
            },
            "type": "scatterpolar"
           }
          ],
          "scatterpolargl": [
           {
            "marker": {
             "colorbar": {
              "outlinewidth": 0,
              "ticks": ""
             }
            },
            "type": "scatterpolargl"
           }
          ],
          "scatterternary": [
           {
            "marker": {
             "colorbar": {
              "outlinewidth": 0,
              "ticks": ""
             }
            },
            "type": "scatterternary"
           }
          ],
          "surface": [
           {
            "colorbar": {
             "outlinewidth": 0,
             "ticks": ""
            },
            "colorscale": [
             [
              0,
              "#0d0887"
             ],
             [
              0.1111111111111111,
              "#46039f"
             ],
             [
              0.2222222222222222,
              "#7201a8"
             ],
             [
              0.3333333333333333,
              "#9c179e"
             ],
             [
              0.4444444444444444,
              "#bd3786"
             ],
             [
              0.5555555555555556,
              "#d8576b"
             ],
             [
              0.6666666666666666,
              "#ed7953"
             ],
             [
              0.7777777777777778,
              "#fb9f3a"
             ],
             [
              0.8888888888888888,
              "#fdca26"
             ],
             [
              1,
              "#f0f921"
             ]
            ],
            "type": "surface"
           }
          ],
          "table": [
           {
            "cells": {
             "fill": {
              "color": "#EBF0F8"
             },
             "line": {
              "color": "white"
             }
            },
            "header": {
             "fill": {
              "color": "#C8D4E3"
             },
             "line": {
              "color": "white"
             }
            },
            "type": "table"
           }
          ]
         },
         "layout": {
          "annotationdefaults": {
           "arrowcolor": "#2a3f5f",
           "arrowhead": 0,
           "arrowwidth": 1
          },
          "autotypenumbers": "strict",
          "coloraxis": {
           "colorbar": {
            "outlinewidth": 0,
            "ticks": ""
           }
          },
          "colorscale": {
           "diverging": [
            [
             0,
             "#8e0152"
            ],
            [
             0.1,
             "#c51b7d"
            ],
            [
             0.2,
             "#de77ae"
            ],
            [
             0.3,
             "#f1b6da"
            ],
            [
             0.4,
             "#fde0ef"
            ],
            [
             0.5,
             "#f7f7f7"
            ],
            [
             0.6,
             "#e6f5d0"
            ],
            [
             0.7,
             "#b8e186"
            ],
            [
             0.8,
             "#7fbc41"
            ],
            [
             0.9,
             "#4d9221"
            ],
            [
             1,
             "#276419"
            ]
           ],
           "sequential": [
            [
             0,
             "#0d0887"
            ],
            [
             0.1111111111111111,
             "#46039f"
            ],
            [
             0.2222222222222222,
             "#7201a8"
            ],
            [
             0.3333333333333333,
             "#9c179e"
            ],
            [
             0.4444444444444444,
             "#bd3786"
            ],
            [
             0.5555555555555556,
             "#d8576b"
            ],
            [
             0.6666666666666666,
             "#ed7953"
            ],
            [
             0.7777777777777778,
             "#fb9f3a"
            ],
            [
             0.8888888888888888,
             "#fdca26"
            ],
            [
             1,
             "#f0f921"
            ]
           ],
           "sequentialminus": [
            [
             0,
             "#0d0887"
            ],
            [
             0.1111111111111111,
             "#46039f"
            ],
            [
             0.2222222222222222,
             "#7201a8"
            ],
            [
             0.3333333333333333,
             "#9c179e"
            ],
            [
             0.4444444444444444,
             "#bd3786"
            ],
            [
             0.5555555555555556,
             "#d8576b"
            ],
            [
             0.6666666666666666,
             "#ed7953"
            ],
            [
             0.7777777777777778,
             "#fb9f3a"
            ],
            [
             0.8888888888888888,
             "#fdca26"
            ],
            [
             1,
             "#f0f921"
            ]
           ]
          },
          "colorway": [
           "#636efa",
           "#EF553B",
           "#00cc96",
           "#ab63fa",
           "#FFA15A",
           "#19d3f3",
           "#FF6692",
           "#B6E880",
           "#FF97FF",
           "#FECB52"
          ],
          "font": {
           "color": "#2a3f5f"
          },
          "geo": {
           "bgcolor": "white",
           "lakecolor": "white",
           "landcolor": "#E5ECF6",
           "showlakes": true,
           "showland": true,
           "subunitcolor": "white"
          },
          "hoverlabel": {
           "align": "left"
          },
          "hovermode": "closest",
          "mapbox": {
           "style": "light"
          },
          "paper_bgcolor": "white",
          "plot_bgcolor": "#E5ECF6",
          "polar": {
           "angularaxis": {
            "gridcolor": "white",
            "linecolor": "white",
            "ticks": ""
           },
           "bgcolor": "#E5ECF6",
           "radialaxis": {
            "gridcolor": "white",
            "linecolor": "white",
            "ticks": ""
           }
          },
          "scene": {
           "xaxis": {
            "backgroundcolor": "#E5ECF6",
            "gridcolor": "white",
            "gridwidth": 2,
            "linecolor": "white",
            "showbackground": true,
            "ticks": "",
            "zerolinecolor": "white"
           },
           "yaxis": {
            "backgroundcolor": "#E5ECF6",
            "gridcolor": "white",
            "gridwidth": 2,
            "linecolor": "white",
            "showbackground": true,
            "ticks": "",
            "zerolinecolor": "white"
           },
           "zaxis": {
            "backgroundcolor": "#E5ECF6",
            "gridcolor": "white",
            "gridwidth": 2,
            "linecolor": "white",
            "showbackground": true,
            "ticks": "",
            "zerolinecolor": "white"
           }
          },
          "shapedefaults": {
           "line": {
            "color": "#2a3f5f"
           }
          },
          "ternary": {
           "aaxis": {
            "gridcolor": "white",
            "linecolor": "white",
            "ticks": ""
           },
           "baxis": {
            "gridcolor": "white",
            "linecolor": "white",
            "ticks": ""
           },
           "bgcolor": "#E5ECF6",
           "caxis": {
            "gridcolor": "white",
            "linecolor": "white",
            "ticks": ""
           }
          },
          "title": {
           "x": 0.05
          },
          "xaxis": {
           "automargin": true,
           "gridcolor": "white",
           "linecolor": "white",
           "ticks": "",
           "title": {
            "standoff": 15
           },
           "zerolinecolor": "white",
           "zerolinewidth": 2
          },
          "yaxis": {
           "automargin": true,
           "gridcolor": "white",
           "linecolor": "white",
           "ticks": "",
           "title": {
            "standoff": 15
           },
           "zerolinecolor": "white",
           "zerolinewidth": 2
          }
         }
        }
       }
      }
     },
     "metadata": {},
     "output_type": "display_data"
    }
   ],
   "source": [
    "import plotly.graph_objects as go\n",
    "\n",
    "problem_or_comment_df = pars_df[problem_or_comment_mask][\n",
    "    ['cohort_id','sub_id', 'Day','problematic participants', 'comment']\n",
    "    ].drop_duplicates().set_index(['cohort_id','sub_id', 'Day'])\n",
    "\n",
    "problem_or_comment_df.to_excel('D:/FV/Projects/NUTRECON/Results/Subject Level/parameter estimates/problem or comment.xlsx')\n",
    "\n",
    "df_table = problem_or_comment_df.reset_index()\n",
    "# df_table.loc[df_table['cohort_id'].duplicated(), 'cohort_id'] = ''\n",
    "# df_table.loc[df_table['sub_id'].duplicated(), 'sub_id'] = ''\n",
    "# df_table.loc[df_table['Day'].duplicated(), 'Day'] = ''\n",
    "\n",
    "table = go.Table(\n",
    "    header=dict(values=df_table.columns.tolist()),\n",
    "    cells=dict(values=df_table.T.values)\n",
    "    )\n",
    "\n",
    "fig = go.Figure(data=table).update_layout()\n",
    "fig.show()"
   ]
  },
  {
   "cell_type": "code",
   "execution_count": 10,
   "metadata": {},
   "outputs": [
    {
     "data": {
      "text/plain": [
       "cohort_id  baseline preference\n",
       "cohort 1   CS+                    5\n",
       "           CS-                    2\n",
       "cohort 2   CS+                    7\n",
       "           CS-                    2\n",
       "dtype: int64"
      ]
     },
     "execution_count": 10,
     "metadata": {},
     "output_type": "execute_result"
    }
   ],
   "source": [
    "d2_mask = (pars_df['Day'] == 2)\n",
    "\n",
    "d2_dfwide = pars_df[d2_mask].drop(\n",
    "    columns=['estimate CI', 'Day', 'init guess', 'comment', 'excluded', 'problematic participants']).pivot(\n",
    "        index= ['sub_id',  'cohort_id', 'problem or comment'], columns=['parameter'], \n",
    "        values = ['estimate mean']).droplevel(0, axis='columns').reset_index()\n",
    "\n",
    "def _compareYogurts(row):\n",
    "    cPlus_eu = (.2**row['money alpha']) / row['CS+ sFactor']\n",
    "    cMinus_eu = (.2**row['money alpha']) / row['CS- sFactor']\n",
    "    if cPlus_eu> cMinus_eu:\n",
    "        out = 'CS+'\n",
    "    else:\n",
    "        out= 'CS-'\n",
    "    return out\n",
    "\n",
    "\n",
    "\n",
    "\n",
    "d2_dfwide['baseline preference'] = d2_dfwide.apply(lambda row: _compareYogurts(row), axis = 1)\n",
    "\n",
    "subject_preference = d2_dfwide[['sub_id','baseline preference']]\n",
    "pars_df = pars_df.merge(subject_preference, on='sub_id')\n",
    "\n",
    "d2_dfwide[['cohort_id', 'baseline preference']].groupby('cohort_id').value_counts()\n",
    "\n",
    "\n"
   ]
  },
  {
   "cell_type": "code",
   "execution_count": 11,
   "metadata": {},
   "outputs": [
    {
     "data": {
      "text/plain": [
       "cohort_id  baseline preference\n",
       "cohort 1   CS+                    3\n",
       "           CS-                    1\n",
       "cohort 2   CS+                    5\n",
       "           CS-                    2\n",
       "dtype: int64"
      ]
     },
     "execution_count": 11,
     "metadata": {},
     "output_type": "execute_result"
    }
   ],
   "source": [
    "d2_dfwide[d2_dfwide['problem or comment']==0][['cohort_id', 'baseline preference']].groupby('cohort_id').value_counts()"
   ]
  },
  {
   "cell_type": "code",
   "execution_count": 5,
   "metadata": {},
   "outputs": [
    {
     "data": {
      "application/vnd.plotly.v1+json": {
       "config": {
        "plotlyServerURL": "https://plot.ly"
       },
       "data": [
        {
         "hovertemplate": "sub_id=nutre001<br>problem or comment=1<br>parameter=money alpha<br>Day=%{x}<br>estimate mean=%{y}<extra></extra>",
         "legendgroup": "nutre001, 1",
         "line": {
          "color": "#AA0DFE",
          "dash": "dot"
         },
         "marker": {
          "symbol": "circle"
         },
         "mode": "lines+markers",
         "name": "nutre001, 1",
         "orientation": "v",
         "showlegend": true,
         "type": "scatter",
         "x": [
          2,
          3
         ],
         "xaxis": "x5",
         "y": [
          0.475,
          0.784
         ],
         "yaxis": "y5"
        },
        {
         "hovertemplate": "sub_id=nutre001<br>problem or comment=1<br>parameter=beta<br>Day=%{x}<br>estimate mean=%{y}<extra></extra>",
         "legendgroup": "nutre001, 1",
         "line": {
          "color": "#AA0DFE",
          "dash": "dot"
         },
         "marker": {
          "symbol": "circle"
         },
         "mode": "lines+markers",
         "name": "nutre001, 1",
         "orientation": "v",
         "showlegend": false,
         "type": "scatter",
         "x": [
          2,
          3
         ],
         "xaxis": "x6",
         "y": [
          2.006,
          0.736
         ],
         "yaxis": "y6"
        },
        {
         "hovertemplate": "sub_id=nutre001<br>problem or comment=1<br>parameter=CS+ alpha<br>Day=%{x}<br>estimate mean=%{y}<extra></extra>",
         "legendgroup": "nutre001, 1",
         "line": {
          "color": "#AA0DFE",
          "dash": "dot"
         },
         "marker": {
          "symbol": "circle"
         },
         "mode": "lines+markers",
         "name": "nutre001, 1",
         "orientation": "v",
         "showlegend": false,
         "type": "scatter",
         "x": [
          2,
          3
         ],
         "xaxis": "x3",
         "y": [
          0.374,
          0.728
         ],
         "yaxis": "y3"
        },
        {
         "hovertemplate": "sub_id=nutre001<br>problem or comment=1<br>parameter=CS- alpha<br>Day=%{x}<br>estimate mean=%{y}<extra></extra>",
         "legendgroup": "nutre001, 1",
         "line": {
          "color": "#AA0DFE",
          "dash": "dot"
         },
         "marker": {
          "symbol": "circle"
         },
         "mode": "lines+markers",
         "name": "nutre001, 1",
         "orientation": "v",
         "showlegend": false,
         "type": "scatter",
         "x": [
          2,
          3
         ],
         "xaxis": "x4",
         "y": [
          -0.704,
          -0.698
         ],
         "yaxis": "y4"
        },
        {
         "hovertemplate": "sub_id=nutre001<br>problem or comment=1<br>parameter=CS+ sFactor<br>Day=%{x}<br>estimate mean=%{y}<extra></extra>",
         "legendgroup": "nutre001, 1",
         "line": {
          "color": "#AA0DFE",
          "dash": "dot"
         },
         "marker": {
          "symbol": "circle"
         },
         "mode": "lines+markers",
         "name": "nutre001, 1",
         "orientation": "v",
         "showlegend": false,
         "type": "scatter",
         "x": [
          2,
          3
         ],
         "xaxis": "x",
         "y": [
          0.516,
          0.308
         ],
         "yaxis": "y"
        },
        {
         "hovertemplate": "sub_id=nutre001<br>problem or comment=1<br>parameter=CS- sFactor<br>Day=%{x}<br>estimate mean=%{y}<extra></extra>",
         "legendgroup": "nutre001, 1",
         "line": {
          "color": "#AA0DFE",
          "dash": "dot"
         },
         "marker": {
          "symbol": "circle"
         },
         "mode": "lines+markers",
         "name": "nutre001, 1",
         "orientation": "v",
         "showlegend": false,
         "type": "scatter",
         "x": [
          2,
          3
         ],
         "xaxis": "x2",
         "y": [
          -128.951,
          -544.95
         ],
         "yaxis": "y2"
        },
        {
         "hovertemplate": "sub_id=nutre003<br>problem or comment=0<br>parameter=money alpha<br>Day=%{x}<br>estimate mean=%{y}<extra></extra>",
         "legendgroup": "nutre003, 0",
         "line": {
          "color": "#3283FE",
          "dash": "solid"
         },
         "marker": {
          "symbol": "circle"
         },
         "mode": "lines+markers",
         "name": "nutre003, 0",
         "orientation": "v",
         "showlegend": true,
         "type": "scatter",
         "x": [
          2,
          3
         ],
         "xaxis": "x5",
         "y": [
          1.373,
          1.426
         ],
         "yaxis": "y5"
        },
        {
         "hovertemplate": "sub_id=nutre003<br>problem or comment=0<br>parameter=beta<br>Day=%{x}<br>estimate mean=%{y}<extra></extra>",
         "legendgroup": "nutre003, 0",
         "line": {
          "color": "#3283FE",
          "dash": "solid"
         },
         "marker": {
          "symbol": "circle"
         },
         "mode": "lines+markers",
         "name": "nutre003, 0",
         "orientation": "v",
         "showlegend": false,
         "type": "scatter",
         "x": [
          2,
          3
         ],
         "xaxis": "x6",
         "y": [
          0.28,
          0.275
         ],
         "yaxis": "y6"
        },
        {
         "hovertemplate": "sub_id=nutre003<br>problem or comment=0<br>parameter=CS+ alpha<br>Day=%{x}<br>estimate mean=%{y}<extra></extra>",
         "legendgroup": "nutre003, 0",
         "line": {
          "color": "#3283FE",
          "dash": "solid"
         },
         "marker": {
          "symbol": "circle"
         },
         "mode": "lines+markers",
         "name": "nutre003, 0",
         "orientation": "v",
         "showlegend": false,
         "type": "scatter",
         "x": [
          2,
          3
         ],
         "xaxis": "x3",
         "y": [
          0.821,
          0.87
         ],
         "yaxis": "y3"
        },
        {
         "hovertemplate": "sub_id=nutre003<br>problem or comment=0<br>parameter=CS- alpha<br>Day=%{x}<br>estimate mean=%{y}<extra></extra>",
         "legendgroup": "nutre003, 0",
         "line": {
          "color": "#3283FE",
          "dash": "solid"
         },
         "marker": {
          "symbol": "circle"
         },
         "mode": "lines+markers",
         "name": "nutre003, 0",
         "orientation": "v",
         "showlegend": false,
         "type": "scatter",
         "x": [
          2,
          3
         ],
         "xaxis": "x4",
         "y": [
          0.885,
          0.894
         ],
         "yaxis": "y4"
        },
        {
         "hovertemplate": "sub_id=nutre003<br>problem or comment=0<br>parameter=CS+ sFactor<br>Day=%{x}<br>estimate mean=%{y}<extra></extra>",
         "legendgroup": "nutre003, 0",
         "line": {
          "color": "#3283FE",
          "dash": "solid"
         },
         "marker": {
          "symbol": "circle"
         },
         "mode": "lines+markers",
         "name": "nutre003, 0",
         "orientation": "v",
         "showlegend": false,
         "type": "scatter",
         "x": [
          2,
          3
         ],
         "xaxis": "x",
         "y": [
          0.341,
          0.193
         ],
         "yaxis": "y"
        },
        {
         "hovertemplate": "sub_id=nutre003<br>problem or comment=0<br>parameter=CS- sFactor<br>Day=%{x}<br>estimate mean=%{y}<extra></extra>",
         "legendgroup": "nutre003, 0",
         "line": {
          "color": "#3283FE",
          "dash": "solid"
         },
         "marker": {
          "symbol": "circle"
         },
         "mode": "lines+markers",
         "name": "nutre003, 0",
         "orientation": "v",
         "showlegend": false,
         "type": "scatter",
         "x": [
          2,
          3
         ],
         "xaxis": "x2",
         "y": [
          0.271,
          0.15
         ],
         "yaxis": "y2"
        },
        {
         "hovertemplate": "sub_id=nutre004<br>problem or comment=1<br>parameter=money alpha<br>Day=%{x}<br>estimate mean=%{y}<extra></extra>",
         "legendgroup": "nutre004, 1",
         "line": {
          "color": "#85660D",
          "dash": "dot"
         },
         "marker": {
          "symbol": "circle"
         },
         "mode": "lines+markers",
         "name": "nutre004, 1",
         "orientation": "v",
         "showlegend": true,
         "type": "scatter",
         "x": [
          2,
          3
         ],
         "xaxis": "x5",
         "y": [
          1.398,
          1.589
         ],
         "yaxis": "y5"
        },
        {
         "hovertemplate": "sub_id=nutre004<br>problem or comment=1<br>parameter=beta<br>Day=%{x}<br>estimate mean=%{y}<extra></extra>",
         "legendgroup": "nutre004, 1",
         "line": {
          "color": "#85660D",
          "dash": "dot"
         },
         "marker": {
          "symbol": "circle"
         },
         "mode": "lines+markers",
         "name": "nutre004, 1",
         "orientation": "v",
         "showlegend": false,
         "type": "scatter",
         "x": [
          2,
          3
         ],
         "xaxis": "x6",
         "y": [
          0.72,
          0.678
         ],
         "yaxis": "y6"
        },
        {
         "hovertemplate": "sub_id=nutre004<br>problem or comment=1<br>parameter=CS+ alpha<br>Day=%{x}<br>estimate mean=%{y}<extra></extra>",
         "legendgroup": "nutre004, 1",
         "line": {
          "color": "#85660D",
          "dash": "dot"
         },
         "marker": {
          "symbol": "circle"
         },
         "mode": "lines+markers",
         "name": "nutre004, 1",
         "orientation": "v",
         "showlegend": false,
         "type": "scatter",
         "x": [
          2,
          3
         ],
         "xaxis": "x3",
         "y": [
          0.86,
          0.81
         ],
         "yaxis": "y3"
        },
        {
         "hovertemplate": "sub_id=nutre004<br>problem or comment=1<br>parameter=CS- alpha<br>Day=%{x}<br>estimate mean=%{y}<extra></extra>",
         "legendgroup": "nutre004, 1",
         "line": {
          "color": "#85660D",
          "dash": "dot"
         },
         "marker": {
          "symbol": "circle"
         },
         "mode": "lines+markers",
         "name": "nutre004, 1",
         "orientation": "v",
         "showlegend": false,
         "type": "scatter",
         "x": [
          2,
          3
         ],
         "xaxis": "x4",
         "y": [
          0.807,
          0.878
         ],
         "yaxis": "y4"
        },
        {
         "hovertemplate": "sub_id=nutre004<br>problem or comment=1<br>parameter=CS+ sFactor<br>Day=%{x}<br>estimate mean=%{y}<extra></extra>",
         "legendgroup": "nutre004, 1",
         "line": {
          "color": "#85660D",
          "dash": "dot"
         },
         "marker": {
          "symbol": "circle"
         },
         "mode": "lines+markers",
         "name": "nutre004, 1",
         "orientation": "v",
         "showlegend": false,
         "type": "scatter",
         "x": [
          2,
          3
         ],
         "xaxis": "x",
         "y": [
          0.495,
          0.462
         ],
         "yaxis": "y"
        },
        {
         "hovertemplate": "sub_id=nutre004<br>problem or comment=1<br>parameter=CS- sFactor<br>Day=%{x}<br>estimate mean=%{y}<extra></extra>",
         "legendgroup": "nutre004, 1",
         "line": {
          "color": "#85660D",
          "dash": "dot"
         },
         "marker": {
          "symbol": "circle"
         },
         "mode": "lines+markers",
         "name": "nutre004, 1",
         "orientation": "v",
         "showlegend": false,
         "type": "scatter",
         "x": [
          2,
          3
         ],
         "xaxis": "x2",
         "y": [
          0.341,
          0.187
         ],
         "yaxis": "y2"
        },
        {
         "hovertemplate": "sub_id=nutre005<br>problem or comment=1<br>parameter=money alpha<br>Day=%{x}<br>estimate mean=%{y}<extra></extra>",
         "legendgroup": "nutre005, 1",
         "line": {
          "color": "#782AB6",
          "dash": "dot"
         },
         "marker": {
          "symbol": "circle"
         },
         "mode": "lines+markers",
         "name": "nutre005, 1",
         "orientation": "v",
         "showlegend": true,
         "type": "scatter",
         "x": [
          2,
          3
         ],
         "xaxis": "x5",
         "y": [
          0.412,
          0.328
         ],
         "yaxis": "y5"
        },
        {
         "hovertemplate": "sub_id=nutre005<br>problem or comment=1<br>parameter=beta<br>Day=%{x}<br>estimate mean=%{y}<extra></extra>",
         "legendgroup": "nutre005, 1",
         "line": {
          "color": "#782AB6",
          "dash": "dot"
         },
         "marker": {
          "symbol": "circle"
         },
         "mode": "lines+markers",
         "name": "nutre005, 1",
         "orientation": "v",
         "showlegend": false,
         "type": "scatter",
         "x": [
          2,
          3
         ],
         "xaxis": "x6",
         "y": [
          3.153,
          4.212
         ],
         "yaxis": "y6"
        },
        {
         "hovertemplate": "sub_id=nutre005<br>problem or comment=1<br>parameter=CS+ alpha<br>Day=%{x}<br>estimate mean=%{y}<extra></extra>",
         "legendgroup": "nutre005, 1",
         "line": {
          "color": "#782AB6",
          "dash": "dot"
         },
         "marker": {
          "symbol": "circle"
         },
         "mode": "lines+markers",
         "name": "nutre005, 1",
         "orientation": "v",
         "showlegend": false,
         "type": "scatter",
         "x": [
          2,
          3
         ],
         "xaxis": "x3",
         "y": [
          0.434,
          0.308
         ],
         "yaxis": "y3"
        },
        {
         "hovertemplate": "sub_id=nutre005<br>problem or comment=1<br>parameter=CS- alpha<br>Day=%{x}<br>estimate mean=%{y}<extra></extra>",
         "legendgroup": "nutre005, 1",
         "line": {
          "color": "#782AB6",
          "dash": "dot"
         },
         "marker": {
          "symbol": "circle"
         },
         "mode": "lines+markers",
         "name": "nutre005, 1",
         "orientation": "v",
         "showlegend": false,
         "type": "scatter",
         "x": [
          2,
          3
         ],
         "xaxis": "x4",
         "y": [
          0.444,
          0.364
         ],
         "yaxis": "y4"
        },
        {
         "hovertemplate": "sub_id=nutre005<br>problem or comment=1<br>parameter=CS+ sFactor<br>Day=%{x}<br>estimate mean=%{y}<extra></extra>",
         "legendgroup": "nutre005, 1",
         "line": {
          "color": "#782AB6",
          "dash": "dot"
         },
         "marker": {
          "symbol": "circle"
         },
         "mode": "lines+markers",
         "name": "nutre005, 1",
         "orientation": "v",
         "showlegend": false,
         "type": "scatter",
         "x": [
          2,
          3
         ],
         "xaxis": "x",
         "y": [
          0.066,
          0.06
         ],
         "yaxis": "y"
        },
        {
         "hovertemplate": "sub_id=nutre005<br>problem or comment=1<br>parameter=CS- sFactor<br>Day=%{x}<br>estimate mean=%{y}<extra></extra>",
         "legendgroup": "nutre005, 1",
         "line": {
          "color": "#782AB6",
          "dash": "dot"
         },
         "marker": {
          "symbol": "circle"
         },
         "mode": "lines+markers",
         "name": "nutre005, 1",
         "orientation": "v",
         "showlegend": false,
         "type": "scatter",
         "x": [
          2,
          3
         ],
         "xaxis": "x2",
         "y": [
          0.125,
          0.16
         ],
         "yaxis": "y2"
        },
        {
         "hovertemplate": "sub_id=nutre006<br>problem or comment=0<br>parameter=money alpha<br>Day=%{x}<br>estimate mean=%{y}<extra></extra>",
         "legendgroup": "nutre006, 0",
         "line": {
          "color": "#565656",
          "dash": "solid"
         },
         "marker": {
          "symbol": "circle"
         },
         "mode": "lines+markers",
         "name": "nutre006, 0",
         "orientation": "v",
         "showlegend": true,
         "type": "scatter",
         "x": [
          2,
          3
         ],
         "xaxis": "x5",
         "y": [
          2.734,
          1.604
         ],
         "yaxis": "y5"
        },
        {
         "hovertemplate": "sub_id=nutre006<br>problem or comment=0<br>parameter=beta<br>Day=%{x}<br>estimate mean=%{y}<extra></extra>",
         "legendgroup": "nutre006, 0",
         "line": {
          "color": "#565656",
          "dash": "solid"
         },
         "marker": {
          "symbol": "circle"
         },
         "mode": "lines+markers",
         "name": "nutre006, 0",
         "orientation": "v",
         "showlegend": false,
         "type": "scatter",
         "x": [
          2,
          3
         ],
         "xaxis": "x6",
         "y": [
          0.121,
          0.302
         ],
         "yaxis": "y6"
        },
        {
         "hovertemplate": "sub_id=nutre006<br>problem or comment=0<br>parameter=CS+ alpha<br>Day=%{x}<br>estimate mean=%{y}<extra></extra>",
         "legendgroup": "nutre006, 0",
         "line": {
          "color": "#565656",
          "dash": "solid"
         },
         "marker": {
          "symbol": "circle"
         },
         "mode": "lines+markers",
         "name": "nutre006, 0",
         "orientation": "v",
         "showlegend": false,
         "type": "scatter",
         "x": [
          2,
          3
         ],
         "xaxis": "x3",
         "y": [
          1.177,
          0.874
         ],
         "yaxis": "y3"
        },
        {
         "hovertemplate": "sub_id=nutre006<br>problem or comment=0<br>parameter=CS- alpha<br>Day=%{x}<br>estimate mean=%{y}<extra></extra>",
         "legendgroup": "nutre006, 0",
         "line": {
          "color": "#565656",
          "dash": "solid"
         },
         "marker": {
          "symbol": "circle"
         },
         "mode": "lines+markers",
         "name": "nutre006, 0",
         "orientation": "v",
         "showlegend": false,
         "type": "scatter",
         "x": [
          2,
          3
         ],
         "xaxis": "x4",
         "y": [
          1.13,
          0.895
         ],
         "yaxis": "y4"
        },
        {
         "hovertemplate": "sub_id=nutre006<br>problem or comment=0<br>parameter=CS+ sFactor<br>Day=%{x}<br>estimate mean=%{y}<extra></extra>",
         "legendgroup": "nutre006, 0",
         "line": {
          "color": "#565656",
          "dash": "solid"
         },
         "marker": {
          "symbol": "circle"
         },
         "mode": "lines+markers",
         "name": "nutre006, 0",
         "orientation": "v",
         "showlegend": false,
         "type": "scatter",
         "x": [
          2,
          3
         ],
         "xaxis": "x",
         "y": [
          0.125,
          0.201
         ],
         "yaxis": "y"
        },
        {
         "hovertemplate": "sub_id=nutre006<br>problem or comment=0<br>parameter=CS- sFactor<br>Day=%{x}<br>estimate mean=%{y}<extra></extra>",
         "legendgroup": "nutre006, 0",
         "line": {
          "color": "#565656",
          "dash": "solid"
         },
         "marker": {
          "symbol": "circle"
         },
         "mode": "lines+markers",
         "name": "nutre006, 0",
         "orientation": "v",
         "showlegend": false,
         "type": "scatter",
         "x": [
          2,
          3
         ],
         "xaxis": "x2",
         "y": [
          0.187,
          0.151
         ],
         "yaxis": "y2"
        },
        {
         "hovertemplate": "sub_id=nutre007<br>problem or comment=0<br>parameter=money alpha<br>Day=%{x}<br>estimate mean=%{y}<extra></extra>",
         "legendgroup": "nutre007, 0",
         "line": {
          "color": "#1C8356",
          "dash": "solid"
         },
         "marker": {
          "symbol": "circle"
         },
         "mode": "lines+markers",
         "name": "nutre007, 0",
         "orientation": "v",
         "showlegend": true,
         "type": "scatter",
         "x": [
          2,
          3
         ],
         "xaxis": "x5",
         "y": [
          1.758,
          3.022
         ],
         "yaxis": "y5"
        },
        {
         "hovertemplate": "sub_id=nutre007<br>problem or comment=0<br>parameter=beta<br>Day=%{x}<br>estimate mean=%{y}<extra></extra>",
         "legendgroup": "nutre007, 0",
         "line": {
          "color": "#1C8356",
          "dash": "solid"
         },
         "marker": {
          "symbol": "circle"
         },
         "mode": "lines+markers",
         "name": "nutre007, 0",
         "orientation": "v",
         "showlegend": false,
         "type": "scatter",
         "x": [
          2,
          3
         ],
         "xaxis": "x6",
         "y": [
          0.152,
          0.218
         ],
         "yaxis": "y6"
        },
        {
         "hovertemplate": "sub_id=nutre007<br>problem or comment=0<br>parameter=CS+ alpha<br>Day=%{x}<br>estimate mean=%{y}<extra></extra>",
         "legendgroup": "nutre007, 0",
         "line": {
          "color": "#1C8356",
          "dash": "solid"
         },
         "marker": {
          "symbol": "circle"
         },
         "mode": "lines+markers",
         "name": "nutre007, 0",
         "orientation": "v",
         "showlegend": false,
         "type": "scatter",
         "x": [
          2,
          3
         ],
         "xaxis": "x3",
         "y": [
          0.957,
          0.758
         ],
         "yaxis": "y3"
        },
        {
         "hovertemplate": "sub_id=nutre007<br>problem or comment=0<br>parameter=CS- alpha<br>Day=%{x}<br>estimate mean=%{y}<extra></extra>",
         "legendgroup": "nutre007, 0",
         "line": {
          "color": "#1C8356",
          "dash": "solid"
         },
         "marker": {
          "symbol": "circle"
         },
         "mode": "lines+markers",
         "name": "nutre007, 0",
         "orientation": "v",
         "showlegend": false,
         "type": "scatter",
         "x": [
          2,
          3
         ],
         "xaxis": "x4",
         "y": [
          0.912,
          0.749
         ],
         "yaxis": "y4"
        },
        {
         "hovertemplate": "sub_id=nutre007<br>problem or comment=0<br>parameter=CS+ sFactor<br>Day=%{x}<br>estimate mean=%{y}<extra></extra>",
         "legendgroup": "nutre007, 0",
         "line": {
          "color": "#1C8356",
          "dash": "solid"
         },
         "marker": {
          "symbol": "circle"
         },
         "mode": "lines+markers",
         "name": "nutre007, 0",
         "orientation": "v",
         "showlegend": false,
         "type": "scatter",
         "x": [
          2,
          3
         ],
         "xaxis": "x",
         "y": [
          0.256,
          0.297
         ],
         "yaxis": "y"
        },
        {
         "hovertemplate": "sub_id=nutre007<br>problem or comment=0<br>parameter=CS- sFactor<br>Day=%{x}<br>estimate mean=%{y}<extra></extra>",
         "legendgroup": "nutre007, 0",
         "line": {
          "color": "#1C8356",
          "dash": "solid"
         },
         "marker": {
          "symbol": "circle"
         },
         "mode": "lines+markers",
         "name": "nutre007, 0",
         "orientation": "v",
         "showlegend": false,
         "type": "scatter",
         "x": [
          2,
          3
         ],
         "xaxis": "x2",
         "y": [
          0.29,
          0.314
         ],
         "yaxis": "y2"
        },
        {
         "hovertemplate": "sub_id=nutre008<br>problem or comment=0<br>parameter=money alpha<br>Day=%{x}<br>estimate mean=%{y}<extra></extra>",
         "legendgroup": "nutre008, 0",
         "line": {
          "color": "#16FF32",
          "dash": "solid"
         },
         "marker": {
          "symbol": "circle"
         },
         "mode": "lines+markers",
         "name": "nutre008, 0",
         "orientation": "v",
         "showlegend": true,
         "type": "scatter",
         "x": [
          2,
          3
         ],
         "xaxis": "x5",
         "y": [
          0.517,
          0.372
         ],
         "yaxis": "y5"
        },
        {
         "hovertemplate": "sub_id=nutre008<br>problem or comment=0<br>parameter=beta<br>Day=%{x}<br>estimate mean=%{y}<extra></extra>",
         "legendgroup": "nutre008, 0",
         "line": {
          "color": "#16FF32",
          "dash": "solid"
         },
         "marker": {
          "symbol": "circle"
         },
         "mode": "lines+markers",
         "name": "nutre008, 0",
         "orientation": "v",
         "showlegend": false,
         "type": "scatter",
         "x": [
          2,
          3
         ],
         "xaxis": "x6",
         "y": [
          1.284,
          2.018
         ],
         "yaxis": "y6"
        },
        {
         "hovertemplate": "sub_id=nutre008<br>problem or comment=0<br>parameter=CS+ alpha<br>Day=%{x}<br>estimate mean=%{y}<extra></extra>",
         "legendgroup": "nutre008, 0",
         "line": {
          "color": "#16FF32",
          "dash": "solid"
         },
         "marker": {
          "symbol": "circle"
         },
         "mode": "lines+markers",
         "name": "nutre008, 0",
         "orientation": "v",
         "showlegend": false,
         "type": "scatter",
         "x": [
          2,
          3
         ],
         "xaxis": "x3",
         "y": [
          0.65,
          0.547
         ],
         "yaxis": "y3"
        },
        {
         "hovertemplate": "sub_id=nutre008<br>problem or comment=0<br>parameter=CS- alpha<br>Day=%{x}<br>estimate mean=%{y}<extra></extra>",
         "legendgroup": "nutre008, 0",
         "line": {
          "color": "#16FF32",
          "dash": "solid"
         },
         "marker": {
          "symbol": "circle"
         },
         "mode": "lines+markers",
         "name": "nutre008, 0",
         "orientation": "v",
         "showlegend": false,
         "type": "scatter",
         "x": [
          2,
          3
         ],
         "xaxis": "x4",
         "y": [
          0.624,
          0.531
         ],
         "yaxis": "y4"
        },
        {
         "hovertemplate": "sub_id=nutre008<br>problem or comment=0<br>parameter=CS+ sFactor<br>Day=%{x}<br>estimate mean=%{y}<extra></extra>",
         "legendgroup": "nutre008, 0",
         "line": {
          "color": "#16FF32",
          "dash": "solid"
         },
         "marker": {
          "symbol": "circle"
         },
         "mode": "lines+markers",
         "name": "nutre008, 0",
         "orientation": "v",
         "showlegend": false,
         "type": "scatter",
         "x": [
          2,
          3
         ],
         "xaxis": "x",
         "y": [
          0.182,
          0.152
         ],
         "yaxis": "y"
        },
        {
         "hovertemplate": "sub_id=nutre008<br>problem or comment=0<br>parameter=CS- sFactor<br>Day=%{x}<br>estimate mean=%{y}<extra></extra>",
         "legendgroup": "nutre008, 0",
         "line": {
          "color": "#16FF32",
          "dash": "solid"
         },
         "marker": {
          "symbol": "circle"
         },
         "mode": "lines+markers",
         "name": "nutre008, 0",
         "orientation": "v",
         "showlegend": false,
         "type": "scatter",
         "x": [
          2,
          3
         ],
         "xaxis": "x2",
         "y": [
          0.213,
          0.163
         ],
         "yaxis": "y2"
        }
       ],
       "layout": {
        "annotations": [
         {
          "font": {},
          "showarrow": false,
          "text": "CS+ sFactor",
          "x": 0.245,
          "xanchor": "center",
          "xref": "paper",
          "y": 0.2866666666666666,
          "yanchor": "bottom",
          "yref": "paper"
         },
         {
          "font": {},
          "showarrow": false,
          "text": "CS- sFactor",
          "x": 0.755,
          "xanchor": "center",
          "xref": "paper",
          "y": 0.2866666666666666,
          "yanchor": "bottom",
          "yref": "paper"
         },
         {
          "font": {},
          "showarrow": false,
          "text": "CS+ alpha",
          "x": 0.245,
          "xanchor": "center",
          "xref": "paper",
          "y": 0.6433333333333333,
          "yanchor": "bottom",
          "yref": "paper"
         },
         {
          "font": {},
          "showarrow": false,
          "text": "CS- alpha",
          "x": 0.755,
          "xanchor": "center",
          "xref": "paper",
          "y": 0.6433333333333333,
          "yanchor": "bottom",
          "yref": "paper"
         },
         {
          "font": {},
          "showarrow": false,
          "text": "money alpha",
          "x": 0.245,
          "xanchor": "center",
          "xref": "paper",
          "y": 0.9999999999999999,
          "yanchor": "bottom",
          "yref": "paper"
         },
         {
          "font": {},
          "showarrow": false,
          "text": "beta",
          "x": 0.755,
          "xanchor": "center",
          "xref": "paper",
          "y": 0.9999999999999999,
          "yanchor": "bottom",
          "yref": "paper"
         }
        ],
        "legend": {
         "title": {
          "text": "sub_id, problem or comment"
         },
         "tracegroupgap": 0
        },
        "template": {
         "data": {
          "bar": [
           {
            "error_x": {
             "color": "#2a3f5f"
            },
            "error_y": {
             "color": "#2a3f5f"
            },
            "marker": {
             "line": {
              "color": "#E5ECF6",
              "width": 0.5
             },
             "pattern": {
              "fillmode": "overlay",
              "size": 10,
              "solidity": 0.2
             }
            },
            "type": "bar"
           }
          ],
          "barpolar": [
           {
            "marker": {
             "line": {
              "color": "#E5ECF6",
              "width": 0.5
             },
             "pattern": {
              "fillmode": "overlay",
              "size": 10,
              "solidity": 0.2
             }
            },
            "type": "barpolar"
           }
          ],
          "carpet": [
           {
            "aaxis": {
             "endlinecolor": "#2a3f5f",
             "gridcolor": "white",
             "linecolor": "white",
             "minorgridcolor": "white",
             "startlinecolor": "#2a3f5f"
            },
            "baxis": {
             "endlinecolor": "#2a3f5f",
             "gridcolor": "white",
             "linecolor": "white",
             "minorgridcolor": "white",
             "startlinecolor": "#2a3f5f"
            },
            "type": "carpet"
           }
          ],
          "choropleth": [
           {
            "colorbar": {
             "outlinewidth": 0,
             "ticks": ""
            },
            "type": "choropleth"
           }
          ],
          "contour": [
           {
            "colorbar": {
             "outlinewidth": 0,
             "ticks": ""
            },
            "colorscale": [
             [
              0,
              "#0d0887"
             ],
             [
              0.1111111111111111,
              "#46039f"
             ],
             [
              0.2222222222222222,
              "#7201a8"
             ],
             [
              0.3333333333333333,
              "#9c179e"
             ],
             [
              0.4444444444444444,
              "#bd3786"
             ],
             [
              0.5555555555555556,
              "#d8576b"
             ],
             [
              0.6666666666666666,
              "#ed7953"
             ],
             [
              0.7777777777777778,
              "#fb9f3a"
             ],
             [
              0.8888888888888888,
              "#fdca26"
             ],
             [
              1,
              "#f0f921"
             ]
            ],
            "type": "contour"
           }
          ],
          "contourcarpet": [
           {
            "colorbar": {
             "outlinewidth": 0,
             "ticks": ""
            },
            "type": "contourcarpet"
           }
          ],
          "heatmap": [
           {
            "colorbar": {
             "outlinewidth": 0,
             "ticks": ""
            },
            "colorscale": [
             [
              0,
              "#0d0887"
             ],
             [
              0.1111111111111111,
              "#46039f"
             ],
             [
              0.2222222222222222,
              "#7201a8"
             ],
             [
              0.3333333333333333,
              "#9c179e"
             ],
             [
              0.4444444444444444,
              "#bd3786"
             ],
             [
              0.5555555555555556,
              "#d8576b"
             ],
             [
              0.6666666666666666,
              "#ed7953"
             ],
             [
              0.7777777777777778,
              "#fb9f3a"
             ],
             [
              0.8888888888888888,
              "#fdca26"
             ],
             [
              1,
              "#f0f921"
             ]
            ],
            "type": "heatmap"
           }
          ],
          "heatmapgl": [
           {
            "colorbar": {
             "outlinewidth": 0,
             "ticks": ""
            },
            "colorscale": [
             [
              0,
              "#0d0887"
             ],
             [
              0.1111111111111111,
              "#46039f"
             ],
             [
              0.2222222222222222,
              "#7201a8"
             ],
             [
              0.3333333333333333,
              "#9c179e"
             ],
             [
              0.4444444444444444,
              "#bd3786"
             ],
             [
              0.5555555555555556,
              "#d8576b"
             ],
             [
              0.6666666666666666,
              "#ed7953"
             ],
             [
              0.7777777777777778,
              "#fb9f3a"
             ],
             [
              0.8888888888888888,
              "#fdca26"
             ],
             [
              1,
              "#f0f921"
             ]
            ],
            "type": "heatmapgl"
           }
          ],
          "histogram": [
           {
            "marker": {
             "pattern": {
              "fillmode": "overlay",
              "size": 10,
              "solidity": 0.2
             }
            },
            "type": "histogram"
           }
          ],
          "histogram2d": [
           {
            "colorbar": {
             "outlinewidth": 0,
             "ticks": ""
            },
            "colorscale": [
             [
              0,
              "#0d0887"
             ],
             [
              0.1111111111111111,
              "#46039f"
             ],
             [
              0.2222222222222222,
              "#7201a8"
             ],
             [
              0.3333333333333333,
              "#9c179e"
             ],
             [
              0.4444444444444444,
              "#bd3786"
             ],
             [
              0.5555555555555556,
              "#d8576b"
             ],
             [
              0.6666666666666666,
              "#ed7953"
             ],
             [
              0.7777777777777778,
              "#fb9f3a"
             ],
             [
              0.8888888888888888,
              "#fdca26"
             ],
             [
              1,
              "#f0f921"
             ]
            ],
            "type": "histogram2d"
           }
          ],
          "histogram2dcontour": [
           {
            "colorbar": {
             "outlinewidth": 0,
             "ticks": ""
            },
            "colorscale": [
             [
              0,
              "#0d0887"
             ],
             [
              0.1111111111111111,
              "#46039f"
             ],
             [
              0.2222222222222222,
              "#7201a8"
             ],
             [
              0.3333333333333333,
              "#9c179e"
             ],
             [
              0.4444444444444444,
              "#bd3786"
             ],
             [
              0.5555555555555556,
              "#d8576b"
             ],
             [
              0.6666666666666666,
              "#ed7953"
             ],
             [
              0.7777777777777778,
              "#fb9f3a"
             ],
             [
              0.8888888888888888,
              "#fdca26"
             ],
             [
              1,
              "#f0f921"
             ]
            ],
            "type": "histogram2dcontour"
           }
          ],
          "mesh3d": [
           {
            "colorbar": {
             "outlinewidth": 0,
             "ticks": ""
            },
            "type": "mesh3d"
           }
          ],
          "parcoords": [
           {
            "line": {
             "colorbar": {
              "outlinewidth": 0,
              "ticks": ""
             }
            },
            "type": "parcoords"
           }
          ],
          "pie": [
           {
            "automargin": true,
            "type": "pie"
           }
          ],
          "scatter": [
           {
            "fillpattern": {
             "fillmode": "overlay",
             "size": 10,
             "solidity": 0.2
            },
            "type": "scatter"
           }
          ],
          "scatter3d": [
           {
            "line": {
             "colorbar": {
              "outlinewidth": 0,
              "ticks": ""
             }
            },
            "marker": {
             "colorbar": {
              "outlinewidth": 0,
              "ticks": ""
             }
            },
            "type": "scatter3d"
           }
          ],
          "scattercarpet": [
           {
            "marker": {
             "colorbar": {
              "outlinewidth": 0,
              "ticks": ""
             }
            },
            "type": "scattercarpet"
           }
          ],
          "scattergeo": [
           {
            "marker": {
             "colorbar": {
              "outlinewidth": 0,
              "ticks": ""
             }
            },
            "type": "scattergeo"
           }
          ],
          "scattergl": [
           {
            "marker": {
             "colorbar": {
              "outlinewidth": 0,
              "ticks": ""
             }
            },
            "type": "scattergl"
           }
          ],
          "scattermapbox": [
           {
            "marker": {
             "colorbar": {
              "outlinewidth": 0,
              "ticks": ""
             }
            },
            "type": "scattermapbox"
           }
          ],
          "scatterpolar": [
           {
            "marker": {
             "colorbar": {
              "outlinewidth": 0,
              "ticks": ""
             }
            },
            "type": "scatterpolar"
           }
          ],
          "scatterpolargl": [
           {
            "marker": {
             "colorbar": {
              "outlinewidth": 0,
              "ticks": ""
             }
            },
            "type": "scatterpolargl"
           }
          ],
          "scatterternary": [
           {
            "marker": {
             "colorbar": {
              "outlinewidth": 0,
              "ticks": ""
             }
            },
            "type": "scatterternary"
           }
          ],
          "surface": [
           {
            "colorbar": {
             "outlinewidth": 0,
             "ticks": ""
            },
            "colorscale": [
             [
              0,
              "#0d0887"
             ],
             [
              0.1111111111111111,
              "#46039f"
             ],
             [
              0.2222222222222222,
              "#7201a8"
             ],
             [
              0.3333333333333333,
              "#9c179e"
             ],
             [
              0.4444444444444444,
              "#bd3786"
             ],
             [
              0.5555555555555556,
              "#d8576b"
             ],
             [
              0.6666666666666666,
              "#ed7953"
             ],
             [
              0.7777777777777778,
              "#fb9f3a"
             ],
             [
              0.8888888888888888,
              "#fdca26"
             ],
             [
              1,
              "#f0f921"
             ]
            ],
            "type": "surface"
           }
          ],
          "table": [
           {
            "cells": {
             "fill": {
              "color": "#EBF0F8"
             },
             "line": {
              "color": "white"
             }
            },
            "header": {
             "fill": {
              "color": "#C8D4E3"
             },
             "line": {
              "color": "white"
             }
            },
            "type": "table"
           }
          ]
         },
         "layout": {
          "annotationdefaults": {
           "arrowcolor": "#2a3f5f",
           "arrowhead": 0,
           "arrowwidth": 1
          },
          "autotypenumbers": "strict",
          "coloraxis": {
           "colorbar": {
            "outlinewidth": 0,
            "ticks": ""
           }
          },
          "colorscale": {
           "diverging": [
            [
             0,
             "#8e0152"
            ],
            [
             0.1,
             "#c51b7d"
            ],
            [
             0.2,
             "#de77ae"
            ],
            [
             0.3,
             "#f1b6da"
            ],
            [
             0.4,
             "#fde0ef"
            ],
            [
             0.5,
             "#f7f7f7"
            ],
            [
             0.6,
             "#e6f5d0"
            ],
            [
             0.7,
             "#b8e186"
            ],
            [
             0.8,
             "#7fbc41"
            ],
            [
             0.9,
             "#4d9221"
            ],
            [
             1,
             "#276419"
            ]
           ],
           "sequential": [
            [
             0,
             "#0d0887"
            ],
            [
             0.1111111111111111,
             "#46039f"
            ],
            [
             0.2222222222222222,
             "#7201a8"
            ],
            [
             0.3333333333333333,
             "#9c179e"
            ],
            [
             0.4444444444444444,
             "#bd3786"
            ],
            [
             0.5555555555555556,
             "#d8576b"
            ],
            [
             0.6666666666666666,
             "#ed7953"
            ],
            [
             0.7777777777777778,
             "#fb9f3a"
            ],
            [
             0.8888888888888888,
             "#fdca26"
            ],
            [
             1,
             "#f0f921"
            ]
           ],
           "sequentialminus": [
            [
             0,
             "#0d0887"
            ],
            [
             0.1111111111111111,
             "#46039f"
            ],
            [
             0.2222222222222222,
             "#7201a8"
            ],
            [
             0.3333333333333333,
             "#9c179e"
            ],
            [
             0.4444444444444444,
             "#bd3786"
            ],
            [
             0.5555555555555556,
             "#d8576b"
            ],
            [
             0.6666666666666666,
             "#ed7953"
            ],
            [
             0.7777777777777778,
             "#fb9f3a"
            ],
            [
             0.8888888888888888,
             "#fdca26"
            ],
            [
             1,
             "#f0f921"
            ]
           ]
          },
          "colorway": [
           "#636efa",
           "#EF553B",
           "#00cc96",
           "#ab63fa",
           "#FFA15A",
           "#19d3f3",
           "#FF6692",
           "#B6E880",
           "#FF97FF",
           "#FECB52"
          ],
          "font": {
           "color": "#2a3f5f"
          },
          "geo": {
           "bgcolor": "white",
           "lakecolor": "white",
           "landcolor": "#E5ECF6",
           "showlakes": true,
           "showland": true,
           "subunitcolor": "white"
          },
          "hoverlabel": {
           "align": "left"
          },
          "hovermode": "closest",
          "mapbox": {
           "style": "light"
          },
          "paper_bgcolor": "white",
          "plot_bgcolor": "#E5ECF6",
          "polar": {
           "angularaxis": {
            "gridcolor": "white",
            "linecolor": "white",
            "ticks": ""
           },
           "bgcolor": "#E5ECF6",
           "radialaxis": {
            "gridcolor": "white",
            "linecolor": "white",
            "ticks": ""
           }
          },
          "scene": {
           "xaxis": {
            "backgroundcolor": "#E5ECF6",
            "gridcolor": "white",
            "gridwidth": 2,
            "linecolor": "white",
            "showbackground": true,
            "ticks": "",
            "zerolinecolor": "white"
           },
           "yaxis": {
            "backgroundcolor": "#E5ECF6",
            "gridcolor": "white",
            "gridwidth": 2,
            "linecolor": "white",
            "showbackground": true,
            "ticks": "",
            "zerolinecolor": "white"
           },
           "zaxis": {
            "backgroundcolor": "#E5ECF6",
            "gridcolor": "white",
            "gridwidth": 2,
            "linecolor": "white",
            "showbackground": true,
            "ticks": "",
            "zerolinecolor": "white"
           }
          },
          "shapedefaults": {
           "line": {
            "color": "#2a3f5f"
           }
          },
          "ternary": {
           "aaxis": {
            "gridcolor": "white",
            "linecolor": "white",
            "ticks": ""
           },
           "baxis": {
            "gridcolor": "white",
            "linecolor": "white",
            "ticks": ""
           },
           "bgcolor": "#E5ECF6",
           "caxis": {
            "gridcolor": "white",
            "linecolor": "white",
            "ticks": ""
           }
          },
          "title": {
           "x": 0.05
          },
          "xaxis": {
           "automargin": true,
           "gridcolor": "white",
           "linecolor": "white",
           "ticks": "",
           "title": {
            "standoff": 15
           },
           "zerolinecolor": "white",
           "zerolinewidth": 2
          },
          "yaxis": {
           "automargin": true,
           "gridcolor": "white",
           "linecolor": "white",
           "ticks": "",
           "title": {
            "standoff": 15
           },
           "zerolinecolor": "white",
           "zerolinewidth": 2
          }
         }
        },
        "title": {
         "text": "cohort 1"
        },
        "xaxis": {
         "anchor": "y",
         "categoryarray": [
          1,
          2,
          3
         ],
         "categoryorder": "array",
         "domain": [
          0,
          0.49
         ],
         "title": {
          "text": "Day"
         }
        },
        "xaxis2": {
         "anchor": "y2",
         "categoryarray": [
          1,
          2,
          3
         ],
         "categoryorder": "array",
         "domain": [
          0.51,
          1
         ],
         "matches": "x",
         "title": {
          "text": "Day"
         }
        },
        "xaxis3": {
         "anchor": "y3",
         "domain": [
          0,
          0.49
         ],
         "matches": "x",
         "showticklabels": false
        },
        "xaxis4": {
         "anchor": "y4",
         "domain": [
          0.51,
          1
         ],
         "matches": "x",
         "showticklabels": false
        },
        "xaxis5": {
         "anchor": "y5",
         "domain": [
          0,
          0.49
         ],
         "matches": "x",
         "showticklabels": false
        },
        "xaxis6": {
         "anchor": "y6",
         "domain": [
          0.51,
          1
         ],
         "matches": "x",
         "showticklabels": false
        },
        "yaxis": {
         "anchor": "x",
         "domain": [
          0,
          0.2866666666666666
         ],
         "showticklabels": true,
         "title": {
          "text": "estimate mean"
         }
        },
        "yaxis2": {
         "anchor": "x2",
         "domain": [
          0,
          0.2866666666666666
         ],
         "showticklabels": true
        },
        "yaxis3": {
         "anchor": "x3",
         "domain": [
          0.35666666666666663,
          0.6433333333333333
         ],
         "showticklabels": true,
         "title": {
          "text": "estimate mean"
         }
        },
        "yaxis4": {
         "anchor": "x4",
         "domain": [
          0.35666666666666663,
          0.6433333333333333
         ],
         "showticklabels": true
        },
        "yaxis5": {
         "anchor": "x5",
         "domain": [
          0.7133333333333333,
          0.9999999999999999
         ],
         "showticklabels": true,
         "title": {
          "text": "estimate mean"
         }
        },
        "yaxis6": {
         "anchor": "x6",
         "domain": [
          0.7133333333333333,
          0.9999999999999999
         ],
         "showticklabels": true
        }
       }
      }
     },
     "metadata": {},
     "output_type": "display_data"
    },
    {
     "data": {
      "application/vnd.plotly.v1+json": {
       "config": {
        "plotlyServerURL": "https://plot.ly"
       },
       "data": [
        {
         "hovertemplate": "sub_id=nutre009<br>problem or comment=0<br>parameter=money alpha<br>Day=%{x}<br>estimate mean=%{y}<extra></extra>",
         "legendgroup": "nutre009, 0",
         "line": {
          "color": "#F7E1A0",
          "dash": "solid"
         },
         "marker": {
          "symbol": "circle"
         },
         "mode": "lines+markers",
         "name": "nutre009, 0",
         "orientation": "v",
         "showlegend": true,
         "type": "scatter",
         "x": [
          2,
          3
         ],
         "xaxis": "x5",
         "y": [
          0.359,
          0.384
         ],
         "yaxis": "y5"
        },
        {
         "hovertemplate": "sub_id=nutre009<br>problem or comment=0<br>parameter=beta<br>Day=%{x}<br>estimate mean=%{y}<extra></extra>",
         "legendgroup": "nutre009, 0",
         "line": {
          "color": "#F7E1A0",
          "dash": "solid"
         },
         "marker": {
          "symbol": "circle"
         },
         "mode": "lines+markers",
         "name": "nutre009, 0",
         "orientation": "v",
         "showlegend": false,
         "type": "scatter",
         "x": [
          2,
          3
         ],
         "xaxis": "x6",
         "y": [
          5.652,
          5.917
         ],
         "yaxis": "y6"
        },
        {
         "hovertemplate": "sub_id=nutre009<br>problem or comment=0<br>parameter=CS+ alpha<br>Day=%{x}<br>estimate mean=%{y}<extra></extra>",
         "legendgroup": "nutre009, 0",
         "line": {
          "color": "#F7E1A0",
          "dash": "solid"
         },
         "marker": {
          "symbol": "circle"
         },
         "mode": "lines+markers",
         "name": "nutre009, 0",
         "orientation": "v",
         "showlegend": false,
         "type": "scatter",
         "x": [
          2,
          3
         ],
         "xaxis": "x3",
         "y": [
          0.364,
          0.406
         ],
         "yaxis": "y3"
        },
        {
         "hovertemplate": "sub_id=nutre009<br>problem or comment=0<br>parameter=CS- alpha<br>Day=%{x}<br>estimate mean=%{y}<extra></extra>",
         "legendgroup": "nutre009, 0",
         "line": {
          "color": "#F7E1A0",
          "dash": "solid"
         },
         "marker": {
          "symbol": "circle"
         },
         "mode": "lines+markers",
         "name": "nutre009, 0",
         "orientation": "v",
         "showlegend": false,
         "type": "scatter",
         "x": [
          2,
          3
         ],
         "xaxis": "x4",
         "y": [
          0.354,
          0.354
         ],
         "yaxis": "y4"
        },
        {
         "hovertemplate": "sub_id=nutre009<br>problem or comment=0<br>parameter=CS+ sFactor<br>Day=%{x}<br>estimate mean=%{y}<extra></extra>",
         "legendgroup": "nutre009, 0",
         "line": {
          "color": "#F7E1A0",
          "dash": "solid"
         },
         "marker": {
          "symbol": "circle"
         },
         "mode": "lines+markers",
         "name": "nutre009, 0",
         "orientation": "v",
         "showlegend": false,
         "type": "scatter",
         "x": [
          2,
          3
         ],
         "xaxis": "x",
         "y": [
          0.157,
          0.153
         ],
         "yaxis": "y"
        },
        {
         "hovertemplate": "sub_id=nutre009<br>problem or comment=0<br>parameter=CS- sFactor<br>Day=%{x}<br>estimate mean=%{y}<extra></extra>",
         "legendgroup": "nutre009, 0",
         "line": {
          "color": "#F7E1A0",
          "dash": "solid"
         },
         "marker": {
          "symbol": "circle"
         },
         "mode": "lines+markers",
         "name": "nutre009, 0",
         "orientation": "v",
         "showlegend": false,
         "type": "scatter",
         "x": [
          2,
          3
         ],
         "xaxis": "x2",
         "y": [
          0.186,
          0.182
         ],
         "yaxis": "y2"
        },
        {
         "hovertemplate": "sub_id=nutre010<br>problem or comment=0<br>parameter=money alpha<br>Day=%{x}<br>estimate mean=%{y}<extra></extra>",
         "legendgroup": "nutre010, 0",
         "line": {
          "color": "#E2E2E2",
          "dash": "solid"
         },
         "marker": {
          "symbol": "circle"
         },
         "mode": "lines+markers",
         "name": "nutre010, 0",
         "orientation": "v",
         "showlegend": true,
         "type": "scatter",
         "x": [
          2,
          3
         ],
         "xaxis": "x5",
         "y": [
          0.356,
          0.462
         ],
         "yaxis": "y5"
        },
        {
         "hovertemplate": "sub_id=nutre010<br>problem or comment=0<br>parameter=beta<br>Day=%{x}<br>estimate mean=%{y}<extra></extra>",
         "legendgroup": "nutre010, 0",
         "line": {
          "color": "#E2E2E2",
          "dash": "solid"
         },
         "marker": {
          "symbol": "circle"
         },
         "mode": "lines+markers",
         "name": "nutre010, 0",
         "orientation": "v",
         "showlegend": false,
         "type": "scatter",
         "x": [
          2,
          3
         ],
         "xaxis": "x6",
         "y": [
          3.046,
          2.758
         ],
         "yaxis": "y6"
        },
        {
         "hovertemplate": "sub_id=nutre010<br>problem or comment=0<br>parameter=CS+ alpha<br>Day=%{x}<br>estimate mean=%{y}<extra></extra>",
         "legendgroup": "nutre010, 0",
         "line": {
          "color": "#E2E2E2",
          "dash": "solid"
         },
         "marker": {
          "symbol": "circle"
         },
         "mode": "lines+markers",
         "name": "nutre010, 0",
         "orientation": "v",
         "showlegend": false,
         "type": "scatter",
         "x": [
          2,
          3
         ],
         "xaxis": "x3",
         "y": [
          0.432,
          0.442
         ],
         "yaxis": "y3"
        },
        {
         "hovertemplate": "sub_id=nutre010<br>problem or comment=0<br>parameter=CS- alpha<br>Day=%{x}<br>estimate mean=%{y}<extra></extra>",
         "legendgroup": "nutre010, 0",
         "line": {
          "color": "#E2E2E2",
          "dash": "solid"
         },
         "marker": {
          "symbol": "circle"
         },
         "mode": "lines+markers",
         "name": "nutre010, 0",
         "orientation": "v",
         "showlegend": false,
         "type": "scatter",
         "x": [
          2,
          3
         ],
         "xaxis": "x4",
         "y": [
          0.428,
          0.446
         ],
         "yaxis": "y4"
        },
        {
         "hovertemplate": "sub_id=nutre010<br>problem or comment=0<br>parameter=CS+ sFactor<br>Day=%{x}<br>estimate mean=%{y}<extra></extra>",
         "legendgroup": "nutre010, 0",
         "line": {
          "color": "#E2E2E2",
          "dash": "solid"
         },
         "marker": {
          "symbol": "circle"
         },
         "mode": "lines+markers",
         "name": "nutre010, 0",
         "orientation": "v",
         "showlegend": false,
         "type": "scatter",
         "x": [
          2,
          3
         ],
         "xaxis": "x",
         "y": [
          0.18,
          0.162
         ],
         "yaxis": "y"
        },
        {
         "hovertemplate": "sub_id=nutre010<br>problem or comment=0<br>parameter=CS- sFactor<br>Day=%{x}<br>estimate mean=%{y}<extra></extra>",
         "legendgroup": "nutre010, 0",
         "line": {
          "color": "#E2E2E2",
          "dash": "solid"
         },
         "marker": {
          "symbol": "circle"
         },
         "mode": "lines+markers",
         "name": "nutre010, 0",
         "orientation": "v",
         "showlegend": false,
         "type": "scatter",
         "x": [
          2,
          3
         ],
         "xaxis": "x2",
         "y": [
          0.186,
          0.15
         ],
         "yaxis": "y2"
        },
        {
         "hovertemplate": "sub_id=nutre011<br>problem or comment=0<br>parameter=money alpha<br>Day=%{x}<br>estimate mean=%{y}<extra></extra>",
         "legendgroup": "nutre011, 0",
         "line": {
          "color": "#1CBE4F",
          "dash": "solid"
         },
         "marker": {
          "symbol": "circle"
         },
         "mode": "lines+markers",
         "name": "nutre011, 0",
         "orientation": "v",
         "showlegend": true,
         "type": "scatter",
         "x": [
          2,
          3
         ],
         "xaxis": "x5",
         "y": [
          0.37,
          0.341
         ],
         "yaxis": "y5"
        },
        {
         "hovertemplate": "sub_id=nutre011<br>problem or comment=0<br>parameter=beta<br>Day=%{x}<br>estimate mean=%{y}<extra></extra>",
         "legendgroup": "nutre011, 0",
         "line": {
          "color": "#1CBE4F",
          "dash": "solid"
         },
         "marker": {
          "symbol": "circle"
         },
         "mode": "lines+markers",
         "name": "nutre011, 0",
         "orientation": "v",
         "showlegend": false,
         "type": "scatter",
         "x": [
          2,
          3
         ],
         "xaxis": "x6",
         "y": [
          2.285,
          2.524
         ],
         "yaxis": "y6"
        },
        {
         "hovertemplate": "sub_id=nutre011<br>problem or comment=0<br>parameter=CS+ alpha<br>Day=%{x}<br>estimate mean=%{y}<extra></extra>",
         "legendgroup": "nutre011, 0",
         "line": {
          "color": "#1CBE4F",
          "dash": "solid"
         },
         "marker": {
          "symbol": "circle"
         },
         "mode": "lines+markers",
         "name": "nutre011, 0",
         "orientation": "v",
         "showlegend": false,
         "type": "scatter",
         "x": [
          2,
          3
         ],
         "xaxis": "x3",
         "y": [
          0.429,
          0.437
         ],
         "yaxis": "y3"
        },
        {
         "hovertemplate": "sub_id=nutre011<br>problem or comment=0<br>parameter=CS- alpha<br>Day=%{x}<br>estimate mean=%{y}<extra></extra>",
         "legendgroup": "nutre011, 0",
         "line": {
          "color": "#1CBE4F",
          "dash": "solid"
         },
         "marker": {
          "symbol": "circle"
         },
         "mode": "lines+markers",
         "name": "nutre011, 0",
         "orientation": "v",
         "showlegend": false,
         "type": "scatter",
         "x": [
          2,
          3
         ],
         "xaxis": "x4",
         "y": [
          0.459,
          0.403
         ],
         "yaxis": "y4"
        },
        {
         "hovertemplate": "sub_id=nutre011<br>problem or comment=0<br>parameter=CS+ sFactor<br>Day=%{x}<br>estimate mean=%{y}<extra></extra>",
         "legendgroup": "nutre011, 0",
         "line": {
          "color": "#1CBE4F",
          "dash": "solid"
         },
         "marker": {
          "symbol": "circle"
         },
         "mode": "lines+markers",
         "name": "nutre011, 0",
         "orientation": "v",
         "showlegend": false,
         "type": "scatter",
         "x": [
          2,
          3
         ],
         "xaxis": "x",
         "y": [
          0.206,
          0.185
         ],
         "yaxis": "y"
        },
        {
         "hovertemplate": "sub_id=nutre011<br>problem or comment=0<br>parameter=CS- sFactor<br>Day=%{x}<br>estimate mean=%{y}<extra></extra>",
         "legendgroup": "nutre011, 0",
         "line": {
          "color": "#1CBE4F",
          "dash": "solid"
         },
         "marker": {
          "symbol": "circle"
         },
         "mode": "lines+markers",
         "name": "nutre011, 0",
         "orientation": "v",
         "showlegend": false,
         "type": "scatter",
         "x": [
          2,
          3
         ],
         "xaxis": "x2",
         "y": [
          0.185,
          0.224
         ],
         "yaxis": "y2"
        },
        {
         "hovertemplate": "sub_id=nutre013<br>problem or comment=0<br>parameter=money alpha<br>Day=%{x}<br>estimate mean=%{y}<extra></extra>",
         "legendgroup": "nutre013, 0",
         "line": {
          "color": "#C4451C",
          "dash": "solid"
         },
         "marker": {
          "symbol": "circle"
         },
         "mode": "lines+markers",
         "name": "nutre013, 0",
         "orientation": "v",
         "showlegend": true,
         "type": "scatter",
         "x": [
          2,
          3
         ],
         "xaxis": "x5",
         "y": [
          1.13,
          1.081
         ],
         "yaxis": "y5"
        },
        {
         "hovertemplate": "sub_id=nutre013<br>problem or comment=0<br>parameter=beta<br>Day=%{x}<br>estimate mean=%{y}<extra></extra>",
         "legendgroup": "nutre013, 0",
         "line": {
          "color": "#C4451C",
          "dash": "solid"
         },
         "marker": {
          "symbol": "circle"
         },
         "mode": "lines+markers",
         "name": "nutre013, 0",
         "orientation": "v",
         "showlegend": false,
         "type": "scatter",
         "x": [
          2,
          3
         ],
         "xaxis": "x6",
         "y": [
          0.727,
          1.506
         ],
         "yaxis": "y6"
        },
        {
         "hovertemplate": "sub_id=nutre013<br>problem or comment=0<br>parameter=CS+ alpha<br>Day=%{x}<br>estimate mean=%{y}<extra></extra>",
         "legendgroup": "nutre013, 0",
         "line": {
          "color": "#C4451C",
          "dash": "solid"
         },
         "marker": {
          "symbol": "circle"
         },
         "mode": "lines+markers",
         "name": "nutre013, 0",
         "orientation": "v",
         "showlegend": false,
         "type": "scatter",
         "x": [
          2,
          3
         ],
         "xaxis": "x3",
         "y": [
          0.966,
          0.182
         ],
         "yaxis": "y3"
        },
        {
         "hovertemplate": "sub_id=nutre013<br>problem or comment=0<br>parameter=CS- alpha<br>Day=%{x}<br>estimate mean=%{y}<extra></extra>",
         "legendgroup": "nutre013, 0",
         "line": {
          "color": "#C4451C",
          "dash": "solid"
         },
         "marker": {
          "symbol": "circle"
         },
         "mode": "lines+markers",
         "name": "nutre013, 0",
         "orientation": "v",
         "showlegend": false,
         "type": "scatter",
         "x": [
          2,
          3
         ],
         "xaxis": "x4",
         "y": [
          0.942,
          0.22
         ],
         "yaxis": "y4"
        },
        {
         "hovertemplate": "sub_id=nutre013<br>problem or comment=0<br>parameter=CS+ sFactor<br>Day=%{x}<br>estimate mean=%{y}<extra></extra>",
         "legendgroup": "nutre013, 0",
         "line": {
          "color": "#C4451C",
          "dash": "solid"
         },
         "marker": {
          "symbol": "circle"
         },
         "mode": "lines+markers",
         "name": "nutre013, 0",
         "orientation": "v",
         "showlegend": false,
         "type": "scatter",
         "x": [
          2,
          3
         ],
         "xaxis": "x",
         "y": [
          0.086,
          1.204
         ],
         "yaxis": "y"
        },
        {
         "hovertemplate": "sub_id=nutre013<br>problem or comment=0<br>parameter=CS- sFactor<br>Day=%{x}<br>estimate mean=%{y}<extra></extra>",
         "legendgroup": "nutre013, 0",
         "line": {
          "color": "#C4451C",
          "dash": "solid"
         },
         "marker": {
          "symbol": "circle"
         },
         "mode": "lines+markers",
         "name": "nutre013, 0",
         "orientation": "v",
         "showlegend": false,
         "type": "scatter",
         "x": [
          2,
          3
         ],
         "xaxis": "x2",
         "y": [
          0.097,
          1.078
         ],
         "yaxis": "y2"
        },
        {
         "hovertemplate": "sub_id=nutre014<br>problem or comment=1<br>parameter=money alpha<br>Day=%{x}<br>estimate mean=%{y}<extra></extra>",
         "legendgroup": "nutre014, 1",
         "line": {
          "color": "#DEA0FD",
          "dash": "dot"
         },
         "marker": {
          "symbol": "circle"
         },
         "mode": "lines+markers",
         "name": "nutre014, 1",
         "orientation": "v",
         "showlegend": true,
         "type": "scatter",
         "x": [
          2,
          3
         ],
         "xaxis": "x5",
         "y": [
          2.615,
          0.568
         ],
         "yaxis": "y5"
        },
        {
         "hovertemplate": "sub_id=nutre014<br>problem or comment=1<br>parameter=beta<br>Day=%{x}<br>estimate mean=%{y}<extra></extra>",
         "legendgroup": "nutre014, 1",
         "line": {
          "color": "#DEA0FD",
          "dash": "dot"
         },
         "marker": {
          "symbol": "circle"
         },
         "mode": "lines+markers",
         "name": "nutre014, 1",
         "orientation": "v",
         "showlegend": false,
         "type": "scatter",
         "x": [
          2,
          3
         ],
         "xaxis": "x6",
         "y": [
          0.003,
          3.692
         ],
         "yaxis": "y6"
        },
        {
         "hovertemplate": "sub_id=nutre014<br>problem or comment=1<br>parameter=CS+ alpha<br>Day=%{x}<br>estimate mean=%{y}<extra></extra>",
         "legendgroup": "nutre014, 1",
         "line": {
          "color": "#DEA0FD",
          "dash": "dot"
         },
         "marker": {
          "symbol": "circle"
         },
         "mode": "lines+markers",
         "name": "nutre014, 1",
         "orientation": "v",
         "showlegend": false,
         "type": "scatter",
         "x": [
          2,
          3
         ],
         "xaxis": "x3",
         "y": [
          -4.255,
          0.001
         ],
         "yaxis": "y3"
        },
        {
         "hovertemplate": "sub_id=nutre014<br>problem or comment=1<br>parameter=CS- alpha<br>Day=%{x}<br>estimate mean=%{y}<extra></extra>",
         "legendgroup": "nutre014, 1",
         "line": {
          "color": "#DEA0FD",
          "dash": "dot"
         },
         "marker": {
          "symbol": "circle"
         },
         "mode": "lines+markers",
         "name": "nutre014, 1",
         "orientation": "v",
         "showlegend": false,
         "type": "scatter",
         "x": [
          2,
          3
         ],
         "xaxis": "x4",
         "y": [
          1.31,
          0.001
         ],
         "yaxis": "y4"
        },
        {
         "hovertemplate": "sub_id=nutre014<br>problem or comment=1<br>parameter=CS+ sFactor<br>Day=%{x}<br>estimate mean=%{y}<extra></extra>",
         "legendgroup": "nutre014, 1",
         "line": {
          "color": "#DEA0FD",
          "dash": "dot"
         },
         "marker": {
          "symbol": "circle"
         },
         "mode": "lines+markers",
         "name": "nutre014, 1",
         "orientation": "v",
         "showlegend": false,
         "type": "scatter",
         "x": [
          2,
          3
         ],
         "xaxis": "x",
         "y": [
          0.2,
          -27.778
         ],
         "yaxis": "y"
        },
        {
         "hovertemplate": "sub_id=nutre014<br>problem or comment=1<br>parameter=CS- sFactor<br>Day=%{x}<br>estimate mean=%{y}<extra></extra>",
         "legendgroup": "nutre014, 1",
         "line": {
          "color": "#DEA0FD",
          "dash": "dot"
         },
         "marker": {
          "symbol": "circle"
         },
         "mode": "lines+markers",
         "name": "nutre014, 1",
         "orientation": "v",
         "showlegend": false,
         "type": "scatter",
         "x": [
          2,
          3
         ],
         "xaxis": "x2",
         "y": [
          -9.544,
          -28.858
         ],
         "yaxis": "y2"
        },
        {
         "hovertemplate": "sub_id=nutre017<br>problem or comment=1<br>parameter=money alpha<br>Day=%{x}<br>estimate mean=%{y}<extra></extra>",
         "legendgroup": "nutre017, 1",
         "line": {
          "color": "#FE00FA",
          "dash": "dot"
         },
         "marker": {
          "symbol": "circle"
         },
         "mode": "lines+markers",
         "name": "nutre017, 1",
         "orientation": "v",
         "showlegend": true,
         "type": "scatter",
         "x": [
          2,
          3
         ],
         "xaxis": "x5",
         "y": [
          1.015,
          0.796
         ],
         "yaxis": "y5"
        },
        {
         "hovertemplate": "sub_id=nutre017<br>problem or comment=1<br>parameter=beta<br>Day=%{x}<br>estimate mean=%{y}<extra></extra>",
         "legendgroup": "nutre017, 1",
         "line": {
          "color": "#FE00FA",
          "dash": "dot"
         },
         "marker": {
          "symbol": "circle"
         },
         "mode": "lines+markers",
         "name": "nutre017, 1",
         "orientation": "v",
         "showlegend": false,
         "type": "scatter",
         "x": [
          2,
          3
         ],
         "xaxis": "x6",
         "y": [
          1.122,
          8.993
         ],
         "yaxis": "y6"
        },
        {
         "hovertemplate": "sub_id=nutre017<br>problem or comment=1<br>parameter=CS+ alpha<br>Day=%{x}<br>estimate mean=%{y}<extra></extra>",
         "legendgroup": "nutre017, 1",
         "line": {
          "color": "#FE00FA",
          "dash": "dot"
         },
         "marker": {
          "symbol": "circle"
         },
         "mode": "lines+markers",
         "name": "nutre017, 1",
         "orientation": "v",
         "showlegend": false,
         "type": "scatter",
         "x": [
          2,
          3
         ],
         "xaxis": "x3",
         "y": [
          0.68,
          -6.416
         ],
         "yaxis": "y3"
        },
        {
         "hovertemplate": "sub_id=nutre017<br>problem or comment=1<br>parameter=CS- alpha<br>Day=%{x}<br>estimate mean=%{y}<extra></extra>",
         "legendgroup": "nutre017, 1",
         "line": {
          "color": "#FE00FA",
          "dash": "dot"
         },
         "marker": {
          "symbol": "circle"
         },
         "mode": "lines+markers",
         "name": "nutre017, 1",
         "orientation": "v",
         "showlegend": false,
         "type": "scatter",
         "x": [
          2,
          3
         ],
         "xaxis": "x4",
         "y": [
          0.225,
          0.001
         ],
         "yaxis": "y4"
        },
        {
         "hovertemplate": "sub_id=nutre017<br>problem or comment=1<br>parameter=CS+ sFactor<br>Day=%{x}<br>estimate mean=%{y}<extra></extra>",
         "legendgroup": "nutre017, 1",
         "line": {
          "color": "#FE00FA",
          "dash": "dot"
         },
         "marker": {
          "symbol": "circle"
         },
         "mode": "lines+markers",
         "name": "nutre017, 1",
         "orientation": "v",
         "showlegend": false,
         "type": "scatter",
         "x": [
          2,
          3
         ],
         "xaxis": "x",
         "y": [
          0.15,
          0.2
         ],
         "yaxis": "y"
        },
        {
         "hovertemplate": "sub_id=nutre017<br>problem or comment=1<br>parameter=CS- sFactor<br>Day=%{x}<br>estimate mean=%{y}<extra></extra>",
         "legendgroup": "nutre017, 1",
         "line": {
          "color": "#FE00FA",
          "dash": "dot"
         },
         "marker": {
          "symbol": "circle"
         },
         "mode": "lines+markers",
         "name": "nutre017, 1",
         "orientation": "v",
         "showlegend": false,
         "type": "scatter",
         "x": [
          2,
          3
         ],
         "xaxis": "x2",
         "y": [
          -5.006,
          -0.632
         ],
         "yaxis": "y2"
        },
        {
         "hovertemplate": "sub_id=nutre018<br>problem or comment=0<br>parameter=money alpha<br>Day=%{x}<br>estimate mean=%{y}<extra></extra>",
         "legendgroup": "nutre018, 0",
         "line": {
          "color": "#325A9B",
          "dash": "solid"
         },
         "marker": {
          "symbol": "circle"
         },
         "mode": "lines+markers",
         "name": "nutre018, 0",
         "orientation": "v",
         "showlegend": true,
         "type": "scatter",
         "x": [
          2,
          3
         ],
         "xaxis": "x5",
         "y": [
          1.344,
          1.083
         ],
         "yaxis": "y5"
        },
        {
         "hovertemplate": "sub_id=nutre018<br>problem or comment=0<br>parameter=beta<br>Day=%{x}<br>estimate mean=%{y}<extra></extra>",
         "legendgroup": "nutre018, 0",
         "line": {
          "color": "#325A9B",
          "dash": "solid"
         },
         "marker": {
          "symbol": "circle"
         },
         "mode": "lines+markers",
         "name": "nutre018, 0",
         "orientation": "v",
         "showlegend": false,
         "type": "scatter",
         "x": [
          2,
          3
         ],
         "xaxis": "x6",
         "y": [
          0.234,
          0.687
         ],
         "yaxis": "y6"
        },
        {
         "hovertemplate": "sub_id=nutre018<br>problem or comment=0<br>parameter=CS+ alpha<br>Day=%{x}<br>estimate mean=%{y}<extra></extra>",
         "legendgroup": "nutre018, 0",
         "line": {
          "color": "#325A9B",
          "dash": "solid"
         },
         "marker": {
          "symbol": "circle"
         },
         "mode": "lines+markers",
         "name": "nutre018, 0",
         "orientation": "v",
         "showlegend": false,
         "type": "scatter",
         "x": [
          2,
          3
         ],
         "xaxis": "x3",
         "y": [
          0.955,
          0.809
         ],
         "yaxis": "y3"
        },
        {
         "hovertemplate": "sub_id=nutre018<br>problem or comment=0<br>parameter=CS- alpha<br>Day=%{x}<br>estimate mean=%{y}<extra></extra>",
         "legendgroup": "nutre018, 0",
         "line": {
          "color": "#325A9B",
          "dash": "solid"
         },
         "marker": {
          "symbol": "circle"
         },
         "mode": "lines+markers",
         "name": "nutre018, 0",
         "orientation": "v",
         "showlegend": false,
         "type": "scatter",
         "x": [
          2,
          3
         ],
         "xaxis": "x4",
         "y": [
          0.936,
          0.817
         ],
         "yaxis": "y4"
        },
        {
         "hovertemplate": "sub_id=nutre018<br>problem or comment=0<br>parameter=CS+ sFactor<br>Day=%{x}<br>estimate mean=%{y}<extra></extra>",
         "legendgroup": "nutre018, 0",
         "line": {
          "color": "#325A9B",
          "dash": "solid"
         },
         "marker": {
          "symbol": "circle"
         },
         "mode": "lines+markers",
         "name": "nutre018, 0",
         "orientation": "v",
         "showlegend": false,
         "type": "scatter",
         "x": [
          2,
          3
         ],
         "xaxis": "x",
         "y": [
          0.312,
          0.139
         ],
         "yaxis": "y"
        },
        {
         "hovertemplate": "sub_id=nutre018<br>problem or comment=0<br>parameter=CS- sFactor<br>Day=%{x}<br>estimate mean=%{y}<extra></extra>",
         "legendgroup": "nutre018, 0",
         "line": {
          "color": "#325A9B",
          "dash": "solid"
         },
         "marker": {
          "symbol": "circle"
         },
         "mode": "lines+markers",
         "name": "nutre018, 0",
         "orientation": "v",
         "showlegend": false,
         "type": "scatter",
         "x": [
          2,
          3
         ],
         "xaxis": "x2",
         "y": [
          0.334,
          0.144
         ],
         "yaxis": "y2"
        },
        {
         "hovertemplate": "sub_id=nutre019<br>problem or comment=0<br>parameter=money alpha<br>Day=%{x}<br>estimate mean=%{y}<extra></extra>",
         "legendgroup": "nutre019, 0",
         "line": {
          "color": "#FEAF16",
          "dash": "solid"
         },
         "marker": {
          "symbol": "circle"
         },
         "mode": "lines+markers",
         "name": "nutre019, 0",
         "orientation": "v",
         "showlegend": true,
         "type": "scatter",
         "x": [
          2,
          3
         ],
         "xaxis": "x5",
         "y": [
          0.328,
          0.248
         ],
         "yaxis": "y5"
        },
        {
         "hovertemplate": "sub_id=nutre019<br>problem or comment=0<br>parameter=beta<br>Day=%{x}<br>estimate mean=%{y}<extra></extra>",
         "legendgroup": "nutre019, 0",
         "line": {
          "color": "#FEAF16",
          "dash": "solid"
         },
         "marker": {
          "symbol": "circle"
         },
         "mode": "lines+markers",
         "name": "nutre019, 0",
         "orientation": "v",
         "showlegend": false,
         "type": "scatter",
         "x": [
          2,
          3
         ],
         "xaxis": "x6",
         "y": [
          3.521,
          6.098
         ],
         "yaxis": "y6"
        },
        {
         "hovertemplate": "sub_id=nutre019<br>problem or comment=0<br>parameter=CS+ alpha<br>Day=%{x}<br>estimate mean=%{y}<extra></extra>",
         "legendgroup": "nutre019, 0",
         "line": {
          "color": "#FEAF16",
          "dash": "solid"
         },
         "marker": {
          "symbol": "circle"
         },
         "mode": "lines+markers",
         "name": "nutre019, 0",
         "orientation": "v",
         "showlegend": false,
         "type": "scatter",
         "x": [
          2,
          3
         ],
         "xaxis": "x3",
         "y": [
          0.332,
          0.309
         ],
         "yaxis": "y3"
        },
        {
         "hovertemplate": "sub_id=nutre019<br>problem or comment=0<br>parameter=CS- alpha<br>Day=%{x}<br>estimate mean=%{y}<extra></extra>",
         "legendgroup": "nutre019, 0",
         "line": {
          "color": "#FEAF16",
          "dash": "solid"
         },
         "marker": {
          "symbol": "circle"
         },
         "mode": "lines+markers",
         "name": "nutre019, 0",
         "orientation": "v",
         "showlegend": false,
         "type": "scatter",
         "x": [
          2,
          3
         ],
         "xaxis": "x4",
         "y": [
          0.391,
          0.288
         ],
         "yaxis": "y4"
        },
        {
         "hovertemplate": "sub_id=nutre019<br>problem or comment=0<br>parameter=CS+ sFactor<br>Day=%{x}<br>estimate mean=%{y}<extra></extra>",
         "legendgroup": "nutre019, 0",
         "line": {
          "color": "#FEAF16",
          "dash": "solid"
         },
         "marker": {
          "symbol": "circle"
         },
         "mode": "lines+markers",
         "name": "nutre019, 0",
         "orientation": "v",
         "showlegend": false,
         "type": "scatter",
         "x": [
          2,
          3
         ],
         "xaxis": "x",
         "y": [
          0.231,
          0.284
         ],
         "yaxis": "y"
        },
        {
         "hovertemplate": "sub_id=nutre019<br>problem or comment=0<br>parameter=CS- sFactor<br>Day=%{x}<br>estimate mean=%{y}<extra></extra>",
         "legendgroup": "nutre019, 0",
         "line": {
          "color": "#FEAF16",
          "dash": "solid"
         },
         "marker": {
          "symbol": "circle"
         },
         "mode": "lines+markers",
         "name": "nutre019, 0",
         "orientation": "v",
         "showlegend": false,
         "type": "scatter",
         "x": [
          2,
          3
         ],
         "xaxis": "x2",
         "y": [
          0.167,
          0.319
         ],
         "yaxis": "y2"
        },
        {
         "hovertemplate": "sub_id=nutre020<br>problem or comment=0<br>parameter=money alpha<br>Day=%{x}<br>estimate mean=%{y}<extra></extra>",
         "legendgroup": "nutre020, 0",
         "line": {
          "color": "#F8A19F",
          "dash": "solid"
         },
         "marker": {
          "symbol": "circle"
         },
         "mode": "lines+markers",
         "name": "nutre020, 0",
         "orientation": "v",
         "showlegend": true,
         "type": "scatter",
         "x": [
          2,
          3
         ],
         "xaxis": "x5",
         "y": [
          0.364,
          0.34
         ],
         "yaxis": "y5"
        },
        {
         "hovertemplate": "sub_id=nutre020<br>problem or comment=0<br>parameter=beta<br>Day=%{x}<br>estimate mean=%{y}<extra></extra>",
         "legendgroup": "nutre020, 0",
         "line": {
          "color": "#F8A19F",
          "dash": "solid"
         },
         "marker": {
          "symbol": "circle"
         },
         "mode": "lines+markers",
         "name": "nutre020, 0",
         "orientation": "v",
         "showlegend": false,
         "type": "scatter",
         "x": [
          2,
          3
         ],
         "xaxis": "x6",
         "y": [
          2.169,
          2.366
         ],
         "yaxis": "y6"
        },
        {
         "hovertemplate": "sub_id=nutre020<br>problem or comment=0<br>parameter=CS+ alpha<br>Day=%{x}<br>estimate mean=%{y}<extra></extra>",
         "legendgroup": "nutre020, 0",
         "line": {
          "color": "#F8A19F",
          "dash": "solid"
         },
         "marker": {
          "symbol": "circle"
         },
         "mode": "lines+markers",
         "name": "nutre020, 0",
         "orientation": "v",
         "showlegend": false,
         "type": "scatter",
         "x": [
          2,
          3
         ],
         "xaxis": "x3",
         "y": [
          0.411,
          0.377
         ],
         "yaxis": "y3"
        },
        {
         "hovertemplate": "sub_id=nutre020<br>problem or comment=0<br>parameter=CS- alpha<br>Day=%{x}<br>estimate mean=%{y}<extra></extra>",
         "legendgroup": "nutre020, 0",
         "line": {
          "color": "#F8A19F",
          "dash": "solid"
         },
         "marker": {
          "symbol": "circle"
         },
         "mode": "lines+markers",
         "name": "nutre020, 0",
         "orientation": "v",
         "showlegend": false,
         "type": "scatter",
         "x": [
          2,
          3
         ],
         "xaxis": "x4",
         "y": [
          0.367,
          0.391
         ],
         "yaxis": "y4"
        },
        {
         "hovertemplate": "sub_id=nutre020<br>problem or comment=0<br>parameter=CS+ sFactor<br>Day=%{x}<br>estimate mean=%{y}<extra></extra>",
         "legendgroup": "nutre020, 0",
         "line": {
          "color": "#F8A19F",
          "dash": "solid"
         },
         "marker": {
          "symbol": "circle"
         },
         "mode": "lines+markers",
         "name": "nutre020, 0",
         "orientation": "v",
         "showlegend": false,
         "type": "scatter",
         "x": [
          2,
          3
         ],
         "xaxis": "x",
         "y": [
          0.235,
          0.231
         ],
         "yaxis": "y"
        },
        {
         "hovertemplate": "sub_id=nutre020<br>problem or comment=0<br>parameter=CS- sFactor<br>Day=%{x}<br>estimate mean=%{y}<extra></extra>",
         "legendgroup": "nutre020, 0",
         "line": {
          "color": "#F8A19F",
          "dash": "solid"
         },
         "marker": {
          "symbol": "circle"
         },
         "mode": "lines+markers",
         "name": "nutre020, 0",
         "orientation": "v",
         "showlegend": false,
         "type": "scatter",
         "x": [
          2,
          3
         ],
         "xaxis": "x2",
         "y": [
          0.276,
          0.201
         ],
         "yaxis": "y2"
        }
       ],
       "layout": {
        "annotations": [
         {
          "font": {},
          "showarrow": false,
          "text": "CS+ sFactor",
          "x": 0.245,
          "xanchor": "center",
          "xref": "paper",
          "y": 0.2866666666666666,
          "yanchor": "bottom",
          "yref": "paper"
         },
         {
          "font": {},
          "showarrow": false,
          "text": "CS- sFactor",
          "x": 0.755,
          "xanchor": "center",
          "xref": "paper",
          "y": 0.2866666666666666,
          "yanchor": "bottom",
          "yref": "paper"
         },
         {
          "font": {},
          "showarrow": false,
          "text": "CS+ alpha",
          "x": 0.245,
          "xanchor": "center",
          "xref": "paper",
          "y": 0.6433333333333333,
          "yanchor": "bottom",
          "yref": "paper"
         },
         {
          "font": {},
          "showarrow": false,
          "text": "CS- alpha",
          "x": 0.755,
          "xanchor": "center",
          "xref": "paper",
          "y": 0.6433333333333333,
          "yanchor": "bottom",
          "yref": "paper"
         },
         {
          "font": {},
          "showarrow": false,
          "text": "money alpha",
          "x": 0.245,
          "xanchor": "center",
          "xref": "paper",
          "y": 0.9999999999999999,
          "yanchor": "bottom",
          "yref": "paper"
         },
         {
          "font": {},
          "showarrow": false,
          "text": "beta",
          "x": 0.755,
          "xanchor": "center",
          "xref": "paper",
          "y": 0.9999999999999999,
          "yanchor": "bottom",
          "yref": "paper"
         }
        ],
        "legend": {
         "title": {
          "text": "sub_id, problem or comment"
         },
         "tracegroupgap": 0
        },
        "template": {
         "data": {
          "bar": [
           {
            "error_x": {
             "color": "#2a3f5f"
            },
            "error_y": {
             "color": "#2a3f5f"
            },
            "marker": {
             "line": {
              "color": "#E5ECF6",
              "width": 0.5
             },
             "pattern": {
              "fillmode": "overlay",
              "size": 10,
              "solidity": 0.2
             }
            },
            "type": "bar"
           }
          ],
          "barpolar": [
           {
            "marker": {
             "line": {
              "color": "#E5ECF6",
              "width": 0.5
             },
             "pattern": {
              "fillmode": "overlay",
              "size": 10,
              "solidity": 0.2
             }
            },
            "type": "barpolar"
           }
          ],
          "carpet": [
           {
            "aaxis": {
             "endlinecolor": "#2a3f5f",
             "gridcolor": "white",
             "linecolor": "white",
             "minorgridcolor": "white",
             "startlinecolor": "#2a3f5f"
            },
            "baxis": {
             "endlinecolor": "#2a3f5f",
             "gridcolor": "white",
             "linecolor": "white",
             "minorgridcolor": "white",
             "startlinecolor": "#2a3f5f"
            },
            "type": "carpet"
           }
          ],
          "choropleth": [
           {
            "colorbar": {
             "outlinewidth": 0,
             "ticks": ""
            },
            "type": "choropleth"
           }
          ],
          "contour": [
           {
            "colorbar": {
             "outlinewidth": 0,
             "ticks": ""
            },
            "colorscale": [
             [
              0,
              "#0d0887"
             ],
             [
              0.1111111111111111,
              "#46039f"
             ],
             [
              0.2222222222222222,
              "#7201a8"
             ],
             [
              0.3333333333333333,
              "#9c179e"
             ],
             [
              0.4444444444444444,
              "#bd3786"
             ],
             [
              0.5555555555555556,
              "#d8576b"
             ],
             [
              0.6666666666666666,
              "#ed7953"
             ],
             [
              0.7777777777777778,
              "#fb9f3a"
             ],
             [
              0.8888888888888888,
              "#fdca26"
             ],
             [
              1,
              "#f0f921"
             ]
            ],
            "type": "contour"
           }
          ],
          "contourcarpet": [
           {
            "colorbar": {
             "outlinewidth": 0,
             "ticks": ""
            },
            "type": "contourcarpet"
           }
          ],
          "heatmap": [
           {
            "colorbar": {
             "outlinewidth": 0,
             "ticks": ""
            },
            "colorscale": [
             [
              0,
              "#0d0887"
             ],
             [
              0.1111111111111111,
              "#46039f"
             ],
             [
              0.2222222222222222,
              "#7201a8"
             ],
             [
              0.3333333333333333,
              "#9c179e"
             ],
             [
              0.4444444444444444,
              "#bd3786"
             ],
             [
              0.5555555555555556,
              "#d8576b"
             ],
             [
              0.6666666666666666,
              "#ed7953"
             ],
             [
              0.7777777777777778,
              "#fb9f3a"
             ],
             [
              0.8888888888888888,
              "#fdca26"
             ],
             [
              1,
              "#f0f921"
             ]
            ],
            "type": "heatmap"
           }
          ],
          "heatmapgl": [
           {
            "colorbar": {
             "outlinewidth": 0,
             "ticks": ""
            },
            "colorscale": [
             [
              0,
              "#0d0887"
             ],
             [
              0.1111111111111111,
              "#46039f"
             ],
             [
              0.2222222222222222,
              "#7201a8"
             ],
             [
              0.3333333333333333,
              "#9c179e"
             ],
             [
              0.4444444444444444,
              "#bd3786"
             ],
             [
              0.5555555555555556,
              "#d8576b"
             ],
             [
              0.6666666666666666,
              "#ed7953"
             ],
             [
              0.7777777777777778,
              "#fb9f3a"
             ],
             [
              0.8888888888888888,
              "#fdca26"
             ],
             [
              1,
              "#f0f921"
             ]
            ],
            "type": "heatmapgl"
           }
          ],
          "histogram": [
           {
            "marker": {
             "pattern": {
              "fillmode": "overlay",
              "size": 10,
              "solidity": 0.2
             }
            },
            "type": "histogram"
           }
          ],
          "histogram2d": [
           {
            "colorbar": {
             "outlinewidth": 0,
             "ticks": ""
            },
            "colorscale": [
             [
              0,
              "#0d0887"
             ],
             [
              0.1111111111111111,
              "#46039f"
             ],
             [
              0.2222222222222222,
              "#7201a8"
             ],
             [
              0.3333333333333333,
              "#9c179e"
             ],
             [
              0.4444444444444444,
              "#bd3786"
             ],
             [
              0.5555555555555556,
              "#d8576b"
             ],
             [
              0.6666666666666666,
              "#ed7953"
             ],
             [
              0.7777777777777778,
              "#fb9f3a"
             ],
             [
              0.8888888888888888,
              "#fdca26"
             ],
             [
              1,
              "#f0f921"
             ]
            ],
            "type": "histogram2d"
           }
          ],
          "histogram2dcontour": [
           {
            "colorbar": {
             "outlinewidth": 0,
             "ticks": ""
            },
            "colorscale": [
             [
              0,
              "#0d0887"
             ],
             [
              0.1111111111111111,
              "#46039f"
             ],
             [
              0.2222222222222222,
              "#7201a8"
             ],
             [
              0.3333333333333333,
              "#9c179e"
             ],
             [
              0.4444444444444444,
              "#bd3786"
             ],
             [
              0.5555555555555556,
              "#d8576b"
             ],
             [
              0.6666666666666666,
              "#ed7953"
             ],
             [
              0.7777777777777778,
              "#fb9f3a"
             ],
             [
              0.8888888888888888,
              "#fdca26"
             ],
             [
              1,
              "#f0f921"
             ]
            ],
            "type": "histogram2dcontour"
           }
          ],
          "mesh3d": [
           {
            "colorbar": {
             "outlinewidth": 0,
             "ticks": ""
            },
            "type": "mesh3d"
           }
          ],
          "parcoords": [
           {
            "line": {
             "colorbar": {
              "outlinewidth": 0,
              "ticks": ""
             }
            },
            "type": "parcoords"
           }
          ],
          "pie": [
           {
            "automargin": true,
            "type": "pie"
           }
          ],
          "scatter": [
           {
            "fillpattern": {
             "fillmode": "overlay",
             "size": 10,
             "solidity": 0.2
            },
            "type": "scatter"
           }
          ],
          "scatter3d": [
           {
            "line": {
             "colorbar": {
              "outlinewidth": 0,
              "ticks": ""
             }
            },
            "marker": {
             "colorbar": {
              "outlinewidth": 0,
              "ticks": ""
             }
            },
            "type": "scatter3d"
           }
          ],
          "scattercarpet": [
           {
            "marker": {
             "colorbar": {
              "outlinewidth": 0,
              "ticks": ""
             }
            },
            "type": "scattercarpet"
           }
          ],
          "scattergeo": [
           {
            "marker": {
             "colorbar": {
              "outlinewidth": 0,
              "ticks": ""
             }
            },
            "type": "scattergeo"
           }
          ],
          "scattergl": [
           {
            "marker": {
             "colorbar": {
              "outlinewidth": 0,
              "ticks": ""
             }
            },
            "type": "scattergl"
           }
          ],
          "scattermapbox": [
           {
            "marker": {
             "colorbar": {
              "outlinewidth": 0,
              "ticks": ""
             }
            },
            "type": "scattermapbox"
           }
          ],
          "scatterpolar": [
           {
            "marker": {
             "colorbar": {
              "outlinewidth": 0,
              "ticks": ""
             }
            },
            "type": "scatterpolar"
           }
          ],
          "scatterpolargl": [
           {
            "marker": {
             "colorbar": {
              "outlinewidth": 0,
              "ticks": ""
             }
            },
            "type": "scatterpolargl"
           }
          ],
          "scatterternary": [
           {
            "marker": {
             "colorbar": {
              "outlinewidth": 0,
              "ticks": ""
             }
            },
            "type": "scatterternary"
           }
          ],
          "surface": [
           {
            "colorbar": {
             "outlinewidth": 0,
             "ticks": ""
            },
            "colorscale": [
             [
              0,
              "#0d0887"
             ],
             [
              0.1111111111111111,
              "#46039f"
             ],
             [
              0.2222222222222222,
              "#7201a8"
             ],
             [
              0.3333333333333333,
              "#9c179e"
             ],
             [
              0.4444444444444444,
              "#bd3786"
             ],
             [
              0.5555555555555556,
              "#d8576b"
             ],
             [
              0.6666666666666666,
              "#ed7953"
             ],
             [
              0.7777777777777778,
              "#fb9f3a"
             ],
             [
              0.8888888888888888,
              "#fdca26"
             ],
             [
              1,
              "#f0f921"
             ]
            ],
            "type": "surface"
           }
          ],
          "table": [
           {
            "cells": {
             "fill": {
              "color": "#EBF0F8"
             },
             "line": {
              "color": "white"
             }
            },
            "header": {
             "fill": {
              "color": "#C8D4E3"
             },
             "line": {
              "color": "white"
             }
            },
            "type": "table"
           }
          ]
         },
         "layout": {
          "annotationdefaults": {
           "arrowcolor": "#2a3f5f",
           "arrowhead": 0,
           "arrowwidth": 1
          },
          "autotypenumbers": "strict",
          "coloraxis": {
           "colorbar": {
            "outlinewidth": 0,
            "ticks": ""
           }
          },
          "colorscale": {
           "diverging": [
            [
             0,
             "#8e0152"
            ],
            [
             0.1,
             "#c51b7d"
            ],
            [
             0.2,
             "#de77ae"
            ],
            [
             0.3,
             "#f1b6da"
            ],
            [
             0.4,
             "#fde0ef"
            ],
            [
             0.5,
             "#f7f7f7"
            ],
            [
             0.6,
             "#e6f5d0"
            ],
            [
             0.7,
             "#b8e186"
            ],
            [
             0.8,
             "#7fbc41"
            ],
            [
             0.9,
             "#4d9221"
            ],
            [
             1,
             "#276419"
            ]
           ],
           "sequential": [
            [
             0,
             "#0d0887"
            ],
            [
             0.1111111111111111,
             "#46039f"
            ],
            [
             0.2222222222222222,
             "#7201a8"
            ],
            [
             0.3333333333333333,
             "#9c179e"
            ],
            [
             0.4444444444444444,
             "#bd3786"
            ],
            [
             0.5555555555555556,
             "#d8576b"
            ],
            [
             0.6666666666666666,
             "#ed7953"
            ],
            [
             0.7777777777777778,
             "#fb9f3a"
            ],
            [
             0.8888888888888888,
             "#fdca26"
            ],
            [
             1,
             "#f0f921"
            ]
           ],
           "sequentialminus": [
            [
             0,
             "#0d0887"
            ],
            [
             0.1111111111111111,
             "#46039f"
            ],
            [
             0.2222222222222222,
             "#7201a8"
            ],
            [
             0.3333333333333333,
             "#9c179e"
            ],
            [
             0.4444444444444444,
             "#bd3786"
            ],
            [
             0.5555555555555556,
             "#d8576b"
            ],
            [
             0.6666666666666666,
             "#ed7953"
            ],
            [
             0.7777777777777778,
             "#fb9f3a"
            ],
            [
             0.8888888888888888,
             "#fdca26"
            ],
            [
             1,
             "#f0f921"
            ]
           ]
          },
          "colorway": [
           "#636efa",
           "#EF553B",
           "#00cc96",
           "#ab63fa",
           "#FFA15A",
           "#19d3f3",
           "#FF6692",
           "#B6E880",
           "#FF97FF",
           "#FECB52"
          ],
          "font": {
           "color": "#2a3f5f"
          },
          "geo": {
           "bgcolor": "white",
           "lakecolor": "white",
           "landcolor": "#E5ECF6",
           "showlakes": true,
           "showland": true,
           "subunitcolor": "white"
          },
          "hoverlabel": {
           "align": "left"
          },
          "hovermode": "closest",
          "mapbox": {
           "style": "light"
          },
          "paper_bgcolor": "white",
          "plot_bgcolor": "#E5ECF6",
          "polar": {
           "angularaxis": {
            "gridcolor": "white",
            "linecolor": "white",
            "ticks": ""
           },
           "bgcolor": "#E5ECF6",
           "radialaxis": {
            "gridcolor": "white",
            "linecolor": "white",
            "ticks": ""
           }
          },
          "scene": {
           "xaxis": {
            "backgroundcolor": "#E5ECF6",
            "gridcolor": "white",
            "gridwidth": 2,
            "linecolor": "white",
            "showbackground": true,
            "ticks": "",
            "zerolinecolor": "white"
           },
           "yaxis": {
            "backgroundcolor": "#E5ECF6",
            "gridcolor": "white",
            "gridwidth": 2,
            "linecolor": "white",
            "showbackground": true,
            "ticks": "",
            "zerolinecolor": "white"
           },
           "zaxis": {
            "backgroundcolor": "#E5ECF6",
            "gridcolor": "white",
            "gridwidth": 2,
            "linecolor": "white",
            "showbackground": true,
            "ticks": "",
            "zerolinecolor": "white"
           }
          },
          "shapedefaults": {
           "line": {
            "color": "#2a3f5f"
           }
          },
          "ternary": {
           "aaxis": {
            "gridcolor": "white",
            "linecolor": "white",
            "ticks": ""
           },
           "baxis": {
            "gridcolor": "white",
            "linecolor": "white",
            "ticks": ""
           },
           "bgcolor": "#E5ECF6",
           "caxis": {
            "gridcolor": "white",
            "linecolor": "white",
            "ticks": ""
           }
          },
          "title": {
           "x": 0.05
          },
          "xaxis": {
           "automargin": true,
           "gridcolor": "white",
           "linecolor": "white",
           "ticks": "",
           "title": {
            "standoff": 15
           },
           "zerolinecolor": "white",
           "zerolinewidth": 2
          },
          "yaxis": {
           "automargin": true,
           "gridcolor": "white",
           "linecolor": "white",
           "ticks": "",
           "title": {
            "standoff": 15
           },
           "zerolinecolor": "white",
           "zerolinewidth": 2
          }
         }
        },
        "title": {
         "text": "cohort 2"
        },
        "xaxis": {
         "anchor": "y",
         "categoryarray": [
          1,
          2,
          3
         ],
         "categoryorder": "array",
         "domain": [
          0,
          0.49
         ],
         "title": {
          "text": "Day"
         }
        },
        "xaxis2": {
         "anchor": "y2",
         "categoryarray": [
          1,
          2,
          3
         ],
         "categoryorder": "array",
         "domain": [
          0.51,
          1
         ],
         "matches": "x",
         "title": {
          "text": "Day"
         }
        },
        "xaxis3": {
         "anchor": "y3",
         "domain": [
          0,
          0.49
         ],
         "matches": "x",
         "showticklabels": false
        },
        "xaxis4": {
         "anchor": "y4",
         "domain": [
          0.51,
          1
         ],
         "matches": "x",
         "showticklabels": false
        },
        "xaxis5": {
         "anchor": "y5",
         "domain": [
          0,
          0.49
         ],
         "matches": "x",
         "showticklabels": false
        },
        "xaxis6": {
         "anchor": "y6",
         "domain": [
          0.51,
          1
         ],
         "matches": "x",
         "showticklabels": false
        },
        "yaxis": {
         "anchor": "x",
         "domain": [
          0,
          0.2866666666666666
         ],
         "showticklabels": true,
         "title": {
          "text": "estimate mean"
         }
        },
        "yaxis2": {
         "anchor": "x2",
         "domain": [
          0,
          0.2866666666666666
         ],
         "showticklabels": true
        },
        "yaxis3": {
         "anchor": "x3",
         "domain": [
          0.35666666666666663,
          0.6433333333333333
         ],
         "showticklabels": true,
         "title": {
          "text": "estimate mean"
         }
        },
        "yaxis4": {
         "anchor": "x4",
         "domain": [
          0.35666666666666663,
          0.6433333333333333
         ],
         "showticklabels": true
        },
        "yaxis5": {
         "anchor": "x5",
         "domain": [
          0.7133333333333333,
          0.9999999999999999
         ],
         "showticklabels": true,
         "title": {
          "text": "estimate mean"
         }
        },
        "yaxis6": {
         "anchor": "x6",
         "domain": [
          0.7133333333333333,
          0.9999999999999999
         ],
         "showticklabels": true
        }
       }
      }
     },
     "metadata": {},
     "output_type": "display_data"
    }
   ],
   "source": [
    "df_ = pars_df[pars_df['Day']!=1]\n",
    "for cohort in sorted(list(df_['cohort_id'].unique())):\n",
    "      df = df_[df_['cohort_id'] == cohort]\n",
    "    \n",
    "\n",
    "      fig = px.line(df, facet_col = 'parameter', facet_col_wrap=2,\n",
    "                  x = 'Day', y = 'estimate mean', color = 'sub_id',\n",
    "                  markers=True, #symbol='comment',\n",
    "                  line_dash='problem or comment',\n",
    "                  color_discrete_sequence = px.colors.qualitative.Alphabet,\n",
    "                  category_orders=\n",
    "                        {'Day':[1,2,3],\n",
    "                        \"sub_id\": sorted(list(pars_df['sub_id'].unique())),\n",
    "                        \"parameter\": ['money alpha', 'beta', 'CS+ alpha',\n",
    "                                    'CS- alpha', 'CS+ sFactor', 'CS- sFactor'],\n",
    "                        \"problem or comment\": [0,1]},\n",
    "                  title = '{}'.format(cohort))\n",
    "      \n",
    "      fig.update_yaxes(matches=None, showticklabels=True)\n",
    "      fig.for_each_annotation(lambda a: a.update(text=a.text.split(\"=\")[-1]))\n",
    "\n",
    "      fig.show()\n"
   ]
  },
  {
   "attachments": {},
   "cell_type": "markdown",
   "metadata": {},
   "source": [
    "# BY BASELINE PREFERENCE"
   ]
  },
  {
   "attachments": {},
   "cell_type": "markdown",
   "metadata": {},
   "source": [
    "## ALL SUBS"
   ]
  },
  {
   "attachments": {},
   "cell_type": "markdown",
   "metadata": {},
   "source": [
    "### BY Cohort"
   ]
  },
  {
   "cell_type": "code",
   "execution_count": 6,
   "metadata": {},
   "outputs": [
    {
     "data": {
      "image/png": "[encoded data removed]",
      "text/plain": [
       "<Figure size 432x216 with 2 Axes>"
      ]
     },
     "metadata": {
      "needs_background": "light"
     },
     "output_type": "display_data"
    },
    {
     "data": {
      "image/png": "[encoded data removed]",
      "text/plain": [
       "<Figure size 600x300 with 2 Axes>"
      ]
     },
     "metadata": {},
     "output_type": "display_data"
    },
    {
     "data": {
      "image/png": "[encoded data removed]",
      "text/plain": [
       "<Figure size 600x300 with 2 Axes>"
      ]
     },
     "metadata": {},
     "output_type": "display_data"
    },
    {
     "data": {
      "image/png": "[encoded data removed]",
      "text/plain": [
       "<Figure size 600x300 with 2 Axes>"
      ]
     },
     "metadata": {},
     "output_type": "display_data"
    },
    {
     "data": {
      "image/png": "[encoded data removed]",
      "text/plain": [
       "<Figure size 600x300 with 2 Axes>"
      ]
     },
     "metadata": {},
     "output_type": "display_data"
    },
    {
     "data": {
      "image/png": "[encoded data removed]",
      "text/plain": [
       "<Figure size 600x300 with 2 Axes>"
      ]
     },
     "metadata": {},
     "output_type": "display_data"
    }
   ],
   "source": [
    "import seaborn as sns\n",
    "\n",
    "tmp_df = pars_df.copy()\n",
    "for parameter in tmp_df['parameter'].unique():\n",
    "    df = tmp_df[tmp_df['parameter'] == parameter]\n",
    "    g = sns.FacetGrid(df, col = 'cohort_id',  margin_titles=True)\n",
    "    g.map_dataframe(sns.barplot, x = 'baseline preference', y = 'estimate mean', hue = 'Day')\n",
    "    g.fig.suptitle('{}\\nby cohort, day and baseline preference\\n(All subjects)'.format(parameter), va = 'bottom')"
   ]
  },
  {
   "attachments": {},
   "cell_type": "markdown",
   "metadata": {},
   "source": [
    "### Both cohorts together"
   ]
  },
  {
   "cell_type": "code",
   "execution_count": 7,
   "metadata": {},
   "outputs": [
    {
     "data": {
      "image/png": "[encoded data removed]",
      "text/plain": [
       "<Figure size 300x300 with 1 Axes>"
      ]
     },
     "metadata": {},
     "output_type": "display_data"
    },
    {
     "data": {
      "image/png": "[encoded data removed]",
      "text/plain": [
       "<Figure size 300x300 with 1 Axes>"
      ]
     },
     "metadata": {},
     "output_type": "display_data"
    },
    {
     "data": {
      "image/png": "[encoded data removed]",
      "text/plain": [
       "<Figure size 300x300 with 1 Axes>"
      ]
     },
     "metadata": {},
     "output_type": "display_data"
    },
    {
     "data": {
      "image/png": "[encoded data removed]",
      "text/plain": [
       "<Figure size 300x300 with 1 Axes>"
      ]
     },
     "metadata": {},
     "output_type": "display_data"
    },
    {
     "data": {
      "image/png": "[encoded data removed]",
      "text/plain": [
       "<Figure size 300x300 with 1 Axes>"
      ]
     },
     "metadata": {},
     "output_type": "display_data"
    },
    {
     "data": {
      "image/png": "[encoded data removed]",
      "text/plain": [
       "<Figure size 300x300 with 1 Axes>"
      ]
     },
     "metadata": {},
     "output_type": "display_data"
    }
   ],
   "source": [
    "import seaborn as sns\n",
    "\n",
    "tmp_df = pars_df[pars_df['Day'] != 1].copy()\n",
    "for parameter in tmp_df['parameter'].unique():\n",
    "    df = tmp_df[tmp_df['parameter'] == parameter]\n",
    "    g = sns.FacetGrid(df,  margin_titles=True)\n",
    "    g.map_dataframe(sns.barplot, x = 'baseline preference', y = 'estimate mean', hue = 'Day')\n",
    "    g.fig.suptitle('{}\\nby day and baseline preference\\n(All subjects)'.format(parameter), va = 'bottom')"
   ]
  },
  {
   "attachments": {},
   "cell_type": "markdown",
   "metadata": {},
   "source": [
    "## Subjects without estimation issues"
   ]
  },
  {
   "attachments": {},
   "cell_type": "markdown",
   "metadata": {},
   "source": [
    "### By Cohort"
   ]
  },
  {
   "cell_type": "code",
   "execution_count": 8,
   "metadata": {},
   "outputs": [
    {
     "data": {
      "image/png": "[encoded data removed]",
      "text/plain": [
       "<Figure size 600x300 with 2 Axes>"
      ]
     },
     "metadata": {},
     "output_type": "display_data"
    },
    {
     "data": {
      "image/png": "[encoded data removed]",
      "text/plain": [
       "<Figure size 600x300 with 2 Axes>"
      ]
     },
     "metadata": {},
     "output_type": "display_data"
    },
    {
     "data": {
      "image/png": "[encoded data removed]",
      "text/plain": [
       "<Figure size 600x300 with 2 Axes>"
      ]
     },
     "metadata": {},
     "output_type": "display_data"
    },
    {
     "data": {
      "image/png": "[encoded data removed]",
      "text/plain": [
       "<Figure size 600x300 with 2 Axes>"
      ]
     },
     "metadata": {},
     "output_type": "display_data"
    },
    {
     "data": {
      "image/png": "[encoded data removed]",
      "text/plain": [
       "<Figure size 600x300 with 2 Axes>"
      ]
     },
     "metadata": {},
     "output_type": "display_data"
    },
    {
     "data": {
      "image/png": "[encoded data removed]",
      "text/plain": [
       "<Figure size 600x300 with 2 Axes>"
      ]
     },
     "metadata": {},
     "output_type": "display_data"
    }
   ],
   "source": [
    "import seaborn as sns\n",
    "\n",
    "tmp_df = pars_df[pars_df['problem or comment'] == 0].copy()\n",
    "for parameter in tmp_df['parameter'].unique():\n",
    "    df = tmp_df[tmp_df['parameter'] == parameter]\n",
    "    g = sns.FacetGrid(df, col = 'cohort_id',  margin_titles=True)\n",
    "    g.map_dataframe(sns.barplot, x = 'baseline preference', y = 'estimate mean', hue = 'Day')\n",
    "    g.fig.suptitle('{}\\nby cohort, day and baseline preference\\n(subject without estimation issues)'.format(parameter), va = 'bottom')"
   ]
  },
  {
   "attachments": {},
   "cell_type": "markdown",
   "metadata": {},
   "source": [
    "### Both Cohorts together"
   ]
  },
  {
   "cell_type": "code",
   "execution_count": 9,
   "metadata": {},
   "outputs": [
    {
     "data": {
      "image/png": "[encoded data removed]",
      "text/plain": [
       "<Figure size 300x300 with 1 Axes>"
      ]
     },
     "metadata": {},
     "output_type": "display_data"
    },
    {
     "data": {
      "image/png": "[encoded data removed]",
      "text/plain": [
       "<Figure size 300x300 with 1 Axes>"
      ]
     },
     "metadata": {},
     "output_type": "display_data"
    },
    {
     "data": {
      "image/png": "[encoded data removed]",
      "text/plain": [
       "<Figure size 300x300 with 1 Axes>"
      ]
     },
     "metadata": {},
     "output_type": "display_data"
    },
    {
     "data": {
      "image/png": "[encoded data removed]",
      "text/plain": [
       "<Figure size 300x300 with 1 Axes>"
      ]
     },
     "metadata": {},
     "output_type": "display_data"
    },
    {
     "data": {
      "image/png": "[encoded data removed]",
      "text/plain": [
       "<Figure size 300x300 with 1 Axes>"
      ]
     },
     "metadata": {},
     "output_type": "display_data"
    },
    {
     "data": {
      "image/png": "[encoded data removed]",
      "text/plain": [
       "<Figure size 300x300 with 1 Axes>"
      ]
     },
     "metadata": {},
     "output_type": "display_data"
    }
   ],
   "source": [
    "import seaborn as sns\n",
    "\n",
    "tmp_df = pars_df[(pars_df['Day'] != 1) & (pars_df['problem or comment'] == 0)].copy()\n",
    "for parameter in tmp_df['parameter'].unique():\n",
    "    df = tmp_df[tmp_df['parameter'] == parameter]\n",
    "    g = sns.FacetGrid(df,  margin_titles=True)\n",
    "    g.map_dataframe(sns.barplot, x = 'baseline preference', y = 'estimate mean', hue = 'Day')\n",
    "    g.fig.suptitle('{}\\nby day and baseline preference\\n(subject without estimation issues)'.format(parameter), va = 'bottom')"
   ]
  },
  {
   "cell_type": "code",
   "execution_count": null,
   "metadata": {},
   "outputs": [],
   "source": []
  },
  {
   "cell_type": "code",
   "execution_count": null,
   "metadata": {},
   "outputs": [],
   "source": []
  }
 ],
 "metadata": {
  "kernelspec": {
   "display_name": "nutrecon",
   "language": "python",
   "name": "python3"
  },
  "language_info": {
   "codemirror_mode": {
    "name": "ipython",
    "version": 3
   },
   "file_extension": ".py",
   "mimetype": "text/x-python",
   "name": "python",
   "nbconvert_exporter": "python",
   "pygments_lexer": "ipython3",
   "version": "3.10.4"
  },
  "orig_nbformat": 4
 },
 "nbformat": 4,
 "nbformat_minor": 2
}
