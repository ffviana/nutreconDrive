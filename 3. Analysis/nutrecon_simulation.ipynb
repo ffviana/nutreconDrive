{
 "cells": [
  {
   "cell_type": "code",
   "execution_count": 12,
   "metadata": {},
   "outputs": [
    {
     "name": "stdout",
     "output_type": "stream",
     "text": [
      "Running Code locally\n"
     ]
    }
   ],
   "source": [
    "try:\n",
    "  from google.colab import drive\n",
    "  drive.mount('/content/drive/')\n",
    "  shared_drive_foldername = 'NUTRECON'\n",
    "  root = '/content/drive/Shareddrives/{}/'.format(shared_drive_foldername)\n",
    "  !pip install pandas==1.4.2\n",
    "  print('Running Code in Colab')\n",
    "# ...or locally\n",
    "except:\n",
    "  # define the local directory of the project\n",
    "  root = 'D:/FV/Projects/NUTRECON/nutreconDrive/'\n",
    "  # root = '/mnt/data1/francisco/Projects/NUTRECON/nutreconDrive/'\n",
    "  print('Running Code locally')\n",
    "\n",
    "import numpy as np\n",
    "import pandas as pd\n",
    "import sys\n",
    "sys.path.append(root + 'python')\n",
    "import nutrecon_simulation as sim\n",
    "from variableCoding import Vars\n",
    "_v_ = Vars()\n",
    "\n",
    "import plotly.express as px\n",
    "\n",
    "beahviour_cols = sim.optimize_cols[:-4]\n",
    "\n",
    "def get_probLottery(group):\n",
    "  prob_lotteryChoice = len(group[group['choice'] == 1]) / uniqueLott_Nreps\n",
    "  return prob_lotteryChoice"
   ]
  },
  {
   "cell_type": "markdown",
   "metadata": {},
   "source": [
    "# Testing Functions & routines"
   ]
  },
  {
   "cell_type": "markdown",
   "metadata": {},
   "source": [
    "## Task parameters"
   ]
  },
  {
   "cell_type": "code",
   "execution_count": 13,
   "metadata": {},
   "outputs": [
    {
     "name": "stdout",
     "output_type": "stream",
     "text": [
      "Trials per type:\n",
      "same     390\n",
      "mixed    300\n",
      "Name: trial_type, dtype: int64\n"
     ]
    }
   ],
   "source": [
    "uniqueLott_Nreps= 6      # Unique Lottery Repititions  \n",
    "\n",
    "# # ---------------------------- Levy & Glimcher ------------------------------\n",
    "\n",
    "# # Same-type & mixed type Trials Lottery probabilities\n",
    "# st_refPs = [1]                                  # Reference option\n",
    "# st_lottPs = [0.13, 0.22, 0.38, .50, .75]        # Lottery option\n",
    "\n",
    "# # Same-type task variables\n",
    "# st_money_refQs = [2]                            # Dolars\n",
    "# st_money_lottQs = [2, 4.5, 10, 22.5, 50]        # Dolars\n",
    "\n",
    "# st_cPlus_refQs = [5]                            # candies\n",
    "# st_cPlus_lottQs = [5, 10, 20, 40, 80]           # candies\n",
    "# # st_cPlus_refQs = [2]                          # crackers\n",
    "# # st_cPlus_lottQs = [2, 5, 10, 20, 40]          # crackers\n",
    "\n",
    "# st_cMinus_refQs = [60]                          # mL water\n",
    "# st_cMinus_lottQs = [60, 125, 250, 500, 1000]    # mL water\n",
    "\n",
    "# # Mixed-type task variables\n",
    "# mt_refQs = [.2]                                 # Dolars\n",
    "# mt_refPs = [1]\n",
    "# mt_lottPs = [0.13, 0.22, 0.38, .50, .75]\n",
    "\n",
    "# mt_cPlus_lottQs = [10, 20, 30, 50,  80]         # candies\n",
    "# # mt_cPlus_lottQs = [5, 10, 15, 25,  40]        # candies\n",
    "# mt_cMinus_lottQs = [125, 250, 400, 600,  1000]  # water \n",
    "\n",
    "# -------------------------------- NUTRECON ---------------------------------\n",
    "\n",
    "# Same-type & mixed type Trials Lottery probabilities\n",
    "st_refPs = [1]                              # Reference option\n",
    "st_lottPs = [0.13, 0.22, 0.38, .50, .75]    # Lottery option\n",
    "\n",
    "# Same-type task variables\n",
    "st_money_refQs = [1]                               # Euros\n",
    "st_money_lottQs = [1, 2, 5, 12, 20]                # Euros\n",
    "\n",
    "st_cPlus_refQs = [20]                              # mL of CS+ yogurt \n",
    "st_cPlus_lottQs = [20, 40, 60, 120]           # mL of CS+ yogurt\n",
    "\n",
    "st_cMinus_refQs = st_cPlus_refQs                      # mL of CS- yogurt \n",
    "st_cMinus_lottQs = st_cPlus_lottQs                    # mL of CS- yogurt \n",
    "\n",
    "# Mixed-type task variables\n",
    "mt_refQs = [.2]                                # Euros\n",
    "mt_refPs = [1]\n",
    "mt_lottPs = [0.13, 0.22, 0.38, .50, .75]\n",
    "\n",
    "mt_cPlus_lottQs = [40, 80, 120, 150, 200]      # mL of CS+ yogurt \n",
    "mt_cMinus_lottQs = mt_cPlus_lottQs            # mL of CS- yogurt \n",
    "\n",
    "\n",
    "allTrials_df = sim.pack_taskParameters(\n",
    "                st_refPs, st_lottPs, st_money_refQs, st_money_lottQs, st_cPlus_refQs, st_cPlus_lottQs,\n",
    "                st_cMinus_refQs, st_cMinus_lottQs, mt_refQs, mt_refPs, mt_lottPs, mt_cPlus_lottQs,\n",
    "                mt_cMinus_lottQs, uniqueLott_Nreps)\n",
    "\n",
    "print('Trials per type:\\n{}'.format(allTrials_df['trial_type'].value_counts()))"
   ]
  },
  {
   "cell_type": "markdown",
   "metadata": {},
   "source": [
    "## Subject specific parameters"
   ]
  },
  {
   "cell_type": "code",
   "execution_count": 29,
   "metadata": {},
   "outputs": [
    {
     "data": {
      "text/html": [
       "<div>\n",
       "<style scoped>\n",
       "    .dataframe tbody tr th:only-of-type {\n",
       "        vertical-align: middle;\n",
       "    }\n",
       "\n",
       "    .dataframe tbody tr th {\n",
       "        vertical-align: top;\n",
       "    }\n",
       "\n",
       "    .dataframe thead th {\n",
       "        text-align: right;\n",
       "    }\n",
       "</style>\n",
       "<table border=\"1\" class=\"dataframe\">\n",
       "  <thead>\n",
       "    <tr style=\"text-align: right;\">\n",
       "      <th></th>\n",
       "      <th>trial_type</th>\n",
       "      <th>ref_type</th>\n",
       "      <th>ref_qt</th>\n",
       "      <th>ref_prob</th>\n",
       "      <th>lott_type</th>\n",
       "      <th>lott_qt</th>\n",
       "      <th>lott_prob</th>\n",
       "      <th>ref_alpha</th>\n",
       "      <th>lott_alpha</th>\n",
       "      <th>beta</th>\n",
       "      <th>sFactor</th>\n",
       "    </tr>\n",
       "  </thead>\n",
       "  <tbody>\n",
       "    <tr>\n",
       "      <th>0</th>\n",
       "      <td>same</td>\n",
       "      <td>Money</td>\n",
       "      <td>1.0</td>\n",
       "      <td>1</td>\n",
       "      <td>Money</td>\n",
       "      <td>1</td>\n",
       "      <td>0.13</td>\n",
       "      <td>0.7</td>\n",
       "      <td>0.7</td>\n",
       "      <td>2.5</td>\n",
       "      <td>1.00</td>\n",
       "    </tr>\n",
       "    <tr>\n",
       "      <th>1</th>\n",
       "      <td>same</td>\n",
       "      <td>Money</td>\n",
       "      <td>1.0</td>\n",
       "      <td>1</td>\n",
       "      <td>Money</td>\n",
       "      <td>1</td>\n",
       "      <td>0.22</td>\n",
       "      <td>0.7</td>\n",
       "      <td>0.7</td>\n",
       "      <td>2.5</td>\n",
       "      <td>1.00</td>\n",
       "    </tr>\n",
       "    <tr>\n",
       "      <th>2</th>\n",
       "      <td>same</td>\n",
       "      <td>Money</td>\n",
       "      <td>1.0</td>\n",
       "      <td>1</td>\n",
       "      <td>Money</td>\n",
       "      <td>1</td>\n",
       "      <td>0.38</td>\n",
       "      <td>0.7</td>\n",
       "      <td>0.7</td>\n",
       "      <td>2.5</td>\n",
       "      <td>1.00</td>\n",
       "    </tr>\n",
       "    <tr>\n",
       "      <th>3</th>\n",
       "      <td>same</td>\n",
       "      <td>Money</td>\n",
       "      <td>1.0</td>\n",
       "      <td>1</td>\n",
       "      <td>Money</td>\n",
       "      <td>1</td>\n",
       "      <td>0.50</td>\n",
       "      <td>0.7</td>\n",
       "      <td>0.7</td>\n",
       "      <td>2.5</td>\n",
       "      <td>1.00</td>\n",
       "    </tr>\n",
       "    <tr>\n",
       "      <th>4</th>\n",
       "      <td>same</td>\n",
       "      <td>Money</td>\n",
       "      <td>1.0</td>\n",
       "      <td>1</td>\n",
       "      <td>Money</td>\n",
       "      <td>1</td>\n",
       "      <td>0.75</td>\n",
       "      <td>0.7</td>\n",
       "      <td>0.7</td>\n",
       "      <td>2.5</td>\n",
       "      <td>1.00</td>\n",
       "    </tr>\n",
       "    <tr>\n",
       "      <th>...</th>\n",
       "      <td>...</td>\n",
       "      <td>...</td>\n",
       "      <td>...</td>\n",
       "      <td>...</td>\n",
       "      <td>...</td>\n",
       "      <td>...</td>\n",
       "      <td>...</td>\n",
       "      <td>...</td>\n",
       "      <td>...</td>\n",
       "      <td>...</td>\n",
       "      <td>...</td>\n",
       "    </tr>\n",
       "    <tr>\n",
       "      <th>685</th>\n",
       "      <td>mixed</td>\n",
       "      <td>Money</td>\n",
       "      <td>0.2</td>\n",
       "      <td>1</td>\n",
       "      <td>CS-</td>\n",
       "      <td>200</td>\n",
       "      <td>0.13</td>\n",
       "      <td>0.7</td>\n",
       "      <td>0.4</td>\n",
       "      <td>2.5</td>\n",
       "      <td>0.05</td>\n",
       "    </tr>\n",
       "    <tr>\n",
       "      <th>686</th>\n",
       "      <td>mixed</td>\n",
       "      <td>Money</td>\n",
       "      <td>0.2</td>\n",
       "      <td>1</td>\n",
       "      <td>CS-</td>\n",
       "      <td>200</td>\n",
       "      <td>0.22</td>\n",
       "      <td>0.7</td>\n",
       "      <td>0.4</td>\n",
       "      <td>2.5</td>\n",
       "      <td>0.05</td>\n",
       "    </tr>\n",
       "    <tr>\n",
       "      <th>687</th>\n",
       "      <td>mixed</td>\n",
       "      <td>Money</td>\n",
       "      <td>0.2</td>\n",
       "      <td>1</td>\n",
       "      <td>CS-</td>\n",
       "      <td>200</td>\n",
       "      <td>0.38</td>\n",
       "      <td>0.7</td>\n",
       "      <td>0.4</td>\n",
       "      <td>2.5</td>\n",
       "      <td>0.05</td>\n",
       "    </tr>\n",
       "    <tr>\n",
       "      <th>688</th>\n",
       "      <td>mixed</td>\n",
       "      <td>Money</td>\n",
       "      <td>0.2</td>\n",
       "      <td>1</td>\n",
       "      <td>CS-</td>\n",
       "      <td>200</td>\n",
       "      <td>0.50</td>\n",
       "      <td>0.7</td>\n",
       "      <td>0.4</td>\n",
       "      <td>2.5</td>\n",
       "      <td>0.05</td>\n",
       "    </tr>\n",
       "    <tr>\n",
       "      <th>689</th>\n",
       "      <td>mixed</td>\n",
       "      <td>Money</td>\n",
       "      <td>0.2</td>\n",
       "      <td>1</td>\n",
       "      <td>CS-</td>\n",
       "      <td>200</td>\n",
       "      <td>0.75</td>\n",
       "      <td>0.7</td>\n",
       "      <td>0.4</td>\n",
       "      <td>2.5</td>\n",
       "      <td>0.05</td>\n",
       "    </tr>\n",
       "  </tbody>\n",
       "</table>\n",
       "<p>690 rows × 11 columns</p>\n",
       "</div>"
      ],
      "text/plain": [
       "    trial_type ref_type  ref_qt  ref_prob lott_type  lott_qt  lott_prob  \\\n",
       "0         same    Money     1.0         1     Money        1       0.13   \n",
       "1         same    Money     1.0         1     Money        1       0.22   \n",
       "2         same    Money     1.0         1     Money        1       0.38   \n",
       "3         same    Money     1.0         1     Money        1       0.50   \n",
       "4         same    Money     1.0         1     Money        1       0.75   \n",
       "..         ...      ...     ...       ...       ...      ...        ...   \n",
       "685      mixed    Money     0.2         1       CS-      200       0.13   \n",
       "686      mixed    Money     0.2         1       CS-      200       0.22   \n",
       "687      mixed    Money     0.2         1       CS-      200       0.38   \n",
       "688      mixed    Money     0.2         1       CS-      200       0.50   \n",
       "689      mixed    Money     0.2         1       CS-      200       0.75   \n",
       "\n",
       "     ref_alpha  lott_alpha  beta  sFactor  \n",
       "0          0.7         0.7   2.5     1.00  \n",
       "1          0.7         0.7   2.5     1.00  \n",
       "2          0.7         0.7   2.5     1.00  \n",
       "3          0.7         0.7   2.5     1.00  \n",
       "4          0.7         0.7   2.5     1.00  \n",
       "..         ...         ...   ...      ...  \n",
       "685        0.7         0.4   2.5     0.05  \n",
       "686        0.7         0.4   2.5     0.05  \n",
       "687        0.7         0.4   2.5     0.05  \n",
       "688        0.7         0.4   2.5     0.05  \n",
       "689        0.7         0.4   2.5     0.05  \n",
       "\n",
       "[690 rows x 11 columns]"
      ]
     },
     "execution_count": 29,
     "metadata": {},
     "output_type": "execute_result"
    }
   ],
   "source": [
    "# Subject specific parameters\n",
    "st_money_alpha = 0.7\n",
    "st_cPlus_alpha = 0.5\n",
    "st_cMinus_alpha = 0.4\n",
    "\n",
    "st_money_beta = 2.5\n",
    "st_cPlus_beta = st_money_beta\n",
    "st_cMinus_beta = st_money_beta\n",
    "\n",
    "mt_cPlus_beta = st_money_beta\n",
    "mt_cMinus_beta = st_money_beta\n",
    "\n",
    "cPlus_sFactor = .05\n",
    "cMinus_sFactor = .05\n",
    "\n",
    "subjectTrials_df = sim._pack_subjectParameters(st_money_alpha, st_cPlus_alpha, st_cMinus_alpha, st_money_beta, \n",
    "                                              st_cPlus_beta, st_cMinus_beta, mt_cPlus_beta, mt_cMinus_beta, \n",
    "                                              cPlus_sFactor, cMinus_sFactor, \n",
    "                                              allTrials_df)\n",
    "subjectTrials_df\n"
   ]
  },
  {
   "cell_type": "markdown",
   "metadata": {},
   "source": [
    "### Simulate choices"
   ]
  },
  {
   "cell_type": "code",
   "execution_count": 30,
   "metadata": {},
   "outputs": [],
   "source": [
    "seed = 1\n",
    "np.random.seed(seed)"
   ]
  },
  {
   "cell_type": "code",
   "execution_count": 31,
   "metadata": {},
   "outputs": [
    {
     "data": {
      "application/vnd.plotly.v1+json": {
       "config": {
        "plotlyServerURL": "https://plot.ly"
       },
       "data": [
        {
         "customdata": [
          [
           "mixed",
           "Money",
           0.2,
           1,
           "CS+",
           0.13
          ],
          [
           "mixed",
           "Money",
           0.2,
           1,
           "CS+",
           0.13
          ],
          [
           "mixed",
           "Money",
           0.2,
           1,
           "CS+",
           0.13
          ],
          [
           "mixed",
           "Money",
           0.2,
           1,
           "CS+",
           0.13
          ],
          [
           "mixed",
           "Money",
           0.2,
           1,
           "CS+",
           0.13
          ]
         ],
         "hovertemplate": "<extra></extra>",
         "legendgroup": "0.13",
         "line": {
          "color": "rgb(230, 240, 240)",
          "dash": "solid"
         },
         "marker": {
          "symbol": "circle"
         },
         "mode": "markers+lines",
         "name": "0.13",
         "orientation": "v",
         "showlegend": true,
         "type": "scatter",
         "x": [
          40,
          80,
          120,
          150,
          200
         ],
         "xaxis": "x4",
         "y": [
          0,
          0.5,
          0.3333333333333333,
          0.5,
          0
         ],
         "yaxis": "y4"
        },
        {
         "customdata": [
          [
           "mixed",
           "Money",
           0.2,
           1,
           "CS-",
           0.13
          ],
          [
           "mixed",
           "Money",
           0.2,
           1,
           "CS-",
           0.13
          ],
          [
           "mixed",
           "Money",
           0.2,
           1,
           "CS-",
           0.13
          ],
          [
           "mixed",
           "Money",
           0.2,
           1,
           "CS-",
           0.13
          ],
          [
           "mixed",
           "Money",
           0.2,
           1,
           "CS-",
           0.13
          ]
         ],
         "hovertemplate": "<extra></extra>",
         "legendgroup": "0.13",
         "line": {
          "color": "rgb(230, 240, 240)",
          "dash": "solid"
         },
         "marker": {
          "symbol": "circle"
         },
         "mode": "markers+lines",
         "name": "0.13",
         "orientation": "v",
         "showlegend": false,
         "type": "scatter",
         "x": [
          40,
          80,
          120,
          150,
          200
         ],
         "xaxis": "x5",
         "y": [
          0.5,
          0.5,
          0.16666666666666666,
          0.5,
          0.16666666666666666
         ],
         "yaxis": "y5"
        },
        {
         "customdata": [
          [
           "same",
           "CS+",
           20,
           1,
           "CS+",
           0.13
          ],
          [
           "same",
           "CS+",
           20,
           1,
           "CS+",
           0.13
          ],
          [
           "same",
           "CS+",
           20,
           1,
           "CS+",
           0.13
          ],
          [
           "same",
           "CS+",
           20,
           1,
           "CS+",
           0.13
          ]
         ],
         "hovertemplate": "<extra></extra>",
         "legendgroup": "0.13",
         "line": {
          "color": "rgb(230, 240, 240)",
          "dash": "solid"
         },
         "marker": {
          "symbol": "circle"
         },
         "mode": "markers+lines",
         "name": "0.13",
         "orientation": "v",
         "showlegend": false,
         "type": "scatter",
         "x": [
          20,
          40,
          60,
          120
         ],
         "xaxis": "x",
         "y": [
          0,
          0,
          0,
          0
         ],
         "yaxis": "y"
        },
        {
         "customdata": [
          [
           "same",
           "CS-",
           20,
           1,
           "CS-",
           0.13
          ],
          [
           "same",
           "CS-",
           20,
           1,
           "CS-",
           0.13
          ],
          [
           "same",
           "CS-",
           20,
           1,
           "CS-",
           0.13
          ],
          [
           "same",
           "CS-",
           20,
           1,
           "CS-",
           0.13
          ]
         ],
         "hovertemplate": "<extra></extra>",
         "legendgroup": "0.13",
         "line": {
          "color": "rgb(230, 240, 240)",
          "dash": "solid"
         },
         "marker": {
          "symbol": "circle"
         },
         "mode": "markers+lines",
         "name": "0.13",
         "orientation": "v",
         "showlegend": false,
         "type": "scatter",
         "x": [
          20,
          40,
          60,
          120
         ],
         "xaxis": "x2",
         "y": [
          0,
          0,
          0,
          0
         ],
         "yaxis": "y2"
        },
        {
         "customdata": [
          [
           "same",
           "Money",
           1,
           1,
           "Money",
           0.13
          ],
          [
           "same",
           "Money",
           1,
           1,
           "Money",
           0.13
          ],
          [
           "same",
           "Money",
           1,
           1,
           "Money",
           0.13
          ],
          [
           "same",
           "Money",
           1,
           1,
           "Money",
           0.13
          ],
          [
           "same",
           "Money",
           1,
           1,
           "Money",
           0.13
          ]
         ],
         "hovertemplate": "<extra></extra>",
         "legendgroup": "0.13",
         "line": {
          "color": "rgb(230, 240, 240)",
          "dash": "solid"
         },
         "marker": {
          "symbol": "circle"
         },
         "mode": "markers+lines",
         "name": "0.13",
         "orientation": "v",
         "showlegend": false,
         "type": "scatter",
         "x": [
          1,
          2,
          5,
          12,
          20
         ],
         "xaxis": "x3",
         "y": [
          0.16666666666666666,
          0.3333333333333333,
          0,
          0.6666666666666666,
          0.3333333333333333
         ],
         "yaxis": "y3"
        },
        {
         "customdata": [
          [
           "mixed",
           "Money",
           0.2,
           1,
           "CS+",
           0.22
          ],
          [
           "mixed",
           "Money",
           0.2,
           1,
           "CS+",
           0.22
          ],
          [
           "mixed",
           "Money",
           0.2,
           1,
           "CS+",
           0.22
          ],
          [
           "mixed",
           "Money",
           0.2,
           1,
           "CS+",
           0.22
          ],
          [
           "mixed",
           "Money",
           0.2,
           1,
           "CS+",
           0.22
          ]
         ],
         "hovertemplate": "<extra></extra>",
         "legendgroup": "0.22",
         "line": {
          "color": "rgb(191, 221, 229)",
          "dash": "solid"
         },
         "marker": {
          "symbol": "diamond"
         },
         "mode": "markers+lines",
         "name": "0.22",
         "orientation": "v",
         "showlegend": true,
         "type": "scatter",
         "x": [
          40,
          80,
          120,
          150,
          200
         ],
         "xaxis": "x4",
         "y": [
          0.8333333333333334,
          0.5,
          0.3333333333333333,
          0.5,
          0.6666666666666666
         ],
         "yaxis": "y4"
        },
        {
         "customdata": [
          [
           "mixed",
           "Money",
           0.2,
           1,
           "CS-",
           0.22
          ],
          [
           "mixed",
           "Money",
           0.2,
           1,
           "CS-",
           0.22
          ],
          [
           "mixed",
           "Money",
           0.2,
           1,
           "CS-",
           0.22
          ],
          [
           "mixed",
           "Money",
           0.2,
           1,
           "CS-",
           0.22
          ],
          [
           "mixed",
           "Money",
           0.2,
           1,
           "CS-",
           0.22
          ]
         ],
         "hovertemplate": "<extra></extra>",
         "legendgroup": "0.22",
         "line": {
          "color": "rgb(191, 221, 229)",
          "dash": "solid"
         },
         "marker": {
          "symbol": "diamond"
         },
         "mode": "markers+lines",
         "name": "0.22",
         "orientation": "v",
         "showlegend": false,
         "type": "scatter",
         "x": [
          40,
          80,
          120,
          150,
          200
         ],
         "xaxis": "x5",
         "y": [
          0.5,
          0.3333333333333333,
          0.16666666666666666,
          0.3333333333333333,
          0.8333333333333334
         ],
         "yaxis": "y5"
        },
        {
         "customdata": [
          [
           "same",
           "CS+",
           20,
           1,
           "CS+",
           0.22
          ],
          [
           "same",
           "CS+",
           20,
           1,
           "CS+",
           0.22
          ],
          [
           "same",
           "CS+",
           20,
           1,
           "CS+",
           0.22
          ],
          [
           "same",
           "CS+",
           20,
           1,
           "CS+",
           0.22
          ]
         ],
         "hovertemplate": "<extra></extra>",
         "legendgroup": "0.22",
         "line": {
          "color": "rgb(191, 221, 229)",
          "dash": "solid"
         },
         "marker": {
          "symbol": "diamond"
         },
         "mode": "markers+lines",
         "name": "0.22",
         "orientation": "v",
         "showlegend": false,
         "type": "scatter",
         "x": [
          20,
          40,
          60,
          120
         ],
         "xaxis": "x",
         "y": [
          0,
          0,
          0,
          0
         ],
         "yaxis": "y"
        },
        {
         "customdata": [
          [
           "same",
           "CS-",
           20,
           1,
           "CS-",
           0.22
          ],
          [
           "same",
           "CS-",
           20,
           1,
           "CS-",
           0.22
          ],
          [
           "same",
           "CS-",
           20,
           1,
           "CS-",
           0.22
          ],
          [
           "same",
           "CS-",
           20,
           1,
           "CS-",
           0.22
          ]
         ],
         "hovertemplate": "<extra></extra>",
         "legendgroup": "0.22",
         "line": {
          "color": "rgb(191, 221, 229)",
          "dash": "solid"
         },
         "marker": {
          "symbol": "diamond"
         },
         "mode": "markers+lines",
         "name": "0.22",
         "orientation": "v",
         "showlegend": false,
         "type": "scatter",
         "x": [
          20,
          40,
          60,
          120
         ],
         "xaxis": "x2",
         "y": [
          0,
          0,
          0,
          0
         ],
         "yaxis": "y2"
        },
        {
         "customdata": [
          [
           "same",
           "Money",
           1,
           1,
           "Money",
           0.22
          ],
          [
           "same",
           "Money",
           1,
           1,
           "Money",
           0.22
          ],
          [
           "same",
           "Money",
           1,
           1,
           "Money",
           0.22
          ],
          [
           "same",
           "Money",
           1,
           1,
           "Money",
           0.22
          ],
          [
           "same",
           "Money",
           1,
           1,
           "Money",
           0.22
          ]
         ],
         "hovertemplate": "<extra></extra>",
         "legendgroup": "0.22",
         "line": {
          "color": "rgb(191, 221, 229)",
          "dash": "solid"
         },
         "marker": {
          "symbol": "diamond"
         },
         "mode": "markers+lines",
         "name": "0.22",
         "orientation": "v",
         "showlegend": false,
         "type": "scatter",
         "x": [
          1,
          2,
          5,
          12,
          20
         ],
         "xaxis": "x3",
         "y": [
          0.16666666666666666,
          0,
          0.16666666666666666,
          0.6666666666666666,
          0.5
         ],
         "yaxis": "y3"
        },
        {
         "customdata": [
          [
           "mixed",
           "Money",
           0.2,
           1,
           "CS+",
           0.38
          ],
          [
           "mixed",
           "Money",
           0.2,
           1,
           "CS+",
           0.38
          ],
          [
           "mixed",
           "Money",
           0.2,
           1,
           "CS+",
           0.38
          ],
          [
           "mixed",
           "Money",
           0.2,
           1,
           "CS+",
           0.38
          ],
          [
           "mixed",
           "Money",
           0.2,
           1,
           "CS+",
           0.38
          ]
         ],
         "hovertemplate": "<extra></extra>",
         "legendgroup": "0.38",
         "line": {
          "color": "rgb(156, 201, 226)",
          "dash": "solid"
         },
         "marker": {
          "symbol": "square"
         },
         "mode": "markers+lines",
         "name": "0.38",
         "orientation": "v",
         "showlegend": true,
         "type": "scatter",
         "x": [
          40,
          80,
          120,
          150,
          200
         ],
         "xaxis": "x4",
         "y": [
          0.16666666666666666,
          0.5,
          0.5,
          0.16666666666666666,
          0.5
         ],
         "yaxis": "y4"
        },
        {
         "customdata": [
          [
           "mixed",
           "Money",
           0.2,
           1,
           "CS-",
           0.38
          ],
          [
           "mixed",
           "Money",
           0.2,
           1,
           "CS-",
           0.38
          ],
          [
           "mixed",
           "Money",
           0.2,
           1,
           "CS-",
           0.38
          ],
          [
           "mixed",
           "Money",
           0.2,
           1,
           "CS-",
           0.38
          ],
          [
           "mixed",
           "Money",
           0.2,
           1,
           "CS-",
           0.38
          ]
         ],
         "hovertemplate": "<extra></extra>",
         "legendgroup": "0.38",
         "line": {
          "color": "rgb(156, 201, 226)",
          "dash": "solid"
         },
         "marker": {
          "symbol": "square"
         },
         "mode": "markers+lines",
         "name": "0.38",
         "orientation": "v",
         "showlegend": false,
         "type": "scatter",
         "x": [
          40,
          80,
          120,
          150,
          200
         ],
         "xaxis": "x5",
         "y": [
          0.16666666666666666,
          0.3333333333333333,
          0.5,
          0.6666666666666666,
          0.16666666666666666
         ],
         "yaxis": "y5"
        },
        {
         "customdata": [
          [
           "same",
           "CS+",
           20,
           1,
           "CS+",
           0.38
          ],
          [
           "same",
           "CS+",
           20,
           1,
           "CS+",
           0.38
          ],
          [
           "same",
           "CS+",
           20,
           1,
           "CS+",
           0.38
          ],
          [
           "same",
           "CS+",
           20,
           1,
           "CS+",
           0.38
          ]
         ],
         "hovertemplate": "<extra></extra>",
         "legendgroup": "0.38",
         "line": {
          "color": "rgb(156, 201, 226)",
          "dash": "solid"
         },
         "marker": {
          "symbol": "square"
         },
         "mode": "markers+lines",
         "name": "0.38",
         "orientation": "v",
         "showlegend": false,
         "type": "scatter",
         "x": [
          20,
          40,
          60,
          120
         ],
         "xaxis": "x",
         "y": [
          0,
          0,
          0,
          0.3333333333333333
         ],
         "yaxis": "y"
        },
        {
         "customdata": [
          [
           "same",
           "CS-",
           20,
           1,
           "CS-",
           0.38
          ],
          [
           "same",
           "CS-",
           20,
           1,
           "CS-",
           0.38
          ],
          [
           "same",
           "CS-",
           20,
           1,
           "CS-",
           0.38
          ],
          [
           "same",
           "CS-",
           20,
           1,
           "CS-",
           0.38
          ]
         ],
         "hovertemplate": "<extra></extra>",
         "legendgroup": "0.38",
         "line": {
          "color": "rgb(156, 201, 226)",
          "dash": "solid"
         },
         "marker": {
          "symbol": "square"
         },
         "mode": "markers+lines",
         "name": "0.38",
         "orientation": "v",
         "showlegend": false,
         "type": "scatter",
         "x": [
          20,
          40,
          60,
          120
         ],
         "xaxis": "x2",
         "y": [
          0,
          0,
          0.16666666666666666,
          0
         ],
         "yaxis": "y2"
        },
        {
         "customdata": [
          [
           "same",
           "Money",
           1,
           1,
           "Money",
           0.38
          ],
          [
           "same",
           "Money",
           1,
           1,
           "Money",
           0.38
          ],
          [
           "same",
           "Money",
           1,
           1,
           "Money",
           0.38
          ],
          [
           "same",
           "Money",
           1,
           1,
           "Money",
           0.38
          ],
          [
           "same",
           "Money",
           1,
           1,
           "Money",
           0.38
          ]
         ],
         "hovertemplate": "<extra></extra>",
         "legendgroup": "0.38",
         "line": {
          "color": "rgb(156, 201, 226)",
          "dash": "solid"
         },
         "marker": {
          "symbol": "square"
         },
         "mode": "markers+lines",
         "name": "0.38",
         "orientation": "v",
         "showlegend": false,
         "type": "scatter",
         "x": [
          1,
          2,
          5,
          12,
          20
         ],
         "xaxis": "x3",
         "y": [
          0,
          0.16666666666666666,
          0.6666666666666666,
          1,
          1
         ],
         "yaxis": "y3"
        },
        {
         "customdata": [
          [
           "mixed",
           "Money",
           0.2,
           1,
           "CS+",
           0.5
          ],
          [
           "mixed",
           "Money",
           0.2,
           1,
           "CS+",
           0.5
          ],
          [
           "mixed",
           "Money",
           0.2,
           1,
           "CS+",
           0.5
          ],
          [
           "mixed",
           "Money",
           0.2,
           1,
           "CS+",
           0.5
          ],
          [
           "mixed",
           "Money",
           0.2,
           1,
           "CS+",
           0.5
          ]
         ],
         "hovertemplate": "<extra></extra>",
         "legendgroup": "0.5",
         "line": {
          "color": "rgb(129, 180, 227)",
          "dash": "solid"
         },
         "marker": {
          "symbol": "x"
         },
         "mode": "markers+lines",
         "name": "0.5",
         "orientation": "v",
         "showlegend": true,
         "type": "scatter",
         "x": [
          40,
          80,
          120,
          150,
          200
         ],
         "xaxis": "x4",
         "y": [
          0,
          0.3333333333333333,
          0.3333333333333333,
          0.5,
          0.6666666666666666
         ],
         "yaxis": "y4"
        },
        {
         "customdata": [
          [
           "mixed",
           "Money",
           0.2,
           1,
           "CS-",
           0.5
          ],
          [
           "mixed",
           "Money",
           0.2,
           1,
           "CS-",
           0.5
          ],
          [
           "mixed",
           "Money",
           0.2,
           1,
           "CS-",
           0.5
          ],
          [
           "mixed",
           "Money",
           0.2,
           1,
           "CS-",
           0.5
          ],
          [
           "mixed",
           "Money",
           0.2,
           1,
           "CS-",
           0.5
          ]
         ],
         "hovertemplate": "<extra></extra>",
         "legendgroup": "0.5",
         "line": {
          "color": "rgb(129, 180, 227)",
          "dash": "solid"
         },
         "marker": {
          "symbol": "x"
         },
         "mode": "markers+lines",
         "name": "0.5",
         "orientation": "v",
         "showlegend": false,
         "type": "scatter",
         "x": [
          40,
          80,
          120,
          150,
          200
         ],
         "xaxis": "x5",
         "y": [
          0.5,
          0.6666666666666666,
          0.5,
          0.5,
          0.3333333333333333
         ],
         "yaxis": "y5"
        },
        {
         "customdata": [
          [
           "same",
           "CS+",
           20,
           1,
           "CS+",
           0.5
          ],
          [
           "same",
           "CS+",
           20,
           1,
           "CS+",
           0.5
          ],
          [
           "same",
           "CS+",
           20,
           1,
           "CS+",
           0.5
          ],
          [
           "same",
           "CS+",
           20,
           1,
           "CS+",
           0.5
          ]
         ],
         "hovertemplate": "<extra></extra>",
         "legendgroup": "0.5",
         "line": {
          "color": "rgb(129, 180, 227)",
          "dash": "solid"
         },
         "marker": {
          "symbol": "x"
         },
         "mode": "markers+lines",
         "name": "0.5",
         "orientation": "v",
         "showlegend": false,
         "type": "scatter",
         "x": [
          20,
          40,
          60,
          120
         ],
         "xaxis": "x",
         "y": [
          0,
          0,
          0.16666666666666666,
          1
         ],
         "yaxis": "y"
        },
        {
         "customdata": [
          [
           "same",
           "CS-",
           20,
           1,
           "CS-",
           0.5
          ],
          [
           "same",
           "CS-",
           20,
           1,
           "CS-",
           0.5
          ],
          [
           "same",
           "CS-",
           20,
           1,
           "CS-",
           0.5
          ],
          [
           "same",
           "CS-",
           20,
           1,
           "CS-",
           0.5
          ]
         ],
         "hovertemplate": "<extra></extra>",
         "legendgroup": "0.5",
         "line": {
          "color": "rgb(129, 180, 227)",
          "dash": "solid"
         },
         "marker": {
          "symbol": "x"
         },
         "mode": "markers+lines",
         "name": "0.5",
         "orientation": "v",
         "showlegend": false,
         "type": "scatter",
         "x": [
          20,
          40,
          60,
          120
         ],
         "xaxis": "x2",
         "y": [
          0,
          0,
          0.16666666666666666,
          0.8333333333333334
         ],
         "yaxis": "y2"
        },
        {
         "customdata": [
          [
           "same",
           "Money",
           1,
           1,
           "Money",
           0.5
          ],
          [
           "same",
           "Money",
           1,
           1,
           "Money",
           0.5
          ],
          [
           "same",
           "Money",
           1,
           1,
           "Money",
           0.5
          ],
          [
           "same",
           "Money",
           1,
           1,
           "Money",
           0.5
          ],
          [
           "same",
           "Money",
           1,
           1,
           "Money",
           0.5
          ]
         ],
         "hovertemplate": "<extra></extra>",
         "legendgroup": "0.5",
         "line": {
          "color": "rgb(129, 180, 227)",
          "dash": "solid"
         },
         "marker": {
          "symbol": "x"
         },
         "mode": "markers+lines",
         "name": "0.5",
         "orientation": "v",
         "showlegend": false,
         "type": "scatter",
         "x": [
          1,
          2,
          5,
          12,
          20
         ],
         "xaxis": "x3",
         "y": [
          0.16666666666666666,
          0.5,
          0.5,
          1,
          1
         ],
         "yaxis": "y3"
        },
        {
         "customdata": [
          [
           "mixed",
           "Money",
           0.2,
           1,
           "CS+",
           0.75
          ],
          [
           "mixed",
           "Money",
           0.2,
           1,
           "CS+",
           0.75
          ],
          [
           "mixed",
           "Money",
           0.2,
           1,
           "CS+",
           0.75
          ],
          [
           "mixed",
           "Money",
           0.2,
           1,
           "CS+",
           0.75
          ],
          [
           "mixed",
           "Money",
           0.2,
           1,
           "CS+",
           0.75
          ]
         ],
         "hovertemplate": "<extra></extra>",
         "legendgroup": "0.75",
         "line": {
          "color": "rgb(115, 154, 228)",
          "dash": "solid"
         },
         "marker": {
          "symbol": "cross"
         },
         "mode": "markers+lines",
         "name": "0.75",
         "orientation": "v",
         "showlegend": true,
         "type": "scatter",
         "x": [
          40,
          80,
          120,
          150,
          200
         ],
         "xaxis": "x4",
         "y": [
          0.3333333333333333,
          0.8333333333333334,
          0.5,
          0.8333333333333334,
          0.3333333333333333
         ],
         "yaxis": "y4"
        },
        {
         "customdata": [
          [
           "mixed",
           "Money",
           0.2,
           1,
           "CS-",
           0.75
          ],
          [
           "mixed",
           "Money",
           0.2,
           1,
           "CS-",
           0.75
          ],
          [
           "mixed",
           "Money",
           0.2,
           1,
           "CS-",
           0.75
          ],
          [
           "mixed",
           "Money",
           0.2,
           1,
           "CS-",
           0.75
          ],
          [
           "mixed",
           "Money",
           0.2,
           1,
           "CS-",
           0.75
          ]
         ],
         "hovertemplate": "<extra></extra>",
         "legendgroup": "0.75",
         "line": {
          "color": "rgb(115, 154, 228)",
          "dash": "solid"
         },
         "marker": {
          "symbol": "cross"
         },
         "mode": "markers+lines",
         "name": "0.75",
         "orientation": "v",
         "showlegend": false,
         "type": "scatter",
         "x": [
          40,
          80,
          120,
          150,
          200
         ],
         "xaxis": "x5",
         "y": [
          0.3333333333333333,
          0.8333333333333334,
          0.5,
          0.6666666666666666,
          0.3333333333333333
         ],
         "yaxis": "y5"
        },
        {
         "customdata": [
          [
           "same",
           "CS+",
           20,
           1,
           "CS+",
           0.75
          ],
          [
           "same",
           "CS+",
           20,
           1,
           "CS+",
           0.75
          ],
          [
           "same",
           "CS+",
           20,
           1,
           "CS+",
           0.75
          ],
          [
           "same",
           "CS+",
           20,
           1,
           "CS+",
           0.75
          ]
         ],
         "hovertemplate": "<extra></extra>",
         "legendgroup": "0.75",
         "line": {
          "color": "rgb(115, 154, 228)",
          "dash": "solid"
         },
         "marker": {
          "symbol": "cross"
         },
         "mode": "markers+lines",
         "name": "0.75",
         "orientation": "v",
         "showlegend": false,
         "type": "scatter",
         "x": [
          20,
          40,
          60,
          120
         ],
         "xaxis": "x",
         "y": [
          0,
          0.5,
          0.8333333333333334,
          1
         ],
         "yaxis": "y"
        },
        {
         "customdata": [
          [
           "same",
           "CS-",
           20,
           1,
           "CS-",
           0.75
          ],
          [
           "same",
           "CS-",
           20,
           1,
           "CS-",
           0.75
          ],
          [
           "same",
           "CS-",
           20,
           1,
           "CS-",
           0.75
          ],
          [
           "same",
           "CS-",
           20,
           1,
           "CS-",
           0.75
          ]
         ],
         "hovertemplate": "<extra></extra>",
         "legendgroup": "0.75",
         "line": {
          "color": "rgb(115, 154, 228)",
          "dash": "solid"
         },
         "marker": {
          "symbol": "cross"
         },
         "mode": "markers+lines",
         "name": "0.75",
         "orientation": "v",
         "showlegend": false,
         "type": "scatter",
         "x": [
          20,
          40,
          60,
          120
         ],
         "xaxis": "x2",
         "y": [
          0,
          0.16666666666666666,
          0.5,
          1
         ],
         "yaxis": "y2"
        },
        {
         "customdata": [
          [
           "same",
           "Money",
           1,
           1,
           "Money",
           0.75
          ],
          [
           "same",
           "Money",
           1,
           1,
           "Money",
           0.75
          ],
          [
           "same",
           "Money",
           1,
           1,
           "Money",
           0.75
          ],
          [
           "same",
           "Money",
           1,
           1,
           "Money",
           0.75
          ],
          [
           "same",
           "Money",
           1,
           1,
           "Money",
           0.75
          ]
         ],
         "hovertemplate": "<extra></extra>",
         "legendgroup": "0.75",
         "line": {
          "color": "rgb(115, 154, 228)",
          "dash": "solid"
         },
         "marker": {
          "symbol": "cross"
         },
         "mode": "markers+lines",
         "name": "0.75",
         "orientation": "v",
         "showlegend": false,
         "type": "scatter",
         "x": [
          1,
          2,
          5,
          12,
          20
         ],
         "xaxis": "x3",
         "y": [
          0.6666666666666666,
          0.6666666666666666,
          0.8333333333333334,
          1,
          1
         ],
         "yaxis": "y3"
        }
       ],
       "layout": {
        "annotations": [
         {
          "font": {},
          "showarrow": false,
          "text": "lott_type=CS+",
          "x": 0.15666666666666665,
          "xanchor": "center",
          "xref": "paper",
          "y": 1,
          "yanchor": "bottom",
          "yref": "paper"
         },
         {
          "font": {},
          "showarrow": false,
          "text": "lott_type=CS-",
          "x": 0.49,
          "xanchor": "center",
          "xref": "paper",
          "y": 1,
          "yanchor": "bottom",
          "yref": "paper"
         },
         {
          "font": {},
          "showarrow": false,
          "text": "lott_type=Money",
          "x": 0.8233333333333333,
          "xanchor": "center",
          "xref": "paper",
          "y": 1,
          "yanchor": "bottom",
          "yref": "paper"
         },
         {
          "font": {},
          "showarrow": false,
          "text": "trial_type=same",
          "textangle": 90,
          "x": 0.98,
          "xanchor": "left",
          "xref": "paper",
          "y": 0.2425,
          "yanchor": "middle",
          "yref": "paper"
         },
         {
          "font": {},
          "showarrow": false,
          "text": "trial_type=mixed",
          "textangle": 90,
          "x": 0.98,
          "xanchor": "left",
          "xref": "paper",
          "y": 0.7575000000000001,
          "yanchor": "middle",
          "yref": "paper"
         }
        ],
        "legend": {
         "title": {
          "text": "Subject ID, reward"
         },
         "tracegroupgap": 0
        },
        "margin": {
         "t": 60
        },
        "template": {
         "data": {
          "bar": [
           {
            "error_x": {
             "color": "#2a3f5f"
            },
            "error_y": {
             "color": "#2a3f5f"
            },
            "marker": {
             "line": {
              "color": "#E5ECF6",
              "width": 0.5
             },
             "pattern": {
              "fillmode": "overlay",
              "size": 10,
              "solidity": 0.2
             }
            },
            "type": "bar"
           }
          ],
          "barpolar": [
           {
            "marker": {
             "line": {
              "color": "#E5ECF6",
              "width": 0.5
             },
             "pattern": {
              "fillmode": "overlay",
              "size": 10,
              "solidity": 0.2
             }
            },
            "type": "barpolar"
           }
          ],
          "carpet": [
           {
            "aaxis": {
             "endlinecolor": "#2a3f5f",
             "gridcolor": "white",
             "linecolor": "white",
             "minorgridcolor": "white",
             "startlinecolor": "#2a3f5f"
            },
            "baxis": {
             "endlinecolor": "#2a3f5f",
             "gridcolor": "white",
             "linecolor": "white",
             "minorgridcolor": "white",
             "startlinecolor": "#2a3f5f"
            },
            "type": "carpet"
           }
          ],
          "choropleth": [
           {
            "colorbar": {
             "outlinewidth": 0,
             "ticks": ""
            },
            "type": "choropleth"
           }
          ],
          "contour": [
           {
            "colorbar": {
             "outlinewidth": 0,
             "ticks": ""
            },
            "colorscale": [
             [
              0,
              "#0d0887"
             ],
             [
              0.1111111111111111,
              "#46039f"
             ],
             [
              0.2222222222222222,
              "#7201a8"
             ],
             [
              0.3333333333333333,
              "#9c179e"
             ],
             [
              0.4444444444444444,
              "#bd3786"
             ],
             [
              0.5555555555555556,
              "#d8576b"
             ],
             [
              0.6666666666666666,
              "#ed7953"
             ],
             [
              0.7777777777777778,
              "#fb9f3a"
             ],
             [
              0.8888888888888888,
              "#fdca26"
             ],
             [
              1,
              "#f0f921"
             ]
            ],
            "type": "contour"
           }
          ],
          "contourcarpet": [
           {
            "colorbar": {
             "outlinewidth": 0,
             "ticks": ""
            },
            "type": "contourcarpet"
           }
          ],
          "heatmap": [
           {
            "colorbar": {
             "outlinewidth": 0,
             "ticks": ""
            },
            "colorscale": [
             [
              0,
              "#0d0887"
             ],
             [
              0.1111111111111111,
              "#46039f"
             ],
             [
              0.2222222222222222,
              "#7201a8"
             ],
             [
              0.3333333333333333,
              "#9c179e"
             ],
             [
              0.4444444444444444,
              "#bd3786"
             ],
             [
              0.5555555555555556,
              "#d8576b"
             ],
             [
              0.6666666666666666,
              "#ed7953"
             ],
             [
              0.7777777777777778,
              "#fb9f3a"
             ],
             [
              0.8888888888888888,
              "#fdca26"
             ],
             [
              1,
              "#f0f921"
             ]
            ],
            "type": "heatmap"
           }
          ],
          "heatmapgl": [
           {
            "colorbar": {
             "outlinewidth": 0,
             "ticks": ""
            },
            "colorscale": [
             [
              0,
              "#0d0887"
             ],
             [
              0.1111111111111111,
              "#46039f"
             ],
             [
              0.2222222222222222,
              "#7201a8"
             ],
             [
              0.3333333333333333,
              "#9c179e"
             ],
             [
              0.4444444444444444,
              "#bd3786"
             ],
             [
              0.5555555555555556,
              "#d8576b"
             ],
             [
              0.6666666666666666,
              "#ed7953"
             ],
             [
              0.7777777777777778,
              "#fb9f3a"
             ],
             [
              0.8888888888888888,
              "#fdca26"
             ],
             [
              1,
              "#f0f921"
             ]
            ],
            "type": "heatmapgl"
           }
          ],
          "histogram": [
           {
            "marker": {
             "pattern": {
              "fillmode": "overlay",
              "size": 10,
              "solidity": 0.2
             }
            },
            "type": "histogram"
           }
          ],
          "histogram2d": [
           {
            "colorbar": {
             "outlinewidth": 0,
             "ticks": ""
            },
            "colorscale": [
             [
              0,
              "#0d0887"
             ],
             [
              0.1111111111111111,
              "#46039f"
             ],
             [
              0.2222222222222222,
              "#7201a8"
             ],
             [
              0.3333333333333333,
              "#9c179e"
             ],
             [
              0.4444444444444444,
              "#bd3786"
             ],
             [
              0.5555555555555556,
              "#d8576b"
             ],
             [
              0.6666666666666666,
              "#ed7953"
             ],
             [
              0.7777777777777778,
              "#fb9f3a"
             ],
             [
              0.8888888888888888,
              "#fdca26"
             ],
             [
              1,
              "#f0f921"
             ]
            ],
            "type": "histogram2d"
           }
          ],
          "histogram2dcontour": [
           {
            "colorbar": {
             "outlinewidth": 0,
             "ticks": ""
            },
            "colorscale": [
             [
              0,
              "#0d0887"
             ],
             [
              0.1111111111111111,
              "#46039f"
             ],
             [
              0.2222222222222222,
              "#7201a8"
             ],
             [
              0.3333333333333333,
              "#9c179e"
             ],
             [
              0.4444444444444444,
              "#bd3786"
             ],
             [
              0.5555555555555556,
              "#d8576b"
             ],
             [
              0.6666666666666666,
              "#ed7953"
             ],
             [
              0.7777777777777778,
              "#fb9f3a"
             ],
             [
              0.8888888888888888,
              "#fdca26"
             ],
             [
              1,
              "#f0f921"
             ]
            ],
            "type": "histogram2dcontour"
           }
          ],
          "mesh3d": [
           {
            "colorbar": {
             "outlinewidth": 0,
             "ticks": ""
            },
            "type": "mesh3d"
           }
          ],
          "parcoords": [
           {
            "line": {
             "colorbar": {
              "outlinewidth": 0,
              "ticks": ""
             }
            },
            "type": "parcoords"
           }
          ],
          "pie": [
           {
            "automargin": true,
            "type": "pie"
           }
          ],
          "scatter": [
           {
            "fillpattern": {
             "fillmode": "overlay",
             "size": 10,
             "solidity": 0.2
            },
            "type": "scatter"
           }
          ],
          "scatter3d": [
           {
            "line": {
             "colorbar": {
              "outlinewidth": 0,
              "ticks": ""
             }
            },
            "marker": {
             "colorbar": {
              "outlinewidth": 0,
              "ticks": ""
             }
            },
            "type": "scatter3d"
           }
          ],
          "scattercarpet": [
           {
            "marker": {
             "colorbar": {
              "outlinewidth": 0,
              "ticks": ""
             }
            },
            "type": "scattercarpet"
           }
          ],
          "scattergeo": [
           {
            "marker": {
             "colorbar": {
              "outlinewidth": 0,
              "ticks": ""
             }
            },
            "type": "scattergeo"
           }
          ],
          "scattergl": [
           {
            "marker": {
             "colorbar": {
              "outlinewidth": 0,
              "ticks": ""
             }
            },
            "type": "scattergl"
           }
          ],
          "scattermapbox": [
           {
            "marker": {
             "colorbar": {
              "outlinewidth": 0,
              "ticks": ""
             }
            },
            "type": "scattermapbox"
           }
          ],
          "scatterpolar": [
           {
            "marker": {
             "colorbar": {
              "outlinewidth": 0,
              "ticks": ""
             }
            },
            "type": "scatterpolar"
           }
          ],
          "scatterpolargl": [
           {
            "marker": {
             "colorbar": {
              "outlinewidth": 0,
              "ticks": ""
             }
            },
            "type": "scatterpolargl"
           }
          ],
          "scatterternary": [
           {
            "marker": {
             "colorbar": {
              "outlinewidth": 0,
              "ticks": ""
             }
            },
            "type": "scatterternary"
           }
          ],
          "surface": [
           {
            "colorbar": {
             "outlinewidth": 0,
             "ticks": ""
            },
            "colorscale": [
             [
              0,
              "#0d0887"
             ],
             [
              0.1111111111111111,
              "#46039f"
             ],
             [
              0.2222222222222222,
              "#7201a8"
             ],
             [
              0.3333333333333333,
              "#9c179e"
             ],
             [
              0.4444444444444444,
              "#bd3786"
             ],
             [
              0.5555555555555556,
              "#d8576b"
             ],
             [
              0.6666666666666666,
              "#ed7953"
             ],
             [
              0.7777777777777778,
              "#fb9f3a"
             ],
             [
              0.8888888888888888,
              "#fdca26"
             ],
             [
              1,
              "#f0f921"
             ]
            ],
            "type": "surface"
           }
          ],
          "table": [
           {
            "cells": {
             "fill": {
              "color": "#EBF0F8"
             },
             "line": {
              "color": "white"
             }
            },
            "header": {
             "fill": {
              "color": "#C8D4E3"
             },
             "line": {
              "color": "white"
             }
            },
            "type": "table"
           }
          ]
         },
         "layout": {
          "annotationdefaults": {
           "arrowcolor": "#2a3f5f",
           "arrowhead": 0,
           "arrowwidth": 1
          },
          "autotypenumbers": "strict",
          "coloraxis": {
           "colorbar": {
            "outlinewidth": 0,
            "ticks": ""
           }
          },
          "colorscale": {
           "diverging": [
            [
             0,
             "#8e0152"
            ],
            [
             0.1,
             "#c51b7d"
            ],
            [
             0.2,
             "#de77ae"
            ],
            [
             0.3,
             "#f1b6da"
            ],
            [
             0.4,
             "#fde0ef"
            ],
            [
             0.5,
             "#f7f7f7"
            ],
            [
             0.6,
             "#e6f5d0"
            ],
            [
             0.7,
             "#b8e186"
            ],
            [
             0.8,
             "#7fbc41"
            ],
            [
             0.9,
             "#4d9221"
            ],
            [
             1,
             "#276419"
            ]
           ],
           "sequential": [
            [
             0,
             "#0d0887"
            ],
            [
             0.1111111111111111,
             "#46039f"
            ],
            [
             0.2222222222222222,
             "#7201a8"
            ],
            [
             0.3333333333333333,
             "#9c179e"
            ],
            [
             0.4444444444444444,
             "#bd3786"
            ],
            [
             0.5555555555555556,
             "#d8576b"
            ],
            [
             0.6666666666666666,
             "#ed7953"
            ],
            [
             0.7777777777777778,
             "#fb9f3a"
            ],
            [
             0.8888888888888888,
             "#fdca26"
            ],
            [
             1,
             "#f0f921"
            ]
           ],
           "sequentialminus": [
            [
             0,
             "#0d0887"
            ],
            [
             0.1111111111111111,
             "#46039f"
            ],
            [
             0.2222222222222222,
             "#7201a8"
            ],
            [
             0.3333333333333333,
             "#9c179e"
            ],
            [
             0.4444444444444444,
             "#bd3786"
            ],
            [
             0.5555555555555556,
             "#d8576b"
            ],
            [
             0.6666666666666666,
             "#ed7953"
            ],
            [
             0.7777777777777778,
             "#fb9f3a"
            ],
            [
             0.8888888888888888,
             "#fdca26"
            ],
            [
             1,
             "#f0f921"
            ]
           ]
          },
          "colorway": [
           "#636efa",
           "#EF553B",
           "#00cc96",
           "#ab63fa",
           "#FFA15A",
           "#19d3f3",
           "#FF6692",
           "#B6E880",
           "#FF97FF",
           "#FECB52"
          ],
          "font": {
           "color": "#2a3f5f"
          },
          "geo": {
           "bgcolor": "white",
           "lakecolor": "white",
           "landcolor": "#E5ECF6",
           "showlakes": true,
           "showland": true,
           "subunitcolor": "white"
          },
          "hoverlabel": {
           "align": "left"
          },
          "hovermode": "closest",
          "mapbox": {
           "style": "light"
          },
          "paper_bgcolor": "white",
          "plot_bgcolor": "#E5ECF6",
          "polar": {
           "angularaxis": {
            "gridcolor": "white",
            "linecolor": "white",
            "ticks": ""
           },
           "bgcolor": "#E5ECF6",
           "radialaxis": {
            "gridcolor": "white",
            "linecolor": "white",
            "ticks": ""
           }
          },
          "scene": {
           "xaxis": {
            "backgroundcolor": "#E5ECF6",
            "gridcolor": "white",
            "gridwidth": 2,
            "linecolor": "white",
            "showbackground": true,
            "ticks": "",
            "zerolinecolor": "white"
           },
           "yaxis": {
            "backgroundcolor": "#E5ECF6",
            "gridcolor": "white",
            "gridwidth": 2,
            "linecolor": "white",
            "showbackground": true,
            "ticks": "",
            "zerolinecolor": "white"
           },
           "zaxis": {
            "backgroundcolor": "#E5ECF6",
            "gridcolor": "white",
            "gridwidth": 2,
            "linecolor": "white",
            "showbackground": true,
            "ticks": "",
            "zerolinecolor": "white"
           }
          },
          "shapedefaults": {
           "line": {
            "color": "#2a3f5f"
           }
          },
          "ternary": {
           "aaxis": {
            "gridcolor": "white",
            "linecolor": "white",
            "ticks": ""
           },
           "baxis": {
            "gridcolor": "white",
            "linecolor": "white",
            "ticks": ""
           },
           "bgcolor": "#E5ECF6",
           "caxis": {
            "gridcolor": "white",
            "linecolor": "white",
            "ticks": ""
           }
          },
          "title": {
           "x": 0.05
          },
          "xaxis": {
           "automargin": true,
           "gridcolor": "white",
           "linecolor": "white",
           "ticks": "",
           "title": {
            "standoff": 15
           },
           "zerolinecolor": "white",
           "zerolinewidth": 2
          },
          "yaxis": {
           "automargin": true,
           "gridcolor": "white",
           "linecolor": "white",
           "ticks": "",
           "title": {
            "standoff": 15
           },
           "zerolinecolor": "white",
           "zerolinewidth": 2
          }
         }
        },
        "title": {
         "text": "Choices"
        },
        "xaxis": {
         "anchor": "y",
         "domain": [
          0,
          0.3133333333333333
         ],
         "title": {
          "text": "lott_qt"
         }
        },
        "xaxis2": {
         "anchor": "y2",
         "domain": [
          0.3333333333333333,
          0.6466666666666666
         ],
         "title": {
          "text": "lott_qt"
         }
        },
        "xaxis3": {
         "anchor": "y3",
         "domain": [
          0.6666666666666666,
          0.98
         ],
         "title": {
          "text": "lott_qt"
         }
        },
        "xaxis4": {
         "anchor": "y4",
         "domain": [
          0,
          0.3133333333333333
         ],
         "showticklabels": false
        },
        "xaxis5": {
         "anchor": "y5",
         "domain": [
          0.3333333333333333,
          0.6466666666666666
         ],
         "showticklabels": false
        },
        "xaxis6": {
         "anchor": "y6",
         "domain": [
          0.6666666666666666,
          0.98
         ],
         "showticklabels": false
        },
        "yaxis": {
         "anchor": "x",
         "domain": [
          0,
          0.485
         ],
         "title": {
          "text": "Prob. of choosing lottery"
         }
        },
        "yaxis2": {
         "anchor": "x2",
         "domain": [
          0,
          0.485
         ],
         "matches": "y",
         "showticklabels": false
        },
        "yaxis3": {
         "anchor": "x3",
         "domain": [
          0,
          0.485
         ],
         "matches": "y",
         "showticklabels": false
        },
        "yaxis4": {
         "anchor": "x4",
         "domain": [
          0.515,
          1
         ],
         "matches": "y",
         "title": {
          "text": "Prob. of choosing lottery"
         }
        },
        "yaxis5": {
         "anchor": "x5",
         "domain": [
          0.515,
          1
         ],
         "matches": "y",
         "showticklabels": false
        },
        "yaxis6": {
         "anchor": "x6",
         "domain": [
          0.515,
          1
         ],
         "matches": "y",
         "showticklabels": false
        }
       }
      }
     },
     "metadata": {},
     "output_type": "display_data"
    }
   ],
   "source": [
    "subjectTrials_df = sim._get_subject_choices(subjectTrials_df)\n",
    "\n",
    "\n",
    "\n",
    "subject_choiceCount_df = pd.DataFrame(subjectTrials_df[beahviour_cols].groupby(\n",
    "                    list(subjectTrials_df[beahviour_cols].columns[:-1])\n",
    "                    ).apply(\n",
    "                lambda df: get_probLottery(df)), \n",
    "                columns = [_v_.probLotteryChoice_colName]).reset_index()\n",
    "\n",
    "title = 'Choices'\n",
    "\n",
    "hover_cols = ['lott_type']\n",
    "hover_data = {key:False for key in subject_choiceCount_df.columns}\n",
    "\n",
    "fig = px.line(subject_choiceCount_df, facet_col = 'lott_type', facet_row = 'trial_type',\n",
    "            x=beahviour_cols[-3], y=_v_.probLotteryChoice_colName, \n",
    "            color='lott_prob',  markers=True,\n",
    "            symbol = 'lott_prob', \n",
    "            color_discrete_sequence = px.colors.sequential.dense,\n",
    "            hover_data = hover_data, \n",
    "            category_orders= {\n",
    "                        'lottery p': sorted(list(subject_choiceCount_df[beahviour_cols[-2]].unique())),\n",
    "                        }\n",
    "                )\n",
    "fig.update_layout(\n",
    "    title = title,\n",
    "    legend_title=\"Subject ID, reward\",\n",
    ")                                \n",
    "fig.update_xaxes(matches=None)\n",
    "\n",
    "fig.show()"
   ]
  },
  {
   "cell_type": "markdown",
   "metadata": {},
   "source": [
    "## Parameter Estimation"
   ]
  },
  {
   "cell_type": "code",
   "execution_count": 32,
   "metadata": {},
   "outputs": [],
   "source": [
    "alphaMoney0 = st_money_alpha\n",
    "alphaCplus0 = st_cPlus_alpha\n",
    "alphaCminus0 = st_cMinus_alpha\n",
    "st_betaMoney0 = st_money_beta # also used in model with only one beta\n",
    "st_betaCplus0 = st_cPlus_beta\n",
    "st_betaCminus0 = st_cMinus_beta\n",
    "mt_betaCplus0 = mt_cPlus_beta\n",
    "mt_betaCminus0 = mt_cMinus_beta\n",
    "sFactorCplus0 = cPlus_sFactor\n",
    "sFactorCminus0= cMinus_sFactor\n",
    "\n",
    "\n",
    "x0_10params = (alphaMoney0, alphaCplus0, alphaCminus0, \n",
    "      st_betaMoney0, st_betaCplus0, st_betaCminus0, mt_betaCplus0, mt_betaCminus0,\n",
    "      sFactorCplus0, sFactorCminus0)\n",
    "\n",
    "x0_6params = (alphaMoney0, alphaCplus0, alphaCminus0, \n",
    "      st_betaMoney0,\n",
    "      sFactorCplus0, sFactorCminus0)"
   ]
  },
  {
   "cell_type": "markdown",
   "metadata": {},
   "source": [
    "### Likelihood calculation"
   ]
  },
  {
   "cell_type": "code",
   "execution_count": 33,
   "metadata": {},
   "outputs": [
    {
     "name": "stdout",
     "output_type": "stream",
     "text": [
      "Likelihood well calculated.\n"
     ]
    }
   ],
   "source": [
    "# Checking if Likelihood calculation is working for simultaneous estimation and 6 parameters\n",
    "\n",
    "df = subjectTrials_df.copy()\n",
    "\n",
    "x0 = x0_6params\n",
    "\n",
    "df['likelihood'] = df.apply(lambda row: sim._get_likelihood(row, x0), axis = 1)\n",
    "\n",
    "tmp_df = df[['pL','choice', 'likelihood']].copy()\n",
    "\n",
    "mask_0 = tmp_df['choice'] == 0\n",
    "mask_1 = tmp_df['choice'] == 1\n",
    "\n",
    "tmp_df.loc[mask_0,'check'] = 1 - tmp_df.loc[mask_0,'pL'] - tmp_df.loc[mask_0,'likelihood']\n",
    "tmp_df.loc[mask_1,'check'] = tmp_df.loc[mask_1,'pL'] - tmp_df.loc[mask_1,'likelihood']\n",
    "\n",
    "\n",
    "if tmp_df['check'].max() == 0:\n",
    "    print('Likelihood well calculated.')\n",
    "else:\n",
    "    print('something\\'s wrong')"
   ]
  },
  {
   "cell_type": "code",
   "execution_count": 34,
   "metadata": {},
   "outputs": [
    {
     "name": "stdout",
     "output_type": "stream",
     "text": [
      "Likelihood well calculated.\n"
     ]
    }
   ],
   "source": [
    "# Checking if Likelihood calculation is working for simultaneous estimation and 10 parameters\n",
    "\n",
    "\n",
    "df = subjectTrials_df.copy()\n",
    "\n",
    "x0 = x0_10params\n",
    "\n",
    "\n",
    "df['likelihood'] = df.apply(lambda row: sim._get_likelihood(row, x0), axis = 1)\n",
    "\n",
    "tmp_df = df[['pL','choice', 'likelihood']].copy()\n",
    "\n",
    "mask_0 = tmp_df['choice'] == 0\n",
    "mask_1 = tmp_df['choice'] == 1\n",
    "\n",
    "tmp_df.loc[mask_0,'check'] = 1 - tmp_df.loc[mask_0,'pL'] - tmp_df.loc[mask_0,'likelihood']\n",
    "tmp_df.loc[mask_1,'check'] = tmp_df.loc[mask_1,'pL'] - tmp_df.loc[mask_1,'likelihood']\n",
    "\n",
    "\n",
    "if tmp_df['check'].max() == 0:\n",
    "    print('Likelihood well calculated.')\n",
    "else:\n",
    "    print('something\\'s wrong')\n"
   ]
  },
  {
   "cell_type": "code",
   "execution_count": 35,
   "metadata": {},
   "outputs": [
    {
     "name": "stdout",
     "output_type": "stream",
     "text": [
      "Likelihood well calculated.\n"
     ]
    }
   ],
   "source": [
    "# Checking if Likelihood calculation is working for stepwise estimation and 6 parameters\n",
    "df = subjectTrials_df.copy()\n",
    "\n",
    "x0 = x0_6params\n",
    "\n",
    "(st_money_alpha, st_cPlus_alpha, st_cMinus_alpha, \n",
    "    beta,\n",
    "    cPlus_sFactor, cMinus_sFactor) = x0\n",
    "st_params = (st_money_alpha, st_cPlus_alpha, st_cMinus_alpha, \n",
    "            beta)\n",
    "mt_params = (cPlus_sFactor, cMinus_sFactor)\n",
    "\n",
    "\n",
    "st_mask = df[sim.column_names[0]] == 'same'\n",
    "df.loc[st_mask,'likelihood'] = df.loc[st_mask,:].apply(lambda row: sim._get_st_likelihood(row, st_params), axis = 1)\n",
    "\n",
    "mt_mask = df[sim.column_names[0]] == 'mixed'\n",
    "cPlus_mask = df[sim.column_names[4]] == 'CS+'\n",
    "cMinus_mask = df[sim.column_names[4]] == 'CS-'\n",
    "\n",
    "money_alpha_est = st_money_alpha\n",
    "cPlus_alpha_est = st_cPlus_alpha\n",
    "cMinus_alpha_est = st_cMinus_alpha\n",
    "beta_est = st_money_beta\n",
    "\n",
    "df.loc[mt_mask, sim.optimize_cols[8]] = money_alpha_est\n",
    "df.loc[cPlus_mask, sim.optimize_cols[9]] = st_cPlus_alpha\n",
    "df.loc[cMinus_mask, sim.optimize_cols[9]] = cMinus_alpha_est\n",
    "df.loc[mt_mask, sim.optimize_cols[10]] = beta_est\n",
    "\n",
    "df.loc[mt_mask,'likelihood'] = df.loc[mt_mask,:].apply(lambda row: sim._get_mt_likelihood(row, mt_params), axis = 1)\n",
    "\n",
    "tmp_df = df[['pL','choice', 'likelihood']].copy()\n",
    "\n",
    "mask_0 = tmp_df['choice'] == 0\n",
    "mask_1 = tmp_df['choice'] == 1\n",
    "\n",
    "tmp_df.loc[mask_0,'check'] = 1 - tmp_df.loc[mask_0,'pL'] - tmp_df.loc[mask_0,'likelihood']\n",
    "tmp_df.loc[mask_1,'check'] = tmp_df.loc[mask_1,'pL'] - tmp_df.loc[mask_1,'likelihood']\n",
    "\n",
    "\n",
    "if tmp_df['check'].max() == 0:\n",
    "    print('Likelihood well calculated.')\n",
    "else:\n",
    "    print('something\\'s wrong')"
   ]
  },
  {
   "cell_type": "code",
   "execution_count": 36,
   "metadata": {},
   "outputs": [
    {
     "name": "stdout",
     "output_type": "stream",
     "text": [
      "Likelihood well calculated.\n"
     ]
    }
   ],
   "source": [
    "# Checking if Likelihood calculation is working for stepwise estimation and 10 parameters\n",
    "\n",
    "df = subjectTrials_df.copy()\n",
    "\n",
    "x0 = x0_10params\n",
    "\n",
    "\n",
    "(st_money_alpha, st_cPlus_alpha, st_cMinus_alpha, \n",
    "    st_money_beta, st_cPlus_beta, st_cMinus_beta,\n",
    "    mt_cPlus_beta, mt_cMinus_beta,\n",
    "    cPlus_sFactor, cMinus_sFactor) = x0_10params\n",
    "st_params = (st_money_alpha, st_cPlus_alpha, st_cMinus_alpha, \n",
    "            st_money_beta, st_cPlus_beta, st_cMinus_beta)\n",
    "mt_params = (mt_cPlus_beta, mt_cMinus_beta,\n",
    "            cPlus_sFactor, cMinus_sFactor)\n",
    "\n",
    "st_mask = df[sim.column_names[0]] == 'same'\n",
    "df.loc[st_mask,'likelihood'] = df.loc[st_mask,:].apply(lambda row: sim._get_st_likelihood(row, st_params), axis = 1)\n",
    "\n",
    "mt_mask = df[sim.column_names[0]] == 'mixed'\n",
    "cPlus_mask = df[sim.column_names[4]] == 'CS+'\n",
    "cMinus_mask = df[sim.column_names[4]] == 'CS-'\n",
    "\n",
    "money_alpha_est = st_money_alpha\n",
    "cPlus_alpha_est = st_cPlus_alpha\n",
    "cMinus_alpha_est = st_cMinus_alpha\n",
    "\n",
    "df.loc[mt_mask, sim.optimize_cols[8]] = money_alpha_est\n",
    "df.loc[cPlus_mask, sim.optimize_cols[9]] = st_cPlus_alpha\n",
    "df.loc[cMinus_mask, sim.optimize_cols[9]] = cMinus_alpha_est\n",
    "\n",
    "df.loc[mt_mask,'likelihood'] = df.loc[mt_mask,:].apply(lambda row: sim._get_mt_likelihood(row, mt_params), axis = 1)\n",
    "\n",
    "tmp_df = df[['pL','choice', 'likelihood']].copy()\n",
    "\n",
    "mask_0 = tmp_df['choice'] == 0\n",
    "mask_1 = tmp_df['choice'] == 1\n",
    "\n",
    "tmp_df.loc[mask_0,'check'] = 1 - tmp_df.loc[mask_0,'pL'] - tmp_df.loc[mask_0,'likelihood']\n",
    "tmp_df.loc[mask_1,'check'] = tmp_df.loc[mask_1,'pL'] - tmp_df.loc[mask_1,'likelihood']\n",
    "\n",
    "if tmp_df['check'].max() == 0:\n",
    "    print('Likelihood well calculated.')\n",
    "else:\n",
    "    print('something\\'s wrong')"
   ]
  },
  {
   "cell_type": "markdown",
   "metadata": {},
   "source": [
    "### Model Fit"
   ]
  },
  {
   "cell_type": "code",
   "execution_count": 42,
   "metadata": {},
   "outputs": [],
   "source": [
    "alphaMoney0 = st_money_alpha\n",
    "alphaCplus0 = st_cPlus_alpha\n",
    "alphaCminus0 = st_cMinus_alpha\n",
    "st_betaMoney0 = st_money_beta # also used in model with only one beta\n",
    "st_betaCplus0 = st_cPlus_beta\n",
    "st_betaCminus0 = st_cMinus_beta\n",
    "mt_betaCplus0 = mt_cPlus_beta\n",
    "mt_betaCminus0 = mt_cMinus_beta\n",
    "sFactorCplus0 = cPlus_sFactor\n",
    "sFactorCminus0= cMinus_sFactor\n",
    "\n",
    "# alphaMoney0 = 1\n",
    "# alphaCplus0 = 1\n",
    "# alphaCminus0 = 1\n",
    "# st_betaMoney0 = 1 # also used in model with only one beta\n",
    "# st_betaCplus0 = 1\n",
    "# st_betaCminus0 = 1\n",
    "# mt_betaCplus0 = 1\n",
    "# mt_betaCminus0 = 1\n",
    "# sFactorCplus0 = 1\n",
    "# sFactorCminus0= 1\n",
    "\n",
    "\n",
    "x0_10params = (alphaMoney0, alphaCplus0, alphaCminus0, \n",
    "      st_betaMoney0, st_betaCplus0, st_betaCminus0, mt_betaCplus0, mt_betaCminus0,\n",
    "      sFactorCplus0, sFactorCminus0)\n",
    "\n",
    "x0_6params = (alphaMoney0, alphaCplus0, alphaCminus0, \n",
    "      st_betaMoney0,\n",
    "      sFactorCplus0, sFactorCminus0)"
   ]
  },
  {
   "cell_type": "code",
   "execution_count": 44,
   "metadata": {
    "collapsed": true,
    "jupyter": {
     "outputs_hidden": true
    },
    "tags": []
   },
   "outputs": [
    {
     "name": "stdout",
     "output_type": "stream",
     "text": [
      "Same type trials\n",
      "==================================================\n",
      "  Optimization terminated successfully.\n",
      "    - parameters: [0.62522724 0.49167796 0.39369597 2.503762  ]\n",
      "  - std. error: [0.04268759 0.03082545 0.03688956 0.31206495]\n",
      "\n",
      "Confidene intervals:\n",
      "  - parameter 1: 0.625 ± 0.084\n",
      "  - parameter 2: 0.492 ± 0.06\n",
      "  - parameter 3: 0.394 ± 0.072\n",
      "  - parameter 4: 2.504 ± 0.612\n",
      "\n",
      "Mixed type trials\n",
      "==================================================\n",
      "  Optimization terminated successfully.\n",
      "    - parameters: [0.05821018 0.09253548]\n",
      "  - std. error: [0.01406591 0.02260033]\n",
      "\n",
      "  Confidene intervals:\n",
      "    - parameter 1: 0.058 ± 0.028\n",
      "    - parameter 2: 0.093 ± 0.044\n"
     ]
    }
   ],
   "source": [
    "\n",
    "args = (subjectTrials_df.copy())\n",
    "\n",
    "\n",
    "res_st, res_mt, st_iterParams_df, mt_iterParams_df = sim.stepwise_estimate(args, x0_6params)\n",
    "\n",
    "sim.print_stepwiseModel_output(res_st, res_mt)\n",
    "\n"
   ]
  },
  {
   "cell_type": "code",
   "execution_count": 46,
   "metadata": {
    "collapsed": true,
    "jupyter": {
     "outputs_hidden": true
    },
    "tags": []
   },
   "outputs": [
    {
     "name": "stdout",
     "output_type": "stream",
     "text": [
      "Same type trials\n",
      "==================================================\n",
      "  Optimization terminated successfully.\n",
      "    - parameters: [0.63354426 0.48782619 0.38869786 2.29898666 2.70301362 2.68262826]\n",
      "  - std. error: [0.04531925 0.03291041 0.03903932 0.45379942 0.70044118 0.63225645]\n",
      "\n",
      "Confidene intervals:\n",
      "  - parameter 1: 0.634 ± 0.089\n",
      "  - parameter 2: 0.488 ± 0.065\n",
      "  - parameter 3: 0.389 ± 0.077\n",
      "  - parameter 4: 2.299 ± 0.889\n",
      "  - parameter 5: 2.703 ± 1.373\n",
      "  - parameter 6: 2.683 ± 1.239\n",
      "\n",
      "Mixed type trials\n",
      "==================================================\n",
      "  Optimization terminated successfully.\n",
      "    - parameters: [2.23564198 1.61170031 0.05753462 0.08555644]\n",
      "  - std. error: [0.88087347 0.88741053 0.01614043 0.03710087]\n",
      "\n",
      "  Confidene intervals:\n",
      "    - parameter 1: 2.236 ± 1.727\n",
      "    - parameter 2: 1.612 ± 1.739\n",
      "    - parameter 3: 0.058 ± 0.032\n",
      "    - parameter 4: 0.086 ± 0.073\n"
     ]
    }
   ],
   "source": [
    "args = (subjectTrials_df.copy())\n",
    "res_st, res_mt, st_iterParams_df, mt_iterParams_df = sim.stepwise_estimate(args, x0_10params)\n",
    "sim.print_stepwiseModel_output(res_st, res_mt)"
   ]
  },
  {
   "cell_type": "code",
   "execution_count": 49,
   "metadata": {},
   "outputs": [
    {
     "name": "stdout",
     "output_type": "stream",
     "text": [
      "==================================================\n",
      "Optimization terminated successfully.\n",
      "  - parameters: [0.63746838 0.49457305 0.39486534 2.38930502 0.05579657 0.08928254]\n",
      "  - std. error: [0.04115274 0.03050291 0.03676871 0.27187695 0.01678902 0.02992483]\n",
      "\n",
      "Confidene intervals:\n",
      "  - parameter 1: 0.637 ± 0.081\n",
      "  - parameter 2: 0.495 ± 0.06\n",
      "  - parameter 3: 0.395 ± 0.072\n",
      "  - parameter 4: 2.389 ± 0.533\n",
      "  - parameter 5: 0.056 ± 0.033\n",
      "  - parameter 6: 0.089 ± 0.059\n"
     ]
    }
   ],
   "source": [
    "res = sim.simultaneous_estimate(args, x0_6params)\n",
    "sim.print_simultaneousModel_output(res)"
   ]
  },
  {
   "cell_type": "code",
   "execution_count": 47,
   "metadata": {
    "collapsed": true,
    "jupyter": {
     "outputs_hidden": true
    },
    "tags": []
   },
   "outputs": [
    {
     "name": "stdout",
     "output_type": "stream",
     "text": [
      "==================================================\n",
      "Desired error not necessarily achieved due to precision loss.\n",
      "  - parameters: [0.63354429 0.48833297 0.38736007 2.29898628 2.69887005 2.69135603\n",
      " 2.23545582 1.61291761 0.0573929  0.08614715]\n",
      "  - std. error: [0.04906449 0.03850013 0.04764221 0.43249749 1.47135602 1.15211239\n",
      " 1.04321007 1.23438511 0.02531784 0.048082  ]\n",
      "\n",
      "Confidene intervals:\n",
      "  - parameter 1: 0.634 ± 0.096\n",
      "  - parameter 2: 0.488 ± 0.075\n",
      "  - parameter 3: 0.387 ± 0.093\n",
      "  - parameter 4: 2.299 ± 0.848\n",
      "  - parameter 5: 2.699 ± 2.884\n",
      "  - parameter 6: 2.691 ± 2.258\n",
      "  - parameter 7: 2.235 ± 2.045\n",
      "  - parameter 8: 1.613 ± 2.419\n",
      "  - parameter 9: 0.057 ± 0.05\n",
      "  - parameter 10: 0.086 ± 0.094\n"
     ]
    }
   ],
   "source": [
    "res = sim.simultaneous_estimate(args, x0_10params)\n",
    "sim.print_simultaneousModel_output(res)"
   ]
  },
  {
   "attachments": {},
   "cell_type": "markdown",
   "metadata": {
    "tags": []
   },
   "source": [
    "# Simulate behaviour and look at choices here"
   ]
  },
  {
   "cell_type": "markdown",
   "metadata": {},
   "source": [
    "## Task Parameters"
   ]
  },
  {
   "cell_type": "code",
   "execution_count": 50,
   "metadata": {},
   "outputs": [
    {
     "name": "stdout",
     "output_type": "stream",
     "text": [
      "Trials per type:\n",
      "same     450\n",
      "mixed    300\n",
      "Name: trial_type, dtype: int64\n"
     ]
    }
   ],
   "source": [
    "uniqueLott_Nreps= 6      # Unique Lottery Repititions  \n",
    "\n",
    "# Same-type & mixed type Trials Lottery probabilities\n",
    "st_refPs = [1]                              # Reference option\n",
    "st_lottPs = [0.13, 0.22, 0.38, .50, .75]    # Lottery option\n",
    "\n",
    "# Same-type task variables\n",
    "st_money_refQs = [1]                               # Euros\n",
    "st_money_lottQs = [1, 2, 5, 12, 20]                # Euros\n",
    "\n",
    "st_cPlus_refQs = [20]                              # mL of CS+ yogurt \n",
    "st_cPlus_lottQs = [20, 40, 80, 120, 200]           # mL of CS+ yogurt\n",
    "\n",
    "st_cMinus_refQs = st_cPlus_refQs                      # mL of CS- yogurt \n",
    "st_cMinus_lottQs = st_cPlus_lottQs                    # mL of CS- yogurt \n",
    "\n",
    "# Mixed-type task variables\n",
    "mt_refQs = [.2]                                # Euros\n",
    "mt_refPs = [1]\n",
    "mt_lottPs = [0.13, 0.22, 0.38, .50, .75]\n",
    "\n",
    "mt_cPlus_lottQs = [40, 80, 120, 150, 200]      # mL of CS+ yogurt \n",
    "mt_cMinus_lottQs = mt_cPlus_lottQs            # mL of CS- yogurt \n",
    "\n",
    "\n",
    "allTrials_df = sim.pack_taskParameters(\n",
    "                st_refPs, st_lottPs, st_money_refQs, st_money_lottQs, st_cPlus_refQs, st_cPlus_lottQs,\n",
    "                st_cMinus_refQs, st_cMinus_lottQs, mt_refQs, mt_refPs, mt_lottPs, mt_cPlus_lottQs,\n",
    "                mt_cMinus_lottQs, uniqueLott_Nreps)\n",
    "\n",
    "print('Trials per type:\\n{}'.format(allTrials_df['trial_type'].value_counts()))"
   ]
  },
  {
   "cell_type": "markdown",
   "metadata": {},
   "source": [
    "## Initialization Parameters"
   ]
  },
  {
   "cell_type": "code",
   "execution_count": 51,
   "metadata": {},
   "outputs": [],
   "source": [
    "alphaMoney0 = 1\n",
    "alphaCplus0 = 1\n",
    "alphaCminus0 = 1\n",
    "st_betaMoney0 = 1 # also used in model with only one beta\n",
    "st_betaCplus0 = 1\n",
    "st_betaCminus0 = 1\n",
    "mt_betaCplus0 = 1\n",
    "mt_betaCminus0 = 1\n",
    "sFactorCplus0 = 1\n",
    "sFactorCminus0= 1\n",
    "\n",
    "\n",
    "x0_10params = (alphaMoney0, alphaCplus0, alphaCminus0, \n",
    "      st_betaMoney0, st_betaCplus0, st_betaCminus0, mt_betaCplus0, mt_betaCminus0,\n",
    "      sFactorCplus0, sFactorCminus0)\n",
    "\n",
    "x0_6params = (alphaMoney0, alphaCplus0, alphaCminus0, \n",
    "      st_betaMoney0,\n",
    "      sFactorCplus0, sFactorCminus0)"
   ]
  },
  {
   "cell_type": "markdown",
   "metadata": {},
   "source": [
    "## Run simulation and plot behaviour"
   ]
  },
  {
   "cell_type": "code",
   "execution_count": 52,
   "metadata": {},
   "outputs": [
    {
     "name": "stderr",
     "output_type": "stream",
     "text": [
      "100%|██████████| 100/100 [00:08<00:00, 12.20it/s]\n"
     ]
    },
    {
     "data": {
      "image/png": "[encoded data removed]",
      "text/plain": [
       "<Figure size 1171.27x720 with 6 Axes>"
      ]
     },
     "metadata": {},
     "output_type": "display_data"
    }
   ],
   "source": [
    "from tqdm import tqdm\n",
    "from numpy import random\n",
    "\n",
    "N_iter = 100\n",
    "x0 = x0_10params\n",
    "\n",
    "#                         (mean, sd, N_subs)\n",
    "mean_std_st_money_alpha = (0.7, 0.1, N_iter)\n",
    "mean_std_st_cPlus_alpha = (0.8, 0.1, N_iter)\n",
    "mean_std_st_cMinus_alpha = (0.8, 0.1, N_iter)\n",
    "mean_std_st_money_beta = (1.8, 0.3, N_iter)\n",
    "mean_std_st_cPlus_beta = mean_std_st_money_beta\n",
    "mean_std_st_cMinus_beta = mean_std_st_money_beta\n",
    "mean_std_mt_cPlus_beta = mean_std_st_money_beta\n",
    "mean_std_mt_cMinus_beta = mean_std_st_money_beta\n",
    "mean_std_cPlus_sFactor = (.2, 0.05, N_iter)\n",
    "mean_std_cMinus_sFactor = mean_std_cPlus_sFactor\n",
    "\n",
    "st_money_alpha_arr = abs(random.normal(*mean_std_st_money_alpha))\n",
    "st_cPlus_alpha_arr = abs(random.normal(*mean_std_st_cPlus_alpha))\n",
    "st_cMinus_alpha_arr = abs(random.normal(*mean_std_st_cMinus_alpha))\n",
    "st_money_beta_arr = abs(random.normal(*mean_std_st_money_beta))\n",
    "\n",
    "cPlus_sFactor_arr = abs(random.normal(*mean_std_cPlus_sFactor))\n",
    "cMinus_sFactor_arr = abs(random.normal(*mean_std_cMinus_sFactor))\n",
    "\n",
    "if x0 == x0_6params:\n",
    "    st_param_size = 4\n",
    "    mt_param_size = 2\n",
    "    st_cPlus_beta_arr = st_money_beta_arr\n",
    "    st_cMinus_beta_arr = st_money_beta_arr\n",
    "    mt_cPlus_beta_arr = st_money_beta_arr\n",
    "    mt_cMinus_beta_arr = st_money_beta_arr\n",
    "    \n",
    "    st_pars = np.stack([st_money_alpha_arr, st_cPlus_alpha_arr, st_cMinus_alpha_arr,\n",
    "                    st_money_beta_arr,] )\n",
    "\n",
    "    mt_pars = np.stack([cPlus_sFactor_arr, cMinus_sFactor_arr])\n",
    "    \n",
    "else:    \n",
    "    st_param_size = 6\n",
    "    mt_param_size = 4\n",
    "    st_cPlus_beta_arr = abs(random.normal(*mean_std_st_cPlus_beta))\n",
    "    st_cMinus_beta_arr = abs(random.normal(*mean_std_st_cMinus_beta))\n",
    "    mt_cPlus_beta_arr = abs(random.normal(*mean_std_mt_cPlus_beta))\n",
    "    mt_cMinus_beta_arr = abs(random.normal(*mean_std_mt_cMinus_beta))\n",
    "    \n",
    "    st_pars = np.stack([st_money_alpha_arr, st_cPlus_alpha_arr, st_cMinus_alpha_arr,\n",
    "                    st_money_beta_arr, st_cPlus_beta_arr, st_cMinus_beta_arr,\n",
    "                    ] )\n",
    "\n",
    "    mt_pars = np.stack([mt_cPlus_beta_arr, mt_cMinus_beta_arr,\n",
    "                        cPlus_sFactor_arr, cMinus_sFactor_arr])\n",
    "    \n",
    "st_flags = []\n",
    "mt_flags = []\n",
    "\n",
    "\n",
    "st_estPars = np.zeros((st_param_size, N_iter))\n",
    "mt_estPars = np.zeros((mt_param_size, N_iter))\n",
    "st_hessians = np.zeros((st_param_size, st_param_size, N_iter))\n",
    "mt_hessians = np.zeros((mt_param_size, mt_param_size, N_iter))\n",
    "\n",
    "import warnings\n",
    "warnings.filterwarnings(\"ignore\")\n",
    "\n",
    "for i in tqdm(range(N_iter)):\n",
    "    # Get parameters per participant\n",
    "    st_money_alpha = st_money_alpha_arr[i]\n",
    "    st_cPlus_alpha = st_cPlus_alpha_arr[i]\n",
    "    st_cMinus_alpha = st_cMinus_alpha_arr[i]\n",
    "    st_money_beta = st_money_beta_arr[i]\n",
    "    st_cPlus_beta = st_cPlus_beta_arr[i]\n",
    "    st_cMinus_beta = st_cMinus_beta_arr[i]\n",
    "    mt_cPlus_beta = mt_cPlus_beta_arr[i]\n",
    "    mt_cMinus_beta = mt_cMinus_beta_arr[i]\n",
    "    cPlus_sFactor = cPlus_sFactor_arr[i]\n",
    "    cMinus_sFactor = cMinus_sFactor_arr[i]\n",
    "\n",
    "    subjectTrials_df = sim.pack_subjectParameters(st_money_alpha, st_cPlus_alpha, st_cMinus_alpha, \n",
    "                                                  st_money_beta, st_cPlus_beta, st_cMinus_beta, \n",
    "                                                  mt_cPlus_beta, mt_cMinus_beta, \n",
    "                                                  cPlus_sFactor, cMinus_sFactor, \n",
    "                                                  allTrials_df)\n",
    "    \n",
    "    _subject_choiceCount_df = pd.DataFrame(subjectTrials_df[beahviour_cols].groupby(\n",
    "                    list(subjectTrials_df[beahviour_cols].columns[:-1])\n",
    "                    ).apply(\n",
    "                lambda df: get_probLottery(df)), \n",
    "                columns = [_v_.probLotteryChoice_colName]).reset_index()\n",
    "    _subject_choiceCount_df['iter'] = i\n",
    "    \n",
    "    if i == 0:\n",
    "        subject_choiceCount_df = _subject_choiceCount_df\n",
    "    else:\n",
    "        subject_choiceCount_df = pd.concat([subject_choiceCount_df, _subject_choiceCount_df], axis = 0)\n",
    "        \n",
    "import seaborn as sns\n",
    "sns.set(font_scale=1.5)\n",
    "g = sns.relplot(\n",
    "    data=subject_choiceCount_df.reset_index(drop=True), x=beahviour_cols[-3], y=_v_.probLotteryChoice_colName, \n",
    "    col=\"lott_type\", row = 'trial_type',\n",
    "    hue=\"lott_prob\", style=\"lott_prob\", kind=\"line\",facet_kws={'sharex': False, 'margin_titles' : True},\n",
    ")\n",
    "\n",
    "g.fig.suptitle('Behaviour across simulated subjects\\nmean and 95%CI (N={})'.format(N_iter), va='bottom');"
   ]
  },
  {
   "attachments": {},
   "cell_type": "markdown",
   "metadata": {},
   "source": [
    "# Simulate behaviour and extract fitted parameters"
   ]
  },
  {
   "cell_type": "markdown",
   "metadata": {},
   "source": [
    "## Task Parameters"
   ]
  },
  {
   "cell_type": "code",
   "execution_count": 53,
   "metadata": {},
   "outputs": [
    {
     "name": "stdout",
     "output_type": "stream",
     "text": [
      "Trials per type:\n",
      "same     450\n",
      "mixed    300\n",
      "Name: trial_type, dtype: int64\n"
     ]
    }
   ],
   "source": [
    "uniqueLott_Nreps= 6      # Unique Lottery Repititions  \n",
    "\n",
    "# Same-type & mixed type Trials Lottery probabilities\n",
    "st_refPs = [1]                              # Reference option\n",
    "st_lottPs = [0.13, 0.22, 0.38, .50, .75]    # Lottery option\n",
    "\n",
    "# Same-type task variables\n",
    "st_money_refQs = [1]                               # Euros\n",
    "st_money_lottQs = [1, 2, 5, 12, 20]                # Euros\n",
    "\n",
    "st_cPlus_refQs = [20]                              # mL of CS+ yogurt \n",
    "st_cPlus_lottQs = [20, 40, 80, 120, 200]           # mL of CS+ yogurt\n",
    "\n",
    "st_cMinus_refQs = st_cPlus_refQs                      # mL of CS- yogurt \n",
    "st_cMinus_lottQs = st_cPlus_lottQs                    # mL of CS- yogurt \n",
    "\n",
    "# Mixed-type task variables\n",
    "mt_refQs = [.2]                                # Euros\n",
    "mt_refPs = [1]\n",
    "mt_lottPs = [0.13, 0.22, 0.38, .50, .75]\n",
    "\n",
    "mt_cPlus_lottQs = [40, 80, 120, 150, 200]      # mL of CS+ yogurt \n",
    "mt_cMinus_lottQs = mt_cPlus_lottQs            # mL of CS- yogurt \n",
    "\n",
    "\n",
    "allTrials_df = sim.pack_taskParameters(\n",
    "                st_refPs, st_lottPs, st_money_refQs, st_money_lottQs, st_cPlus_refQs, st_cPlus_lottQs,\n",
    "                st_cMinus_refQs, st_cMinus_lottQs, mt_refQs, mt_refPs, mt_lottPs, mt_cPlus_lottQs,\n",
    "                mt_cMinus_lottQs, uniqueLott_Nreps)\n",
    "\n",
    "print('Trials per type:\\n{}'.format(allTrials_df['trial_type'].value_counts()))"
   ]
  },
  {
   "cell_type": "markdown",
   "metadata": {},
   "source": [
    "## Initialization Parameters"
   ]
  },
  {
   "cell_type": "code",
   "execution_count": 11,
   "metadata": {},
   "outputs": [],
   "source": [
    "alphaMoney0 = 1\n",
    "alphaCplus0 = 1\n",
    "alphaCminus0 = 1\n",
    "st_betaMoney0 = 1 # also used in model with only one beta\n",
    "st_betaCplus0 = 1\n",
    "st_betaCminus0 = 1\n",
    "mt_betaCplus0 = 1\n",
    "mt_betaCminus0 = 1\n",
    "sFactorCplus0 = 1\n",
    "sFactorCminus0= 1\n",
    "\n",
    "\n",
    "x0_10params = (alphaMoney0, alphaCplus0, alphaCminus0, \n",
    "      st_betaMoney0, st_betaCplus0, st_betaCminus0, mt_betaCplus0, mt_betaCminus0,\n",
    "      sFactorCplus0, sFactorCminus0)\n",
    "\n",
    "x0_6params = (alphaMoney0, alphaCplus0, alphaCminus0, \n",
    "      st_betaMoney0,\n",
    "      sFactorCplus0, sFactorCminus0)"
   ]
  },
  {
   "cell_type": "markdown",
   "metadata": {},
   "source": [
    "## Run simulation and plot behaviour"
   ]
  },
  {
   "cell_type": "code",
   "execution_count": 55,
   "metadata": {},
   "outputs": [
    {
     "name": "stderr",
     "output_type": "stream",
     "text": [
      "100%|██████████| 100/100 [02:44<00:00,  1.64s/it]\n"
     ]
    },
    {
     "data": {
      "image/png": "[encoded data removed]",
      "text/plain": [
       "<Figure size 1171.27x720 with 6 Axes>"
      ]
     },
     "metadata": {},
     "output_type": "display_data"
    }
   ],
   "source": [
    "from tqdm import tqdm\n",
    "from numpy import random\n",
    "\n",
    "N_iter = 100\n",
    "x0 = x0_6params\n",
    "\n",
    "#                         (mean, sd, N_subs)\n",
    "mean_std_st_money_alpha = (0.7, 0.1, N_iter)\n",
    "mean_std_st_cPlus_alpha = (0.8, 0.1, N_iter)\n",
    "mean_std_st_cMinus_alpha = (0.8, 0.1, N_iter)\n",
    "mean_std_st_money_beta = (1.8, 0.3, N_iter)\n",
    "mean_std_st_cPlus_beta = mean_std_st_money_beta\n",
    "mean_std_st_cMinus_beta = mean_std_st_money_beta\n",
    "mean_std_mt_cPlus_beta = mean_std_st_money_beta\n",
    "mean_std_mt_cMinus_beta = mean_std_st_money_beta\n",
    "mean_std_cPlus_sFactor = (.2, 0.05, N_iter)\n",
    "mean_std_cMinus_sFactor = mean_std_cPlus_sFactor\n",
    "\n",
    "st_money_alpha_arr = abs(random.normal(*mean_std_st_money_alpha))\n",
    "st_cPlus_alpha_arr = abs(random.normal(*mean_std_st_cPlus_alpha))\n",
    "st_cMinus_alpha_arr = abs(random.normal(*mean_std_st_cMinus_alpha))\n",
    "st_money_beta_arr = abs(random.normal(*mean_std_st_money_beta))\n",
    "\n",
    "cPlus_sFactor_arr = abs(random.normal(*mean_std_cPlus_sFactor))\n",
    "cMinus_sFactor_arr = abs(random.normal(*mean_std_cMinus_sFactor))\n",
    "\n",
    "if x0 == x0_6params:\n",
    "    st_param_size = 4\n",
    "    mt_param_size = 2\n",
    "    st_cPlus_beta_arr = st_money_beta_arr\n",
    "    st_cMinus_beta_arr = st_money_beta_arr\n",
    "    mt_cPlus_beta_arr = st_money_beta_arr\n",
    "    mt_cMinus_beta_arr = st_money_beta_arr\n",
    "    \n",
    "    st_pars = np.stack([st_money_alpha_arr, st_cPlus_alpha_arr, st_cMinus_alpha_arr,\n",
    "                    st_money_beta_arr,] )\n",
    "\n",
    "    mt_pars = np.stack([cPlus_sFactor_arr, cMinus_sFactor_arr])\n",
    "    \n",
    "else:    \n",
    "    st_param_size = 6\n",
    "    mt_param_size = 4\n",
    "    st_cPlus_beta_arr = abs(random.normal(*mean_std_st_cPlus_beta))\n",
    "    st_cMinus_beta_arr = abs(random.normal(*mean_std_st_cMinus_beta))\n",
    "    mt_cPlus_beta_arr = abs(random.normal(*mean_std_mt_cPlus_beta))\n",
    "    mt_cMinus_beta_arr = abs(random.normal(*mean_std_mt_cMinus_beta))\n",
    "    \n",
    "    st_pars = np.stack([st_money_alpha_arr, st_cPlus_alpha_arr, st_cMinus_alpha_arr,\n",
    "                    st_money_beta_arr, st_cPlus_beta_arr, st_cMinus_beta_arr,\n",
    "                    ] )\n",
    "\n",
    "    mt_pars = np.stack([mt_cPlus_beta_arr, mt_cMinus_beta_arr,\n",
    "                        cPlus_sFactor_arr, cMinus_sFactor_arr])\n",
    "    \n",
    "st_flags = []\n",
    "mt_flags = []\n",
    "\n",
    "\n",
    "st_estPars = np.zeros((st_param_size, N_iter))\n",
    "mt_estPars = np.zeros((mt_param_size, N_iter))\n",
    "st_hessians = np.zeros((st_param_size, st_param_size, N_iter))\n",
    "mt_hessians = np.zeros((mt_param_size, mt_param_size, N_iter))\n",
    "\n",
    "import warnings\n",
    "warnings.filterwarnings(\"ignore\")\n",
    "\n",
    "for i in tqdm(range(N_iter)):\n",
    "    # Get parameters per participant\n",
    "    st_money_alpha = st_money_alpha_arr[i]\n",
    "    st_cPlus_alpha = st_cPlus_alpha_arr[i]\n",
    "    st_cMinus_alpha = st_cMinus_alpha_arr[i]\n",
    "    st_money_beta = st_money_beta_arr[i]\n",
    "    st_cPlus_beta = st_cPlus_beta_arr[i]\n",
    "    st_cMinus_beta = st_cMinus_beta_arr[i]\n",
    "    mt_cPlus_beta = mt_cPlus_beta_arr[i]\n",
    "    mt_cMinus_beta = mt_cMinus_beta_arr[i]\n",
    "    cPlus_sFactor = cPlus_sFactor_arr[i]\n",
    "    cMinus_sFactor = cMinus_sFactor_arr[i]\n",
    "\n",
    "    subjectTrials_df = sim.pack_subjectParameters(st_money_alpha, st_cPlus_alpha, st_cMinus_alpha, \n",
    "                                                  st_money_beta, st_cPlus_beta, st_cMinus_beta, \n",
    "                                                  mt_cPlus_beta, mt_cMinus_beta, \n",
    "                                                  cPlus_sFactor, cMinus_sFactor, \n",
    "                                                  allTrials_df)\n",
    "    \n",
    "    _subject_choiceCount_df = pd.DataFrame(subjectTrials_df[beahviour_cols].groupby(\n",
    "                    list(subjectTrials_df[beahviour_cols].columns[:-1])\n",
    "                    ).apply(\n",
    "                lambda df: get_probLottery(df)), \n",
    "                columns = [_v_.probLotteryChoice_colName]).reset_index()\n",
    "    _subject_choiceCount_df['iter'] = i\n",
    "\n",
    "    if x0 == x0_10params:\n",
    "        x0_ = (st_money_alpha, st_cPlus_alpha, st_cMinus_alpha, \n",
    "                st_money_beta, st_cPlus_beta, st_cMinus_beta, \n",
    "                mt_cPlus_beta, mt_cMinus_beta, \n",
    "                cPlus_sFactor, cMinus_sFactor)\n",
    "    else:\n",
    "        x0_ = (st_money_alpha, st_cPlus_alpha, st_cMinus_alpha, \n",
    "                st_money_beta, \n",
    "                cPlus_sFactor, cMinus_sFactor)\n",
    "    \n",
    "    res_st, res_mt, _st_iterParams_df, _mt_iterParams_df = sim.stepwise_estimate(subjectTrials_df, x0_)\n",
    "\n",
    "    _st_iterParams_df = _st_iterParams_df.reset_index().rename(columns={'index':'estim. iter'},)\n",
    "    _st_iterParams_df['iter'] = i\n",
    "    \n",
    "    _mt_iterParams_df = _mt_iterParams_df.reset_index().rename(columns={'index':'estim. iter'},)\n",
    "    _mt_iterParams_df['iter'] = i\n",
    "\n",
    "    if i == 0:\n",
    "        st_iterParams_df = _st_iterParams_df\n",
    "        mt_iterParams_df = _mt_iterParams_df\n",
    "        subject_choiceCount_df = _subject_choiceCount_df\n",
    "    else:\n",
    "        st_iterParams_df = pd.concat([st_iterParams_df, _st_iterParams_df], axis = 0)\n",
    "        mt_iterParams_df = pd.concat([mt_iterParams_df, _mt_iterParams_df], axis = 0)\n",
    "        subject_choiceCount_df = pd.concat([subject_choiceCount_df, _subject_choiceCount_df], axis = 0)\n",
    "    \n",
    "    st_flags.append(res_st.message)\n",
    "    mt_flags.append(res_mt.message)\n",
    "\n",
    "    st_estPars[:, i] = res_st.x\n",
    "    st_hessians[:, :, i] = res_st.hess_inv\n",
    "    mt_estPars[:, i] = res_mt.x\n",
    "    mt_hessians[:, :, i] = res_mt.hess_inv\n",
    "\n",
    "    \n",
    "sns.set(font_scale=1.5)\n",
    "g = sns.relplot(\n",
    "    data=subject_choiceCount_df.reset_index(drop=True), x=beahviour_cols[-3], y=_v_.probLotteryChoice_colName, \n",
    "    col=\"lott_type\", row = 'trial_type',\n",
    "    hue=\"lott_prob\", style=\"lott_prob\", kind=\"line\",facet_kws={'sharex': False, 'margin_titles' : True},\n",
    "\n",
    ")\n",
    "\n",
    "g.fig.suptitle('Behaviour across simulated subjects\\nmean and 95%CI (N={})'.format(N_iter), va='bottom');"
   ]
  },
  {
   "cell_type": "code",
   "execution_count": 59,
   "metadata": {},
   "outputs": [
    {
     "data": {
      "text/plain": [
       "['Optimization terminated successfully.',\n",
       " 'Optimization terminated successfully.',\n",
       " 'Optimization terminated successfully.',\n",
       " 'Optimization terminated successfully.',\n",
       " 'Optimization terminated successfully.',\n",
       " 'Optimization terminated successfully.',\n",
       " 'Optimization terminated successfully.',\n",
       " 'Optimization terminated successfully.',\n",
       " 'Optimization terminated successfully.',\n",
       " 'Optimization terminated successfully.',\n",
       " 'Optimization terminated successfully.',\n",
       " 'Optimization terminated successfully.',\n",
       " 'Optimization terminated successfully.',\n",
       " 'Optimization terminated successfully.',\n",
       " 'Optimization terminated successfully.',\n",
       " 'Optimization terminated successfully.',\n",
       " 'Desired error not necessarily achieved due to precision loss.',\n",
       " 'Optimization terminated successfully.',\n",
       " 'Optimization terminated successfully.',\n",
       " 'Optimization terminated successfully.',\n",
       " 'Optimization terminated successfully.',\n",
       " 'Optimization terminated successfully.',\n",
       " 'Optimization terminated successfully.',\n",
       " 'Optimization terminated successfully.',\n",
       " 'Optimization terminated successfully.',\n",
       " 'Optimization terminated successfully.',\n",
       " 'Optimization terminated successfully.',\n",
       " 'Optimization terminated successfully.',\n",
       " 'Optimization terminated successfully.',\n",
       " 'Optimization terminated successfully.',\n",
       " 'Optimization terminated successfully.',\n",
       " 'Optimization terminated successfully.',\n",
       " 'Optimization terminated successfully.',\n",
       " 'Desired error not necessarily achieved due to precision loss.',\n",
       " 'Optimization terminated successfully.',\n",
       " 'Optimization terminated successfully.',\n",
       " 'Optimization terminated successfully.',\n",
       " 'Optimization terminated successfully.',\n",
       " 'Optimization terminated successfully.',\n",
       " 'Optimization terminated successfully.',\n",
       " 'Optimization terminated successfully.',\n",
       " 'Optimization terminated successfully.',\n",
       " 'Desired error not necessarily achieved due to precision loss.',\n",
       " 'Optimization terminated successfully.',\n",
       " 'Optimization terminated successfully.',\n",
       " 'Desired error not necessarily achieved due to precision loss.',\n",
       " 'Optimization terminated successfully.',\n",
       " 'Optimization terminated successfully.',\n",
       " 'Optimization terminated successfully.',\n",
       " 'Optimization terminated successfully.',\n",
       " 'Optimization terminated successfully.',\n",
       " 'Optimization terminated successfully.',\n",
       " 'Optimization terminated successfully.',\n",
       " 'Optimization terminated successfully.',\n",
       " 'Optimization terminated successfully.',\n",
       " 'Optimization terminated successfully.',\n",
       " 'Optimization terminated successfully.',\n",
       " 'Optimization terminated successfully.',\n",
       " 'Optimization terminated successfully.',\n",
       " 'Optimization terminated successfully.',\n",
       " 'Optimization terminated successfully.',\n",
       " 'Optimization terminated successfully.',\n",
       " 'Optimization terminated successfully.',\n",
       " 'Optimization terminated successfully.',\n",
       " 'Optimization terminated successfully.',\n",
       " 'Optimization terminated successfully.',\n",
       " 'Optimization terminated successfully.',\n",
       " 'Optimization terminated successfully.',\n",
       " 'Optimization terminated successfully.',\n",
       " 'Optimization terminated successfully.',\n",
       " 'Optimization terminated successfully.',\n",
       " 'Optimization terminated successfully.',\n",
       " 'Optimization terminated successfully.',\n",
       " 'Optimization terminated successfully.',\n",
       " 'Optimization terminated successfully.',\n",
       " 'Desired error not necessarily achieved due to precision loss.',\n",
       " 'Optimization terminated successfully.',\n",
       " 'Optimization terminated successfully.',\n",
       " 'Optimization terminated successfully.',\n",
       " 'Optimization terminated successfully.',\n",
       " 'Optimization terminated successfully.',\n",
       " 'Optimization terminated successfully.',\n",
       " 'Optimization terminated successfully.',\n",
       " 'Optimization terminated successfully.',\n",
       " 'Optimization terminated successfully.',\n",
       " 'Optimization terminated successfully.',\n",
       " 'Optimization terminated successfully.',\n",
       " 'Optimization terminated successfully.',\n",
       " 'Optimization terminated successfully.',\n",
       " 'Optimization terminated successfully.',\n",
       " 'Optimization terminated successfully.',\n",
       " 'Desired error not necessarily achieved due to precision loss.',\n",
       " 'Optimization terminated successfully.',\n",
       " 'Optimization terminated successfully.',\n",
       " 'Optimization terminated successfully.',\n",
       " 'Optimization terminated successfully.',\n",
       " 'Optimization terminated successfully.',\n",
       " 'Optimization terminated successfully.',\n",
       " 'Optimization terminated successfully.',\n",
       " 'Optimization terminated successfully.']"
      ]
     },
     "execution_count": 59,
     "metadata": {},
     "output_type": "execute_result"
    }
   ],
   "source": [
    "st_flags"
   ]
  },
  {
   "cell_type": "markdown",
   "metadata": {},
   "source": [
    "## Pack same type trials results and plot parameters"
   ]
  },
  {
   "cell_type": "code",
   "execution_count": 63,
   "metadata": {},
   "outputs": [
    {
     "name": "stdout",
     "output_type": "stream",
     "text": [
      "['Optimization terminated successfully.', 'Optimization terminated successfully.', 'Optimization terminated successfully.', 'Optimization terminated successfully.', 'Optimization terminated successfully.', 'Optimization terminated successfully.', 'Optimization terminated successfully.', 'Optimization terminated successfully.', 'Optimization terminated successfully.', 'Optimization terminated successfully.', 'Optimization terminated successfully.', 'Optimization terminated successfully.', 'Optimization terminated successfully.', 'Optimization terminated successfully.', 'Optimization terminated successfully.', 'Optimization terminated successfully.', 'Desired error not necessarily achieved due to precision loss.', 'Optimization terminated successfully.', 'Optimization terminated successfully.', 'Optimization terminated successfully.', 'Optimization terminated successfully.', 'Optimization terminated successfully.', 'Optimization terminated successfully.', 'Optimization terminated successfully.', 'Optimization terminated successfully.', 'Optimization terminated successfully.', 'Optimization terminated successfully.', 'Optimization terminated successfully.', 'Optimization terminated successfully.', 'Optimization terminated successfully.', 'Optimization terminated successfully.', 'Optimization terminated successfully.', 'Optimization terminated successfully.', 'Desired error not necessarily achieved due to precision loss.', 'Optimization terminated successfully.', 'Optimization terminated successfully.', 'Optimization terminated successfully.', 'Optimization terminated successfully.', 'Optimization terminated successfully.', 'Optimization terminated successfully.', 'Optimization terminated successfully.', 'Optimization terminated successfully.', 'Desired error not necessarily achieved due to precision loss.', 'Optimization terminated successfully.', 'Optimization terminated successfully.', 'Desired error not necessarily achieved due to precision loss.', 'Optimization terminated successfully.', 'Optimization terminated successfully.', 'Optimization terminated successfully.', 'Optimization terminated successfully.', 'Optimization terminated successfully.', 'Optimization terminated successfully.', 'Optimization terminated successfully.', 'Optimization terminated successfully.', 'Optimization terminated successfully.', 'Optimization terminated successfully.', 'Optimization terminated successfully.', 'Optimization terminated successfully.', 'Optimization terminated successfully.', 'Optimization terminated successfully.', 'Optimization terminated successfully.', 'Optimization terminated successfully.', 'Optimization terminated successfully.', 'Optimization terminated successfully.', 'Optimization terminated successfully.', 'Optimization terminated successfully.', 'Optimization terminated successfully.', 'Optimization terminated successfully.', 'Optimization terminated successfully.', 'Optimization terminated successfully.', 'Optimization terminated successfully.', 'Optimization terminated successfully.', 'Optimization terminated successfully.', 'Optimization terminated successfully.', 'Optimization terminated successfully.', 'Desired error not necessarily achieved due to precision loss.', 'Optimization terminated successfully.', 'Optimization terminated successfully.', 'Optimization terminated successfully.', 'Optimization terminated successfully.', 'Optimization terminated successfully.', 'Optimization terminated successfully.', 'Optimization terminated successfully.', 'Optimization terminated successfully.', 'Optimization terminated successfully.', 'Optimization terminated successfully.', 'Optimization terminated successfully.', 'Optimization terminated successfully.', 'Optimization terminated successfully.', 'Optimization terminated successfully.', 'Optimization terminated successfully.', 'Desired error not necessarily achieved due to precision loss.', 'Optimization terminated successfully.', 'Optimization terminated successfully.', 'Optimization terminated successfully.', 'Optimization terminated successfully.', 'Optimization terminated successfully.', 'Optimization terminated successfully.', 'Optimization terminated successfully.', 'Optimization terminated successfully.']\n"
     ]
    }
   ],
   "source": [
    "print(st_flags)"
   ]
  },
  {
   "cell_type": "code",
   "execution_count": 64,
   "metadata": {
    "scrolled": true
   },
   "outputs": [
    {
     "data": {
      "text/html": [
       "<div>\n",
       "<style scoped>\n",
       "    .dataframe tbody tr th:only-of-type {\n",
       "        vertical-align: middle;\n",
       "    }\n",
       "\n",
       "    .dataframe tbody tr th {\n",
       "        vertical-align: top;\n",
       "    }\n",
       "\n",
       "    .dataframe thead th {\n",
       "        text-align: right;\n",
       "    }\n",
       "</style>\n",
       "<table border=\"1\" class=\"dataframe\">\n",
       "  <thead>\n",
       "    <tr style=\"text-align: right;\">\n",
       "      <th></th>\n",
       "      <th>iter</th>\n",
       "      <th>parameter</th>\n",
       "      <th>Observed value</th>\n",
       "      <th>Predicted value</th>\n",
       "      <th>model fit</th>\n",
       "    </tr>\n",
       "  </thead>\n",
       "  <tbody>\n",
       "    <tr>\n",
       "      <th>0</th>\n",
       "      <td>0</td>\n",
       "      <td>Money alpha</td>\n",
       "      <td>0.696792</td>\n",
       "      <td>0.720337</td>\n",
       "      <td>Optimization terminated successfully.</td>\n",
       "    </tr>\n",
       "    <tr>\n",
       "      <th>1</th>\n",
       "      <td>0</td>\n",
       "      <td>CS+ alpha</td>\n",
       "      <td>0.708725</td>\n",
       "      <td>0.739247</td>\n",
       "      <td>Optimization terminated successfully.</td>\n",
       "    </tr>\n",
       "    <tr>\n",
       "      <th>2</th>\n",
       "      <td>0</td>\n",
       "      <td>CS- alpha</td>\n",
       "      <td>0.705707</td>\n",
       "      <td>0.695874</td>\n",
       "      <td>Optimization terminated successfully.</td>\n",
       "    </tr>\n",
       "    <tr>\n",
       "      <th>3</th>\n",
       "      <td>0</td>\n",
       "      <td>beta</td>\n",
       "      <td>1.722637</td>\n",
       "      <td>1.524419</td>\n",
       "      <td>Optimization terminated successfully.</td>\n",
       "    </tr>\n",
       "    <tr>\n",
       "      <th>4</th>\n",
       "      <td>1</td>\n",
       "      <td>Money alpha</td>\n",
       "      <td>0.831191</td>\n",
       "      <td>0.812460</td>\n",
       "      <td>Optimization terminated successfully.</td>\n",
       "    </tr>\n",
       "    <tr>\n",
       "      <th>...</th>\n",
       "      <td>...</td>\n",
       "      <td>...</td>\n",
       "      <td>...</td>\n",
       "      <td>...</td>\n",
       "      <td>...</td>\n",
       "    </tr>\n",
       "    <tr>\n",
       "      <th>395</th>\n",
       "      <td>98</td>\n",
       "      <td>beta</td>\n",
       "      <td>1.531069</td>\n",
       "      <td>1.707565</td>\n",
       "      <td>Optimization terminated successfully.</td>\n",
       "    </tr>\n",
       "    <tr>\n",
       "      <th>396</th>\n",
       "      <td>99</td>\n",
       "      <td>Money alpha</td>\n",
       "      <td>0.584848</td>\n",
       "      <td>0.609020</td>\n",
       "      <td>Optimization terminated successfully.</td>\n",
       "    </tr>\n",
       "    <tr>\n",
       "      <th>397</th>\n",
       "      <td>99</td>\n",
       "      <td>CS+ alpha</td>\n",
       "      <td>0.772056</td>\n",
       "      <td>0.773965</td>\n",
       "      <td>Optimization terminated successfully.</td>\n",
       "    </tr>\n",
       "    <tr>\n",
       "      <th>398</th>\n",
       "      <td>99</td>\n",
       "      <td>CS- alpha</td>\n",
       "      <td>0.825385</td>\n",
       "      <td>0.823440</td>\n",
       "      <td>Optimization terminated successfully.</td>\n",
       "    </tr>\n",
       "    <tr>\n",
       "      <th>399</th>\n",
       "      <td>99</td>\n",
       "      <td>beta</td>\n",
       "      <td>1.832773</td>\n",
       "      <td>1.471530</td>\n",
       "      <td>Optimization terminated successfully.</td>\n",
       "    </tr>\n",
       "  </tbody>\n",
       "</table>\n",
       "<p>400 rows × 5 columns</p>\n",
       "</div>"
      ],
      "text/plain": [
       "     iter    parameter  Observed value  Predicted value  \\\n",
       "0       0  Money alpha        0.696792         0.720337   \n",
       "1       0    CS+ alpha        0.708725         0.739247   \n",
       "2       0    CS- alpha        0.705707         0.695874   \n",
       "3       0         beta        1.722637         1.524419   \n",
       "4       1  Money alpha        0.831191         0.812460   \n",
       "..    ...          ...             ...              ...   \n",
       "395    98         beta        1.531069         1.707565   \n",
       "396    99  Money alpha        0.584848         0.609020   \n",
       "397    99    CS+ alpha        0.772056         0.773965   \n",
       "398    99    CS- alpha        0.825385         0.823440   \n",
       "399    99         beta        1.832773         1.471530   \n",
       "\n",
       "                                 model fit  \n",
       "0    Optimization terminated successfully.  \n",
       "1    Optimization terminated successfully.  \n",
       "2    Optimization terminated successfully.  \n",
       "3    Optimization terminated successfully.  \n",
       "4    Optimization terminated successfully.  \n",
       "..                                     ...  \n",
       "395  Optimization terminated successfully.  \n",
       "396  Optimization terminated successfully.  \n",
       "397  Optimization terminated successfully.  \n",
       "398  Optimization terminated successfully.  \n",
       "399  Optimization terminated successfully.  \n",
       "\n",
       "[400 rows x 5 columns]"
      ]
     },
     "execution_count": 64,
     "metadata": {},
     "output_type": "execute_result"
    }
   ],
   "source": [
    "st_success_df = pd.DataFrame(st_flags, columns = ['model fit'])\n",
    "st_success_df.index.name = 'iter'\n",
    "\n",
    "if x0 == x0_6params:\n",
    "    st_params_colNames = ['Money alpha', 'CS+ alpha', 'CS- alpha', \n",
    "                      'beta']\n",
    "else:\n",
    "    st_params_colNames = ['Money alpha', 'CS+ alpha', 'CS- alpha', \n",
    "                      'Money beta', 'CS+ ST beta', 'CS- ST beta']\n",
    "\n",
    "\n",
    "st_params_df = pd.DataFrame(st_pars).T\n",
    "st_params_df.columns= st_params_colNames\n",
    "st_params_df.index.name = 'iter'\n",
    "st_params_df = st_params_df.reset_index().melt(id_vars = 'iter', var_name = 'parameter', value_name = 'Observed value')\n",
    "\n",
    "\n",
    "st_estParams_df = pd.DataFrame(st_estPars).T\n",
    "st_estParams_df.columns= st_params_colNames\n",
    "st_estParams_df.index.name = 'iter'\n",
    "st_estParams_df = st_estParams_df.reset_index().melt(id_vars = 'iter', var_name = 'parameter', value_name = 'Predicted value')\n",
    "\n",
    "st_po_df = st_params_df.merge(st_estParams_df, on= ['iter','parameter'])\n",
    "st_po_df = st_po_df.merge(st_success_df.reset_index(),on='iter')\n",
    "st_po_df"
   ]
  },
  {
   "cell_type": "code",
   "execution_count": 66,
   "metadata": {},
   "outputs": [
    {
     "name": "stdout",
     "output_type": "stream",
     "text": [
      "['Optimization terminated successfully.'\n",
      " 'Desired error not necessarily achieved due to precision loss.']\n"
     ]
    },
    {
     "data": {
      "text/html": [
       "<div>\n",
       "<style scoped>\n",
       "    .dataframe tbody tr th:only-of-type {\n",
       "        vertical-align: middle;\n",
       "    }\n",
       "\n",
       "    .dataframe tbody tr th {\n",
       "        vertical-align: top;\n",
       "    }\n",
       "\n",
       "    .dataframe thead th {\n",
       "        text-align: right;\n",
       "    }\n",
       "</style>\n",
       "<table border=\"1\" class=\"dataframe\">\n",
       "  <thead>\n",
       "    <tr style=\"text-align: right;\">\n",
       "      <th></th>\n",
       "      <th>min</th>\n",
       "      <th>max</th>\n",
       "    </tr>\n",
       "    <tr>\n",
       "      <th>parameter</th>\n",
       "      <th></th>\n",
       "      <th></th>\n",
       "    </tr>\n",
       "  </thead>\n",
       "  <tbody>\n",
       "    <tr>\n",
       "      <th>Money alpha</th>\n",
       "      <td>0.484697</td>\n",
       "      <td>0.954904</td>\n",
       "    </tr>\n",
       "    <tr>\n",
       "      <th>CS+ alpha</th>\n",
       "      <td>0.509414</td>\n",
       "      <td>1.072427</td>\n",
       "    </tr>\n",
       "    <tr>\n",
       "      <th>CS- alpha</th>\n",
       "      <td>0.627950</td>\n",
       "      <td>1.020012</td>\n",
       "    </tr>\n",
       "    <tr>\n",
       "      <th>beta</th>\n",
       "      <td>1.051817</td>\n",
       "      <td>2.697419</td>\n",
       "    </tr>\n",
       "  </tbody>\n",
       "</table>\n",
       "</div>"
      ],
      "text/plain": [
       "                  min       max\n",
       "parameter                      \n",
       "Money alpha  0.484697  0.954904\n",
       "CS+ alpha    0.509414  1.072427\n",
       "CS- alpha    0.627950  1.020012\n",
       "beta         1.051817  2.697419"
      ]
     },
     "execution_count": 66,
     "metadata": {},
     "output_type": "execute_result"
    }
   ],
   "source": [
    "print(st_po_df['model fit'].unique())\n",
    "st_pars_minMax = st_po_df[['parameter', 'Observed value']].groupby('parameter').describe().droplevel(0,axis = 1)[['min','max']].reindex(st_params_colNames)\n",
    "st_pars_minMax"
   ]
  },
  {
   "cell_type": "code",
   "execution_count": 85,
   "metadata": {
    "tags": []
   },
   "outputs": [
    {
     "data": {
      "application/vnd.plotly.v1+json": {
       "config": {
        "plotlyServerURL": "https://plot.ly"
       },
       "data": [
        {
         "hovertemplate": "model fit=Optimization terminated successfully.<br>parameter=Money alpha<br>Predicted value=%{x}<br>Observed value=%{y}<extra></extra>",
         "legendgroup": "Optimization terminated successfully.",
         "marker": {
          "color": "#636efa",
          "symbol": "circle"
         },
         "mode": "markers",
         "name": "Optimization terminated successfully.",
         "orientation": "v",
         "showlegend": true,
         "type": "scatter",
         "x": [
          0.7203367144401329,
          0.8124597761423944,
          0.8454328341065889,
          0.8080384533252494,
          0.6784640851667745,
          0.6151949241134315,
          0.760732369784303,
          0.5848203719166166,
          0.6335408039030582,
          0.5908394099174874,
          0.7115856471781622,
          0.6384504694986929,
          0.7982508830415711,
          0.7879538567966432,
          0.8356322088181593,
          0.7430619414879049,
          0.6459617726609157,
          0.5933150617477054,
          0.643174147122192,
          0.6171787666071851,
          0.6251367370053637,
          0.7101080750778288,
          0.7441252909523648,
          0.8203118295401047,
          0.6841744399413746,
          0.9567410274606836,
          0.8448787105644849,
          0.8911430656941958,
          0.6896660693706818,
          0.7534535166476536,
          0.7691739998276363,
          0.6041719799777918,
          0.6914681668269959,
          0.7919420896456627,
          0.7989717907911832,
          0.6907389431121305,
          0.4771607703720914,
          0.8396182038723139,
          0.7045311486718598,
          0.6174488709087766,
          1.0050833079097046,
          0.5186054222328098,
          0.6150236657863808,
          0.6054612077699364,
          0.7449117256444248,
          0.533891942436713,
          0.7994445976037687,
          0.442369858384326,
          0.8004021525362154,
          0.5758167227631533,
          0.5318699234603996,
          0.8208126324957101,
          0.6437198808486353,
          0.727898142708593,
          0.8431960569552546,
          0.5338825357181074,
          0.8014161208561007,
          0.7179366428608587,
          0.5934166959028153,
          0.5295883733571015,
          0.6091163351324419,
          0.8323997757213123,
          0.5536389669443924,
          0.8397767436224617,
          0.7201559626579005,
          0.7293335258294819,
          0.8189259263535703,
          0.6419596595575844,
          0.5970153247437857,
          0.6321631407682818,
          0.774993855749538,
          0.6430244973063788,
          0.8142975384695649,
          0.772256607116769,
          0.8417397976865626,
          0.9550744335355783,
          0.7453828092063793,
          0.6526771420837025,
          0.6112834405057012,
          0.7864022117079875,
          0.7452880412401693,
          0.6784170217104515,
          0.8004008463373068,
          0.719458524017975,
          0.7603768108270209,
          0.417561717170401,
          0.7626209451620758,
          0.7480142546862092,
          0.9754687610084783,
          0.7242224012140879,
          0.6622691380647558,
          0.8017689608445705,
          0.5366247014479707,
          0.6090198990693262
         ],
         "xaxis": "x4",
         "y": [
          0.6967916942878281,
          0.8311908784859499,
          0.8723868368134485,
          0.7316968037069683,
          0.7487892293620841,
          0.6246676889096006,
          0.7637055480922983,
          0.6063305898843473,
          0.7121919781529028,
          0.5892539290955277,
          0.7447468085806828,
          0.631556574849749,
          0.7903776474949915,
          0.7705844958861319,
          0.8405891081239767,
          0.7854887838817572,
          0.7537651725317234,
          0.6287098367890203,
          0.7550955408086754,
          0.629435481672927,
          0.6685707452659736,
          0.7476838369116667,
          0.7127027131656855,
          0.7999061726500246,
          0.6768435986217489,
          0.883378354090016,
          0.8014053370478459,
          0.7890182417582149,
          0.675878188688747,
          0.7402986439120093,
          0.7481515827959705,
          0.6979012062333844,
          0.6610157947917157,
          0.8742227474349183,
          0.8065739999812289,
          0.685388336972262,
          0.5495981125611267,
          0.8347937445872589,
          0.6045179316784772,
          0.6473907399661153,
          0.8755037282380409,
          0.4959868992170572,
          0.6574026987632984,
          0.6209796117868732,
          0.7118939209345406,
          0.6667885021775696,
          0.7870011778668554,
          0.4846974838496946,
          0.764285176665857,
          0.5861652301917135,
          0.6292927220919208,
          0.7852117555799801,
          0.6747756649269799,
          0.7279220391456644,
          0.8657091920998022,
          0.5932935028183612,
          0.7462007650986665,
          0.7143621282875102,
          0.6955118154763203,
          0.5841257872512918,
          0.6158878460152957,
          0.8549780820817656,
          0.555636441731906,
          0.8508447839362265,
          0.727815787726533,
          0.7016509577025835,
          0.7257799988981459,
          0.7011751355479015,
          0.6410696807869416,
          0.7254302861679209,
          0.69632017070696,
          0.5897462886783361,
          0.7514204249957983,
          0.7887675785244594,
          0.8187047462242218,
          0.9549039256381022,
          0.7293109811691131,
          0.663489734343459,
          0.67605984143296,
          0.7350440150258953,
          0.7452548368319034,
          0.6586839587855743,
          0.7998555787406576,
          0.7242230715529526,
          0.8187922540140701,
          0.5078086112400046,
          0.7325835425944325,
          0.7842706818810528,
          0.9315605324844323,
          0.7480061209873872,
          0.6471245753344006,
          0.7963237654238593,
          0.5631004039491309,
          0.5848477716295322
         ],
         "yaxis": "y4"
        },
        {
         "hovertemplate": "model fit=Optimization terminated successfully.<br>parameter=CS+ alpha<br>Predicted value=%{x}<br>Observed value=%{y}<extra></extra>",
         "legendgroup": "Optimization terminated successfully.",
         "marker": {
          "color": "#636efa",
          "symbol": "circle"
         },
         "mode": "markers",
         "name": "Optimization terminated successfully.",
         "orientation": "v",
         "showlegend": false,
         "type": "scatter",
         "x": [
          0.7392468632605221,
          0.620651884480061,
          0.9755119601159897,
          0.6029158572406994,
          0.6953428000735623,
          0.716496351858461,
          0.785435944302842,
          0.7108198297972881,
          0.999198061016555,
          0.7273938633054217,
          0.6104829384693162,
          0.813113124343323,
          0.9008360425388385,
          1.0925313939536245,
          0.9294470836575839,
          0.673416499615478,
          0.8242275233483034,
          0.8097138710390266,
          0.6777065053923039,
          0.8088352975460273,
          0.8396891885171544,
          0.7316008993639418,
          1.0383019382426728,
          0.6149483870656993,
          0.8867572691986089,
          0.6633325908685442,
          0.7737633247586493,
          0.6358331890244932,
          0.7283026733207858,
          0.9755358444224982,
          1.0828556533291724,
          0.7611534479232726,
          0.9663669825623574,
          0.9081083035607321,
          0.6119696316736748,
          0.9445411210365047,
          0.8766219728210877,
          0.8631825775646262,
          0.8228319317340297,
          0.7225739828801085,
          0.8553350957597933,
          0.7238438306307796,
          0.7204702295660409,
          0.6780145217977277,
          0.7815106813220905,
          0.9978349984119234,
          0.7098820502280467,
          0.5819754766267834,
          0.6631203202975106,
          0.8862242001253196,
          0.8401272462620126,
          0.7326110369596176,
          0.7803587813951997,
          0.7800962812356881,
          0.8111379295209593,
          0.8415030007676415,
          0.8186758926112873,
          0.8696901694607868,
          0.8043501021005299,
          0.804022656433668,
          1.038465674979987,
          0.7571913999736519,
          0.7858248094475532,
          0.778724688797,
          0.6065925069846141,
          0.8257862985775987,
          0.7418274427813084,
          0.8387774803729651,
          0.7669838393657405,
          0.6850630313285897,
          1.0398297784252595,
          0.7364768921308757,
          0.7395424896324015,
          0.7066338056328008,
          0.8283553643928121,
          0.7814579581916119,
          0.7595676370058314,
          0.7448606534958435,
          0.7845536309409067,
          0.6472383185963948,
          0.7891471987859002,
          0.7499926493963137,
          0.7856010229598285,
          0.5034615752885886,
          0.8096569933233589,
          0.7111118802931001,
          0.7520126258108625,
          0.8256072420567934,
          0.7951506677253436,
          0.7164589168369692,
          0.9722766537199338,
          0.619648093405494,
          0.7274793789702239,
          0.7739651822567967
         ],
         "xaxis": "x5",
         "y": [
          0.7087251856965866,
          0.6257799469405447,
          1.0007843531593186,
          0.5900765781930114,
          0.632394026462711,
          0.7107799403396559,
          0.7944880152299468,
          0.7002948627408982,
          0.9841598281974772,
          0.6815448079668638,
          0.5985176425823557,
          0.8181145837290392,
          0.8951215642950512,
          1.0724267690365594,
          0.9248575073596397,
          0.6486478823888998,
          0.8282516119628356,
          0.7904720022382212,
          0.6742638640796254,
          0.8192308947943358,
          0.8202523646374326,
          0.7303192587304012,
          1.0661522650984154,
          0.6357781932177732,
          0.8680074541957166,
          0.6627636833267058,
          0.7757923248765657,
          0.5886706634787403,
          0.715660810101616,
          0.8948881229289956,
          1.0713787773375008,
          0.7890642769781967,
          0.9451555576677153,
          0.9272773527036016,
          0.6276012916662559,
          0.956440276503491,
          0.8762363729754855,
          0.8500080205030003,
          0.8495628056791491,
          0.7402903108200208,
          0.8698536710915115,
          0.7437392220131949,
          0.7147658761663336,
          0.6745733438411915,
          0.7803020425679327,
          0.9811526255935641,
          0.6952238734773531,
          0.5783564008503318,
          0.6467205370917771,
          0.8841576210710488,
          0.8264007413952574,
          0.761622500047461,
          0.7782499913842201,
          0.8116136110614396,
          0.8261264290904646,
          0.8180864483802809,
          0.8490854625317799,
          0.8682173260310001,
          0.7818331024121732,
          0.8079402819929254,
          1.0498125151702025,
          0.7888909238920461,
          0.8327257530652121,
          0.7855925881219349,
          0.647752915395716,
          0.8000837892088094,
          0.7995345011669951,
          0.8176947699069693,
          0.7421057073156844,
          0.6698959002897275,
          1.0361837520394894,
          0.7134148738424275,
          0.7357249300852929,
          0.75896454740773,
          0.8300063771811884,
          0.774400755330018,
          0.7550438379130325,
          0.7282819774841536,
          0.7973292169532509,
          0.6544036285563196,
          0.799898525740641,
          0.7603527837437113,
          0.8035163212058672,
          0.5094136228266737,
          0.8334125138602786,
          0.7338959281729107,
          0.7280564029941492,
          0.8138009989954751,
          0.8227370349670866,
          0.7466377096464099,
          0.9191259220843829,
          0.6246251873288465,
          0.7306476263184352,
          0.7720564747271438
         ],
         "yaxis": "y5"
        },
        {
         "hovertemplate": "model fit=Optimization terminated successfully.<br>parameter=CS- alpha<br>Predicted value=%{x}<br>Observed value=%{y}<extra></extra>",
         "legendgroup": "Optimization terminated successfully.",
         "marker": {
          "color": "#636efa",
          "symbol": "circle"
         },
         "mode": "markers",
         "name": "Optimization terminated successfully.",
         "orientation": "v",
         "showlegend": false,
         "type": "scatter",
         "x": [
          0.6958742240896432,
          0.8475249893223861,
          0.6292859955463906,
          0.827016202768505,
          0.9443967064612387,
          0.7873218210496599,
          0.8381065644690113,
          0.7863463949581795,
          0.8396324181564224,
          0.7273938625909551,
          0.8760031400534669,
          0.763886434561059,
          0.893829020468311,
          0.6538350336065574,
          0.9740186533571084,
          0.6731683548198325,
          0.7394892187807204,
          0.8386085375804261,
          0.7935517492143501,
          0.8054288108557016,
          0.702129030163828,
          0.7892363586687398,
          0.7486465964193706,
          0.6576139297799722,
          0.8206243528562508,
          0.9349160211127246,
          0.6924184683735997,
          0.9447600459329387,
          0.7855497478221057,
          0.8815709656579256,
          1.0602874286098765,
          0.8371331687026314,
          0.8702097934871976,
          0.7046725929139811,
          0.757448633394198,
          0.6525967259888512,
          0.7741974394112681,
          0.8057936444178845,
          0.7471677872210178,
          0.9507963169573993,
          0.8609534297992796,
          0.9803651010574382,
          0.6767961641497625,
          0.6620703079819925,
          0.8581325073928032,
          0.8580428819562687,
          0.6561360606577678,
          0.9666429154951631,
          0.768558935741205,
          0.8020323246728378,
          0.6397077919955735,
          0.7818561540696325,
          0.8824979933966998,
          0.7367187658797405,
          0.8291204272866906,
          0.9786568056570002,
          0.8960764685185435,
          0.839131228920658,
          0.8021393442982616,
          0.747818453409054,
          0.8020449287895244,
          0.758469068519472,
          0.7001486688591171,
          0.8964113467930986,
          0.6675536362188825,
          0.73691817621115,
          0.7510263902218929,
          0.703735708233393,
          0.7296513399595617,
          0.9024478120615999,
          0.7009172115713755,
          1.020115313168828,
          0.7044310069168471,
          0.8267887192321297,
          0.8486284389198258,
          0.8400666945302314,
          0.8329733764689456,
          0.9667629401425398,
          0.7806296478960915,
          0.7434073688041659,
          0.7800975542500835,
          0.7859844460637067,
          0.8110872456544225,
          0.9998990549478031,
          0.6692896673467521,
          0.7226610538451352,
          0.8969283613193052,
          0.781903926654918,
          0.8060666685379655,
          0.9444267477322423,
          0.8668278199007384,
          0.7465796937264976,
          0.8689104381573954,
          0.8234399446263798
         ],
         "xaxis": "x6",
         "y": [
          0.7057074815151831,
          0.8244219893079074,
          0.6279501923347687,
          0.8390723065889648,
          0.9758675241194457,
          0.7820222227300759,
          0.832036956993654,
          0.7727584468056383,
          0.8510958130848405,
          0.7241301573037585,
          0.8790861709549853,
          0.7968526669686729,
          0.8779064362556268,
          0.6453893494463319,
          0.9434730112889852,
          0.6733231686984052,
          0.7222338111952217,
          0.8451236389778598,
          0.7543241999880785,
          0.7836042658898641,
          0.7388157009012093,
          0.8140479124845118,
          0.7678674893628159,
          0.6629185227662722,
          0.8355092514406139,
          0.952612173509135,
          0.6582456495289253,
          0.9331491938747958,
          0.7558375762269889,
          0.8868697006988158,
          1.0200115944785406,
          0.8142336729426466,
          0.8662826993836145,
          0.6916162789805096,
          0.7673967874561483,
          0.6708399200441569,
          0.7451490405514829,
          0.7891242881190217,
          0.7622120796902302,
          0.9356740395069151,
          0.8607392112383881,
          0.9629671647661927,
          0.6711822846140615,
          0.6452665624154813,
          0.8617756237792764,
          0.8729792303517517,
          0.6722110099955136,
          0.9136785302270856,
          0.7343872301454923,
          0.8148673913064312,
          0.6545419443162295,
          0.8031161825196315,
          0.9015275036077794,
          0.727267993218621,
          0.8347811802406544,
          0.9191102583522958,
          0.8904210604708311,
          0.8485882396975156,
          0.7686499775992826,
          0.7552418856530554,
          0.7868858501631804,
          0.7556972030538996,
          0.7070968247952243,
          0.8894031355131282,
          0.6540260936999733,
          0.7078353008803433,
          0.7193071464326715,
          0.7243628957036011,
          0.783916503987408,
          0.9332688885856543,
          0.7227939066851756,
          0.9625395028958825,
          0.6875636951471857,
          0.8031167800668892,
          0.8268896811917306,
          0.8177034825894942,
          0.8403205956957872,
          0.9854373046416799,
          0.8220970939933866,
          0.7084731553407052,
          0.7980867927952008,
          0.842425701485297,
          0.7619992974826576,
          1.0044272763189641,
          0.6511133674532787,
          0.7292875412391712,
          0.9075575123357718,
          0.7708501970064774,
          0.7993570833033248,
          0.9375553163832908,
          0.8377869320833617,
          0.7675256300207849,
          0.8527388017497072,
          0.8253854621896415
         ],
         "yaxis": "y6"
        },
        {
         "hovertemplate": "model fit=Optimization terminated successfully.<br>parameter=beta<br>Predicted value=%{x}<br>Observed value=%{y}<extra></extra>",
         "legendgroup": "Optimization terminated successfully.",
         "marker": {
          "color": "#636efa",
          "symbol": "circle"
         },
         "mode": "markers",
         "name": "Optimization terminated successfully.",
         "orientation": "v",
         "showlegend": false,
         "type": "scatter",
         "x": [
          1.5244187861693408,
          1.6024932070208264,
          2.2416440750971014,
          1.9983613269608038,
          1.876511119670562,
          1.5401282065708053,
          1.997691129989919,
          2.731262324808252,
          2.2008947487562045,
          2.4479180711563733,
          2.371599544953219,
          2.5947750539241525,
          1.2854061239838195,
          1.326346258406893,
          2.1260835835642626,
          1.3673265111948383,
          1.7775751028106117,
          2.06017472426116,
          2.1458113488923978,
          1.9899331442998838,
          1.9380178127480168,
          2.1723074089077623,
          2.3148728132899468,
          2.301804013380607,
          3.2917911486371128,
          1.6997785114584498,
          0.9495467239186757,
          0.8961349084745331,
          2.425760508373576,
          2.2435887936726844,
          1.6351549175938018,
          1.8853388894738885,
          1.4471364945567229,
          1.6303501057175187,
          1.799060006003143,
          2.2641161437012576,
          1.7252948879021524,
          1.696325274630712,
          1.867861793402198,
          1.3690728994423267,
          1.0650696578301062,
          2.7314555582755533,
          1.5442593007470076,
          2.126687244035667,
          1.2947385804599119,
          1.8412924023984856,
          2.7786117903315954,
          1.5469336773713005,
          1.5444790301869549,
          1.4887678159616766,
          2.2772409666078417,
          2.1157655987982373,
          2.978283364746919,
          3.251256289859172,
          2.4428543639184226,
          2.5332977631204923,
          1.5283133881623356,
          1.8710943752078761,
          1.548413762935999,
          1.5217956169307072,
          1.4236615478464862,
          1.4881766397155252,
          1.8213851468653084,
          1.4675588460990994,
          1.9617943987946547,
          1.8935359692395404,
          1.730073150341569,
          2.082060508071605,
          2.3351050307146104,
          2.7886578582263186,
          1.84147285210969,
          1.951606160010197,
          1.8200598589975416,
          2.2062942090579134,
          1.894923559335866,
          2.267544556707657,
          1.4070229642669891,
          1.5671579350930802,
          1.589079382839102,
          1.6202825923109456,
          3.2497961201454357,
          1.7753389403315603,
          1.9045490360198116,
          2.952998923809218,
          2.3307430599453958,
          1.9548620224090163,
          1.3668120938385535,
          2.09984083448474,
          2.0461269447136874,
          2.244825981141728,
          2.0026481559950904,
          1.507590394352131,
          1.7075645155145693,
          1.4715304991684963
         ],
         "xaxis": "x",
         "y": [
          1.722636643369436,
          1.6769441791365565,
          1.892102041053386,
          1.9854346960546372,
          2.1211137298523433,
          1.5054831113382852,
          1.9149087336911554,
          2.166652803728718,
          2.119841786796884,
          2.3061409764164287,
          1.9822972482807084,
          2.0203999642479387,
          1.8447148725672868,
          1.4207863499290334,
          2.1985720940360887,
          1.6213105952730027,
          1.7737712457882766,
          1.751176600115267,
          1.8655234607685622,
          1.7213287442726624,
          1.9071813318428255,
          1.867606532049726,
          2.4608780644641026,
          2.157088809145596,
          2.4081781733173218,
          1.9229217328796522,
          1.3893461739277562,
          1.051816827649521,
          2.0322500953794327,
          2.25471861459253,
          1.3639611156598577,
          1.6295991901356652,
          1.7952052491986614,
          1.4219671244618022,
          1.5144693058227787,
          2.089140611348726,
          1.8850501949582803,
          1.6857453083357476,
          1.9971375693205846,
          1.309409124559873,
          1.4432036793755902,
          2.0889887241000613,
          1.6507174246384886,
          2.0314450817851366,
          1.5732740288098124,
          1.4326410448577132,
          2.426611675806657,
          1.2890499396274735,
          1.4368314770363813,
          1.6446340919542068,
          2.1566644604714953,
          2.1306953269721607,
          2.095663281660365,
          2.6974194649819374,
          2.386967743323067,
          2.137803487417357,
          1.8118793091070222,
          2.2398205985160144,
          1.3707648762481146,
          1.4496038805977014,
          1.3495748426684488,
          1.604278059770674,
          2.0743939165363807,
          1.6842160626904024,
          2.092800246013076,
          1.9958500866598465,
          2.024201040812612,
          1.6569994458678639,
          1.9466615370875295,
          1.9475716062511093,
          1.6291334059672322,
          2.2391021702157445,
          1.9880909305945802,
          2.0048675796288467,
          1.4653960820324452,
          2.120200289716143,
          1.266144136457454,
          1.80588575486462,
          1.4442486433481103,
          1.9017873747355383,
          2.390251164156631,
          1.849170949201838,
          1.5214643870469526,
          2.1846728162770583,
          2.1849889063715273,
          1.5408026663538616,
          1.7566542441899085,
          1.9368367846332741,
          2.1502107040032366,
          2.231692181966333,
          1.7904390140795854,
          1.4489563536929746,
          1.5310688185729469,
          1.8327730855048374
         ],
         "yaxis": "y"
        },
        {
         "hovertemplate": "model fit=Desired error not necessarily achieved due to precision loss.<br>parameter=Money alpha<br>Predicted value=%{x}<br>Observed value=%{y}<extra></extra>",
         "legendgroup": "Desired error not necessarily achieved due to precision loss.",
         "marker": {
          "color": "#EF553B",
          "symbol": "diamond"
         },
         "mode": "markers",
         "name": "Desired error not necessarily achieved due to precision loss.",
         "orientation": "v",
         "showlegend": true,
         "type": "scatter",
         "x": [
          0.6787895928966939,
          0.656545112886127,
          0.6076811729596082,
          0.5998965045151801,
          0.6522263778528282,
          0.7142586670287362
         ],
         "xaxis": "x4",
         "y": [
          0.7090322095627153,
          0.697998045304807,
          0.7022046112507926,
          0.648242767519879,
          0.6980838323628651,
          0.6712903729461496
         ],
         "yaxis": "y4"
        },
        {
         "hovertemplate": "model fit=Desired error not necessarily achieved due to precision loss.<br>parameter=CS+ alpha<br>Predicted value=%{x}<br>Observed value=%{y}<extra></extra>",
         "legendgroup": "Desired error not necessarily achieved due to precision loss.",
         "marker": {
          "color": "#EF553B",
          "symbol": "diamond"
         },
         "mode": "markers",
         "name": "Desired error not necessarily achieved due to precision loss.",
         "orientation": "v",
         "showlegend": false,
         "type": "scatter",
         "x": [
          0.8426031771078566,
          0.8479270027028085,
          0.8682736940716929,
          0.8419132586045349,
          0.8745415817374641,
          0.8818918069681697
         ],
         "xaxis": "x5",
         "y": [
          0.8486094120266298,
          0.8482358065304403,
          0.8576723822438409,
          0.8107924508652049,
          0.880806832996809,
          0.8534758022335946
         ],
         "yaxis": "y5"
        },
        {
         "hovertemplate": "model fit=Desired error not necessarily achieved due to precision loss.<br>parameter=CS- alpha<br>Predicted value=%{x}<br>Observed value=%{y}<extra></extra>",
         "legendgroup": "Desired error not necessarily achieved due to precision loss.",
         "marker": {
          "color": "#EF553B",
          "symbol": "diamond"
         },
         "mode": "markers",
         "name": "Desired error not necessarily achieved due to precision loss.",
         "orientation": "v",
         "showlegend": false,
         "type": "scatter",
         "x": [
          0.8814579773817529,
          0.7259276300990986,
          0.7947350386919303,
          0.686267514991285,
          0.9999302975266282,
          0.658653898949093
         ],
         "xaxis": "x6",
         "y": [
          0.8865533357665255,
          0.7549585659591225,
          0.7684431225184509,
          0.6842782846632673,
          0.9611335022140406,
          0.6733551091965138
         ],
         "yaxis": "y6"
        },
        {
         "hovertemplate": "model fit=Desired error not necessarily achieved due to precision loss.<br>parameter=beta<br>Predicted value=%{x}<br>Observed value=%{y}<extra></extra>",
         "legendgroup": "Desired error not necessarily achieved due to precision loss.",
         "marker": {
          "color": "#EF553B",
          "symbol": "diamond"
         },
         "mode": "markers",
         "name": "Desired error not necessarily achieved due to precision loss.",
         "orientation": "v",
         "showlegend": false,
         "type": "scatter",
         "x": [
          2.773273107774481,
          1.7780886175947321,
          1.979312560703916,
          2.6278886120843317,
          3.0890970077882414,
          2.3078574831167904
         ],
         "xaxis": "x",
         "y": [
          2.3154361326545527,
          1.6068406489615326,
          1.6433836319191164,
          1.8582351780749087,
          1.9275486898389786,
          1.7295125545194925
         ],
         "yaxis": "y"
        }
       ],
       "layout": {
        "annotations": [
         {
          "font": {},
          "showarrow": false,
          "text": "beta",
          "x": 0.15333333333333332,
          "xanchor": "center",
          "xref": "paper",
          "y": 0.46499999999999997,
          "yanchor": "bottom",
          "yref": "paper"
         },
         {
          "font": {},
          "showarrow": false,
          "text": "Money alpha",
          "x": 0.15333333333333332,
          "xanchor": "center",
          "xref": "paper",
          "y": 0.9999999999999999,
          "yanchor": "bottom",
          "yref": "paper"
         },
         {
          "font": {},
          "showarrow": false,
          "text": "CS+ alpha",
          "x": 0.5,
          "xanchor": "center",
          "xref": "paper",
          "y": 0.9999999999999999,
          "yanchor": "bottom",
          "yref": "paper"
         },
         {
          "font": {},
          "showarrow": false,
          "text": "CS- alpha",
          "x": 0.8466666666666666,
          "xanchor": "center",
          "xref": "paper",
          "y": 0.9999999999999999,
          "yanchor": "bottom",
          "yref": "paper"
         }
        ],
        "height": 600,
        "legend": {
         "title": {
          "text": "model fit"
         },
         "tracegroupgap": 0
        },
        "margin": {
         "t": 60
        },
        "shapes": [
         {
          "line": {
           "color": "black",
           "dash": "dash"
          },
          "type": "line",
          "x0": 0.6024499024728052,
          "x1": 1.0455118843405042,
          "xref": "x6",
          "y0": 0.6024499024728052,
          "y1": 1.0455118843405042,
          "yref": "y6"
         },
         {
          "line": {
           "color": "black",
           "dash": "dash"
          },
          "type": "line",
          "x0": 0.4846974838496946,
          "x1": 0.9549039256381022,
          "xref": "x4",
          "y0": 0.4846974838496946,
          "y1": 0.9549039256381022,
          "yref": "y4"
         },
         {
          "line": {
           "color": "black",
           "dash": "dash"
          },
          "type": "line",
          "x0": 0.4826029536007597,
          "x1": 1.0992374382624734,
          "xref": "x5",
          "y0": 0.4826029536007597,
          "y1": 1.0992374382624734,
          "yref": "y5"
         },
         {
          "line": {
           "color": "black",
           "dash": "dash"
          },
          "type": "line",
          "x0": 0.9843813410249725,
          "x1": 2.7648549516064858,
          "xref": "x",
          "y0": 0.9843813410249725,
          "y1": 2.7648549516064858,
          "yref": "y"
         }
        ],
        "template": {
         "data": {
          "bar": [
           {
            "error_x": {
             "color": "#2a3f5f"
            },
            "error_y": {
             "color": "#2a3f5f"
            },
            "marker": {
             "line": {
              "color": "#E5ECF6",
              "width": 0.5
             },
             "pattern": {
              "fillmode": "overlay",
              "size": 10,
              "solidity": 0.2
             }
            },
            "type": "bar"
           }
          ],
          "barpolar": [
           {
            "marker": {
             "line": {
              "color": "#E5ECF6",
              "width": 0.5
             },
             "pattern": {
              "fillmode": "overlay",
              "size": 10,
              "solidity": 0.2
             }
            },
            "type": "barpolar"
           }
          ],
          "carpet": [
           {
            "aaxis": {
             "endlinecolor": "#2a3f5f",
             "gridcolor": "white",
             "linecolor": "white",
             "minorgridcolor": "white",
             "startlinecolor": "#2a3f5f"
            },
            "baxis": {
             "endlinecolor": "#2a3f5f",
             "gridcolor": "white",
             "linecolor": "white",
             "minorgridcolor": "white",
             "startlinecolor": "#2a3f5f"
            },
            "type": "carpet"
           }
          ],
          "choropleth": [
           {
            "colorbar": {
             "outlinewidth": 0,
             "ticks": ""
            },
            "type": "choropleth"
           }
          ],
          "contour": [
           {
            "colorbar": {
             "outlinewidth": 0,
             "ticks": ""
            },
            "colorscale": [
             [
              0,
              "#0d0887"
             ],
             [
              0.1111111111111111,
              "#46039f"
             ],
             [
              0.2222222222222222,
              "#7201a8"
             ],
             [
              0.3333333333333333,
              "#9c179e"
             ],
             [
              0.4444444444444444,
              "#bd3786"
             ],
             [
              0.5555555555555556,
              "#d8576b"
             ],
             [
              0.6666666666666666,
              "#ed7953"
             ],
             [
              0.7777777777777778,
              "#fb9f3a"
             ],
             [
              0.8888888888888888,
              "#fdca26"
             ],
             [
              1,
              "#f0f921"
             ]
            ],
            "type": "contour"
           }
          ],
          "contourcarpet": [
           {
            "colorbar": {
             "outlinewidth": 0,
             "ticks": ""
            },
            "type": "contourcarpet"
           }
          ],
          "heatmap": [
           {
            "colorbar": {
             "outlinewidth": 0,
             "ticks": ""
            },
            "colorscale": [
             [
              0,
              "#0d0887"
             ],
             [
              0.1111111111111111,
              "#46039f"
             ],
             [
              0.2222222222222222,
              "#7201a8"
             ],
             [
              0.3333333333333333,
              "#9c179e"
             ],
             [
              0.4444444444444444,
              "#bd3786"
             ],
             [
              0.5555555555555556,
              "#d8576b"
             ],
             [
              0.6666666666666666,
              "#ed7953"
             ],
             [
              0.7777777777777778,
              "#fb9f3a"
             ],
             [
              0.8888888888888888,
              "#fdca26"
             ],
             [
              1,
              "#f0f921"
             ]
            ],
            "type": "heatmap"
           }
          ],
          "heatmapgl": [
           {
            "colorbar": {
             "outlinewidth": 0,
             "ticks": ""
            },
            "colorscale": [
             [
              0,
              "#0d0887"
             ],
             [
              0.1111111111111111,
              "#46039f"
             ],
             [
              0.2222222222222222,
              "#7201a8"
             ],
             [
              0.3333333333333333,
              "#9c179e"
             ],
             [
              0.4444444444444444,
              "#bd3786"
             ],
             [
              0.5555555555555556,
              "#d8576b"
             ],
             [
              0.6666666666666666,
              "#ed7953"
             ],
             [
              0.7777777777777778,
              "#fb9f3a"
             ],
             [
              0.8888888888888888,
              "#fdca26"
             ],
             [
              1,
              "#f0f921"
             ]
            ],
            "type": "heatmapgl"
           }
          ],
          "histogram": [
           {
            "marker": {
             "pattern": {
              "fillmode": "overlay",
              "size": 10,
              "solidity": 0.2
             }
            },
            "type": "histogram"
           }
          ],
          "histogram2d": [
           {
            "colorbar": {
             "outlinewidth": 0,
             "ticks": ""
            },
            "colorscale": [
             [
              0,
              "#0d0887"
             ],
             [
              0.1111111111111111,
              "#46039f"
             ],
             [
              0.2222222222222222,
              "#7201a8"
             ],
             [
              0.3333333333333333,
              "#9c179e"
             ],
             [
              0.4444444444444444,
              "#bd3786"
             ],
             [
              0.5555555555555556,
              "#d8576b"
             ],
             [
              0.6666666666666666,
              "#ed7953"
             ],
             [
              0.7777777777777778,
              "#fb9f3a"
             ],
             [
              0.8888888888888888,
              "#fdca26"
             ],
             [
              1,
              "#f0f921"
             ]
            ],
            "type": "histogram2d"
           }
          ],
          "histogram2dcontour": [
           {
            "colorbar": {
             "outlinewidth": 0,
             "ticks": ""
            },
            "colorscale": [
             [
              0,
              "#0d0887"
             ],
             [
              0.1111111111111111,
              "#46039f"
             ],
             [
              0.2222222222222222,
              "#7201a8"
             ],
             [
              0.3333333333333333,
              "#9c179e"
             ],
             [
              0.4444444444444444,
              "#bd3786"
             ],
             [
              0.5555555555555556,
              "#d8576b"
             ],
             [
              0.6666666666666666,
              "#ed7953"
             ],
             [
              0.7777777777777778,
              "#fb9f3a"
             ],
             [
              0.8888888888888888,
              "#fdca26"
             ],
             [
              1,
              "#f0f921"
             ]
            ],
            "type": "histogram2dcontour"
           }
          ],
          "mesh3d": [
           {
            "colorbar": {
             "outlinewidth": 0,
             "ticks": ""
            },
            "type": "mesh3d"
           }
          ],
          "parcoords": [
           {
            "line": {
             "colorbar": {
              "outlinewidth": 0,
              "ticks": ""
             }
            },
            "type": "parcoords"
           }
          ],
          "pie": [
           {
            "automargin": true,
            "type": "pie"
           }
          ],
          "scatter": [
           {
            "fillpattern": {
             "fillmode": "overlay",
             "size": 10,
             "solidity": 0.2
            },
            "type": "scatter"
           }
          ],
          "scatter3d": [
           {
            "line": {
             "colorbar": {
              "outlinewidth": 0,
              "ticks": ""
             }
            },
            "marker": {
             "colorbar": {
              "outlinewidth": 0,
              "ticks": ""
             }
            },
            "type": "scatter3d"
           }
          ],
          "scattercarpet": [
           {
            "marker": {
             "colorbar": {
              "outlinewidth": 0,
              "ticks": ""
             }
            },
            "type": "scattercarpet"
           }
          ],
          "scattergeo": [
           {
            "marker": {
             "colorbar": {
              "outlinewidth": 0,
              "ticks": ""
             }
            },
            "type": "scattergeo"
           }
          ],
          "scattergl": [
           {
            "marker": {
             "colorbar": {
              "outlinewidth": 0,
              "ticks": ""
             }
            },
            "type": "scattergl"
           }
          ],
          "scattermapbox": [
           {
            "marker": {
             "colorbar": {
              "outlinewidth": 0,
              "ticks": ""
             }
            },
            "type": "scattermapbox"
           }
          ],
          "scatterpolar": [
           {
            "marker": {
             "colorbar": {
              "outlinewidth": 0,
              "ticks": ""
             }
            },
            "type": "scatterpolar"
           }
          ],
          "scatterpolargl": [
           {
            "marker": {
             "colorbar": {
              "outlinewidth": 0,
              "ticks": ""
             }
            },
            "type": "scatterpolargl"
           }
          ],
          "scatterternary": [
           {
            "marker": {
             "colorbar": {
              "outlinewidth": 0,
              "ticks": ""
             }
            },
            "type": "scatterternary"
           }
          ],
          "surface": [
           {
            "colorbar": {
             "outlinewidth": 0,
             "ticks": ""
            },
            "colorscale": [
             [
              0,
              "#0d0887"
             ],
             [
              0.1111111111111111,
              "#46039f"
             ],
             [
              0.2222222222222222,
              "#7201a8"
             ],
             [
              0.3333333333333333,
              "#9c179e"
             ],
             [
              0.4444444444444444,
              "#bd3786"
             ],
             [
              0.5555555555555556,
              "#d8576b"
             ],
             [
              0.6666666666666666,
              "#ed7953"
             ],
             [
              0.7777777777777778,
              "#fb9f3a"
             ],
             [
              0.8888888888888888,
              "#fdca26"
             ],
             [
              1,
              "#f0f921"
             ]
            ],
            "type": "surface"
           }
          ],
          "table": [
           {
            "cells": {
             "fill": {
              "color": "#EBF0F8"
             },
             "line": {
              "color": "white"
             }
            },
            "header": {
             "fill": {
              "color": "#C8D4E3"
             },
             "line": {
              "color": "white"
             }
            },
            "type": "table"
           }
          ]
         },
         "layout": {
          "annotationdefaults": {
           "arrowcolor": "#2a3f5f",
           "arrowhead": 0,
           "arrowwidth": 1
          },
          "autotypenumbers": "strict",
          "coloraxis": {
           "colorbar": {
            "outlinewidth": 0,
            "ticks": ""
           }
          },
          "colorscale": {
           "diverging": [
            [
             0,
             "#8e0152"
            ],
            [
             0.1,
             "#c51b7d"
            ],
            [
             0.2,
             "#de77ae"
            ],
            [
             0.3,
             "#f1b6da"
            ],
            [
             0.4,
             "#fde0ef"
            ],
            [
             0.5,
             "#f7f7f7"
            ],
            [
             0.6,
             "#e6f5d0"
            ],
            [
             0.7,
             "#b8e186"
            ],
            [
             0.8,
             "#7fbc41"
            ],
            [
             0.9,
             "#4d9221"
            ],
            [
             1,
             "#276419"
            ]
           ],
           "sequential": [
            [
             0,
             "#0d0887"
            ],
            [
             0.1111111111111111,
             "#46039f"
            ],
            [
             0.2222222222222222,
             "#7201a8"
            ],
            [
             0.3333333333333333,
             "#9c179e"
            ],
            [
             0.4444444444444444,
             "#bd3786"
            ],
            [
             0.5555555555555556,
             "#d8576b"
            ],
            [
             0.6666666666666666,
             "#ed7953"
            ],
            [
             0.7777777777777778,
             "#fb9f3a"
            ],
            [
             0.8888888888888888,
             "#fdca26"
            ],
            [
             1,
             "#f0f921"
            ]
           ],
           "sequentialminus": [
            [
             0,
             "#0d0887"
            ],
            [
             0.1111111111111111,
             "#46039f"
            ],
            [
             0.2222222222222222,
             "#7201a8"
            ],
            [
             0.3333333333333333,
             "#9c179e"
            ],
            [
             0.4444444444444444,
             "#bd3786"
            ],
            [
             0.5555555555555556,
             "#d8576b"
            ],
            [
             0.6666666666666666,
             "#ed7953"
            ],
            [
             0.7777777777777778,
             "#fb9f3a"
            ],
            [
             0.8888888888888888,
             "#fdca26"
            ],
            [
             1,
             "#f0f921"
            ]
           ]
          },
          "colorway": [
           "#636efa",
           "#EF553B",
           "#00cc96",
           "#ab63fa",
           "#FFA15A",
           "#19d3f3",
           "#FF6692",
           "#B6E880",
           "#FF97FF",
           "#FECB52"
          ],
          "font": {
           "color": "#2a3f5f"
          },
          "geo": {
           "bgcolor": "white",
           "lakecolor": "white",
           "landcolor": "#E5ECF6",
           "showlakes": true,
           "showland": true,
           "subunitcolor": "white"
          },
          "hoverlabel": {
           "align": "left"
          },
          "hovermode": "closest",
          "mapbox": {
           "style": "light"
          },
          "paper_bgcolor": "white",
          "plot_bgcolor": "#E5ECF6",
          "polar": {
           "angularaxis": {
            "gridcolor": "white",
            "linecolor": "white",
            "ticks": ""
           },
           "bgcolor": "#E5ECF6",
           "radialaxis": {
            "gridcolor": "white",
            "linecolor": "white",
            "ticks": ""
           }
          },
          "scene": {
           "xaxis": {
            "backgroundcolor": "#E5ECF6",
            "gridcolor": "white",
            "gridwidth": 2,
            "linecolor": "white",
            "showbackground": true,
            "ticks": "",
            "zerolinecolor": "white"
           },
           "yaxis": {
            "backgroundcolor": "#E5ECF6",
            "gridcolor": "white",
            "gridwidth": 2,
            "linecolor": "white",
            "showbackground": true,
            "ticks": "",
            "zerolinecolor": "white"
           },
           "zaxis": {
            "backgroundcolor": "#E5ECF6",
            "gridcolor": "white",
            "gridwidth": 2,
            "linecolor": "white",
            "showbackground": true,
            "ticks": "",
            "zerolinecolor": "white"
           }
          },
          "shapedefaults": {
           "line": {
            "color": "#2a3f5f"
           }
          },
          "ternary": {
           "aaxis": {
            "gridcolor": "white",
            "linecolor": "white",
            "ticks": ""
           },
           "baxis": {
            "gridcolor": "white",
            "linecolor": "white",
            "ticks": ""
           },
           "bgcolor": "#E5ECF6",
           "caxis": {
            "gridcolor": "white",
            "linecolor": "white",
            "ticks": ""
           }
          },
          "title": {
           "x": 0.05
          },
          "xaxis": {
           "automargin": true,
           "gridcolor": "white",
           "linecolor": "white",
           "ticks": "",
           "title": {
            "standoff": 15
           },
           "zerolinecolor": "white",
           "zerolinewidth": 2
          },
          "yaxis": {
           "automargin": true,
           "gridcolor": "white",
           "linecolor": "white",
           "ticks": "",
           "title": {
            "standoff": 15
           },
           "zerolinecolor": "white",
           "zerolinewidth": 2
          }
         }
        },
        "title": {
         "text": "Predicted vs Observed values (same type trials) <span style=\"font-size: 12px;\">dashed line represents ideal result</span>"
        },
        "width": 800,
        "xaxis": {
         "anchor": "y",
         "domain": [
          0,
          0.30666666666666664
         ],
         "showticklabels": true,
         "title": {
          "text": "Predicted value"
         }
        },
        "xaxis2": {
         "anchor": "y2",
         "domain": [
          0.3466666666666666,
          0.6533333333333333
         ],
         "showticklabels": true,
         "title": {
          "text": "Predicted value"
         }
        },
        "xaxis3": {
         "anchor": "y3",
         "domain": [
          0.6933333333333332,
          0.9999999999999999
         ],
         "showticklabels": true,
         "title": {
          "text": "Predicted value"
         }
        },
        "xaxis4": {
         "anchor": "y4",
         "domain": [
          0,
          0.30666666666666664
         ],
         "showticklabels": true
        },
        "xaxis5": {
         "anchor": "y5",
         "domain": [
          0.3466666666666666,
          0.6533333333333333
         ],
         "showticklabels": true
        },
        "xaxis6": {
         "anchor": "y6",
         "domain": [
          0.6933333333333332,
          0.9999999999999999
         ],
         "showticklabels": true
        },
        "yaxis": {
         "anchor": "x",
         "domain": [
          0,
          0.46499999999999997
         ],
         "showticklabels": true,
         "title": {
          "text": "Observed value"
         }
        },
        "yaxis2": {
         "anchor": "x2",
         "domain": [
          0,
          0.46499999999999997
         ],
         "showticklabels": true
        },
        "yaxis3": {
         "anchor": "x3",
         "domain": [
          0,
          0.46499999999999997
         ],
         "showticklabels": true
        },
        "yaxis4": {
         "anchor": "x4",
         "domain": [
          0.5349999999999999,
          0.9999999999999999
         ],
         "showticklabels": true,
         "title": {
          "text": "Observed value"
         }
        },
        "yaxis5": {
         "anchor": "x5",
         "domain": [
          0.5349999999999999,
          0.9999999999999999
         ],
         "showticklabels": true
        },
        "yaxis6": {
         "anchor": "x6",
         "domain": [
          0.5349999999999999,
          0.9999999999999999
         ],
         "showticklabels": true
        }
       }
      }
     },
     "metadata": {},
     "output_type": "display_data"
    }
   ],
   "source": [
    "col_wrap = 3\n",
    "fig = px.scatter(st_po_df , x= 'Predicted value', y='Observed value', color=\"model fit\",\n",
    "                 symbol = 'model fit', facet_col = 'parameter', facet_col_wrap = col_wrap,\n",
    "                 category_orders={'parameter':st_params_colNames,\n",
    "                                  'model fit':st_po_df['model fit'].unique() },\n",
    "                facet_col_spacing=0.04, # default is 0.03\n",
    "              height=600, width=800,\n",
    "                )\n",
    "fig.for_each_annotation(lambda a: a.update(text=a.text.split(\"=\")[-1]))\n",
    "fig.update_xaxes(matches=None, showticklabels=True)\n",
    "fig.update_yaxes(matches=None, showticklabels=True)\n",
    "fig.update_layout(\n",
    "        title = '''Predicted vs Observed values (same type trials) <span style=\"font-size: 12px;\">dashed line represents ideal result</span>'''\n",
    "        )\n",
    "\n",
    "\n",
    "fig.add_shape(dict(type=\"line\", \n",
    "                       x0=st_pars_minMax.iloc[2,0] - st_pars_minMax.iloc[2,1]*0.025, x1=st_pars_minMax.iloc[2,1] + st_pars_minMax.iloc[2,1]*0.025, \n",
    "                       y0=st_pars_minMax.iloc[2,0] - st_pars_minMax.iloc[2,1]*0.025, y1=st_pars_minMax.iloc[2,1] + st_pars_minMax.iloc[2,1]*0.025, \n",
    "                       line_color=\"black\", line_dash='dash'), \n",
    "                  row=0, col=0, \n",
    "                  # label=dict(text=\"ideal result\", textposition = 'bottom right', \n",
    "                  #            xanchor = 'right', yanchor='bottom', textangle=0),\n",
    "                 )\n",
    "\n",
    "fig.add_shape(dict(type=\"line\", \n",
    "                       x0=st_pars_minMax.iloc[0,0], x1=st_pars_minMax.iloc[0,1], \n",
    "                       y0=st_pars_minMax.iloc[0,0], y1=st_pars_minMax.iloc[0,1], \n",
    "                       line_color=\"black\", line_dash='dash'), \n",
    "                  row=0, col=1,\n",
    "                  # label=dict(text=\"ideal result\", textposition = 'bottom right', \n",
    "                  #            xanchor = 'right', yanchor='bottom', textangle=0),\n",
    "                 )\n",
    "\n",
    "fig.add_shape(dict(type=\"line\", \n",
    "                       x0=st_pars_minMax.iloc[1,0] - st_pars_minMax.iloc[1,1]*0.025, x1=st_pars_minMax.iloc[1,1] + st_pars_minMax.iloc[1,1]*0.025, \n",
    "                       y0=st_pars_minMax.iloc[1,0] - st_pars_minMax.iloc[1,1]*0.025, y1=st_pars_minMax.iloc[1,1] + st_pars_minMax.iloc[1,1]*0.025, \n",
    "                       line_color=\"black\", line_dash='dash'), \n",
    "                  row=0, col=2,\n",
    "                  # label=dict(text=\"ideal result\", textposition = 'bottom right', \n",
    "                  #            xanchor = 'right', yanchor='bottom', textangle=0),\n",
    "                 )\n",
    "\n",
    "fig.add_shape(dict(type=\"line\", \n",
    "                       x0=st_pars_minMax.iloc[3,0] - st_pars_minMax.iloc[3,1]*0.025, x1=st_pars_minMax.iloc[3,1] + st_pars_minMax.iloc[3,1]*0.025, \n",
    "                       y0=st_pars_minMax.iloc[3,0] - st_pars_minMax.iloc[3,1]*0.025, y1=st_pars_minMax.iloc[3,1] + st_pars_minMax.iloc[3,1]*0.025, \n",
    "                       line_color=\"black\", line_dash='dash'), \n",
    "                  row=1, col=1,\n",
    "                  # label=dict(text=\"ideal result\", textposition = 'bottom right', \n",
    "                  #            xanchor = 'right', yanchor='bottom', textangle=0),\n",
    "                 )\n",
    "\n",
    "\n",
    "if x0 != x0_6params:\n",
    "    fig.add_shape(dict(type=\"line\", \n",
    "                       x0=st_pars_minMax.iloc[5,0] - st_pars_minMax.iloc[5,1]*0.025, x1=st_pars_minMax.iloc[5,1] + st_pars_minMax.iloc[5,1]*0.025, \n",
    "                       y0=st_pars_minMax.iloc[5,0] - st_pars_minMax.iloc[5,1]*0.025, y1=st_pars_minMax.iloc[5,1] + st_pars_minMax.iloc[5,1]*0.025, \n",
    "                       line_color=\"black\", line_dash='dash'), \n",
    "                  row=1, col=0,\n",
    "                  label=dict(text=\"ideal result\", textposition = 'bottom right', \n",
    "                             xanchor = 'right', yanchor='bottom', textangle=0),\n",
    "                 )\n",
    "\n",
    "    fig.add_shape(dict(type=\"line\", \n",
    "                       x0=st_pars_minMax.iloc[4,0] - st_pars_minMax.iloc[4,1]*0.025, x1=st_pars_minMax.iloc[4,1] + st_pars_minMax.iloc[4,1]*0.025, \n",
    "                       y0=st_pars_minMax.iloc[4,0] - st_pars_minMax.iloc[4,1]*0.025, y1=st_pars_minMax.iloc[4,1] + st_pars_minMax.iloc[4,1]*0.025, \n",
    "                       line_color=\"black\", line_dash='dash'), \n",
    "                  row=1, col=2,\n",
    "                  label=dict(text=\"ideal result\", textposition = 'bottom right', \n",
    "                             xanchor = 'right', yanchor='bottom', textangle=0),\n",
    "                 )\n",
    "\n",
    "fig.show()\n",
    "# fig.write_html(\"/mnt/data1/francisco/predicted vs observed same type parameters.html\")"
   ]
  },
  {
   "cell_type": "markdown",
   "metadata": {},
   "source": [
    "## Pack mixed type trials results and plot parameters"
   ]
  },
  {
   "cell_type": "code",
   "execution_count": 86,
   "metadata": {},
   "outputs": [
    {
     "data": {
      "text/html": [
       "<div>\n",
       "<style scoped>\n",
       "    .dataframe tbody tr th:only-of-type {\n",
       "        vertical-align: middle;\n",
       "    }\n",
       "\n",
       "    .dataframe tbody tr th {\n",
       "        vertical-align: top;\n",
       "    }\n",
       "\n",
       "    .dataframe thead th {\n",
       "        text-align: right;\n",
       "    }\n",
       "</style>\n",
       "<table border=\"1\" class=\"dataframe\">\n",
       "  <thead>\n",
       "    <tr style=\"text-align: right;\">\n",
       "      <th></th>\n",
       "      <th>iter</th>\n",
       "      <th>parameter</th>\n",
       "      <th>Observed value</th>\n",
       "      <th>Predicted value</th>\n",
       "      <th>model fit</th>\n",
       "    </tr>\n",
       "  </thead>\n",
       "  <tbody>\n",
       "    <tr>\n",
       "      <th>0</th>\n",
       "      <td>0</td>\n",
       "      <td>CS+ sFactor</td>\n",
       "      <td>0.142566</td>\n",
       "      <td>0.143833</td>\n",
       "      <td>Optimization terminated successfully.</td>\n",
       "    </tr>\n",
       "    <tr>\n",
       "      <th>1</th>\n",
       "      <td>0</td>\n",
       "      <td>CS- sFactor</td>\n",
       "      <td>0.121610</td>\n",
       "      <td>0.132198</td>\n",
       "      <td>Optimization terminated successfully.</td>\n",
       "    </tr>\n",
       "    <tr>\n",
       "      <th>2</th>\n",
       "      <td>1</td>\n",
       "      <td>CS+ sFactor</td>\n",
       "      <td>0.189990</td>\n",
       "      <td>0.206066</td>\n",
       "      <td>Optimization terminated successfully.</td>\n",
       "    </tr>\n",
       "    <tr>\n",
       "      <th>3</th>\n",
       "      <td>1</td>\n",
       "      <td>CS- sFactor</td>\n",
       "      <td>0.184677</td>\n",
       "      <td>0.181602</td>\n",
       "      <td>Optimization terminated successfully.</td>\n",
       "    </tr>\n",
       "    <tr>\n",
       "      <th>4</th>\n",
       "      <td>2</td>\n",
       "      <td>CS+ sFactor</td>\n",
       "      <td>0.216063</td>\n",
       "      <td>0.211786</td>\n",
       "      <td>Optimization terminated successfully.</td>\n",
       "    </tr>\n",
       "    <tr>\n",
       "      <th>...</th>\n",
       "      <td>...</td>\n",
       "      <td>...</td>\n",
       "      <td>...</td>\n",
       "      <td>...</td>\n",
       "      <td>...</td>\n",
       "    </tr>\n",
       "    <tr>\n",
       "      <th>195</th>\n",
       "      <td>97</td>\n",
       "      <td>CS- sFactor</td>\n",
       "      <td>0.162763</td>\n",
       "      <td>0.176942</td>\n",
       "      <td>Optimization terminated successfully.</td>\n",
       "    </tr>\n",
       "    <tr>\n",
       "      <th>196</th>\n",
       "      <td>98</td>\n",
       "      <td>CS+ sFactor</td>\n",
       "      <td>0.141680</td>\n",
       "      <td>0.124985</td>\n",
       "      <td>Optimization terminated successfully.</td>\n",
       "    </tr>\n",
       "    <tr>\n",
       "      <th>197</th>\n",
       "      <td>98</td>\n",
       "      <td>CS- sFactor</td>\n",
       "      <td>0.207903</td>\n",
       "      <td>0.211176</td>\n",
       "      <td>Optimization terminated successfully.</td>\n",
       "    </tr>\n",
       "    <tr>\n",
       "      <th>198</th>\n",
       "      <td>99</td>\n",
       "      <td>CS+ sFactor</td>\n",
       "      <td>0.114782</td>\n",
       "      <td>0.117818</td>\n",
       "      <td>Optimization terminated successfully.</td>\n",
       "    </tr>\n",
       "    <tr>\n",
       "      <th>199</th>\n",
       "      <td>99</td>\n",
       "      <td>CS- sFactor</td>\n",
       "      <td>0.266466</td>\n",
       "      <td>0.316658</td>\n",
       "      <td>Optimization terminated successfully.</td>\n",
       "    </tr>\n",
       "  </tbody>\n",
       "</table>\n",
       "<p>200 rows × 5 columns</p>\n",
       "</div>"
      ],
      "text/plain": [
       "     iter    parameter  Observed value  Predicted value  \\\n",
       "0       0  CS+ sFactor        0.142566         0.143833   \n",
       "1       0  CS- sFactor        0.121610         0.132198   \n",
       "2       1  CS+ sFactor        0.189990         0.206066   \n",
       "3       1  CS- sFactor        0.184677         0.181602   \n",
       "4       2  CS+ sFactor        0.216063         0.211786   \n",
       "..    ...          ...             ...              ...   \n",
       "195    97  CS- sFactor        0.162763         0.176942   \n",
       "196    98  CS+ sFactor        0.141680         0.124985   \n",
       "197    98  CS- sFactor        0.207903         0.211176   \n",
       "198    99  CS+ sFactor        0.114782         0.117818   \n",
       "199    99  CS- sFactor        0.266466         0.316658   \n",
       "\n",
       "                                 model fit  \n",
       "0    Optimization terminated successfully.  \n",
       "1    Optimization terminated successfully.  \n",
       "2    Optimization terminated successfully.  \n",
       "3    Optimization terminated successfully.  \n",
       "4    Optimization terminated successfully.  \n",
       "..                                     ...  \n",
       "195  Optimization terminated successfully.  \n",
       "196  Optimization terminated successfully.  \n",
       "197  Optimization terminated successfully.  \n",
       "198  Optimization terminated successfully.  \n",
       "199  Optimization terminated successfully.  \n",
       "\n",
       "[200 rows x 5 columns]"
      ]
     },
     "execution_count": 86,
     "metadata": {},
     "output_type": "execute_result"
    }
   ],
   "source": [
    "mt_success_df = pd.DataFrame(mt_flags, columns = ['model fit'])\n",
    "mt_success_df.index.name = 'iter'\n",
    "\n",
    "if x0 == x0_6params:\n",
    "    mt_params_colNames = ['CS+ sFactor', 'CS- sFactor',]\n",
    "else:\n",
    "    mt_params_colNames = ['CS+ MT beta', 'CS- MT beta', \n",
    "                          'CS+ sFactor', 'CS- sFactor',]\n",
    "\n",
    "\n",
    "mt_params_df = pd.DataFrame(mt_pars).T\n",
    "mt_params_df.columns= mt_params_colNames\n",
    "mt_params_df.index.name = 'iter'\n",
    "mt_params_df = mt_params_df.reset_index().melt(id_vars = 'iter', var_name = 'parameter', value_name = 'Observed value')\n",
    "\n",
    "\n",
    "mt_estParams_df = pd.DataFrame(mt_estPars).T\n",
    "mt_estParams_df.columns= mt_params_colNames\n",
    "mt_estParams_df.index.name = 'iter'\n",
    "mt_estParams_df = mt_estParams_df.reset_index().melt(id_vars = 'iter', var_name = 'parameter', value_name = 'Predicted value')\n",
    "\n",
    "mt_po_df = mt_params_df.merge(mt_estParams_df, on= ['iter','parameter'])\n",
    "mt_po_df = mt_po_df.merge(mt_success_df.reset_index(),on='iter')\n",
    "mt_po_df"
   ]
  },
  {
   "cell_type": "code",
   "execution_count": 88,
   "metadata": {},
   "outputs": [
    {
     "name": "stdout",
     "output_type": "stream",
     "text": [
      "['Optimization terminated successfully.'\n",
      " 'Desired error not necessarily achieved due to precision loss.']\n"
     ]
    },
    {
     "data": {
      "text/html": [
       "<div>\n",
       "<style scoped>\n",
       "    .dataframe tbody tr th:only-of-type {\n",
       "        vertical-align: middle;\n",
       "    }\n",
       "\n",
       "    .dataframe tbody tr th {\n",
       "        vertical-align: top;\n",
       "    }\n",
       "\n",
       "    .dataframe thead th {\n",
       "        text-align: right;\n",
       "    }\n",
       "</style>\n",
       "<table border=\"1\" class=\"dataframe\">\n",
       "  <thead>\n",
       "    <tr style=\"text-align: right;\">\n",
       "      <th></th>\n",
       "      <th>min</th>\n",
       "      <th>max</th>\n",
       "    </tr>\n",
       "    <tr>\n",
       "      <th>parameter</th>\n",
       "      <th></th>\n",
       "      <th></th>\n",
       "    </tr>\n",
       "  </thead>\n",
       "  <tbody>\n",
       "    <tr>\n",
       "      <th>CS+ sFactor</th>\n",
       "      <td>0.083093</td>\n",
       "      <td>0.321650</td>\n",
       "    </tr>\n",
       "    <tr>\n",
       "      <th>CS- sFactor</th>\n",
       "      <td>0.092996</td>\n",
       "      <td>0.320776</td>\n",
       "    </tr>\n",
       "  </tbody>\n",
       "</table>\n",
       "</div>"
      ],
      "text/plain": [
       "                  min       max\n",
       "parameter                      \n",
       "CS+ sFactor  0.083093  0.321650\n",
       "CS- sFactor  0.092996  0.320776"
      ]
     },
     "execution_count": 88,
     "metadata": {},
     "output_type": "execute_result"
    }
   ],
   "source": [
    "print(mt_po_df['model fit'].unique())\n",
    "mt_pars_minMax = mt_po_df[['parameter', 'Observed value']].groupby('parameter').describe().droplevel(0,axis = 1)[['min','max']].reindex(mt_params_colNames)\n",
    "mt_pars_minMax"
   ]
  },
  {
   "cell_type": "code",
   "execution_count": 91,
   "metadata": {},
   "outputs": [
    {
     "data": {
      "application/vnd.plotly.v1+json": {
       "config": {
        "plotlyServerURL": "https://plot.ly"
       },
       "data": [
        {
         "hovertemplate": "model fit=Optimization terminated successfully.<br>parameter=CS+ sFactor<br>Predicted value=%{x}<br>Observed value=%{y}<extra></extra>",
         "legendgroup": "Optimization terminated successfully.",
         "marker": {
          "color": "#636efa",
          "symbol": "circle"
         },
         "mode": "markers",
         "name": "Optimization terminated successfully.",
         "orientation": "v",
         "showlegend": true,
         "type": "scatter",
         "x": [
          0.14383345874461692,
          0.20606587882607985,
          0.21178619230004878,
          0.17681630008626334,
          0.17831523124940665,
          0.1077909125483467,
          0.1524919095666786,
          0.1977566486785115,
          2.0290600692546947,
          0.15656623778208648,
          0.17977071001581987,
          0.14690571883545536,
          0.2894164508868704,
          0.25511360510405395,
          0.19947035143557812,
          0.2726413014006414,
          0.19377097601276805,
          0.15958917594595703,
          0.14376489642135984,
          0.27722787907930024,
          0.194403759621601,
          0.276768930960494,
          0.23037426202295772,
          0.14216269574294896,
          0.22972870077084864,
          0.05226500803172201,
          0.17798033536960184,
          0.3795026432210649,
          0.15762232361953568,
          0.2738554565037891,
          0.08844418583644906,
          0.15747136198753567,
          0.2219815941103573,
          0.1442982214156502,
          0.14561626987144996,
          0.27550912869464006,
          0.15504683078172662,
          0.15295839329486144,
          0.2627774329283122,
          0.16878225722342524,
          0.16043256572094303,
          0.19575891267344658,
          0.16588067425985156,
          0.2028926408653695,
          0.16197011841705317,
          0.18606913899777014,
          0.13086839623664093,
          0.19883988312655013,
          0.17583007876598286,
          0.2511182693451266,
          0.07433182043702283,
          0.18351458661681566,
          0.2510597991075843,
          0.15523688688616463,
          0.4575560073499557,
          0.1841717251042966,
          0.2710531609365158,
          0.15457915390823346,
          0.07943711215686627,
          0.27538944722743736,
          0.1652638485730158,
          0.18136444941098198,
          0.2265094784014394,
          0.13706017752538882,
          0.18743115561140752,
          0.1788380617770188,
          0.24971006467073906,
          0.28018586544967355,
          0.13743161417485722,
          0.42360417548846196,
          0.18280840352223318,
          0.1271765706945773,
          0.14414441435002168,
          0.23512037855372037,
          0.1280958785457007,
          0.13648437246089673,
          0.2470646581697947,
          0.2797931665248499,
          0.15734393864791588,
          0.18970142413309216,
          0.2350144775260697,
          0.16016107735539942,
          0.148907149771837,
          0.140990636122454,
          0.28705726196434495,
          0.15049845619582466,
          0.09227288264007188,
          0.28861719161376564,
          0.2411085846318937,
          0.206437490358078,
          0.13010981523704612,
          0.20115976655225645,
          0.1666570662395741,
          0.2679119369899064,
          0.10944686944302776,
          0.1554355592050959,
          0.1249852177695362,
          0.11781760175894
         ],
         "xaxis": "x",
         "y": [
          0.14256618592035103,
          0.1899895309550489,
          0.21606339916709857,
          0.17590263038951565,
          0.19568452690545235,
          0.11046999811305934,
          0.18976806196678905,
          0.2540302466313652,
          0.3216501177952189,
          0.2035940664439592,
          0.19896037028727281,
          0.18315130668479238,
          0.22761726877105742,
          0.21482771879854182,
          0.24905576630831566,
          0.2717996724115469,
          0.19781860876410132,
          0.18367899302369312,
          0.19848896865449062,
          0.2619578749844331,
          0.18954753003684727,
          0.2664421497701991,
          0.23923402703439983,
          0.15343582498453115,
          0.24710249834293008,
          0.08309284463029226,
          0.18901848612041627,
          0.20802081198250796,
          0.16459338802996315,
          0.31249034694310446,
          0.10526838652958706,
          0.20435609792563134,
          0.18354337699113749,
          0.20182368857065824,
          0.17055530845060196,
          0.2465494240658762,
          0.19487314631885205,
          0.13473586184135114,
          0.23067580304646954,
          0.2150656351603764,
          0.15199274574930938,
          0.17614609063925585,
          0.17581444364784055,
          0.16394222906929634,
          0.19121197110812682,
          0.21187839856776675,
          0.1366509427735919,
          0.19149714429663933,
          0.14148461210315766,
          0.2525594247024518,
          0.09022714241049082,
          0.22271452577446085,
          0.20380496362411238,
          0.1639735054283334,
          0.2948527332967981,
          0.25046034499450937,
          0.2695402371038227,
          0.1870563274154003,
          0.1085358907130797,
          0.21546931389268098,
          0.14467165864059184,
          0.1823421433692406,
          0.219576492504293,
          0.1617273382678323,
          0.15171830277664822,
          0.11577322168407596,
          0.18152224771664216,
          0.250782105166899,
          0.15210940264135067,
          0.2731431668158771,
          0.19258513542673428,
          0.1526484595062534,
          0.20141979523158704,
          0.24395750250237966,
          0.215887332116853,
          0.16133400573979814,
          0.23309731096927366,
          0.2606336475636507,
          0.13365463984380732,
          0.23284199847021259,
          0.2633257175508886,
          0.15114589836613934,
          0.2138962120169894,
          0.1706186869696002,
          0.2819322206864259,
          0.13561816630326823,
          0.12342786170257304,
          0.28606310542047564,
          0.24062606368548245,
          0.20814724618056438,
          0.13377371844140762,
          0.2070633158379236,
          0.2448064902186618,
          0.20425854035730154,
          0.16656128950300736,
          0.16374783973593046,
          0.1416804953394197,
          0.11478196083818965
         ],
         "yaxis": "y"
        },
        {
         "hovertemplate": "model fit=Optimization terminated successfully.<br>parameter=CS- sFactor<br>Predicted value=%{x}<br>Observed value=%{y}<extra></extra>",
         "legendgroup": "Optimization terminated successfully.",
         "marker": {
          "color": "#636efa",
          "symbol": "circle"
         },
         "mode": "markers",
         "name": "Optimization terminated successfully.",
         "orientation": "v",
         "showlegend": false,
         "type": "scatter",
         "x": [
          0.13219794666175455,
          0.1816023108637957,
          0.21434932125219622,
          0.20994118292771088,
          0.17690514112950992,
          0.27113567589441423,
          0.11631226774899002,
          0.17667378581410584,
          0.28332550223049957,
          0.26757407969378605,
          0.19600522283788482,
          0.17874635849905146,
          0.1954243557205649,
          0.17436113037977,
          0.26380775400651385,
          0.32082400700374747,
          0.21522542600044542,
          0.20668284125520622,
          0.17654005235867032,
          0.19976620680549237,
          0.2116175367065478,
          0.19358356387174866,
          0.1543339411770641,
          0.283669398050044,
          0.24114206858232382,
          0.2245265282752858,
          0.363516639942,
          0.2525372293519681,
          0.20070929500451196,
          0.31799890390876934,
          0.18054143187003735,
          0.24105764939338992,
          0.15382776644287677,
          0.18644185856386142,
          0.19296664381568096,
          0.15334856672350416,
          0.21730525831709602,
          0.20934954006535259,
          0.19857128539755903,
          0.11636706181761564,
          0.18401819117796198,
          0.1467603097913593,
          0.10645949494526634,
          0.2610381414498734,
          0.14078380793100548,
          0.1595940306660575,
          0.3413602896212316,
          0.18845027626087407,
          0.2550574638986988,
          0.1832939655989513,
          0.32001960918569955,
          0.10567026972998728,
          0.17060627170785272,
          0.2262481917917027,
          0.1583845515195813,
          1.683795048822312,
          0.12008262679230243,
          0.2198274059771066,
          0.14779807906861955,
          0.24785347234846986,
          0.16043900794389843,
          0.15897717098813774,
          0.1399371543899066,
          0.218294100768877,
          0.13810958849379856,
          0.2801323515965778,
          0.11472686975781361,
          0.25300611484233143,
          0.19075814882666933,
          0.2455128606321212,
          0.3130428054169127,
          0.21019449518566669,
          0.2429393401386809,
          0.10636176996710654,
          0.13879379160253724,
          0.11707396754038939,
          0.22700845956846044,
          0.09423613705789531,
          0.1073164061303804,
          0.16582618702027474,
          0.1441235851514696,
          0.29411516584733666,
          0.18595682977763042,
          0.15169144457372796,
          0.13904440739210752,
          0.10892393194242153,
          1.1023986979799547,
          0.11623209723904261,
          0.1629958071803819,
          0.15650261707710597,
          0.4247272567453074,
          0.21714914882854644,
          0.1731882384838068,
          0.18459002003061678,
          0.20641707159908054,
          0.17694154246923646,
          0.21117594129315645,
          0.31665789211062584
         ],
         "xaxis": "x2",
         "y": [
          0.12160959525629612,
          0.1846770313473535,
          0.21581393291515072,
          0.20345893063669956,
          0.15462302098653408,
          0.25306168767244386,
          0.13624361383203676,
          0.18137068868235962,
          0.22142710345002142,
          0.2431576582818519,
          0.201679874662,
          0.16168118165285222,
          0.16337185461024784,
          0.18587988705747863,
          0.18401755173338719,
          0.28387975350733125,
          0.2215039377531578,
          0.21597521267513653,
          0.18817294934570797,
          0.2596946916424144,
          0.2599080028341827,
          0.195930587504488,
          0.19142001318757823,
          0.22492073350769193,
          0.26853433556933626,
          0.2098866379577569,
          0.1704873992178148,
          0.20242027996905154,
          0.1546973253741213,
          0.3057164757950963,
          0.16270977082185614,
          0.24914744022290158,
          0.19453288362843885,
          0.17405365580573653,
          0.1789786318934982,
          0.18067727901077146,
          0.1993300927314352,
          0.2023896348421017,
          0.19636965684062674,
          0.12877248630047772,
          0.14740516210301474,
          0.16962019252436578,
          0.1585252635112114,
          0.21412302362874072,
          0.23654359464067043,
          0.22358821061596038,
          0.27548247623666533,
          0.25968926596580616,
          0.22463289003026238,
          0.1706227346941858,
          0.31159800714675157,
          0.13438944241341472,
          0.1705514353911038,
          0.2224973231921033,
          0.1917756640372175,
          0.22754835668969234,
          0.15490105192617667,
          0.16649156539676022,
          0.17557947287293016,
          0.20708724436827158,
          0.13957708304444819,
          0.20666814476460427,
          0.14499889285858045,
          0.23043306816832188,
          0.1572841197124336,
          0.2296418062449544,
          0.14648762833045972,
          0.2717470848127013,
          0.2253098217840102,
          0.23959098650474833,
          0.3207755333126907,
          0.13933270317765636,
          0.27991772592792047,
          0.11491135869380081,
          0.2103126994252072,
          0.092995955600092,
          0.23911180020662942,
          0.1217455240520538,
          0.1833972055340679,
          0.25744523450569706,
          0.16049773106266493,
          0.16345709770388142,
          0.16109521775854108,
          0.16893731642611662,
          0.10017378979060583,
          0.18097064802007568,
          0.15121881049515296,
          0.1328664891172668,
          0.20589105873897423,
          0.16657251055897176,
          0.19368241113875984,
          0.27130708309231955,
          0.17718102132443683,
          0.17377700416034134,
          0.21756359186269542,
          0.1627630506658996,
          0.20790299438071055,
          0.2664659445676779
         ],
         "yaxis": "y2"
        },
        {
         "hovertemplate": "model fit=Desired error not necessarily achieved due to precision loss.<br>parameter=CS+ sFactor<br>Predicted value=%{x}<br>Observed value=%{y}<extra></extra>",
         "legendgroup": "Desired error not necessarily achieved due to precision loss.",
         "marker": {
          "color": "#EF553B",
          "symbol": "diamond"
         },
         "mode": "markers",
         "name": "Desired error not necessarily achieved due to precision loss.",
         "orientation": "v",
         "showlegend": true,
         "type": "scatter",
         "x": [
          0.13181820740432643,
          0.1348936286991481
         ],
         "xaxis": "x",
         "y": [
          0.15367234363958973,
          0.11355836460026582
         ],
         "yaxis": "y"
        },
        {
         "hovertemplate": "model fit=Desired error not necessarily achieved due to precision loss.<br>parameter=CS- sFactor<br>Predicted value=%{x}<br>Observed value=%{y}<extra></extra>",
         "legendgroup": "Desired error not necessarily achieved due to precision loss.",
         "marker": {
          "color": "#EF553B",
          "symbol": "diamond"
         },
         "mode": "markers",
         "name": "Desired error not necessarily achieved due to precision loss.",
         "orientation": "v",
         "showlegend": false,
         "type": "scatter",
         "x": [
          0.13584510148193488,
          0.14098531344902687
         ],
         "xaxis": "x2",
         "y": [
          0.26575089019715425,
          0.16272213807327687
         ],
         "yaxis": "y2"
        }
       ],
       "layout": {
        "annotations": [
         {
          "font": {},
          "showarrow": false,
          "text": "CS+ sFactor",
          "x": 0.24,
          "xanchor": "center",
          "xref": "paper",
          "y": 1,
          "yanchor": "bottom",
          "yref": "paper"
         },
         {
          "font": {},
          "showarrow": false,
          "text": "CS- sFactor",
          "x": 0.76,
          "xanchor": "center",
          "xref": "paper",
          "y": 1,
          "yanchor": "bottom",
          "yref": "paper"
         }
        ],
        "height": 600,
        "legend": {
         "title": {
          "text": "model fit"
         },
         "tracegroupgap": 0
        },
        "margin": {
         "t": 60
        },
        "shapes": [
         {
          "line": {
           "color": "black",
           "dash": "dash"
          },
          "type": "line",
          "x0": 0.08497656726727473,
          "x1": 0.328794921645508,
          "xref": "x2",
          "y0": 0.08497656726727473,
          "y1": 0.328794921645508,
          "yref": "y2"
         },
         {
          "line": {
           "color": "black",
           "dash": "dash"
          },
          "type": "line",
          "x0": 0.07505159168541178,
          "x1": 0.32969137074009935,
          "xref": "x",
          "y0": 0.07505159168541178,
          "y1": 0.32969137074009935,
          "yref": "y"
         }
        ],
        "template": {
         "data": {
          "bar": [
           {
            "error_x": {
             "color": "#2a3f5f"
            },
            "error_y": {
             "color": "#2a3f5f"
            },
            "marker": {
             "line": {
              "color": "#E5ECF6",
              "width": 0.5
             },
             "pattern": {
              "fillmode": "overlay",
              "size": 10,
              "solidity": 0.2
             }
            },
            "type": "bar"
           }
          ],
          "barpolar": [
           {
            "marker": {
             "line": {
              "color": "#E5ECF6",
              "width": 0.5
             },
             "pattern": {
              "fillmode": "overlay",
              "size": 10,
              "solidity": 0.2
             }
            },
            "type": "barpolar"
           }
          ],
          "carpet": [
           {
            "aaxis": {
             "endlinecolor": "#2a3f5f",
             "gridcolor": "white",
             "linecolor": "white",
             "minorgridcolor": "white",
             "startlinecolor": "#2a3f5f"
            },
            "baxis": {
             "endlinecolor": "#2a3f5f",
             "gridcolor": "white",
             "linecolor": "white",
             "minorgridcolor": "white",
             "startlinecolor": "#2a3f5f"
            },
            "type": "carpet"
           }
          ],
          "choropleth": [
           {
            "colorbar": {
             "outlinewidth": 0,
             "ticks": ""
            },
            "type": "choropleth"
           }
          ],
          "contour": [
           {
            "colorbar": {
             "outlinewidth": 0,
             "ticks": ""
            },
            "colorscale": [
             [
              0,
              "#0d0887"
             ],
             [
              0.1111111111111111,
              "#46039f"
             ],
             [
              0.2222222222222222,
              "#7201a8"
             ],
             [
              0.3333333333333333,
              "#9c179e"
             ],
             [
              0.4444444444444444,
              "#bd3786"
             ],
             [
              0.5555555555555556,
              "#d8576b"
             ],
             [
              0.6666666666666666,
              "#ed7953"
             ],
             [
              0.7777777777777778,
              "#fb9f3a"
             ],
             [
              0.8888888888888888,
              "#fdca26"
             ],
             [
              1,
              "#f0f921"
             ]
            ],
            "type": "contour"
           }
          ],
          "contourcarpet": [
           {
            "colorbar": {
             "outlinewidth": 0,
             "ticks": ""
            },
            "type": "contourcarpet"
           }
          ],
          "heatmap": [
           {
            "colorbar": {
             "outlinewidth": 0,
             "ticks": ""
            },
            "colorscale": [
             [
              0,
              "#0d0887"
             ],
             [
              0.1111111111111111,
              "#46039f"
             ],
             [
              0.2222222222222222,
              "#7201a8"
             ],
             [
              0.3333333333333333,
              "#9c179e"
             ],
             [
              0.4444444444444444,
              "#bd3786"
             ],
             [
              0.5555555555555556,
              "#d8576b"
             ],
             [
              0.6666666666666666,
              "#ed7953"
             ],
             [
              0.7777777777777778,
              "#fb9f3a"
             ],
             [
              0.8888888888888888,
              "#fdca26"
             ],
             [
              1,
              "#f0f921"
             ]
            ],
            "type": "heatmap"
           }
          ],
          "heatmapgl": [
           {
            "colorbar": {
             "outlinewidth": 0,
             "ticks": ""
            },
            "colorscale": [
             [
              0,
              "#0d0887"
             ],
             [
              0.1111111111111111,
              "#46039f"
             ],
             [
              0.2222222222222222,
              "#7201a8"
             ],
             [
              0.3333333333333333,
              "#9c179e"
             ],
             [
              0.4444444444444444,
              "#bd3786"
             ],
             [
              0.5555555555555556,
              "#d8576b"
             ],
             [
              0.6666666666666666,
              "#ed7953"
             ],
             [
              0.7777777777777778,
              "#fb9f3a"
             ],
             [
              0.8888888888888888,
              "#fdca26"
             ],
             [
              1,
              "#f0f921"
             ]
            ],
            "type": "heatmapgl"
           }
          ],
          "histogram": [
           {
            "marker": {
             "pattern": {
              "fillmode": "overlay",
              "size": 10,
              "solidity": 0.2
             }
            },
            "type": "histogram"
           }
          ],
          "histogram2d": [
           {
            "colorbar": {
             "outlinewidth": 0,
             "ticks": ""
            },
            "colorscale": [
             [
              0,
              "#0d0887"
             ],
             [
              0.1111111111111111,
              "#46039f"
             ],
             [
              0.2222222222222222,
              "#7201a8"
             ],
             [
              0.3333333333333333,
              "#9c179e"
             ],
             [
              0.4444444444444444,
              "#bd3786"
             ],
             [
              0.5555555555555556,
              "#d8576b"
             ],
             [
              0.6666666666666666,
              "#ed7953"
             ],
             [
              0.7777777777777778,
              "#fb9f3a"
             ],
             [
              0.8888888888888888,
              "#fdca26"
             ],
             [
              1,
              "#f0f921"
             ]
            ],
            "type": "histogram2d"
           }
          ],
          "histogram2dcontour": [
           {
            "colorbar": {
             "outlinewidth": 0,
             "ticks": ""
            },
            "colorscale": [
             [
              0,
              "#0d0887"
             ],
             [
              0.1111111111111111,
              "#46039f"
             ],
             [
              0.2222222222222222,
              "#7201a8"
             ],
             [
              0.3333333333333333,
              "#9c179e"
             ],
             [
              0.4444444444444444,
              "#bd3786"
             ],
             [
              0.5555555555555556,
              "#d8576b"
             ],
             [
              0.6666666666666666,
              "#ed7953"
             ],
             [
              0.7777777777777778,
              "#fb9f3a"
             ],
             [
              0.8888888888888888,
              "#fdca26"
             ],
             [
              1,
              "#f0f921"
             ]
            ],
            "type": "histogram2dcontour"
           }
          ],
          "mesh3d": [
           {
            "colorbar": {
             "outlinewidth": 0,
             "ticks": ""
            },
            "type": "mesh3d"
           }
          ],
          "parcoords": [
           {
            "line": {
             "colorbar": {
              "outlinewidth": 0,
              "ticks": ""
             }
            },
            "type": "parcoords"
           }
          ],
          "pie": [
           {
            "automargin": true,
            "type": "pie"
           }
          ],
          "scatter": [
           {
            "fillpattern": {
             "fillmode": "overlay",
             "size": 10,
             "solidity": 0.2
            },
            "type": "scatter"
           }
          ],
          "scatter3d": [
           {
            "line": {
             "colorbar": {
              "outlinewidth": 0,
              "ticks": ""
             }
            },
            "marker": {
             "colorbar": {
              "outlinewidth": 0,
              "ticks": ""
             }
            },
            "type": "scatter3d"
           }
          ],
          "scattercarpet": [
           {
            "marker": {
             "colorbar": {
              "outlinewidth": 0,
              "ticks": ""
             }
            },
            "type": "scattercarpet"
           }
          ],
          "scattergeo": [
           {
            "marker": {
             "colorbar": {
              "outlinewidth": 0,
              "ticks": ""
             }
            },
            "type": "scattergeo"
           }
          ],
          "scattergl": [
           {
            "marker": {
             "colorbar": {
              "outlinewidth": 0,
              "ticks": ""
             }
            },
            "type": "scattergl"
           }
          ],
          "scattermapbox": [
           {
            "marker": {
             "colorbar": {
              "outlinewidth": 0,
              "ticks": ""
             }
            },
            "type": "scattermapbox"
           }
          ],
          "scatterpolar": [
           {
            "marker": {
             "colorbar": {
              "outlinewidth": 0,
              "ticks": ""
             }
            },
            "type": "scatterpolar"
           }
          ],
          "scatterpolargl": [
           {
            "marker": {
             "colorbar": {
              "outlinewidth": 0,
              "ticks": ""
             }
            },
            "type": "scatterpolargl"
           }
          ],
          "scatterternary": [
           {
            "marker": {
             "colorbar": {
              "outlinewidth": 0,
              "ticks": ""
             }
            },
            "type": "scatterternary"
           }
          ],
          "surface": [
           {
            "colorbar": {
             "outlinewidth": 0,
             "ticks": ""
            },
            "colorscale": [
             [
              0,
              "#0d0887"
             ],
             [
              0.1111111111111111,
              "#46039f"
             ],
             [
              0.2222222222222222,
              "#7201a8"
             ],
             [
              0.3333333333333333,
              "#9c179e"
             ],
             [
              0.4444444444444444,
              "#bd3786"
             ],
             [
              0.5555555555555556,
              "#d8576b"
             ],
             [
              0.6666666666666666,
              "#ed7953"
             ],
             [
              0.7777777777777778,
              "#fb9f3a"
             ],
             [
              0.8888888888888888,
              "#fdca26"
             ],
             [
              1,
              "#f0f921"
             ]
            ],
            "type": "surface"
           }
          ],
          "table": [
           {
            "cells": {
             "fill": {
              "color": "#EBF0F8"
             },
             "line": {
              "color": "white"
             }
            },
            "header": {
             "fill": {
              "color": "#C8D4E3"
             },
             "line": {
              "color": "white"
             }
            },
            "type": "table"
           }
          ]
         },
         "layout": {
          "annotationdefaults": {
           "arrowcolor": "#2a3f5f",
           "arrowhead": 0,
           "arrowwidth": 1
          },
          "autotypenumbers": "strict",
          "coloraxis": {
           "colorbar": {
            "outlinewidth": 0,
            "ticks": ""
           }
          },
          "colorscale": {
           "diverging": [
            [
             0,
             "#8e0152"
            ],
            [
             0.1,
             "#c51b7d"
            ],
            [
             0.2,
             "#de77ae"
            ],
            [
             0.3,
             "#f1b6da"
            ],
            [
             0.4,
             "#fde0ef"
            ],
            [
             0.5,
             "#f7f7f7"
            ],
            [
             0.6,
             "#e6f5d0"
            ],
            [
             0.7,
             "#b8e186"
            ],
            [
             0.8,
             "#7fbc41"
            ],
            [
             0.9,
             "#4d9221"
            ],
            [
             1,
             "#276419"
            ]
           ],
           "sequential": [
            [
             0,
             "#0d0887"
            ],
            [
             0.1111111111111111,
             "#46039f"
            ],
            [
             0.2222222222222222,
             "#7201a8"
            ],
            [
             0.3333333333333333,
             "#9c179e"
            ],
            [
             0.4444444444444444,
             "#bd3786"
            ],
            [
             0.5555555555555556,
             "#d8576b"
            ],
            [
             0.6666666666666666,
             "#ed7953"
            ],
            [
             0.7777777777777778,
             "#fb9f3a"
            ],
            [
             0.8888888888888888,
             "#fdca26"
            ],
            [
             1,
             "#f0f921"
            ]
           ],
           "sequentialminus": [
            [
             0,
             "#0d0887"
            ],
            [
             0.1111111111111111,
             "#46039f"
            ],
            [
             0.2222222222222222,
             "#7201a8"
            ],
            [
             0.3333333333333333,
             "#9c179e"
            ],
            [
             0.4444444444444444,
             "#bd3786"
            ],
            [
             0.5555555555555556,
             "#d8576b"
            ],
            [
             0.6666666666666666,
             "#ed7953"
            ],
            [
             0.7777777777777778,
             "#fb9f3a"
            ],
            [
             0.8888888888888888,
             "#fdca26"
            ],
            [
             1,
             "#f0f921"
            ]
           ]
          },
          "colorway": [
           "#636efa",
           "#EF553B",
           "#00cc96",
           "#ab63fa",
           "#FFA15A",
           "#19d3f3",
           "#FF6692",
           "#B6E880",
           "#FF97FF",
           "#FECB52"
          ],
          "font": {
           "color": "#2a3f5f"
          },
          "geo": {
           "bgcolor": "white",
           "lakecolor": "white",
           "landcolor": "#E5ECF6",
           "showlakes": true,
           "showland": true,
           "subunitcolor": "white"
          },
          "hoverlabel": {
           "align": "left"
          },
          "hovermode": "closest",
          "mapbox": {
           "style": "light"
          },
          "paper_bgcolor": "white",
          "plot_bgcolor": "#E5ECF6",
          "polar": {
           "angularaxis": {
            "gridcolor": "white",
            "linecolor": "white",
            "ticks": ""
           },
           "bgcolor": "#E5ECF6",
           "radialaxis": {
            "gridcolor": "white",
            "linecolor": "white",
            "ticks": ""
           }
          },
          "scene": {
           "xaxis": {
            "backgroundcolor": "#E5ECF6",
            "gridcolor": "white",
            "gridwidth": 2,
            "linecolor": "white",
            "showbackground": true,
            "ticks": "",
            "zerolinecolor": "white"
           },
           "yaxis": {
            "backgroundcolor": "#E5ECF6",
            "gridcolor": "white",
            "gridwidth": 2,
            "linecolor": "white",
            "showbackground": true,
            "ticks": "",
            "zerolinecolor": "white"
           },
           "zaxis": {
            "backgroundcolor": "#E5ECF6",
            "gridcolor": "white",
            "gridwidth": 2,
            "linecolor": "white",
            "showbackground": true,
            "ticks": "",
            "zerolinecolor": "white"
           }
          },
          "shapedefaults": {
           "line": {
            "color": "#2a3f5f"
           }
          },
          "ternary": {
           "aaxis": {
            "gridcolor": "white",
            "linecolor": "white",
            "ticks": ""
           },
           "baxis": {
            "gridcolor": "white",
            "linecolor": "white",
            "ticks": ""
           },
           "bgcolor": "#E5ECF6",
           "caxis": {
            "gridcolor": "white",
            "linecolor": "white",
            "ticks": ""
           }
          },
          "title": {
           "x": 0.05
          },
          "xaxis": {
           "automargin": true,
           "gridcolor": "white",
           "linecolor": "white",
           "ticks": "",
           "title": {
            "standoff": 15
           },
           "zerolinecolor": "white",
           "zerolinewidth": 2
          },
          "yaxis": {
           "automargin": true,
           "gridcolor": "white",
           "linecolor": "white",
           "ticks": "",
           "title": {
            "standoff": 15
           },
           "zerolinecolor": "white",
           "zerolinewidth": 2
          }
         }
        },
        "title": {
         "text": "Predicted vs Observed values (mixed type trials) <span style=\"font-size: 12px;\">dashed line represents ideal result</span>"
        },
        "width": 800,
        "xaxis": {
         "anchor": "y",
         "domain": [
          0,
          0.48
         ],
         "showticklabels": true,
         "title": {
          "text": "Predicted value"
         }
        },
        "xaxis2": {
         "anchor": "y2",
         "domain": [
          0.52,
          1
         ],
         "showticklabels": true,
         "title": {
          "text": "Predicted value"
         }
        },
        "yaxis": {
         "anchor": "x",
         "domain": [
          0,
          1
         ],
         "showticklabels": true,
         "title": {
          "text": "Observed value"
         }
        },
        "yaxis2": {
         "anchor": "x2",
         "domain": [
          0,
          1
         ],
         "showticklabels": true
        }
       }
      }
     },
     "metadata": {},
     "output_type": "display_data"
    }
   ],
   "source": [
    "col_wrap = 2\n",
    "fig = px.scatter(mt_po_df , x= 'Predicted value', y='Observed value', color=\"model fit\",\n",
    "                 symbol = 'model fit', facet_col = 'parameter', facet_col_wrap = col_wrap,\n",
    "                 category_orders={'parameter':mt_params_colNames,\n",
    "                                  'model fit': ['Optimization terminated successfully.',\n",
    "                                      'Desired error not necessarily achieved due to precision loss.']},\n",
    "                facet_col_spacing=0.04, # default is 0.03\n",
    "              height=600, width=800,\n",
    "                )\n",
    "fig.for_each_annotation(lambda a: a.update(text=a.text.split(\"=\")[-1]))\n",
    "fig.update_xaxes(matches=None, showticklabels=True)\n",
    "fig.update_yaxes(matches=None, showticklabels=True)\n",
    "fig.update_layout(\n",
    "        title = '''Predicted vs Observed values (mixed type trials) <span style=\"font-size: 12px;\">dashed line represents ideal result</span>'''\n",
    "        )\n",
    "fig.add_shape(dict(type=\"line\", \n",
    "                       x0=mt_pars_minMax.iloc[1,0] - mt_pars_minMax.iloc[1,1]*0.025, x1=mt_pars_minMax.iloc[1,1] + mt_pars_minMax.iloc[1,1]*0.025, \n",
    "                       y0=mt_pars_minMax.iloc[1,0] - mt_pars_minMax.iloc[1,1]*0.025, y1=mt_pars_minMax.iloc[1,1] + mt_pars_minMax.iloc[1,1]*0.025, \n",
    "                       line_color=\"black\", line_dash='dash'), \n",
    "                  row=0, col=0, \n",
    "                  # label=dict(text=\"ideal result\", textposition = 'bottom left', \n",
    "                  #            xanchor = 'left', yanchor='bottom', textangle=0),\n",
    "                 )\n",
    "\n",
    "fig.add_shape(dict(type=\"line\", \n",
    "                       x0=mt_pars_minMax.iloc[0,0] - mt_pars_minMax.iloc[0,1]*0.025, x1=mt_pars_minMax.iloc[0,1] + mt_pars_minMax.iloc[0,1]*0.025, \n",
    "                       y0=mt_pars_minMax.iloc[0,0] - mt_pars_minMax.iloc[0,1]*0.025, y1=mt_pars_minMax.iloc[0,1] + mt_pars_minMax.iloc[0,1]*0.025, \n",
    "                       line_color=\"black\", line_dash='dash'), \n",
    "                  row=0, col=1, \n",
    "                  # label=dict(text=\"ideal result\", textposition = 'bottom left', \n",
    "                  #            xanchor = 'left', yanchor='bottom', textangle=0),\n",
    "                 )\n",
    "\n",
    "\n",
    "    \n",
    "fig.show()\n",
    "# fig.write_html(\"/mnt/data1/francisco/predicted vs observed mixed type parameters.html\")"
   ]
  },
  {
   "cell_type": "code",
   "execution_count": null,
   "metadata": {},
   "outputs": [],
   "source": []
  }
 ],
 "metadata": {
  "kernelspec": {
   "display_name": "Python 3 (ipykernel)",
   "language": "python",
   "name": "python3"
  },
  "language_info": {
   "codemirror_mode": {
    "name": "ipython",
    "version": 3
   },
   "file_extension": ".py",
   "mimetype": "text/x-python",
   "name": "python",
   "nbconvert_exporter": "python",
   "pygments_lexer": "ipython3",
   "version": "3.10.4"
  },
  "vscode": {
   "interpreter": {
    "hash": "99c044adf5d85823ea13a3699c57e50207e5550fd1923a22377409542dd1d37b"
   }
  }
 },
 "nbformat": 4,
 "nbformat_minor": 4
}
