{
 "cells": [
  {
   "cell_type": "code",
   "execution_count": null,
   "metadata": {},
   "outputs": [],
   "source": []
  },
  {
   "attachments": {},
   "cell_type": "markdown",
   "metadata": {},
   "source": [
    "## Task parameters"
   ]
  },
  {
   "cell_type": "code",
   "execution_count": null,
   "metadata": {},
   "outputs": [],
   "source": [
    "\n",
    "\n",
    "uniqueLott_Nreps= 6      # Unique Lottery Repititions  \n",
    "\n",
    "# Same-type & mixed type Trials Lottery probabilities\n",
    "st_refPs = [1]                              # Reference option\n",
    "st_lottPs = [0.13, 0.22, 0.38, .50, .75]    # Lottery option\n",
    "\n",
    "money_id = 'Money'\n",
    "cPlus_id = 'CS+'\n",
    "cMinus_id = 'CS-'\n",
    "\n",
    "# Same-type task variables\n",
    "money_refQs = [1]                               # Euros\n",
    "money_lottQs = [1, 2, 5, 12, 20]                # Euros\n",
    "\n",
    "cPlus_refQs = [20]                              # mL of CS+ yogurt \n",
    "cPlus_lottQs = [20, 40, 80, 120, 200]           # mL of CS+ yogurt\n",
    "\n",
    "cMinus_refQs = cPlus_refQs                      # mL of CS- yogurt \n",
    "cMinus_lottQs = cPlus_lottQs                    # mL of CS- yogurt \n",
    "\n",
    "# Mixed-type task variables\n",
    "mix_refQs = [.2]                                # Euros\n",
    "cPlus_Mix_lottQs = [40, 80, 120, 150, 200]      # mL of CS+ yogurt \n",
    "cMinus_Mix_lottQs = cPlus_Mix_lottQs            # mL of CS- yogurt \n",
    "\n",
    "money_refPars = [money_id, money_refQs, st_refPs]\n",
    "money_lottPars = [money_id, money_lottQs, st_lottPs]\n",
    "cPlus_refPars = [cPlus_id, cPlus_refQs, st_refPs]\n",
    "cPlus_lottPars = [cPlus_id, cPlus_lottQs, st_lottPs]\n",
    "cMinus_refPars = [cMinus_id, cMinus_refQs, st_refPs]\n",
    "cMinus_lottPars = [cMinus_id, cMinus_lottQs, st_lottPs]\n"
   ]
  },
  {
   "cell_type": "code",
   "execution_count": null,
   "metadata": {},
   "outputs": [],
   "source": [
    "# %% Subject specific parameters\n",
    "money_alpha = 0.7\n",
    "cPlus_alpha = 0.8\n",
    "cMinus_alpha = 0.8\n",
    "\n",
    "money_beta = 1.8\n",
    "cPlus_beta = money_beta\n",
    "cMinus_beta = money_beta\n",
    "\n",
    "cPlus_sFactor = .2\n",
    "cMinus_sFactor = .2\n",
    "mix_cPlus_beta = money_beta\n",
    "mix_cMinus_beta = money_beta\n",
    "\n",
    "alphas = {money_id : money_alpha,\n",
    "        cPlus_id : cPlus_alpha,\n",
    "        cMinus_id : cMinus_alpha}\n",
    "betas = {money_id : money_beta,\n",
    "        cPlus_id : cPlus_beta,\n",
    "        cMinus_id : cMinus_beta,\n",
    "    'mix '+cPlus_id  : mix_cPlus_beta,\n",
    "    'mix '+cMinus_id : mix_cMinus_beta\n",
    "             }\n",
    "\n",
    "scalingFactors = {\n",
    "        cPlus_id : cPlus_sFactor,\n",
    "        cMinus_id : cMinus_sFactor}"
   ]
  },
  {
   "cell_type": "code",
   "execution_count": null,
   "metadata": {},
   "outputs": [],
   "source": []
  }
 ],
 "metadata": {
  "language_info": {
   "name": "python"
  },
  "orig_nbformat": 4
 },
 "nbformat": 4,
 "nbformat_minor": 2
}
