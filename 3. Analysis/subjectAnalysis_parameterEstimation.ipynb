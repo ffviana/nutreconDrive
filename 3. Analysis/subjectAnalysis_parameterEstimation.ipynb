{
 "cells": [
  {
   "attachments": {},
   "cell_type": "markdown",
   "metadata": {},
   "source": [
    "# Import packages and define functions"
   ]
  },
  {
   "cell_type": "code",
   "execution_count": 48,
   "metadata": {},
   "outputs": [
    {
     "name": "stdout",
     "output_type": "stream",
     "text": [
      "Running Code locally\n"
     ]
    },
    {
     "data": {
      "text/plain": [
       "['nutre001',\n",
       " 'nutre002',\n",
       " 'nutre003',\n",
       " 'nutre004',\n",
       " 'nutre005',\n",
       " 'nutre006',\n",
       " 'nutre007',\n",
       " 'nutre008',\n",
       " 'nutre009',\n",
       " 'nutre010',\n",
       " 'nutre011',\n",
       " 'nutre012',\n",
       " 'nutre013',\n",
       " 'nutre014',\n",
       " 'nutre015',\n",
       " 'nutre016',\n",
       " 'nutre017',\n",
       " 'nutre018',\n",
       " 'nutre019',\n",
       " 'nutre020']"
      ]
     },
     "execution_count": 48,
     "metadata": {},
     "output_type": "execute_result"
    }
   ],
   "source": [
    "# try to run the code on google colab...\n",
    "try:\n",
    "  from google.colab import drive\n",
    "  drive.mount('/content/drive/')\n",
    "  shared_drive_foldername = 'NUTRECON'\n",
    "  root = '/content/drive/Shareddrives/{}/'.format(shared_drive_foldername)\n",
    "  !pip install pandas==1.4.2\n",
    "  print('Running Code in Colab')\n",
    "# ...or locally\n",
    "except:\n",
    "  # define the local directory of the project\n",
    "#   root = \"C:/Users/DiogoMelo/nutreconDrive/\"\n",
    "  root = 'D:/FV/Projects/NUTRECON/nutreconDrive/'\n",
    "  print('Running Code locally')\n",
    "\n",
    "import sys\n",
    "import pandas as pd\n",
    "from glob import glob\n",
    "import plotly.express as px\n",
    "\n",
    "sys.path.append(root + 'python')\n",
    "from variableCoding import Vars\n",
    "import importData as load_data\n",
    "import plots as myPlots\n",
    "import neuroeconomics as neuroEcon\n",
    "\n",
    "\n",
    "_v_ = Vars()\n",
    "responses_dataPath = _v_.responses_dataPath\n",
    "data_folder = responses_dataPath.split('Data')[0] + 'Data/'\n",
    "\n",
    "cols_rename = {'Trial Type' : 'trial_type',\n",
    "                'reference type' : 'ref_type', \n",
    "                'reference qt' : 'ref_qt', \n",
    "                'reference p' : 'ref_prob',\n",
    "                'lottery type' : 'lott_type', \n",
    "                'lottery qt' : 'lott_qt', \n",
    "                'lottery p' : 'lott_prob',\n",
    "                'choice' : 'choice',}\n",
    "\n",
    "\n",
    "def get_probLottery(group):\n",
    "  prob_lotteryChoice = len(group[group['choice'] == 2]) / 6\n",
    "  return prob_lotteryChoice\n",
    "\n",
    "def _subject_lotteryChoices(df, subject_id):\n",
    "    \n",
    "    title = 'Subject {} lottery choices for day {}'.format(subject_id, df['Day'].unique()[0])\n",
    "\n",
    "    hover_cols = ['lottery flavor']\n",
    "    hover_data = {key:True if key in hover_cols else False for key in df.columns}\n",
    "\n",
    "    fig = px.line(df, facet_col = 'lott_type', facet_row = 'trial_type',\n",
    "                x='lott_qt', y=_v_.probLotteryChoice_colName, \n",
    "                color='lott_prob',  markers=True,\n",
    "                symbol = 'lott_prob', \n",
    "                color_discrete_sequence = px.colors.sequential.dense,\n",
    "                hover_data = hover_data, \n",
    "                category_orders= {\n",
    "                            'lottery p': sorted(list(df['lott_prob'].unique())),\n",
    "                            }\n",
    "                    )\n",
    "    fig.update_layout(\n",
    "        title = title,\n",
    "        legend_title=\"Lottery Probability\",\n",
    "    )                                \n",
    "    fig.update_xaxes(matches=None)\n",
    "\n",
    "    fig.for_each_annotation(lambda a: a.update(text=a.text.split(\"=\")[-1]))\n",
    "    fig.layout[\"yaxis1\"].title.text = \"\"\n",
    "\n",
    "    fig.show()\n",
    "\n",
    "def plot_subjectLotteryChoices(neuroEcon_df, subject_id):\n",
    "    df = pd.DataFrame(neuroEcon_df.groupby(\n",
    "                        list(cols_rename.values())[:-1] + ['Day', 'lottery flavor']\n",
    "                        ).apply(\n",
    "                    lambda df: get_probLottery(df)), \n",
    "                    columns = [_v_.probLotteryChoice_colName]).reset_index()\n",
    "    \n",
    "    df.groupby('Day').apply(lambda df: _subject_lotteryChoices(df, subject_id))\n",
    "\n",
    "subject_code_list = list(set([s.split('\\\\')[-1].split('_')[0] for s in glob('{}*{}*'.format(responses_dataPath, _v_.neuroEcon_id))]))\n",
    "\n",
    "sorted(subject_code_list)\n"
   ]
  },
  {
   "attachments": {},
   "cell_type": "markdown",
   "metadata": {},
   "source": [
    "# Insert Subject ID below"
   ]
  },
  {
   "cell_type": "code",
   "execution_count": 49,
   "metadata": {},
   "outputs": [],
   "source": [
    "subject_id = 'nutre001'"
   ]
  },
  {
   "attachments": {},
   "cell_type": "markdown",
   "metadata": {},
   "source": [
    "# Check behaviour"
   ]
  },
  {
   "cell_type": "code",
   "execution_count": 50,
   "metadata": {},
   "outputs": [
    {
     "data": {
      "application/vnd.plotly.v1+json": {
       "config": {
        "plotlyServerURL": "https://plot.ly"
       },
       "data": [
        {
         "customdata": [
          [
           "mixed",
           "Money",
           0.2,
           1,
           "CS+",
           0.13,
           2,
           "pomegranate"
          ],
          [
           "mixed",
           "Money",
           0.2,
           1,
           "CS+",
           0.13,
           2,
           "pomegranate"
          ],
          [
           "mixed",
           "Money",
           0.2,
           1,
           "CS+",
           0.13,
           2,
           "pomegranate"
          ],
          [
           "mixed",
           "Money",
           0.2,
           1,
           "CS+",
           0.13,
           2,
           "pomegranate"
          ],
          [
           "mixed",
           "Money",
           0.2,
           1,
           "CS+",
           0.13,
           2,
           "pomegranate"
          ]
         ],
         "hovertemplate": "lottery flavor=%{customdata[7]}<extra></extra>",
         "legendgroup": "0.13",
         "line": {
          "color": "rgb(230, 240, 240)",
          "dash": "solid"
         },
         "marker": {
          "symbol": "circle"
         },
         "mode": "lines+markers",
         "name": "0.13",
         "orientation": "v",
         "showlegend": true,
         "type": "scatter",
         "x": [
          40,
          80,
          120,
          150,
          200
         ],
         "xaxis": "x4",
         "y": [
          0,
          0,
          0.16666666666666666,
          0.6666666666666666,
          0.8333333333333334
         ],
         "yaxis": "y4"
        },
        {
         "customdata": [
          [
           "mixed",
           "Money",
           0.2,
           1,
           "CS-",
           0.13,
           2,
           "cashew"
          ],
          [
           "mixed",
           "Money",
           0.2,
           1,
           "CS-",
           0.13,
           2,
           "cashew"
          ],
          [
           "mixed",
           "Money",
           0.2,
           1,
           "CS-",
           0.13,
           2,
           "cashew"
          ],
          [
           "mixed",
           "Money",
           0.2,
           1,
           "CS-",
           0.13,
           2,
           "cashew"
          ],
          [
           "mixed",
           "Money",
           0.2,
           1,
           "CS-",
           0.13,
           2,
           "cashew"
          ]
         ],
         "hovertemplate": "lottery flavor=%{customdata[7]}<extra></extra>",
         "legendgroup": "0.13",
         "line": {
          "color": "rgb(230, 240, 240)",
          "dash": "solid"
         },
         "marker": {
          "symbol": "circle"
         },
         "mode": "lines+markers",
         "name": "0.13",
         "orientation": "v",
         "showlegend": false,
         "type": "scatter",
         "x": [
          40,
          80,
          120,
          150,
          200
         ],
         "xaxis": "x5",
         "y": [
          0.16666666666666666,
          0,
          0,
          0,
          0
         ],
         "yaxis": "y5"
        },
        {
         "customdata": [
          [
           "same",
           "CS+",
           20,
           1,
           "CS+",
           0.13,
           2,
           "pomegranate"
          ],
          [
           "same",
           "CS+",
           20,
           1,
           "CS+",
           0.13,
           2,
           "pomegranate"
          ],
          [
           "same",
           "CS+",
           20,
           1,
           "CS+",
           0.13,
           2,
           "pomegranate"
          ],
          [
           "same",
           "CS+",
           20,
           1,
           "CS+",
           0.13,
           2,
           "pomegranate"
          ],
          [
           "same",
           "CS+",
           20,
           1,
           "CS+",
           0.13,
           2,
           "pomegranate"
          ]
         ],
         "hovertemplate": "lottery flavor=%{customdata[7]}<extra></extra>",
         "legendgroup": "0.13",
         "line": {
          "color": "rgb(230, 240, 240)",
          "dash": "solid"
         },
         "marker": {
          "symbol": "circle"
         },
         "mode": "lines+markers",
         "name": "0.13",
         "orientation": "v",
         "showlegend": false,
         "type": "scatter",
         "x": [
          20,
          40,
          80,
          120,
          200
         ],
         "xaxis": "x",
         "y": [
          0,
          0,
          0.16666666666666666,
          0,
          0.3333333333333333
         ],
         "yaxis": "y"
        },
        {
         "customdata": [
          [
           "same",
           "CS-",
           20,
           1,
           "CS-",
           0.13,
           2,
           "cashew"
          ],
          [
           "same",
           "CS-",
           20,
           1,
           "CS-",
           0.13,
           2,
           "cashew"
          ],
          [
           "same",
           "CS-",
           20,
           1,
           "CS-",
           0.13,
           2,
           "cashew"
          ],
          [
           "same",
           "CS-",
           20,
           1,
           "CS-",
           0.13,
           2,
           "cashew"
          ],
          [
           "same",
           "CS-",
           20,
           1,
           "CS-",
           0.13,
           2,
           "cashew"
          ]
         ],
         "hovertemplate": "lottery flavor=%{customdata[7]}<extra></extra>",
         "legendgroup": "0.13",
         "line": {
          "color": "rgb(230, 240, 240)",
          "dash": "solid"
         },
         "marker": {
          "symbol": "circle"
         },
         "mode": "lines+markers",
         "name": "0.13",
         "orientation": "v",
         "showlegend": false,
         "type": "scatter",
         "x": [
          20,
          40,
          80,
          120,
          200
         ],
         "xaxis": "x2",
         "y": [
          1,
          1,
          0.5,
          0.6666666666666666,
          0.8333333333333334
         ],
         "yaxis": "y2"
        },
        {
         "customdata": [
          [
           "same",
           "Money",
           1,
           1,
           "Money",
           0.13,
           2,
           ""
          ],
          [
           "same",
           "Money",
           1,
           1,
           "Money",
           0.13,
           2,
           ""
          ],
          [
           "same",
           "Money",
           1,
           1,
           "Money",
           0.13,
           2,
           ""
          ],
          [
           "same",
           "Money",
           1,
           1,
           "Money",
           0.13,
           2,
           ""
          ],
          [
           "same",
           "Money",
           1,
           1,
           "Money",
           0.13,
           2,
           ""
          ]
         ],
         "hovertemplate": "lottery flavor=%{customdata[7]}<extra></extra>",
         "legendgroup": "0.13",
         "line": {
          "color": "rgb(230, 240, 240)",
          "dash": "solid"
         },
         "marker": {
          "symbol": "circle"
         },
         "mode": "lines+markers",
         "name": "0.13",
         "orientation": "v",
         "showlegend": false,
         "type": "scatter",
         "x": [
          1,
          2,
          5,
          12,
          20
         ],
         "xaxis": "x3",
         "y": [
          0,
          0,
          0,
          0,
          0.3333333333333333
         ],
         "yaxis": "y3"
        },
        {
         "customdata": [
          [
           "mixed",
           "Money",
           0.2,
           1,
           "CS+",
           0.22,
           2,
           "pomegranate"
          ],
          [
           "mixed",
           "Money",
           0.2,
           1,
           "CS+",
           0.22,
           2,
           "pomegranate"
          ],
          [
           "mixed",
           "Money",
           0.2,
           1,
           "CS+",
           0.22,
           2,
           "pomegranate"
          ],
          [
           "mixed",
           "Money",
           0.2,
           1,
           "CS+",
           0.22,
           2,
           "pomegranate"
          ],
          [
           "mixed",
           "Money",
           0.2,
           1,
           "CS+",
           0.22,
           2,
           "pomegranate"
          ]
         ],
         "hovertemplate": "lottery flavor=%{customdata[7]}<extra></extra>",
         "legendgroup": "0.22",
         "line": {
          "color": "rgb(191, 221, 229)",
          "dash": "solid"
         },
         "marker": {
          "symbol": "diamond"
         },
         "mode": "lines+markers",
         "name": "0.22",
         "orientation": "v",
         "showlegend": true,
         "type": "scatter",
         "x": [
          40,
          80,
          120,
          150,
          200
         ],
         "xaxis": "x4",
         "y": [
          0,
          0.3333333333333333,
          0.3333333333333333,
          0.5,
          1
         ],
         "yaxis": "y4"
        },
        {
         "customdata": [
          [
           "mixed",
           "Money",
           0.2,
           1,
           "CS-",
           0.22,
           2,
           "cashew"
          ],
          [
           "mixed",
           "Money",
           0.2,
           1,
           "CS-",
           0.22,
           2,
           "cashew"
          ],
          [
           "mixed",
           "Money",
           0.2,
           1,
           "CS-",
           0.22,
           2,
           "cashew"
          ],
          [
           "mixed",
           "Money",
           0.2,
           1,
           "CS-",
           0.22,
           2,
           "cashew"
          ],
          [
           "mixed",
           "Money",
           0.2,
           1,
           "CS-",
           0.22,
           2,
           "cashew"
          ]
         ],
         "hovertemplate": "lottery flavor=%{customdata[7]}<extra></extra>",
         "legendgroup": "0.22",
         "line": {
          "color": "rgb(191, 221, 229)",
          "dash": "solid"
         },
         "marker": {
          "symbol": "diamond"
         },
         "mode": "lines+markers",
         "name": "0.22",
         "orientation": "v",
         "showlegend": false,
         "type": "scatter",
         "x": [
          40,
          80,
          120,
          150,
          200
         ],
         "xaxis": "x5",
         "y": [
          0,
          0,
          0,
          0,
          0
         ],
         "yaxis": "y5"
        },
        {
         "customdata": [
          [
           "same",
           "CS+",
           20,
           1,
           "CS+",
           0.22,
           2,
           "pomegranate"
          ],
          [
           "same",
           "CS+",
           20,
           1,
           "CS+",
           0.22,
           2,
           "pomegranate"
          ],
          [
           "same",
           "CS+",
           20,
           1,
           "CS+",
           0.22,
           2,
           "pomegranate"
          ],
          [
           "same",
           "CS+",
           20,
           1,
           "CS+",
           0.22,
           2,
           "pomegranate"
          ],
          [
           "same",
           "CS+",
           20,
           1,
           "CS+",
           0.22,
           2,
           "pomegranate"
          ]
         ],
         "hovertemplate": "lottery flavor=%{customdata[7]}<extra></extra>",
         "legendgroup": "0.22",
         "line": {
          "color": "rgb(191, 221, 229)",
          "dash": "solid"
         },
         "marker": {
          "symbol": "diamond"
         },
         "mode": "lines+markers",
         "name": "0.22",
         "orientation": "v",
         "showlegend": false,
         "type": "scatter",
         "x": [
          20,
          40,
          80,
          120,
          200
         ],
         "xaxis": "x",
         "y": [
          0.16666666666666666,
          0,
          0.16666666666666666,
          0,
          0.16666666666666666
         ],
         "yaxis": "y"
        },
        {
         "customdata": [
          [
           "same",
           "CS-",
           20,
           1,
           "CS-",
           0.22,
           2,
           "cashew"
          ],
          [
           "same",
           "CS-",
           20,
           1,
           "CS-",
           0.22,
           2,
           "cashew"
          ],
          [
           "same",
           "CS-",
           20,
           1,
           "CS-",
           0.22,
           2,
           "cashew"
          ],
          [
           "same",
           "CS-",
           20,
           1,
           "CS-",
           0.22,
           2,
           "cashew"
          ],
          [
           "same",
           "CS-",
           20,
           1,
           "CS-",
           0.22,
           2,
           "cashew"
          ]
         ],
         "hovertemplate": "lottery flavor=%{customdata[7]}<extra></extra>",
         "legendgroup": "0.22",
         "line": {
          "color": "rgb(191, 221, 229)",
          "dash": "solid"
         },
         "marker": {
          "symbol": "diamond"
         },
         "mode": "lines+markers",
         "name": "0.22",
         "orientation": "v",
         "showlegend": false,
         "type": "scatter",
         "x": [
          20,
          40,
          80,
          120,
          200
         ],
         "xaxis": "x2",
         "y": [
          0.8333333333333334,
          1,
          0.3333333333333333,
          0.3333333333333333,
          0
         ],
         "yaxis": "y2"
        },
        {
         "customdata": [
          [
           "same",
           "Money",
           1,
           1,
           "Money",
           0.22,
           2,
           ""
          ],
          [
           "same",
           "Money",
           1,
           1,
           "Money",
           0.22,
           2,
           ""
          ],
          [
           "same",
           "Money",
           1,
           1,
           "Money",
           0.22,
           2,
           ""
          ],
          [
           "same",
           "Money",
           1,
           1,
           "Money",
           0.22,
           2,
           ""
          ],
          [
           "same",
           "Money",
           1,
           1,
           "Money",
           0.22,
           2,
           ""
          ]
         ],
         "hovertemplate": "lottery flavor=%{customdata[7]}<extra></extra>",
         "legendgroup": "0.22",
         "line": {
          "color": "rgb(191, 221, 229)",
          "dash": "solid"
         },
         "marker": {
          "symbol": "diamond"
         },
         "mode": "lines+markers",
         "name": "0.22",
         "orientation": "v",
         "showlegend": false,
         "type": "scatter",
         "x": [
          1,
          2,
          5,
          12,
          20
         ],
         "xaxis": "x3",
         "y": [
          0,
          0,
          0,
          0,
          0.5
         ],
         "yaxis": "y3"
        },
        {
         "customdata": [
          [
           "mixed",
           "Money",
           0.2,
           1,
           "CS+",
           0.38,
           2,
           "pomegranate"
          ],
          [
           "mixed",
           "Money",
           0.2,
           1,
           "CS+",
           0.38,
           2,
           "pomegranate"
          ],
          [
           "mixed",
           "Money",
           0.2,
           1,
           "CS+",
           0.38,
           2,
           "pomegranate"
          ],
          [
           "mixed",
           "Money",
           0.2,
           1,
           "CS+",
           0.38,
           2,
           "pomegranate"
          ],
          [
           "mixed",
           "Money",
           0.2,
           1,
           "CS+",
           0.38,
           2,
           "pomegranate"
          ]
         ],
         "hovertemplate": "lottery flavor=%{customdata[7]}<extra></extra>",
         "legendgroup": "0.38",
         "line": {
          "color": "rgb(156, 201, 226)",
          "dash": "solid"
         },
         "marker": {
          "symbol": "square"
         },
         "mode": "lines+markers",
         "name": "0.38",
         "orientation": "v",
         "showlegend": true,
         "type": "scatter",
         "x": [
          40,
          80,
          120,
          150,
          200
         ],
         "xaxis": "x4",
         "y": [
          0.3333333333333333,
          0.6666666666666666,
          0.6666666666666666,
          1,
          1
         ],
         "yaxis": "y4"
        },
        {
         "customdata": [
          [
           "mixed",
           "Money",
           0.2,
           1,
           "CS-",
           0.38,
           2,
           "cashew"
          ],
          [
           "mixed",
           "Money",
           0.2,
           1,
           "CS-",
           0.38,
           2,
           "cashew"
          ],
          [
           "mixed",
           "Money",
           0.2,
           1,
           "CS-",
           0.38,
           2,
           "cashew"
          ],
          [
           "mixed",
           "Money",
           0.2,
           1,
           "CS-",
           0.38,
           2,
           "cashew"
          ],
          [
           "mixed",
           "Money",
           0.2,
           1,
           "CS-",
           0.38,
           2,
           "cashew"
          ]
         ],
         "hovertemplate": "lottery flavor=%{customdata[7]}<extra></extra>",
         "legendgroup": "0.38",
         "line": {
          "color": "rgb(156, 201, 226)",
          "dash": "solid"
         },
         "marker": {
          "symbol": "square"
         },
         "mode": "lines+markers",
         "name": "0.38",
         "orientation": "v",
         "showlegend": false,
         "type": "scatter",
         "x": [
          40,
          80,
          120,
          150,
          200
         ],
         "xaxis": "x5",
         "y": [
          0,
          0,
          0,
          0,
          0
         ],
         "yaxis": "y5"
        },
        {
         "customdata": [
          [
           "same",
           "CS+",
           20,
           1,
           "CS+",
           0.38,
           2,
           "pomegranate"
          ],
          [
           "same",
           "CS+",
           20,
           1,
           "CS+",
           0.38,
           2,
           "pomegranate"
          ],
          [
           "same",
           "CS+",
           20,
           1,
           "CS+",
           0.38,
           2,
           "pomegranate"
          ],
          [
           "same",
           "CS+",
           20,
           1,
           "CS+",
           0.38,
           2,
           "pomegranate"
          ],
          [
           "same",
           "CS+",
           20,
           1,
           "CS+",
           0.38,
           2,
           "pomegranate"
          ]
         ],
         "hovertemplate": "lottery flavor=%{customdata[7]}<extra></extra>",
         "legendgroup": "0.38",
         "line": {
          "color": "rgb(156, 201, 226)",
          "dash": "solid"
         },
         "marker": {
          "symbol": "square"
         },
         "mode": "lines+markers",
         "name": "0.38",
         "orientation": "v",
         "showlegend": false,
         "type": "scatter",
         "x": [
          20,
          40,
          80,
          120,
          200
         ],
         "xaxis": "x",
         "y": [
          0,
          0.16666666666666666,
          0.16666666666666666,
          0.16666666666666666,
          0.3333333333333333
         ],
         "yaxis": "y"
        },
        {
         "customdata": [
          [
           "same",
           "CS-",
           20,
           1,
           "CS-",
           0.38,
           2,
           "cashew"
          ],
          [
           "same",
           "CS-",
           20,
           1,
           "CS-",
           0.38,
           2,
           "cashew"
          ],
          [
           "same",
           "CS-",
           20,
           1,
           "CS-",
           0.38,
           2,
           "cashew"
          ],
          [
           "same",
           "CS-",
           20,
           1,
           "CS-",
           0.38,
           2,
           "cashew"
          ],
          [
           "same",
           "CS-",
           20,
           1,
           "CS-",
           0.38,
           2,
           "cashew"
          ]
         ],
         "hovertemplate": "lottery flavor=%{customdata[7]}<extra></extra>",
         "legendgroup": "0.38",
         "line": {
          "color": "rgb(156, 201, 226)",
          "dash": "solid"
         },
         "marker": {
          "symbol": "square"
         },
         "mode": "lines+markers",
         "name": "0.38",
         "orientation": "v",
         "showlegend": false,
         "type": "scatter",
         "x": [
          20,
          40,
          80,
          120,
          200
         ],
         "xaxis": "x2",
         "y": [
          0.8333333333333334,
          0.3333333333333333,
          0.16666666666666666,
          0,
          0
         ],
         "yaxis": "y2"
        },
        {
         "customdata": [
          [
           "same",
           "Money",
           1,
           1,
           "Money",
           0.38,
           2,
           ""
          ],
          [
           "same",
           "Money",
           1,
           1,
           "Money",
           0.38,
           2,
           ""
          ],
          [
           "same",
           "Money",
           1,
           1,
           "Money",
           0.38,
           2,
           ""
          ],
          [
           "same",
           "Money",
           1,
           1,
           "Money",
           0.38,
           2,
           ""
          ],
          [
           "same",
           "Money",
           1,
           1,
           "Money",
           0.38,
           2,
           ""
          ]
         ],
         "hovertemplate": "lottery flavor=%{customdata[7]}<extra></extra>",
         "legendgroup": "0.38",
         "line": {
          "color": "rgb(156, 201, 226)",
          "dash": "solid"
         },
         "marker": {
          "symbol": "square"
         },
         "mode": "lines+markers",
         "name": "0.38",
         "orientation": "v",
         "showlegend": false,
         "type": "scatter",
         "x": [
          1,
          2,
          5,
          12,
          20
         ],
         "xaxis": "x3",
         "y": [
          0,
          0,
          0.16666666666666666,
          0.16666666666666666,
          0.6666666666666666
         ],
         "yaxis": "y3"
        },
        {
         "customdata": [
          [
           "mixed",
           "Money",
           0.2,
           1,
           "CS+",
           0.5,
           2,
           "pomegranate"
          ],
          [
           "mixed",
           "Money",
           0.2,
           1,
           "CS+",
           0.5,
           2,
           "pomegranate"
          ],
          [
           "mixed",
           "Money",
           0.2,
           1,
           "CS+",
           0.5,
           2,
           "pomegranate"
          ],
          [
           "mixed",
           "Money",
           0.2,
           1,
           "CS+",
           0.5,
           2,
           "pomegranate"
          ],
          [
           "mixed",
           "Money",
           0.2,
           1,
           "CS+",
           0.5,
           2,
           "pomegranate"
          ]
         ],
         "hovertemplate": "lottery flavor=%{customdata[7]}<extra></extra>",
         "legendgroup": "0.5",
         "line": {
          "color": "rgb(129, 180, 227)",
          "dash": "solid"
         },
         "marker": {
          "symbol": "x"
         },
         "mode": "lines+markers",
         "name": "0.5",
         "orientation": "v",
         "showlegend": true,
         "type": "scatter",
         "x": [
          40,
          80,
          120,
          150,
          200
         ],
         "xaxis": "x4",
         "y": [
          0.6666666666666666,
          1,
          0.8333333333333334,
          1,
          1
         ],
         "yaxis": "y4"
        },
        {
         "customdata": [
          [
           "mixed",
           "Money",
           0.2,
           1,
           "CS-",
           0.5,
           2,
           "cashew"
          ],
          [
           "mixed",
           "Money",
           0.2,
           1,
           "CS-",
           0.5,
           2,
           "cashew"
          ],
          [
           "mixed",
           "Money",
           0.2,
           1,
           "CS-",
           0.5,
           2,
           "cashew"
          ],
          [
           "mixed",
           "Money",
           0.2,
           1,
           "CS-",
           0.5,
           2,
           "cashew"
          ],
          [
           "mixed",
           "Money",
           0.2,
           1,
           "CS-",
           0.5,
           2,
           "cashew"
          ]
         ],
         "hovertemplate": "lottery flavor=%{customdata[7]}<extra></extra>",
         "legendgroup": "0.5",
         "line": {
          "color": "rgb(129, 180, 227)",
          "dash": "solid"
         },
         "marker": {
          "symbol": "x"
         },
         "mode": "lines+markers",
         "name": "0.5",
         "orientation": "v",
         "showlegend": false,
         "type": "scatter",
         "x": [
          40,
          80,
          120,
          150,
          200
         ],
         "xaxis": "x5",
         "y": [
          0,
          0,
          0,
          0,
          0
         ],
         "yaxis": "y5"
        },
        {
         "customdata": [
          [
           "same",
           "CS+",
           20,
           1,
           "CS+",
           0.5,
           2,
           "pomegranate"
          ],
          [
           "same",
           "CS+",
           20,
           1,
           "CS+",
           0.5,
           2,
           "pomegranate"
          ],
          [
           "same",
           "CS+",
           20,
           1,
           "CS+",
           0.5,
           2,
           "pomegranate"
          ],
          [
           "same",
           "CS+",
           20,
           1,
           "CS+",
           0.5,
           2,
           "pomegranate"
          ],
          [
           "same",
           "CS+",
           20,
           1,
           "CS+",
           0.5,
           2,
           "pomegranate"
          ]
         ],
         "hovertemplate": "lottery flavor=%{customdata[7]}<extra></extra>",
         "legendgroup": "0.5",
         "line": {
          "color": "rgb(129, 180, 227)",
          "dash": "solid"
         },
         "marker": {
          "symbol": "x"
         },
         "mode": "lines+markers",
         "name": "0.5",
         "orientation": "v",
         "showlegend": false,
         "type": "scatter",
         "x": [
          20,
          40,
          80,
          120,
          200
         ],
         "xaxis": "x",
         "y": [
          0,
          0,
          0.8333333333333334,
          0.6666666666666666,
          1
         ],
         "yaxis": "y"
        },
        {
         "customdata": [
          [
           "same",
           "CS-",
           20,
           1,
           "CS-",
           0.5,
           2,
           "cashew"
          ],
          [
           "same",
           "CS-",
           20,
           1,
           "CS-",
           0.5,
           2,
           "cashew"
          ],
          [
           "same",
           "CS-",
           20,
           1,
           "CS-",
           0.5,
           2,
           "cashew"
          ],
          [
           "same",
           "CS-",
           20,
           1,
           "CS-",
           0.5,
           2,
           "cashew"
          ],
          [
           "same",
           "CS-",
           20,
           1,
           "CS-",
           0.5,
           2,
           "cashew"
          ]
         ],
         "hovertemplate": "lottery flavor=%{customdata[7]}<extra></extra>",
         "legendgroup": "0.5",
         "line": {
          "color": "rgb(129, 180, 227)",
          "dash": "solid"
         },
         "marker": {
          "symbol": "x"
         },
         "mode": "lines+markers",
         "name": "0.5",
         "orientation": "v",
         "showlegend": false,
         "type": "scatter",
         "x": [
          20,
          40,
          80,
          120,
          200
         ],
         "xaxis": "x2",
         "y": [
          0.8333333333333334,
          0.6666666666666666,
          0.16666666666666666,
          0.16666666666666666,
          0
         ],
         "yaxis": "y2"
        },
        {
         "customdata": [
          [
           "same",
           "Money",
           1,
           1,
           "Money",
           0.5,
           2,
           ""
          ],
          [
           "same",
           "Money",
           1,
           1,
           "Money",
           0.5,
           2,
           ""
          ],
          [
           "same",
           "Money",
           1,
           1,
           "Money",
           0.5,
           2,
           ""
          ],
          [
           "same",
           "Money",
           1,
           1,
           "Money",
           0.5,
           2,
           ""
          ],
          [
           "same",
           "Money",
           1,
           1,
           "Money",
           0.5,
           2,
           ""
          ]
         ],
         "hovertemplate": "lottery flavor=%{customdata[7]}<extra></extra>",
         "legendgroup": "0.5",
         "line": {
          "color": "rgb(129, 180, 227)",
          "dash": "solid"
         },
         "marker": {
          "symbol": "x"
         },
         "mode": "lines+markers",
         "name": "0.5",
         "orientation": "v",
         "showlegend": false,
         "type": "scatter",
         "x": [
          1,
          2,
          5,
          12,
          20
         ],
         "xaxis": "x3",
         "y": [
          0,
          0.16666666666666666,
          1,
          1,
          1
         ],
         "yaxis": "y3"
        },
        {
         "customdata": [
          [
           "mixed",
           "Money",
           0.2,
           1,
           "CS+",
           0.75,
           2,
           "pomegranate"
          ],
          [
           "mixed",
           "Money",
           0.2,
           1,
           "CS+",
           0.75,
           2,
           "pomegranate"
          ],
          [
           "mixed",
           "Money",
           0.2,
           1,
           "CS+",
           0.75,
           2,
           "pomegranate"
          ],
          [
           "mixed",
           "Money",
           0.2,
           1,
           "CS+",
           0.75,
           2,
           "pomegranate"
          ],
          [
           "mixed",
           "Money",
           0.2,
           1,
           "CS+",
           0.75,
           2,
           "pomegranate"
          ]
         ],
         "hovertemplate": "lottery flavor=%{customdata[7]}<extra></extra>",
         "legendgroup": "0.75",
         "line": {
          "color": "rgb(115, 154, 228)",
          "dash": "solid"
         },
         "marker": {
          "symbol": "cross"
         },
         "mode": "lines+markers",
         "name": "0.75",
         "orientation": "v",
         "showlegend": true,
         "type": "scatter",
         "x": [
          40,
          80,
          120,
          150,
          200
         ],
         "xaxis": "x4",
         "y": [
          1,
          1,
          1,
          1,
          1
         ],
         "yaxis": "y4"
        },
        {
         "customdata": [
          [
           "mixed",
           "Money",
           0.2,
           1,
           "CS-",
           0.75,
           2,
           "cashew"
          ],
          [
           "mixed",
           "Money",
           0.2,
           1,
           "CS-",
           0.75,
           2,
           "cashew"
          ],
          [
           "mixed",
           "Money",
           0.2,
           1,
           "CS-",
           0.75,
           2,
           "cashew"
          ],
          [
           "mixed",
           "Money",
           0.2,
           1,
           "CS-",
           0.75,
           2,
           "cashew"
          ],
          [
           "mixed",
           "Money",
           0.2,
           1,
           "CS-",
           0.75,
           2,
           "cashew"
          ]
         ],
         "hovertemplate": "lottery flavor=%{customdata[7]}<extra></extra>",
         "legendgroup": "0.75",
         "line": {
          "color": "rgb(115, 154, 228)",
          "dash": "solid"
         },
         "marker": {
          "symbol": "cross"
         },
         "mode": "lines+markers",
         "name": "0.75",
         "orientation": "v",
         "showlegend": false,
         "type": "scatter",
         "x": [
          40,
          80,
          120,
          150,
          200
         ],
         "xaxis": "x5",
         "y": [
          0,
          0,
          0,
          0.16666666666666666,
          0
         ],
         "yaxis": "y5"
        },
        {
         "customdata": [
          [
           "same",
           "CS+",
           20,
           1,
           "CS+",
           0.75,
           2,
           "pomegranate"
          ],
          [
           "same",
           "CS+",
           20,
           1,
           "CS+",
           0.75,
           2,
           "pomegranate"
          ],
          [
           "same",
           "CS+",
           20,
           1,
           "CS+",
           0.75,
           2,
           "pomegranate"
          ],
          [
           "same",
           "CS+",
           20,
           1,
           "CS+",
           0.75,
           2,
           "pomegranate"
          ],
          [
           "same",
           "CS+",
           20,
           1,
           "CS+",
           0.75,
           2,
           "pomegranate"
          ]
         ],
         "hovertemplate": "lottery flavor=%{customdata[7]}<extra></extra>",
         "legendgroup": "0.75",
         "line": {
          "color": "rgb(115, 154, 228)",
          "dash": "solid"
         },
         "marker": {
          "symbol": "cross"
         },
         "mode": "lines+markers",
         "name": "0.75",
         "orientation": "v",
         "showlegend": false,
         "type": "scatter",
         "x": [
          20,
          40,
          80,
          120,
          200
         ],
         "xaxis": "x",
         "y": [
          0,
          0.5,
          1,
          1,
          0.8333333333333334
         ],
         "yaxis": "y"
        },
        {
         "customdata": [
          [
           "same",
           "CS-",
           20,
           1,
           "CS-",
           0.75,
           2,
           "cashew"
          ],
          [
           "same",
           "CS-",
           20,
           1,
           "CS-",
           0.75,
           2,
           "cashew"
          ],
          [
           "same",
           "CS-",
           20,
           1,
           "CS-",
           0.75,
           2,
           "cashew"
          ],
          [
           "same",
           "CS-",
           20,
           1,
           "CS-",
           0.75,
           2,
           "cashew"
          ],
          [
           "same",
           "CS-",
           20,
           1,
           "CS-",
           0.75,
           2,
           "cashew"
          ]
         ],
         "hovertemplate": "lottery flavor=%{customdata[7]}<extra></extra>",
         "legendgroup": "0.75",
         "line": {
          "color": "rgb(115, 154, 228)",
          "dash": "solid"
         },
         "marker": {
          "symbol": "cross"
         },
         "mode": "lines+markers",
         "name": "0.75",
         "orientation": "v",
         "showlegend": false,
         "type": "scatter",
         "x": [
          20,
          40,
          80,
          120,
          200
         ],
         "xaxis": "x2",
         "y": [
          0.3333333333333333,
          0.16666666666666666,
          0.16666666666666666,
          0,
          0.3333333333333333
         ],
         "yaxis": "y2"
        },
        {
         "customdata": [
          [
           "same",
           "Money",
           1,
           1,
           "Money",
           0.75,
           2,
           ""
          ],
          [
           "same",
           "Money",
           1,
           1,
           "Money",
           0.75,
           2,
           ""
          ],
          [
           "same",
           "Money",
           1,
           1,
           "Money",
           0.75,
           2,
           ""
          ],
          [
           "same",
           "Money",
           1,
           1,
           "Money",
           0.75,
           2,
           ""
          ],
          [
           "same",
           "Money",
           1,
           1,
           "Money",
           0.75,
           2,
           ""
          ]
         ],
         "hovertemplate": "lottery flavor=%{customdata[7]}<extra></extra>",
         "legendgroup": "0.75",
         "line": {
          "color": "rgb(115, 154, 228)",
          "dash": "solid"
         },
         "marker": {
          "symbol": "cross"
         },
         "mode": "lines+markers",
         "name": "0.75",
         "orientation": "v",
         "showlegend": false,
         "type": "scatter",
         "x": [
          1,
          2,
          5,
          12,
          20
         ],
         "xaxis": "x3",
         "y": [
          0,
          0.5,
          1,
          1,
          1
         ],
         "yaxis": "y3"
        }
       ],
       "layout": {
        "annotations": [
         {
          "font": {},
          "showarrow": false,
          "text": "CS+",
          "x": 0.15666666666666665,
          "xanchor": "center",
          "xref": "paper",
          "y": 1,
          "yanchor": "bottom",
          "yref": "paper"
         },
         {
          "font": {},
          "showarrow": false,
          "text": "CS-",
          "x": 0.49,
          "xanchor": "center",
          "xref": "paper",
          "y": 1,
          "yanchor": "bottom",
          "yref": "paper"
         },
         {
          "font": {},
          "showarrow": false,
          "text": "Money",
          "x": 0.8233333333333333,
          "xanchor": "center",
          "xref": "paper",
          "y": 1,
          "yanchor": "bottom",
          "yref": "paper"
         },
         {
          "font": {},
          "showarrow": false,
          "text": "same",
          "textangle": 90,
          "x": 0.98,
          "xanchor": "left",
          "xref": "paper",
          "y": 0.2425,
          "yanchor": "middle",
          "yref": "paper"
         },
         {
          "font": {},
          "showarrow": false,
          "text": "mixed",
          "textangle": 90,
          "x": 0.98,
          "xanchor": "left",
          "xref": "paper",
          "y": 0.7575000000000001,
          "yanchor": "middle",
          "yref": "paper"
         }
        ],
        "legend": {
         "title": {
          "text": "Lottery Probability"
         },
         "tracegroupgap": 0
        },
        "margin": {
         "t": 60
        },
        "template": {
         "data": {
          "bar": [
           {
            "error_x": {
             "color": "#2a3f5f"
            },
            "error_y": {
             "color": "#2a3f5f"
            },
            "marker": {
             "line": {
              "color": "#E5ECF6",
              "width": 0.5
             },
             "pattern": {
              "fillmode": "overlay",
              "size": 10,
              "solidity": 0.2
             }
            },
            "type": "bar"
           }
          ],
          "barpolar": [
           {
            "marker": {
             "line": {
              "color": "#E5ECF6",
              "width": 0.5
             },
             "pattern": {
              "fillmode": "overlay",
              "size": 10,
              "solidity": 0.2
             }
            },
            "type": "barpolar"
           }
          ],
          "carpet": [
           {
            "aaxis": {
             "endlinecolor": "#2a3f5f",
             "gridcolor": "white",
             "linecolor": "white",
             "minorgridcolor": "white",
             "startlinecolor": "#2a3f5f"
            },
            "baxis": {
             "endlinecolor": "#2a3f5f",
             "gridcolor": "white",
             "linecolor": "white",
             "minorgridcolor": "white",
             "startlinecolor": "#2a3f5f"
            },
            "type": "carpet"
           }
          ],
          "choropleth": [
           {
            "colorbar": {
             "outlinewidth": 0,
             "ticks": ""
            },
            "type": "choropleth"
           }
          ],
          "contour": [
           {
            "colorbar": {
             "outlinewidth": 0,
             "ticks": ""
            },
            "colorscale": [
             [
              0,
              "#0d0887"
             ],
             [
              0.1111111111111111,
              "#46039f"
             ],
             [
              0.2222222222222222,
              "#7201a8"
             ],
             [
              0.3333333333333333,
              "#9c179e"
             ],
             [
              0.4444444444444444,
              "#bd3786"
             ],
             [
              0.5555555555555556,
              "#d8576b"
             ],
             [
              0.6666666666666666,
              "#ed7953"
             ],
             [
              0.7777777777777778,
              "#fb9f3a"
             ],
             [
              0.8888888888888888,
              "#fdca26"
             ],
             [
              1,
              "#f0f921"
             ]
            ],
            "type": "contour"
           }
          ],
          "contourcarpet": [
           {
            "colorbar": {
             "outlinewidth": 0,
             "ticks": ""
            },
            "type": "contourcarpet"
           }
          ],
          "heatmap": [
           {
            "colorbar": {
             "outlinewidth": 0,
             "ticks": ""
            },
            "colorscale": [
             [
              0,
              "#0d0887"
             ],
             [
              0.1111111111111111,
              "#46039f"
             ],
             [
              0.2222222222222222,
              "#7201a8"
             ],
             [
              0.3333333333333333,
              "#9c179e"
             ],
             [
              0.4444444444444444,
              "#bd3786"
             ],
             [
              0.5555555555555556,
              "#d8576b"
             ],
             [
              0.6666666666666666,
              "#ed7953"
             ],
             [
              0.7777777777777778,
              "#fb9f3a"
             ],
             [
              0.8888888888888888,
              "#fdca26"
             ],
             [
              1,
              "#f0f921"
             ]
            ],
            "type": "heatmap"
           }
          ],
          "heatmapgl": [
           {
            "colorbar": {
             "outlinewidth": 0,
             "ticks": ""
            },
            "colorscale": [
             [
              0,
              "#0d0887"
             ],
             [
              0.1111111111111111,
              "#46039f"
             ],
             [
              0.2222222222222222,
              "#7201a8"
             ],
             [
              0.3333333333333333,
              "#9c179e"
             ],
             [
              0.4444444444444444,
              "#bd3786"
             ],
             [
              0.5555555555555556,
              "#d8576b"
             ],
             [
              0.6666666666666666,
              "#ed7953"
             ],
             [
              0.7777777777777778,
              "#fb9f3a"
             ],
             [
              0.8888888888888888,
              "#fdca26"
             ],
             [
              1,
              "#f0f921"
             ]
            ],
            "type": "heatmapgl"
           }
          ],
          "histogram": [
           {
            "marker": {
             "pattern": {
              "fillmode": "overlay",
              "size": 10,
              "solidity": 0.2
             }
            },
            "type": "histogram"
           }
          ],
          "histogram2d": [
           {
            "colorbar": {
             "outlinewidth": 0,
             "ticks": ""
            },
            "colorscale": [
             [
              0,
              "#0d0887"
             ],
             [
              0.1111111111111111,
              "#46039f"
             ],
             [
              0.2222222222222222,
              "#7201a8"
             ],
             [
              0.3333333333333333,
              "#9c179e"
             ],
             [
              0.4444444444444444,
              "#bd3786"
             ],
             [
              0.5555555555555556,
              "#d8576b"
             ],
             [
              0.6666666666666666,
              "#ed7953"
             ],
             [
              0.7777777777777778,
              "#fb9f3a"
             ],
             [
              0.8888888888888888,
              "#fdca26"
             ],
             [
              1,
              "#f0f921"
             ]
            ],
            "type": "histogram2d"
           }
          ],
          "histogram2dcontour": [
           {
            "colorbar": {
             "outlinewidth": 0,
             "ticks": ""
            },
            "colorscale": [
             [
              0,
              "#0d0887"
             ],
             [
              0.1111111111111111,
              "#46039f"
             ],
             [
              0.2222222222222222,
              "#7201a8"
             ],
             [
              0.3333333333333333,
              "#9c179e"
             ],
             [
              0.4444444444444444,
              "#bd3786"
             ],
             [
              0.5555555555555556,
              "#d8576b"
             ],
             [
              0.6666666666666666,
              "#ed7953"
             ],
             [
              0.7777777777777778,
              "#fb9f3a"
             ],
             [
              0.8888888888888888,
              "#fdca26"
             ],
             [
              1,
              "#f0f921"
             ]
            ],
            "type": "histogram2dcontour"
           }
          ],
          "mesh3d": [
           {
            "colorbar": {
             "outlinewidth": 0,
             "ticks": ""
            },
            "type": "mesh3d"
           }
          ],
          "parcoords": [
           {
            "line": {
             "colorbar": {
              "outlinewidth": 0,
              "ticks": ""
             }
            },
            "type": "parcoords"
           }
          ],
          "pie": [
           {
            "automargin": true,
            "type": "pie"
           }
          ],
          "scatter": [
           {
            "fillpattern": {
             "fillmode": "overlay",
             "size": 10,
             "solidity": 0.2
            },
            "type": "scatter"
           }
          ],
          "scatter3d": [
           {
            "line": {
             "colorbar": {
              "outlinewidth": 0,
              "ticks": ""
             }
            },
            "marker": {
             "colorbar": {
              "outlinewidth": 0,
              "ticks": ""
             }
            },
            "type": "scatter3d"
           }
          ],
          "scattercarpet": [
           {
            "marker": {
             "colorbar": {
              "outlinewidth": 0,
              "ticks": ""
             }
            },
            "type": "scattercarpet"
           }
          ],
          "scattergeo": [
           {
            "marker": {
             "colorbar": {
              "outlinewidth": 0,
              "ticks": ""
             }
            },
            "type": "scattergeo"
           }
          ],
          "scattergl": [
           {
            "marker": {
             "colorbar": {
              "outlinewidth": 0,
              "ticks": ""
             }
            },
            "type": "scattergl"
           }
          ],
          "scattermapbox": [
           {
            "marker": {
             "colorbar": {
              "outlinewidth": 0,
              "ticks": ""
             }
            },
            "type": "scattermapbox"
           }
          ],
          "scatterpolar": [
           {
            "marker": {
             "colorbar": {
              "outlinewidth": 0,
              "ticks": ""
             }
            },
            "type": "scatterpolar"
           }
          ],
          "scatterpolargl": [
           {
            "marker": {
             "colorbar": {
              "outlinewidth": 0,
              "ticks": ""
             }
            },
            "type": "scatterpolargl"
           }
          ],
          "scatterternary": [
           {
            "marker": {
             "colorbar": {
              "outlinewidth": 0,
              "ticks": ""
             }
            },
            "type": "scatterternary"
           }
          ],
          "surface": [
           {
            "colorbar": {
             "outlinewidth": 0,
             "ticks": ""
            },
            "colorscale": [
             [
              0,
              "#0d0887"
             ],
             [
              0.1111111111111111,
              "#46039f"
             ],
             [
              0.2222222222222222,
              "#7201a8"
             ],
             [
              0.3333333333333333,
              "#9c179e"
             ],
             [
              0.4444444444444444,
              "#bd3786"
             ],
             [
              0.5555555555555556,
              "#d8576b"
             ],
             [
              0.6666666666666666,
              "#ed7953"
             ],
             [
              0.7777777777777778,
              "#fb9f3a"
             ],
             [
              0.8888888888888888,
              "#fdca26"
             ],
             [
              1,
              "#f0f921"
             ]
            ],
            "type": "surface"
           }
          ],
          "table": [
           {
            "cells": {
             "fill": {
              "color": "#EBF0F8"
             },
             "line": {
              "color": "white"
             }
            },
            "header": {
             "fill": {
              "color": "#C8D4E3"
             },
             "line": {
              "color": "white"
             }
            },
            "type": "table"
           }
          ]
         },
         "layout": {
          "annotationdefaults": {
           "arrowcolor": "#2a3f5f",
           "arrowhead": 0,
           "arrowwidth": 1
          },
          "autotypenumbers": "strict",
          "coloraxis": {
           "colorbar": {
            "outlinewidth": 0,
            "ticks": ""
           }
          },
          "colorscale": {
           "diverging": [
            [
             0,
             "#8e0152"
            ],
            [
             0.1,
             "#c51b7d"
            ],
            [
             0.2,
             "#de77ae"
            ],
            [
             0.3,
             "#f1b6da"
            ],
            [
             0.4,
             "#fde0ef"
            ],
            [
             0.5,
             "#f7f7f7"
            ],
            [
             0.6,
             "#e6f5d0"
            ],
            [
             0.7,
             "#b8e186"
            ],
            [
             0.8,
             "#7fbc41"
            ],
            [
             0.9,
             "#4d9221"
            ],
            [
             1,
             "#276419"
            ]
           ],
           "sequential": [
            [
             0,
             "#0d0887"
            ],
            [
             0.1111111111111111,
             "#46039f"
            ],
            [
             0.2222222222222222,
             "#7201a8"
            ],
            [
             0.3333333333333333,
             "#9c179e"
            ],
            [
             0.4444444444444444,
             "#bd3786"
            ],
            [
             0.5555555555555556,
             "#d8576b"
            ],
            [
             0.6666666666666666,
             "#ed7953"
            ],
            [
             0.7777777777777778,
             "#fb9f3a"
            ],
            [
             0.8888888888888888,
             "#fdca26"
            ],
            [
             1,
             "#f0f921"
            ]
           ],
           "sequentialminus": [
            [
             0,
             "#0d0887"
            ],
            [
             0.1111111111111111,
             "#46039f"
            ],
            [
             0.2222222222222222,
             "#7201a8"
            ],
            [
             0.3333333333333333,
             "#9c179e"
            ],
            [
             0.4444444444444444,
             "#bd3786"
            ],
            [
             0.5555555555555556,
             "#d8576b"
            ],
            [
             0.6666666666666666,
             "#ed7953"
            ],
            [
             0.7777777777777778,
             "#fb9f3a"
            ],
            [
             0.8888888888888888,
             "#fdca26"
            ],
            [
             1,
             "#f0f921"
            ]
           ]
          },
          "colorway": [
           "#636efa",
           "#EF553B",
           "#00cc96",
           "#ab63fa",
           "#FFA15A",
           "#19d3f3",
           "#FF6692",
           "#B6E880",
           "#FF97FF",
           "#FECB52"
          ],
          "font": {
           "color": "#2a3f5f"
          },
          "geo": {
           "bgcolor": "white",
           "lakecolor": "white",
           "landcolor": "#E5ECF6",
           "showlakes": true,
           "showland": true,
           "subunitcolor": "white"
          },
          "hoverlabel": {
           "align": "left"
          },
          "hovermode": "closest",
          "mapbox": {
           "style": "light"
          },
          "paper_bgcolor": "white",
          "plot_bgcolor": "#E5ECF6",
          "polar": {
           "angularaxis": {
            "gridcolor": "white",
            "linecolor": "white",
            "ticks": ""
           },
           "bgcolor": "#E5ECF6",
           "radialaxis": {
            "gridcolor": "white",
            "linecolor": "white",
            "ticks": ""
           }
          },
          "scene": {
           "xaxis": {
            "backgroundcolor": "#E5ECF6",
            "gridcolor": "white",
            "gridwidth": 2,
            "linecolor": "white",
            "showbackground": true,
            "ticks": "",
            "zerolinecolor": "white"
           },
           "yaxis": {
            "backgroundcolor": "#E5ECF6",
            "gridcolor": "white",
            "gridwidth": 2,
            "linecolor": "white",
            "showbackground": true,
            "ticks": "",
            "zerolinecolor": "white"
           },
           "zaxis": {
            "backgroundcolor": "#E5ECF6",
            "gridcolor": "white",
            "gridwidth": 2,
            "linecolor": "white",
            "showbackground": true,
            "ticks": "",
            "zerolinecolor": "white"
           }
          },
          "shapedefaults": {
           "line": {
            "color": "#2a3f5f"
           }
          },
          "ternary": {
           "aaxis": {
            "gridcolor": "white",
            "linecolor": "white",
            "ticks": ""
           },
           "baxis": {
            "gridcolor": "white",
            "linecolor": "white",
            "ticks": ""
           },
           "bgcolor": "#E5ECF6",
           "caxis": {
            "gridcolor": "white",
            "linecolor": "white",
            "ticks": ""
           }
          },
          "title": {
           "x": 0.05
          },
          "xaxis": {
           "automargin": true,
           "gridcolor": "white",
           "linecolor": "white",
           "ticks": "",
           "title": {
            "standoff": 15
           },
           "zerolinecolor": "white",
           "zerolinewidth": 2
          },
          "yaxis": {
           "automargin": true,
           "gridcolor": "white",
           "linecolor": "white",
           "ticks": "",
           "title": {
            "standoff": 15
           },
           "zerolinecolor": "white",
           "zerolinewidth": 2
          }
         }
        },
        "title": {
         "text": "Subject nutre001 lottery choices for day 2"
        },
        "xaxis": {
         "anchor": "y",
         "domain": [
          0,
          0.3133333333333333
         ],
         "title": {
          "text": "lott_qt"
         }
        },
        "xaxis2": {
         "anchor": "y2",
         "domain": [
          0.3333333333333333,
          0.6466666666666666
         ],
         "title": {
          "text": "lott_qt"
         }
        },
        "xaxis3": {
         "anchor": "y3",
         "domain": [
          0.6666666666666666,
          0.98
         ],
         "title": {
          "text": "lott_qt"
         }
        },
        "xaxis4": {
         "anchor": "y4",
         "domain": [
          0,
          0.3133333333333333
         ],
         "showticklabels": false
        },
        "xaxis5": {
         "anchor": "y5",
         "domain": [
          0.3333333333333333,
          0.6466666666666666
         ],
         "showticklabels": false
        },
        "xaxis6": {
         "anchor": "y6",
         "domain": [
          0.6666666666666666,
          0.98
         ],
         "showticklabels": false
        },
        "yaxis": {
         "anchor": "x",
         "domain": [
          0,
          0.485
         ],
         "title": {
          "text": ""
         }
        },
        "yaxis2": {
         "anchor": "x2",
         "domain": [
          0,
          0.485
         ],
         "matches": "y",
         "showticklabels": false
        },
        "yaxis3": {
         "anchor": "x3",
         "domain": [
          0,
          0.485
         ],
         "matches": "y",
         "showticklabels": false
        },
        "yaxis4": {
         "anchor": "x4",
         "domain": [
          0.515,
          1
         ],
         "matches": "y",
         "title": {
          "text": "Prob. of choosing lottery"
         }
        },
        "yaxis5": {
         "anchor": "x5",
         "domain": [
          0.515,
          1
         ],
         "matches": "y",
         "showticklabels": false
        },
        "yaxis6": {
         "anchor": "x6",
         "domain": [
          0.515,
          1
         ],
         "matches": "y",
         "showticklabels": false
        }
       }
      }
     },
     "metadata": {},
     "output_type": "display_data"
    },
    {
     "data": {
      "application/vnd.plotly.v1+json": {
       "config": {
        "plotlyServerURL": "https://plot.ly"
       },
       "data": [
        {
         "customdata": [
          [
           "mixed",
           "Money",
           0.2,
           1,
           "CS+",
           0.13,
           3,
           "pomegranate"
          ],
          [
           "mixed",
           "Money",
           0.2,
           1,
           "CS+",
           0.13,
           3,
           "pomegranate"
          ],
          [
           "mixed",
           "Money",
           0.2,
           1,
           "CS+",
           0.13,
           3,
           "pomegranate"
          ],
          [
           "mixed",
           "Money",
           0.2,
           1,
           "CS+",
           0.13,
           3,
           "pomegranate"
          ],
          [
           "mixed",
           "Money",
           0.2,
           1,
           "CS+",
           0.13,
           3,
           "pomegranate"
          ]
         ],
         "hovertemplate": "lottery flavor=%{customdata[7]}<extra></extra>",
         "legendgroup": "0.13",
         "line": {
          "color": "rgb(230, 240, 240)",
          "dash": "solid"
         },
         "marker": {
          "symbol": "circle"
         },
         "mode": "lines+markers",
         "name": "0.13",
         "orientation": "v",
         "showlegend": true,
         "type": "scatter",
         "x": [
          40,
          80,
          120,
          150,
          200
         ],
         "xaxis": "x4",
         "y": [
          0,
          0.16666666666666666,
          0.3333333333333333,
          0.5,
          1
         ],
         "yaxis": "y4"
        },
        {
         "customdata": [
          [
           "mixed",
           "Money",
           0.2,
           1,
           "CS-",
           0.13,
           3,
           "cashew"
          ],
          [
           "mixed",
           "Money",
           0.2,
           1,
           "CS-",
           0.13,
           3,
           "cashew"
          ],
          [
           "mixed",
           "Money",
           0.2,
           1,
           "CS-",
           0.13,
           3,
           "cashew"
          ],
          [
           "mixed",
           "Money",
           0.2,
           1,
           "CS-",
           0.13,
           3,
           "cashew"
          ],
          [
           "mixed",
           "Money",
           0.2,
           1,
           "CS-",
           0.13,
           3,
           "cashew"
          ]
         ],
         "hovertemplate": "lottery flavor=%{customdata[7]}<extra></extra>",
         "legendgroup": "0.13",
         "line": {
          "color": "rgb(230, 240, 240)",
          "dash": "solid"
         },
         "marker": {
          "symbol": "circle"
         },
         "mode": "lines+markers",
         "name": "0.13",
         "orientation": "v",
         "showlegend": false,
         "type": "scatter",
         "x": [
          40,
          80,
          120,
          150,
          200
         ],
         "xaxis": "x5",
         "y": [
          0,
          0,
          0,
          0,
          0
         ],
         "yaxis": "y5"
        },
        {
         "customdata": [
          [
           "same",
           "CS+",
           20,
           1,
           "CS+",
           0.13,
           3,
           "pomegranate"
          ],
          [
           "same",
           "CS+",
           20,
           1,
           "CS+",
           0.13,
           3,
           "pomegranate"
          ],
          [
           "same",
           "CS+",
           20,
           1,
           "CS+",
           0.13,
           3,
           "pomegranate"
          ],
          [
           "same",
           "CS+",
           20,
           1,
           "CS+",
           0.13,
           3,
           "pomegranate"
          ],
          [
           "same",
           "CS+",
           20,
           1,
           "CS+",
           0.13,
           3,
           "pomegranate"
          ]
         ],
         "hovertemplate": "lottery flavor=%{customdata[7]}<extra></extra>",
         "legendgroup": "0.13",
         "line": {
          "color": "rgb(230, 240, 240)",
          "dash": "solid"
         },
         "marker": {
          "symbol": "circle"
         },
         "mode": "lines+markers",
         "name": "0.13",
         "orientation": "v",
         "showlegend": false,
         "type": "scatter",
         "x": [
          20,
          40,
          80,
          120,
          200
         ],
         "xaxis": "x",
         "y": [
          0,
          0.3333333333333333,
          0,
          0.16666666666666666,
          0.3333333333333333
         ],
         "yaxis": "y"
        },
        {
         "customdata": [
          [
           "same",
           "CS-",
           20,
           1,
           "CS-",
           0.13,
           3,
           "cashew"
          ],
          [
           "same",
           "CS-",
           20,
           1,
           "CS-",
           0.13,
           3,
           "cashew"
          ],
          [
           "same",
           "CS-",
           20,
           1,
           "CS-",
           0.13,
           3,
           "cashew"
          ],
          [
           "same",
           "CS-",
           20,
           1,
           "CS-",
           0.13,
           3,
           "cashew"
          ],
          [
           "same",
           "CS-",
           20,
           1,
           "CS-",
           0.13,
           3,
           "cashew"
          ]
         ],
         "hovertemplate": "lottery flavor=%{customdata[7]}<extra></extra>",
         "legendgroup": "0.13",
         "line": {
          "color": "rgb(230, 240, 240)",
          "dash": "solid"
         },
         "marker": {
          "symbol": "circle"
         },
         "mode": "lines+markers",
         "name": "0.13",
         "orientation": "v",
         "showlegend": false,
         "type": "scatter",
         "x": [
          20,
          40,
          80,
          120,
          200
         ],
         "xaxis": "x2",
         "y": [
          1,
          1,
          1,
          1,
          0.6666666666666666
         ],
         "yaxis": "y2"
        },
        {
         "customdata": [
          [
           "same",
           "Money",
           1,
           1,
           "Money",
           0.13,
           3,
           ""
          ],
          [
           "same",
           "Money",
           1,
           1,
           "Money",
           0.13,
           3,
           ""
          ],
          [
           "same",
           "Money",
           1,
           1,
           "Money",
           0.13,
           3,
           ""
          ],
          [
           "same",
           "Money",
           1,
           1,
           "Money",
           0.13,
           3,
           ""
          ],
          [
           "same",
           "Money",
           1,
           1,
           "Money",
           0.13,
           3,
           ""
          ]
         ],
         "hovertemplate": "lottery flavor=%{customdata[7]}<extra></extra>",
         "legendgroup": "0.13",
         "line": {
          "color": "rgb(230, 240, 240)",
          "dash": "solid"
         },
         "marker": {
          "symbol": "circle"
         },
         "mode": "lines+markers",
         "name": "0.13",
         "orientation": "v",
         "showlegend": false,
         "type": "scatter",
         "x": [
          1,
          2,
          5,
          12,
          20
         ],
         "xaxis": "x3",
         "y": [
          0,
          0,
          0,
          0,
          0.8333333333333334
         ],
         "yaxis": "y3"
        },
        {
         "customdata": [
          [
           "mixed",
           "Money",
           0.2,
           1,
           "CS+",
           0.22,
           3,
           "pomegranate"
          ],
          [
           "mixed",
           "Money",
           0.2,
           1,
           "CS+",
           0.22,
           3,
           "pomegranate"
          ],
          [
           "mixed",
           "Money",
           0.2,
           1,
           "CS+",
           0.22,
           3,
           "pomegranate"
          ],
          [
           "mixed",
           "Money",
           0.2,
           1,
           "CS+",
           0.22,
           3,
           "pomegranate"
          ],
          [
           "mixed",
           "Money",
           0.2,
           1,
           "CS+",
           0.22,
           3,
           "pomegranate"
          ]
         ],
         "hovertemplate": "lottery flavor=%{customdata[7]}<extra></extra>",
         "legendgroup": "0.22",
         "line": {
          "color": "rgb(191, 221, 229)",
          "dash": "solid"
         },
         "marker": {
          "symbol": "diamond"
         },
         "mode": "lines+markers",
         "name": "0.22",
         "orientation": "v",
         "showlegend": true,
         "type": "scatter",
         "x": [
          40,
          80,
          120,
          150,
          200
         ],
         "xaxis": "x4",
         "y": [
          0.3333333333333333,
          0.3333333333333333,
          0.6666666666666666,
          1,
          1
         ],
         "yaxis": "y4"
        },
        {
         "customdata": [
          [
           "mixed",
           "Money",
           0.2,
           1,
           "CS-",
           0.22,
           3,
           "cashew"
          ],
          [
           "mixed",
           "Money",
           0.2,
           1,
           "CS-",
           0.22,
           3,
           "cashew"
          ],
          [
           "mixed",
           "Money",
           0.2,
           1,
           "CS-",
           0.22,
           3,
           "cashew"
          ],
          [
           "mixed",
           "Money",
           0.2,
           1,
           "CS-",
           0.22,
           3,
           "cashew"
          ],
          [
           "mixed",
           "Money",
           0.2,
           1,
           "CS-",
           0.22,
           3,
           "cashew"
          ]
         ],
         "hovertemplate": "lottery flavor=%{customdata[7]}<extra></extra>",
         "legendgroup": "0.22",
         "line": {
          "color": "rgb(191, 221, 229)",
          "dash": "solid"
         },
         "marker": {
          "symbol": "diamond"
         },
         "mode": "lines+markers",
         "name": "0.22",
         "orientation": "v",
         "showlegend": false,
         "type": "scatter",
         "x": [
          40,
          80,
          120,
          150,
          200
         ],
         "xaxis": "x5",
         "y": [
          0,
          0,
          0,
          0,
          0
         ],
         "yaxis": "y5"
        },
        {
         "customdata": [
          [
           "same",
           "CS+",
           20,
           1,
           "CS+",
           0.22,
           3,
           "pomegranate"
          ],
          [
           "same",
           "CS+",
           20,
           1,
           "CS+",
           0.22,
           3,
           "pomegranate"
          ],
          [
           "same",
           "CS+",
           20,
           1,
           "CS+",
           0.22,
           3,
           "pomegranate"
          ],
          [
           "same",
           "CS+",
           20,
           1,
           "CS+",
           0.22,
           3,
           "pomegranate"
          ],
          [
           "same",
           "CS+",
           20,
           1,
           "CS+",
           0.22,
           3,
           "pomegranate"
          ]
         ],
         "hovertemplate": "lottery flavor=%{customdata[7]}<extra></extra>",
         "legendgroup": "0.22",
         "line": {
          "color": "rgb(191, 221, 229)",
          "dash": "solid"
         },
         "marker": {
          "symbol": "diamond"
         },
         "mode": "lines+markers",
         "name": "0.22",
         "orientation": "v",
         "showlegend": false,
         "type": "scatter",
         "x": [
          20,
          40,
          80,
          120,
          200
         ],
         "xaxis": "x",
         "y": [
          0.16666666666666666,
          0,
          0,
          0,
          0.8333333333333334
         ],
         "yaxis": "y"
        },
        {
         "customdata": [
          [
           "same",
           "CS-",
           20,
           1,
           "CS-",
           0.22,
           3,
           "cashew"
          ],
          [
           "same",
           "CS-",
           20,
           1,
           "CS-",
           0.22,
           3,
           "cashew"
          ],
          [
           "same",
           "CS-",
           20,
           1,
           "CS-",
           0.22,
           3,
           "cashew"
          ],
          [
           "same",
           "CS-",
           20,
           1,
           "CS-",
           0.22,
           3,
           "cashew"
          ],
          [
           "same",
           "CS-",
           20,
           1,
           "CS-",
           0.22,
           3,
           "cashew"
          ]
         ],
         "hovertemplate": "lottery flavor=%{customdata[7]}<extra></extra>",
         "legendgroup": "0.22",
         "line": {
          "color": "rgb(191, 221, 229)",
          "dash": "solid"
         },
         "marker": {
          "symbol": "diamond"
         },
         "mode": "lines+markers",
         "name": "0.22",
         "orientation": "v",
         "showlegend": false,
         "type": "scatter",
         "x": [
          20,
          40,
          80,
          120,
          200
         ],
         "xaxis": "x2",
         "y": [
          1,
          0.8333333333333334,
          0.5,
          0.3333333333333333,
          0.16666666666666666
         ],
         "yaxis": "y2"
        },
        {
         "customdata": [
          [
           "same",
           "Money",
           1,
           1,
           "Money",
           0.22,
           3,
           ""
          ],
          [
           "same",
           "Money",
           1,
           1,
           "Money",
           0.22,
           3,
           ""
          ],
          [
           "same",
           "Money",
           1,
           1,
           "Money",
           0.22,
           3,
           ""
          ],
          [
           "same",
           "Money",
           1,
           1,
           "Money",
           0.22,
           3,
           ""
          ],
          [
           "same",
           "Money",
           1,
           1,
           "Money",
           0.22,
           3,
           ""
          ]
         ],
         "hovertemplate": "lottery flavor=%{customdata[7]}<extra></extra>",
         "legendgroup": "0.22",
         "line": {
          "color": "rgb(191, 221, 229)",
          "dash": "solid"
         },
         "marker": {
          "symbol": "diamond"
         },
         "mode": "lines+markers",
         "name": "0.22",
         "orientation": "v",
         "showlegend": false,
         "type": "scatter",
         "x": [
          1,
          2,
          5,
          12,
          20
         ],
         "xaxis": "x3",
         "y": [
          0,
          0,
          0,
          0,
          1
         ],
         "yaxis": "y3"
        },
        {
         "customdata": [
          [
           "mixed",
           "Money",
           0.2,
           1,
           "CS+",
           0.38,
           3,
           "pomegranate"
          ],
          [
           "mixed",
           "Money",
           0.2,
           1,
           "CS+",
           0.38,
           3,
           "pomegranate"
          ],
          [
           "mixed",
           "Money",
           0.2,
           1,
           "CS+",
           0.38,
           3,
           "pomegranate"
          ],
          [
           "mixed",
           "Money",
           0.2,
           1,
           "CS+",
           0.38,
           3,
           "pomegranate"
          ],
          [
           "mixed",
           "Money",
           0.2,
           1,
           "CS+",
           0.38,
           3,
           "pomegranate"
          ]
         ],
         "hovertemplate": "lottery flavor=%{customdata[7]}<extra></extra>",
         "legendgroup": "0.38",
         "line": {
          "color": "rgb(156, 201, 226)",
          "dash": "solid"
         },
         "marker": {
          "symbol": "square"
         },
         "mode": "lines+markers",
         "name": "0.38",
         "orientation": "v",
         "showlegend": true,
         "type": "scatter",
         "x": [
          40,
          80,
          120,
          150,
          200
         ],
         "xaxis": "x4",
         "y": [
          0.6666666666666666,
          1,
          0.8333333333333334,
          1,
          1
         ],
         "yaxis": "y4"
        },
        {
         "customdata": [
          [
           "mixed",
           "Money",
           0.2,
           1,
           "CS-",
           0.38,
           3,
           "cashew"
          ],
          [
           "mixed",
           "Money",
           0.2,
           1,
           "CS-",
           0.38,
           3,
           "cashew"
          ],
          [
           "mixed",
           "Money",
           0.2,
           1,
           "CS-",
           0.38,
           3,
           "cashew"
          ],
          [
           "mixed",
           "Money",
           0.2,
           1,
           "CS-",
           0.38,
           3,
           "cashew"
          ],
          [
           "mixed",
           "Money",
           0.2,
           1,
           "CS-",
           0.38,
           3,
           "cashew"
          ]
         ],
         "hovertemplate": "lottery flavor=%{customdata[7]}<extra></extra>",
         "legendgroup": "0.38",
         "line": {
          "color": "rgb(156, 201, 226)",
          "dash": "solid"
         },
         "marker": {
          "symbol": "square"
         },
         "mode": "lines+markers",
         "name": "0.38",
         "orientation": "v",
         "showlegend": false,
         "type": "scatter",
         "x": [
          40,
          80,
          120,
          150,
          200
         ],
         "xaxis": "x5",
         "y": [
          0,
          0,
          0,
          0,
          0
         ],
         "yaxis": "y5"
        },
        {
         "customdata": [
          [
           "same",
           "CS+",
           20,
           1,
           "CS+",
           0.38,
           3,
           "pomegranate"
          ],
          [
           "same",
           "CS+",
           20,
           1,
           "CS+",
           0.38,
           3,
           "pomegranate"
          ],
          [
           "same",
           "CS+",
           20,
           1,
           "CS+",
           0.38,
           3,
           "pomegranate"
          ],
          [
           "same",
           "CS+",
           20,
           1,
           "CS+",
           0.38,
           3,
           "pomegranate"
          ],
          [
           "same",
           "CS+",
           20,
           1,
           "CS+",
           0.38,
           3,
           "pomegranate"
          ]
         ],
         "hovertemplate": "lottery flavor=%{customdata[7]}<extra></extra>",
         "legendgroup": "0.38",
         "line": {
          "color": "rgb(156, 201, 226)",
          "dash": "solid"
         },
         "marker": {
          "symbol": "square"
         },
         "mode": "lines+markers",
         "name": "0.38",
         "orientation": "v",
         "showlegend": false,
         "type": "scatter",
         "x": [
          20,
          40,
          80,
          120,
          200
         ],
         "xaxis": "x",
         "y": [
          0.16666666666666666,
          0,
          0.6666666666666666,
          1,
          1
         ],
         "yaxis": "y"
        },
        {
         "customdata": [
          [
           "same",
           "CS-",
           20,
           1,
           "CS-",
           0.38,
           3,
           "cashew"
          ],
          [
           "same",
           "CS-",
           20,
           1,
           "CS-",
           0.38,
           3,
           "cashew"
          ],
          [
           "same",
           "CS-",
           20,
           1,
           "CS-",
           0.38,
           3,
           "cashew"
          ],
          [
           "same",
           "CS-",
           20,
           1,
           "CS-",
           0.38,
           3,
           "cashew"
          ],
          [
           "same",
           "CS-",
           20,
           1,
           "CS-",
           0.38,
           3,
           "cashew"
          ]
         ],
         "hovertemplate": "lottery flavor=%{customdata[7]}<extra></extra>",
         "legendgroup": "0.38",
         "line": {
          "color": "rgb(156, 201, 226)",
          "dash": "solid"
         },
         "marker": {
          "symbol": "square"
         },
         "mode": "lines+markers",
         "name": "0.38",
         "orientation": "v",
         "showlegend": false,
         "type": "scatter",
         "x": [
          20,
          40,
          80,
          120,
          200
         ],
         "xaxis": "x2",
         "y": [
          0.6666666666666666,
          0.3333333333333333,
          0.16666666666666666,
          0.16666666666666666,
          0.16666666666666666
         ],
         "yaxis": "y2"
        },
        {
         "customdata": [
          [
           "same",
           "Money",
           1,
           1,
           "Money",
           0.38,
           3,
           ""
          ],
          [
           "same",
           "Money",
           1,
           1,
           "Money",
           0.38,
           3,
           ""
          ],
          [
           "same",
           "Money",
           1,
           1,
           "Money",
           0.38,
           3,
           ""
          ],
          [
           "same",
           "Money",
           1,
           1,
           "Money",
           0.38,
           3,
           ""
          ],
          [
           "same",
           "Money",
           1,
           1,
           "Money",
           0.38,
           3,
           ""
          ]
         ],
         "hovertemplate": "lottery flavor=%{customdata[7]}<extra></extra>",
         "legendgroup": "0.38",
         "line": {
          "color": "rgb(156, 201, 226)",
          "dash": "solid"
         },
         "marker": {
          "symbol": "square"
         },
         "mode": "lines+markers",
         "name": "0.38",
         "orientation": "v",
         "showlegend": false,
         "type": "scatter",
         "x": [
          1,
          2,
          5,
          12,
          20
         ],
         "xaxis": "x3",
         "y": [
          0,
          0,
          0.6666666666666666,
          0.16666666666666666,
          1
         ],
         "yaxis": "y3"
        },
        {
         "customdata": [
          [
           "mixed",
           "Money",
           0.2,
           1,
           "CS+",
           0.5,
           3,
           "pomegranate"
          ],
          [
           "mixed",
           "Money",
           0.2,
           1,
           "CS+",
           0.5,
           3,
           "pomegranate"
          ],
          [
           "mixed",
           "Money",
           0.2,
           1,
           "CS+",
           0.5,
           3,
           "pomegranate"
          ],
          [
           "mixed",
           "Money",
           0.2,
           1,
           "CS+",
           0.5,
           3,
           "pomegranate"
          ],
          [
           "mixed",
           "Money",
           0.2,
           1,
           "CS+",
           0.5,
           3,
           "pomegranate"
          ]
         ],
         "hovertemplate": "lottery flavor=%{customdata[7]}<extra></extra>",
         "legendgroup": "0.5",
         "line": {
          "color": "rgb(129, 180, 227)",
          "dash": "solid"
         },
         "marker": {
          "symbol": "x"
         },
         "mode": "lines+markers",
         "name": "0.5",
         "orientation": "v",
         "showlegend": true,
         "type": "scatter",
         "x": [
          40,
          80,
          120,
          150,
          200
         ],
         "xaxis": "x4",
         "y": [
          1,
          1,
          1,
          1,
          1
         ],
         "yaxis": "y4"
        },
        {
         "customdata": [
          [
           "mixed",
           "Money",
           0.2,
           1,
           "CS-",
           0.5,
           3,
           "cashew"
          ],
          [
           "mixed",
           "Money",
           0.2,
           1,
           "CS-",
           0.5,
           3,
           "cashew"
          ],
          [
           "mixed",
           "Money",
           0.2,
           1,
           "CS-",
           0.5,
           3,
           "cashew"
          ],
          [
           "mixed",
           "Money",
           0.2,
           1,
           "CS-",
           0.5,
           3,
           "cashew"
          ],
          [
           "mixed",
           "Money",
           0.2,
           1,
           "CS-",
           0.5,
           3,
           "cashew"
          ]
         ],
         "hovertemplate": "lottery flavor=%{customdata[7]}<extra></extra>",
         "legendgroup": "0.5",
         "line": {
          "color": "rgb(129, 180, 227)",
          "dash": "solid"
         },
         "marker": {
          "symbol": "x"
         },
         "mode": "lines+markers",
         "name": "0.5",
         "orientation": "v",
         "showlegend": false,
         "type": "scatter",
         "x": [
          40,
          80,
          120,
          150,
          200
         ],
         "xaxis": "x5",
         "y": [
          0,
          0.16666666666666666,
          0,
          0,
          0
         ],
         "yaxis": "y5"
        },
        {
         "customdata": [
          [
           "same",
           "CS+",
           20,
           1,
           "CS+",
           0.5,
           3,
           "pomegranate"
          ],
          [
           "same",
           "CS+",
           20,
           1,
           "CS+",
           0.5,
           3,
           "pomegranate"
          ],
          [
           "same",
           "CS+",
           20,
           1,
           "CS+",
           0.5,
           3,
           "pomegranate"
          ],
          [
           "same",
           "CS+",
           20,
           1,
           "CS+",
           0.5,
           3,
           "pomegranate"
          ],
          [
           "same",
           "CS+",
           20,
           1,
           "CS+",
           0.5,
           3,
           "pomegranate"
          ]
         ],
         "hovertemplate": "lottery flavor=%{customdata[7]}<extra></extra>",
         "legendgroup": "0.5",
         "line": {
          "color": "rgb(129, 180, 227)",
          "dash": "solid"
         },
         "marker": {
          "symbol": "x"
         },
         "mode": "lines+markers",
         "name": "0.5",
         "orientation": "v",
         "showlegend": false,
         "type": "scatter",
         "x": [
          20,
          40,
          80,
          120,
          200
         ],
         "xaxis": "x",
         "y": [
          0,
          0.5,
          1,
          1,
          1
         ],
         "yaxis": "y"
        },
        {
         "customdata": [
          [
           "same",
           "CS-",
           20,
           1,
           "CS-",
           0.5,
           3,
           "cashew"
          ],
          [
           "same",
           "CS-",
           20,
           1,
           "CS-",
           0.5,
           3,
           "cashew"
          ],
          [
           "same",
           "CS-",
           20,
           1,
           "CS-",
           0.5,
           3,
           "cashew"
          ],
          [
           "same",
           "CS-",
           20,
           1,
           "CS-",
           0.5,
           3,
           "cashew"
          ],
          [
           "same",
           "CS-",
           20,
           1,
           "CS-",
           0.5,
           3,
           "cashew"
          ]
         ],
         "hovertemplate": "lottery flavor=%{customdata[7]}<extra></extra>",
         "legendgroup": "0.5",
         "line": {
          "color": "rgb(129, 180, 227)",
          "dash": "solid"
         },
         "marker": {
          "symbol": "x"
         },
         "mode": "lines+markers",
         "name": "0.5",
         "orientation": "v",
         "showlegend": false,
         "type": "scatter",
         "x": [
          20,
          40,
          80,
          120,
          200
         ],
         "xaxis": "x2",
         "y": [
          1,
          0.6666666666666666,
          0,
          0,
          0
         ],
         "yaxis": "y2"
        },
        {
         "customdata": [
          [
           "same",
           "Money",
           1,
           1,
           "Money",
           0.5,
           3,
           ""
          ],
          [
           "same",
           "Money",
           1,
           1,
           "Money",
           0.5,
           3,
           ""
          ],
          [
           "same",
           "Money",
           1,
           1,
           "Money",
           0.5,
           3,
           ""
          ],
          [
           "same",
           "Money",
           1,
           1,
           "Money",
           0.5,
           3,
           ""
          ],
          [
           "same",
           "Money",
           1,
           1,
           "Money",
           0.5,
           3,
           ""
          ]
         ],
         "hovertemplate": "lottery flavor=%{customdata[7]}<extra></extra>",
         "legendgroup": "0.5",
         "line": {
          "color": "rgb(129, 180, 227)",
          "dash": "solid"
         },
         "marker": {
          "symbol": "x"
         },
         "mode": "lines+markers",
         "name": "0.5",
         "orientation": "v",
         "showlegend": false,
         "type": "scatter",
         "x": [
          1,
          2,
          5,
          12,
          20
         ],
         "xaxis": "x3",
         "y": [
          0,
          0,
          1,
          1,
          1
         ],
         "yaxis": "y3"
        },
        {
         "customdata": [
          [
           "mixed",
           "Money",
           0.2,
           1,
           "CS+",
           0.75,
           3,
           "pomegranate"
          ],
          [
           "mixed",
           "Money",
           0.2,
           1,
           "CS+",
           0.75,
           3,
           "pomegranate"
          ],
          [
           "mixed",
           "Money",
           0.2,
           1,
           "CS+",
           0.75,
           3,
           "pomegranate"
          ],
          [
           "mixed",
           "Money",
           0.2,
           1,
           "CS+",
           0.75,
           3,
           "pomegranate"
          ],
          [
           "mixed",
           "Money",
           0.2,
           1,
           "CS+",
           0.75,
           3,
           "pomegranate"
          ]
         ],
         "hovertemplate": "lottery flavor=%{customdata[7]}<extra></extra>",
         "legendgroup": "0.75",
         "line": {
          "color": "rgb(115, 154, 228)",
          "dash": "solid"
         },
         "marker": {
          "symbol": "cross"
         },
         "mode": "lines+markers",
         "name": "0.75",
         "orientation": "v",
         "showlegend": true,
         "type": "scatter",
         "x": [
          40,
          80,
          120,
          150,
          200
         ],
         "xaxis": "x4",
         "y": [
          1,
          1,
          1,
          1,
          1
         ],
         "yaxis": "y4"
        },
        {
         "customdata": [
          [
           "mixed",
           "Money",
           0.2,
           1,
           "CS-",
           0.75,
           3,
           "cashew"
          ],
          [
           "mixed",
           "Money",
           0.2,
           1,
           "CS-",
           0.75,
           3,
           "cashew"
          ],
          [
           "mixed",
           "Money",
           0.2,
           1,
           "CS-",
           0.75,
           3,
           "cashew"
          ],
          [
           "mixed",
           "Money",
           0.2,
           1,
           "CS-",
           0.75,
           3,
           "cashew"
          ],
          [
           "mixed",
           "Money",
           0.2,
           1,
           "CS-",
           0.75,
           3,
           "cashew"
          ]
         ],
         "hovertemplate": "lottery flavor=%{customdata[7]}<extra></extra>",
         "legendgroup": "0.75",
         "line": {
          "color": "rgb(115, 154, 228)",
          "dash": "solid"
         },
         "marker": {
          "symbol": "cross"
         },
         "mode": "lines+markers",
         "name": "0.75",
         "orientation": "v",
         "showlegend": false,
         "type": "scatter",
         "x": [
          40,
          80,
          120,
          150,
          200
         ],
         "xaxis": "x5",
         "y": [
          0,
          0,
          0,
          0,
          0
         ],
         "yaxis": "y5"
        },
        {
         "customdata": [
          [
           "same",
           "CS+",
           20,
           1,
           "CS+",
           0.75,
           3,
           "pomegranate"
          ],
          [
           "same",
           "CS+",
           20,
           1,
           "CS+",
           0.75,
           3,
           "pomegranate"
          ],
          [
           "same",
           "CS+",
           20,
           1,
           "CS+",
           0.75,
           3,
           "pomegranate"
          ],
          [
           "same",
           "CS+",
           20,
           1,
           "CS+",
           0.75,
           3,
           "pomegranate"
          ],
          [
           "same",
           "CS+",
           20,
           1,
           "CS+",
           0.75,
           3,
           "pomegranate"
          ]
         ],
         "hovertemplate": "lottery flavor=%{customdata[7]}<extra></extra>",
         "legendgroup": "0.75",
         "line": {
          "color": "rgb(115, 154, 228)",
          "dash": "solid"
         },
         "marker": {
          "symbol": "cross"
         },
         "mode": "lines+markers",
         "name": "0.75",
         "orientation": "v",
         "showlegend": false,
         "type": "scatter",
         "x": [
          20,
          40,
          80,
          120,
          200
         ],
         "xaxis": "x",
         "y": [
          0,
          1,
          1,
          1,
          1
         ],
         "yaxis": "y"
        },
        {
         "customdata": [
          [
           "same",
           "CS-",
           20,
           1,
           "CS-",
           0.75,
           3,
           "cashew"
          ],
          [
           "same",
           "CS-",
           20,
           1,
           "CS-",
           0.75,
           3,
           "cashew"
          ],
          [
           "same",
           "CS-",
           20,
           1,
           "CS-",
           0.75,
           3,
           "cashew"
          ],
          [
           "same",
           "CS-",
           20,
           1,
           "CS-",
           0.75,
           3,
           "cashew"
          ],
          [
           "same",
           "CS-",
           20,
           1,
           "CS-",
           0.75,
           3,
           "cashew"
          ]
         ],
         "hovertemplate": "lottery flavor=%{customdata[7]}<extra></extra>",
         "legendgroup": "0.75",
         "line": {
          "color": "rgb(115, 154, 228)",
          "dash": "solid"
         },
         "marker": {
          "symbol": "cross"
         },
         "mode": "lines+markers",
         "name": "0.75",
         "orientation": "v",
         "showlegend": false,
         "type": "scatter",
         "x": [
          20,
          40,
          80,
          120,
          200
         ],
         "xaxis": "x2",
         "y": [
          1,
          0.16666666666666666,
          0,
          0,
          0
         ],
         "yaxis": "y2"
        },
        {
         "customdata": [
          [
           "same",
           "Money",
           1,
           1,
           "Money",
           0.75,
           3,
           ""
          ],
          [
           "same",
           "Money",
           1,
           1,
           "Money",
           0.75,
           3,
           ""
          ],
          [
           "same",
           "Money",
           1,
           1,
           "Money",
           0.75,
           3,
           ""
          ],
          [
           "same",
           "Money",
           1,
           1,
           "Money",
           0.75,
           3,
           ""
          ],
          [
           "same",
           "Money",
           1,
           1,
           "Money",
           0.75,
           3,
           ""
          ]
         ],
         "hovertemplate": "lottery flavor=%{customdata[7]}<extra></extra>",
         "legendgroup": "0.75",
         "line": {
          "color": "rgb(115, 154, 228)",
          "dash": "solid"
         },
         "marker": {
          "symbol": "cross"
         },
         "mode": "lines+markers",
         "name": "0.75",
         "orientation": "v",
         "showlegend": false,
         "type": "scatter",
         "x": [
          1,
          2,
          5,
          12,
          20
         ],
         "xaxis": "x3",
         "y": [
          0,
          0.5,
          1,
          1,
          1
         ],
         "yaxis": "y3"
        }
       ],
       "layout": {
        "annotations": [
         {
          "font": {},
          "showarrow": false,
          "text": "CS+",
          "x": 0.15666666666666665,
          "xanchor": "center",
          "xref": "paper",
          "y": 1,
          "yanchor": "bottom",
          "yref": "paper"
         },
         {
          "font": {},
          "showarrow": false,
          "text": "CS-",
          "x": 0.49,
          "xanchor": "center",
          "xref": "paper",
          "y": 1,
          "yanchor": "bottom",
          "yref": "paper"
         },
         {
          "font": {},
          "showarrow": false,
          "text": "Money",
          "x": 0.8233333333333333,
          "xanchor": "center",
          "xref": "paper",
          "y": 1,
          "yanchor": "bottom",
          "yref": "paper"
         },
         {
          "font": {},
          "showarrow": false,
          "text": "same",
          "textangle": 90,
          "x": 0.98,
          "xanchor": "left",
          "xref": "paper",
          "y": 0.2425,
          "yanchor": "middle",
          "yref": "paper"
         },
         {
          "font": {},
          "showarrow": false,
          "text": "mixed",
          "textangle": 90,
          "x": 0.98,
          "xanchor": "left",
          "xref": "paper",
          "y": 0.7575000000000001,
          "yanchor": "middle",
          "yref": "paper"
         }
        ],
        "legend": {
         "title": {
          "text": "Lottery Probability"
         },
         "tracegroupgap": 0
        },
        "margin": {
         "t": 60
        },
        "template": {
         "data": {
          "bar": [
           {
            "error_x": {
             "color": "#2a3f5f"
            },
            "error_y": {
             "color": "#2a3f5f"
            },
            "marker": {
             "line": {
              "color": "#E5ECF6",
              "width": 0.5
             },
             "pattern": {
              "fillmode": "overlay",
              "size": 10,
              "solidity": 0.2
             }
            },
            "type": "bar"
           }
          ],
          "barpolar": [
           {
            "marker": {
             "line": {
              "color": "#E5ECF6",
              "width": 0.5
             },
             "pattern": {
              "fillmode": "overlay",
              "size": 10,
              "solidity": 0.2
             }
            },
            "type": "barpolar"
           }
          ],
          "carpet": [
           {
            "aaxis": {
             "endlinecolor": "#2a3f5f",
             "gridcolor": "white",
             "linecolor": "white",
             "minorgridcolor": "white",
             "startlinecolor": "#2a3f5f"
            },
            "baxis": {
             "endlinecolor": "#2a3f5f",
             "gridcolor": "white",
             "linecolor": "white",
             "minorgridcolor": "white",
             "startlinecolor": "#2a3f5f"
            },
            "type": "carpet"
           }
          ],
          "choropleth": [
           {
            "colorbar": {
             "outlinewidth": 0,
             "ticks": ""
            },
            "type": "choropleth"
           }
          ],
          "contour": [
           {
            "colorbar": {
             "outlinewidth": 0,
             "ticks": ""
            },
            "colorscale": [
             [
              0,
              "#0d0887"
             ],
             [
              0.1111111111111111,
              "#46039f"
             ],
             [
              0.2222222222222222,
              "#7201a8"
             ],
             [
              0.3333333333333333,
              "#9c179e"
             ],
             [
              0.4444444444444444,
              "#bd3786"
             ],
             [
              0.5555555555555556,
              "#d8576b"
             ],
             [
              0.6666666666666666,
              "#ed7953"
             ],
             [
              0.7777777777777778,
              "#fb9f3a"
             ],
             [
              0.8888888888888888,
              "#fdca26"
             ],
             [
              1,
              "#f0f921"
             ]
            ],
            "type": "contour"
           }
          ],
          "contourcarpet": [
           {
            "colorbar": {
             "outlinewidth": 0,
             "ticks": ""
            },
            "type": "contourcarpet"
           }
          ],
          "heatmap": [
           {
            "colorbar": {
             "outlinewidth": 0,
             "ticks": ""
            },
            "colorscale": [
             [
              0,
              "#0d0887"
             ],
             [
              0.1111111111111111,
              "#46039f"
             ],
             [
              0.2222222222222222,
              "#7201a8"
             ],
             [
              0.3333333333333333,
              "#9c179e"
             ],
             [
              0.4444444444444444,
              "#bd3786"
             ],
             [
              0.5555555555555556,
              "#d8576b"
             ],
             [
              0.6666666666666666,
              "#ed7953"
             ],
             [
              0.7777777777777778,
              "#fb9f3a"
             ],
             [
              0.8888888888888888,
              "#fdca26"
             ],
             [
              1,
              "#f0f921"
             ]
            ],
            "type": "heatmap"
           }
          ],
          "heatmapgl": [
           {
            "colorbar": {
             "outlinewidth": 0,
             "ticks": ""
            },
            "colorscale": [
             [
              0,
              "#0d0887"
             ],
             [
              0.1111111111111111,
              "#46039f"
             ],
             [
              0.2222222222222222,
              "#7201a8"
             ],
             [
              0.3333333333333333,
              "#9c179e"
             ],
             [
              0.4444444444444444,
              "#bd3786"
             ],
             [
              0.5555555555555556,
              "#d8576b"
             ],
             [
              0.6666666666666666,
              "#ed7953"
             ],
             [
              0.7777777777777778,
              "#fb9f3a"
             ],
             [
              0.8888888888888888,
              "#fdca26"
             ],
             [
              1,
              "#f0f921"
             ]
            ],
            "type": "heatmapgl"
           }
          ],
          "histogram": [
           {
            "marker": {
             "pattern": {
              "fillmode": "overlay",
              "size": 10,
              "solidity": 0.2
             }
            },
            "type": "histogram"
           }
          ],
          "histogram2d": [
           {
            "colorbar": {
             "outlinewidth": 0,
             "ticks": ""
            },
            "colorscale": [
             [
              0,
              "#0d0887"
             ],
             [
              0.1111111111111111,
              "#46039f"
             ],
             [
              0.2222222222222222,
              "#7201a8"
             ],
             [
              0.3333333333333333,
              "#9c179e"
             ],
             [
              0.4444444444444444,
              "#bd3786"
             ],
             [
              0.5555555555555556,
              "#d8576b"
             ],
             [
              0.6666666666666666,
              "#ed7953"
             ],
             [
              0.7777777777777778,
              "#fb9f3a"
             ],
             [
              0.8888888888888888,
              "#fdca26"
             ],
             [
              1,
              "#f0f921"
             ]
            ],
            "type": "histogram2d"
           }
          ],
          "histogram2dcontour": [
           {
            "colorbar": {
             "outlinewidth": 0,
             "ticks": ""
            },
            "colorscale": [
             [
              0,
              "#0d0887"
             ],
             [
              0.1111111111111111,
              "#46039f"
             ],
             [
              0.2222222222222222,
              "#7201a8"
             ],
             [
              0.3333333333333333,
              "#9c179e"
             ],
             [
              0.4444444444444444,
              "#bd3786"
             ],
             [
              0.5555555555555556,
              "#d8576b"
             ],
             [
              0.6666666666666666,
              "#ed7953"
             ],
             [
              0.7777777777777778,
              "#fb9f3a"
             ],
             [
              0.8888888888888888,
              "#fdca26"
             ],
             [
              1,
              "#f0f921"
             ]
            ],
            "type": "histogram2dcontour"
           }
          ],
          "mesh3d": [
           {
            "colorbar": {
             "outlinewidth": 0,
             "ticks": ""
            },
            "type": "mesh3d"
           }
          ],
          "parcoords": [
           {
            "line": {
             "colorbar": {
              "outlinewidth": 0,
              "ticks": ""
             }
            },
            "type": "parcoords"
           }
          ],
          "pie": [
           {
            "automargin": true,
            "type": "pie"
           }
          ],
          "scatter": [
           {
            "fillpattern": {
             "fillmode": "overlay",
             "size": 10,
             "solidity": 0.2
            },
            "type": "scatter"
           }
          ],
          "scatter3d": [
           {
            "line": {
             "colorbar": {
              "outlinewidth": 0,
              "ticks": ""
             }
            },
            "marker": {
             "colorbar": {
              "outlinewidth": 0,
              "ticks": ""
             }
            },
            "type": "scatter3d"
           }
          ],
          "scattercarpet": [
           {
            "marker": {
             "colorbar": {
              "outlinewidth": 0,
              "ticks": ""
             }
            },
            "type": "scattercarpet"
           }
          ],
          "scattergeo": [
           {
            "marker": {
             "colorbar": {
              "outlinewidth": 0,
              "ticks": ""
             }
            },
            "type": "scattergeo"
           }
          ],
          "scattergl": [
           {
            "marker": {
             "colorbar": {
              "outlinewidth": 0,
              "ticks": ""
             }
            },
            "type": "scattergl"
           }
          ],
          "scattermapbox": [
           {
            "marker": {
             "colorbar": {
              "outlinewidth": 0,
              "ticks": ""
             }
            },
            "type": "scattermapbox"
           }
          ],
          "scatterpolar": [
           {
            "marker": {
             "colorbar": {
              "outlinewidth": 0,
              "ticks": ""
             }
            },
            "type": "scatterpolar"
           }
          ],
          "scatterpolargl": [
           {
            "marker": {
             "colorbar": {
              "outlinewidth": 0,
              "ticks": ""
             }
            },
            "type": "scatterpolargl"
           }
          ],
          "scatterternary": [
           {
            "marker": {
             "colorbar": {
              "outlinewidth": 0,
              "ticks": ""
             }
            },
            "type": "scatterternary"
           }
          ],
          "surface": [
           {
            "colorbar": {
             "outlinewidth": 0,
             "ticks": ""
            },
            "colorscale": [
             [
              0,
              "#0d0887"
             ],
             [
              0.1111111111111111,
              "#46039f"
             ],
             [
              0.2222222222222222,
              "#7201a8"
             ],
             [
              0.3333333333333333,
              "#9c179e"
             ],
             [
              0.4444444444444444,
              "#bd3786"
             ],
             [
              0.5555555555555556,
              "#d8576b"
             ],
             [
              0.6666666666666666,
              "#ed7953"
             ],
             [
              0.7777777777777778,
              "#fb9f3a"
             ],
             [
              0.8888888888888888,
              "#fdca26"
             ],
             [
              1,
              "#f0f921"
             ]
            ],
            "type": "surface"
           }
          ],
          "table": [
           {
            "cells": {
             "fill": {
              "color": "#EBF0F8"
             },
             "line": {
              "color": "white"
             }
            },
            "header": {
             "fill": {
              "color": "#C8D4E3"
             },
             "line": {
              "color": "white"
             }
            },
            "type": "table"
           }
          ]
         },
         "layout": {
          "annotationdefaults": {
           "arrowcolor": "#2a3f5f",
           "arrowhead": 0,
           "arrowwidth": 1
          },
          "autotypenumbers": "strict",
          "coloraxis": {
           "colorbar": {
            "outlinewidth": 0,
            "ticks": ""
           }
          },
          "colorscale": {
           "diverging": [
            [
             0,
             "#8e0152"
            ],
            [
             0.1,
             "#c51b7d"
            ],
            [
             0.2,
             "#de77ae"
            ],
            [
             0.3,
             "#f1b6da"
            ],
            [
             0.4,
             "#fde0ef"
            ],
            [
             0.5,
             "#f7f7f7"
            ],
            [
             0.6,
             "#e6f5d0"
            ],
            [
             0.7,
             "#b8e186"
            ],
            [
             0.8,
             "#7fbc41"
            ],
            [
             0.9,
             "#4d9221"
            ],
            [
             1,
             "#276419"
            ]
           ],
           "sequential": [
            [
             0,
             "#0d0887"
            ],
            [
             0.1111111111111111,
             "#46039f"
            ],
            [
             0.2222222222222222,
             "#7201a8"
            ],
            [
             0.3333333333333333,
             "#9c179e"
            ],
            [
             0.4444444444444444,
             "#bd3786"
            ],
            [
             0.5555555555555556,
             "#d8576b"
            ],
            [
             0.6666666666666666,
             "#ed7953"
            ],
            [
             0.7777777777777778,
             "#fb9f3a"
            ],
            [
             0.8888888888888888,
             "#fdca26"
            ],
            [
             1,
             "#f0f921"
            ]
           ],
           "sequentialminus": [
            [
             0,
             "#0d0887"
            ],
            [
             0.1111111111111111,
             "#46039f"
            ],
            [
             0.2222222222222222,
             "#7201a8"
            ],
            [
             0.3333333333333333,
             "#9c179e"
            ],
            [
             0.4444444444444444,
             "#bd3786"
            ],
            [
             0.5555555555555556,
             "#d8576b"
            ],
            [
             0.6666666666666666,
             "#ed7953"
            ],
            [
             0.7777777777777778,
             "#fb9f3a"
            ],
            [
             0.8888888888888888,
             "#fdca26"
            ],
            [
             1,
             "#f0f921"
            ]
           ]
          },
          "colorway": [
           "#636efa",
           "#EF553B",
           "#00cc96",
           "#ab63fa",
           "#FFA15A",
           "#19d3f3",
           "#FF6692",
           "#B6E880",
           "#FF97FF",
           "#FECB52"
          ],
          "font": {
           "color": "#2a3f5f"
          },
          "geo": {
           "bgcolor": "white",
           "lakecolor": "white",
           "landcolor": "#E5ECF6",
           "showlakes": true,
           "showland": true,
           "subunitcolor": "white"
          },
          "hoverlabel": {
           "align": "left"
          },
          "hovermode": "closest",
          "mapbox": {
           "style": "light"
          },
          "paper_bgcolor": "white",
          "plot_bgcolor": "#E5ECF6",
          "polar": {
           "angularaxis": {
            "gridcolor": "white",
            "linecolor": "white",
            "ticks": ""
           },
           "bgcolor": "#E5ECF6",
           "radialaxis": {
            "gridcolor": "white",
            "linecolor": "white",
            "ticks": ""
           }
          },
          "scene": {
           "xaxis": {
            "backgroundcolor": "#E5ECF6",
            "gridcolor": "white",
            "gridwidth": 2,
            "linecolor": "white",
            "showbackground": true,
            "ticks": "",
            "zerolinecolor": "white"
           },
           "yaxis": {
            "backgroundcolor": "#E5ECF6",
            "gridcolor": "white",
            "gridwidth": 2,
            "linecolor": "white",
            "showbackground": true,
            "ticks": "",
            "zerolinecolor": "white"
           },
           "zaxis": {
            "backgroundcolor": "#E5ECF6",
            "gridcolor": "white",
            "gridwidth": 2,
            "linecolor": "white",
            "showbackground": true,
            "ticks": "",
            "zerolinecolor": "white"
           }
          },
          "shapedefaults": {
           "line": {
            "color": "#2a3f5f"
           }
          },
          "ternary": {
           "aaxis": {
            "gridcolor": "white",
            "linecolor": "white",
            "ticks": ""
           },
           "baxis": {
            "gridcolor": "white",
            "linecolor": "white",
            "ticks": ""
           },
           "bgcolor": "#E5ECF6",
           "caxis": {
            "gridcolor": "white",
            "linecolor": "white",
            "ticks": ""
           }
          },
          "title": {
           "x": 0.05
          },
          "xaxis": {
           "automargin": true,
           "gridcolor": "white",
           "linecolor": "white",
           "ticks": "",
           "title": {
            "standoff": 15
           },
           "zerolinecolor": "white",
           "zerolinewidth": 2
          },
          "yaxis": {
           "automargin": true,
           "gridcolor": "white",
           "linecolor": "white",
           "ticks": "",
           "title": {
            "standoff": 15
           },
           "zerolinecolor": "white",
           "zerolinewidth": 2
          }
         }
        },
        "title": {
         "text": "Subject nutre001 lottery choices for day 3"
        },
        "xaxis": {
         "anchor": "y",
         "domain": [
          0,
          0.3133333333333333
         ],
         "title": {
          "text": "lott_qt"
         }
        },
        "xaxis2": {
         "anchor": "y2",
         "domain": [
          0.3333333333333333,
          0.6466666666666666
         ],
         "title": {
          "text": "lott_qt"
         }
        },
        "xaxis3": {
         "anchor": "y3",
         "domain": [
          0.6666666666666666,
          0.98
         ],
         "title": {
          "text": "lott_qt"
         }
        },
        "xaxis4": {
         "anchor": "y4",
         "domain": [
          0,
          0.3133333333333333
         ],
         "showticklabels": false
        },
        "xaxis5": {
         "anchor": "y5",
         "domain": [
          0.3333333333333333,
          0.6466666666666666
         ],
         "showticklabels": false
        },
        "xaxis6": {
         "anchor": "y6",
         "domain": [
          0.6666666666666666,
          0.98
         ],
         "showticklabels": false
        },
        "yaxis": {
         "anchor": "x",
         "domain": [
          0,
          0.485
         ],
         "title": {
          "text": ""
         }
        },
        "yaxis2": {
         "anchor": "x2",
         "domain": [
          0,
          0.485
         ],
         "matches": "y",
         "showticklabels": false
        },
        "yaxis3": {
         "anchor": "x3",
         "domain": [
          0,
          0.485
         ],
         "matches": "y",
         "showticklabels": false
        },
        "yaxis4": {
         "anchor": "x4",
         "domain": [
          0.515,
          1
         ],
         "matches": "y",
         "title": {
          "text": "Prob. of choosing lottery"
         }
        },
        "yaxis5": {
         "anchor": "x5",
         "domain": [
          0.515,
          1
         ],
         "matches": "y",
         "showticklabels": false
        },
        "yaxis6": {
         "anchor": "x6",
         "domain": [
          0.515,
          1
         ],
         "matches": "y",
         "showticklabels": false
        }
       }
      }
     },
     "metadata": {},
     "output_type": "display_data"
    }
   ],
   "source": [
    "\n",
    "neuroEcon_df = load_data.nutreconTrials(responses_dataPath, [subject_id]).rename(columns = cols_rename).replace({'money':'Money'})\n",
    "\n",
    "mt_st_mask = neuroEcon_df['trial_type'] != 'mixed_yogurt'\n",
    "\n",
    "neuroEcon_df = neuroEcon_df[mt_st_mask].reset_index(drop=True) # Removed mixed yogurt Trials\n",
    "\n",
    "day1_mask = neuroEcon_df['Day'] == 1\n",
    "day2_mask = neuroEcon_df['Day'] == 2\n",
    "day3_mask = neuroEcon_df['Day'] == 3\n",
    "\n",
    "plot_subjectLotteryChoices(neuroEcon_df, subject_id)"
   ]
  },
  {
   "attachments": {},
   "cell_type": "markdown",
   "metadata": {},
   "source": [
    "# Day 2"
   ]
  },
  {
   "cell_type": "code",
   "execution_count": 57,
   "metadata": {},
   "outputs": [
    {
     "name": "stderr",
     "output_type": "stream",
     "text": [
      "D:\\FV/Projects/NUTRECON/nutreconDrive/python\\neuroeconomics.py:33: RuntimeWarning:\n",
      "\n",
      "overflow encountered in exp\n",
      "\n",
      "D:\\FV/Projects/NUTRECON/nutreconDrive/python\\neuroeconomics.py:262: RuntimeWarning:\n",
      "\n",
      "divide by zero encountered in log\n",
      "\n",
      "D:\\FV/Projects/NUTRECON/nutreconDrive/python\\neuroeconomics.py:33: RuntimeWarning:\n",
      "\n",
      "overflow encountered in exp\n",
      "\n",
      "D:\\FV/Projects/NUTRECON/nutreconDrive/python\\neuroeconomics.py:262: RuntimeWarning:\n",
      "\n",
      "divide by zero encountered in log\n",
      "\n",
      "c:\\Users\\Admin\\anaconda3\\envs\\nutrecon\\lib\\site-packages\\scipy\\optimize\\_numdiff.py:557: RuntimeWarning:\n",
      "\n",
      "invalid value encountered in subtract\n",
      "\n",
      "D:\\FV/Projects/NUTRECON/nutreconDrive/python\\neuroeconomics.py:33: RuntimeWarning:\n",
      "\n",
      "overflow encountered in exp\n",
      "\n",
      "D:\\FV/Projects/NUTRECON/nutreconDrive/python\\neuroeconomics.py:262: RuntimeWarning:\n",
      "\n",
      "divide by zero encountered in log\n",
      "\n",
      "c:\\Users\\Admin\\anaconda3\\envs\\nutrecon\\lib\\site-packages\\scipy\\optimize\\_numdiff.py:557: RuntimeWarning:\n",
      "\n",
      "invalid value encountered in subtract\n",
      "\n",
      "D:\\FV/Projects/NUTRECON/nutreconDrive/python\\neuroeconomics.py:33: RuntimeWarning:\n",
      "\n",
      "overflow encountered in exp\n",
      "\n",
      "D:\\FV/Projects/NUTRECON/nutreconDrive/python\\neuroeconomics.py:262: RuntimeWarning:\n",
      "\n",
      "divide by zero encountered in log\n",
      "\n",
      "c:\\Users\\Admin\\anaconda3\\envs\\nutrecon\\lib\\site-packages\\scipy\\optimize\\_numdiff.py:557: RuntimeWarning:\n",
      "\n",
      "invalid value encountered in subtract\n",
      "\n",
      "D:\\FV/Projects/NUTRECON/nutreconDrive/python\\neuroeconomics.py:33: RuntimeWarning:\n",
      "\n",
      "overflow encountered in exp\n",
      "\n",
      "D:\\FV/Projects/NUTRECON/nutreconDrive/python\\neuroeconomics.py:262: RuntimeWarning:\n",
      "\n",
      "divide by zero encountered in log\n",
      "\n",
      "c:\\Users\\Admin\\anaconda3\\envs\\nutrecon\\lib\\site-packages\\scipy\\optimize\\_numdiff.py:557: RuntimeWarning:\n",
      "\n",
      "invalid value encountered in subtract\n",
      "\n",
      "D:\\FV/Projects/NUTRECON/nutreconDrive/python\\neuroeconomics.py:33: RuntimeWarning:\n",
      "\n",
      "overflow encountered in exp\n",
      "\n",
      "D:\\FV/Projects/NUTRECON/nutreconDrive/python\\neuroeconomics.py:262: RuntimeWarning:\n",
      "\n",
      "divide by zero encountered in log\n",
      "\n",
      "D:\\FV/Projects/NUTRECON/nutreconDrive/python\\neuroeconomics.py:33: RuntimeWarning:\n",
      "\n",
      "overflow encountered in exp\n",
      "\n",
      "D:\\FV/Projects/NUTRECON/nutreconDrive/python\\neuroeconomics.py:262: RuntimeWarning:\n",
      "\n",
      "divide by zero encountered in log\n",
      "\n",
      "D:\\FV/Projects/NUTRECON/nutreconDrive/python\\neuroeconomics.py:33: RuntimeWarning:\n",
      "\n",
      "overflow encountered in exp\n",
      "\n",
      "D:\\FV/Projects/NUTRECON/nutreconDrive/python\\neuroeconomics.py:262: RuntimeWarning:\n",
      "\n",
      "divide by zero encountered in log\n",
      "\n",
      "D:\\FV/Projects/NUTRECON/nutreconDrive/python\\neuroeconomics.py:262: RuntimeWarning:\n",
      "\n",
      "divide by zero encountered in log\n",
      "\n",
      "D:\\FV/Projects/NUTRECON/nutreconDrive/python\\neuroeconomics.py:262: RuntimeWarning:\n",
      "\n",
      "divide by zero encountered in log\n",
      "\n"
     ]
    },
    {
     "name": "stdout",
     "output_type": "stream",
     "text": [
      "Same type trials\n",
      "==================================================\n",
      "  Optimization terminated successfully.\n",
      "    - parameters: [ 0.42493863 -0.51224763 -1.02306413 -5.21141092]\n",
      "  - std. error: [0.02713805 0.11991182 0.25107284 0.88294093]\n",
      "\n",
      "Confidene intervals:\n",
      "  - parameter 1: 0.425 ± 0.053\n",
      "  - parameter 2: -0.512 ± 0.235\n",
      "  - parameter 3: -1.023 ± 0.492\n",
      "  - parameter 4: -5.211 ± 1.731\n",
      "\n",
      "Mixed type trials\n",
      "==================================================\n",
      "  Optimization terminated successfully.\n",
      "    - parameters: [ 18.23140389 -73.90425492]\n",
      "  - std. error: [ 1.2486205  36.96419193]\n",
      "\n",
      "  Confidene intervals:\n",
      "    - parameter 1: 18.231 ± 2.447\n",
      "    - parameter 2: -73.904 ± 72.45\n"
     ]
    }
   ],
   "source": [
    "alphaMoney0 = 0\n",
    "alphaCplus0 = 0.1\n",
    "alphaCminus0 = -1\n",
    "st_betaMoney0 = 10 # also used in model with only one beta\n",
    "sFactorCplus0 = 1\n",
    "sFactorCminus0= 1\n",
    "\n",
    "x0_d2_6params = (alphaMoney0, alphaCplus0, alphaCminus0, \n",
    "      st_betaMoney0,\n",
    "      sFactorCplus0, sFactorCminus0)\n",
    "\n",
    "df = neuroEcon_df[day2_mask].copy()\n",
    "\n",
    "res_st, res_mt, st_iterParams_df, mt_iterParams_df = neuroEcon.stepwise_estimate(df, x0_d2_6params)\n",
    "parsCI_d2 = neuroEcon.print_stepwiseModel_output(res_st, res_mt)\n",
    "\n"
   ]
  },
  {
   "attachments": {},
   "cell_type": "markdown",
   "metadata": {},
   "source": [
    "## wrap up day 2"
   ]
  },
  {
   "cell_type": "code",
   "execution_count": null,
   "metadata": {},
   "outputs": [],
   "source": [
    "d2_df = pd.DataFrame([x0_d2_6params, parsCI_d2]).T\n",
    "d2_df.columns = ['init guess', 'mean and CI']\n",
    "d2_df['Day'] = 2\n",
    "d2_df['comment']='negative beta and alphas do not correspond to behaviour'"
   ]
  },
  {
   "attachments": {},
   "cell_type": "markdown",
   "metadata": {},
   "source": [
    "# Day 3"
   ]
  },
  {
   "cell_type": "code",
   "execution_count": 60,
   "metadata": {},
   "outputs": [
    {
     "name": "stderr",
     "output_type": "stream",
     "text": [
      "D:\\FV/Projects/NUTRECON/nutreconDrive/python\\neuroeconomics.py:262: RuntimeWarning:\n",
      "\n",
      "divide by zero encountered in log\n",
      "\n",
      "D:\\FV/Projects/NUTRECON/nutreconDrive/python\\neuroeconomics.py:262: RuntimeWarning:\n",
      "\n",
      "divide by zero encountered in log\n",
      "\n",
      "c:\\Users\\Admin\\anaconda3\\envs\\nutrecon\\lib\\site-packages\\scipy\\optimize\\_numdiff.py:557: RuntimeWarning:\n",
      "\n",
      "invalid value encountered in subtract\n",
      "\n",
      "D:\\FV/Projects/NUTRECON/nutreconDrive/python\\neuroeconomics.py:262: RuntimeWarning:\n",
      "\n",
      "divide by zero encountered in log\n",
      "\n",
      "c:\\Users\\Admin\\anaconda3\\envs\\nutrecon\\lib\\site-packages\\scipy\\optimize\\_numdiff.py:557: RuntimeWarning:\n",
      "\n",
      "invalid value encountered in subtract\n",
      "\n",
      "D:\\FV/Projects/NUTRECON/nutreconDrive/python\\neuroeconomics.py:262: RuntimeWarning:\n",
      "\n",
      "divide by zero encountered in log\n",
      "\n",
      "c:\\Users\\Admin\\anaconda3\\envs\\nutrecon\\lib\\site-packages\\scipy\\optimize\\_numdiff.py:557: RuntimeWarning:\n",
      "\n",
      "invalid value encountered in subtract\n",
      "\n",
      "D:\\FV/Projects/NUTRECON/nutreconDrive/python\\neuroeconomics.py:262: RuntimeWarning:\n",
      "\n",
      "divide by zero encountered in log\n",
      "\n",
      "c:\\Users\\Admin\\anaconda3\\envs\\nutrecon\\lib\\site-packages\\scipy\\optimize\\_numdiff.py:557: RuntimeWarning:\n",
      "\n",
      "invalid value encountered in subtract\n",
      "\n",
      "D:\\FV/Projects/NUTRECON/nutreconDrive/python\\neuroeconomics.py:262: RuntimeWarning:\n",
      "\n",
      "divide by zero encountered in log\n",
      "\n"
     ]
    },
    {
     "name": "stdout",
     "output_type": "stream",
     "text": [
      "Same type trials\n",
      "==================================================\n",
      "  Optimization terminated successfully.\n",
      "    - parameters: [  0.53880463  -5.42963527 -16.4468993   -4.81656848]\n",
      "  - std. error: [2.68953329e-02 1.44448860e+02 4.32887744e+02 7.31446617e-01]\n",
      "\n",
      "Confidene intervals:\n",
      "  - parameter 1: 0.539 ± 0.053\n",
      "  - parameter 2: -5.43 ± 283.12\n",
      "  - parameter 3: -16.447 ± 848.46\n",
      "  - parameter 4: -4.817 ± 1.434\n",
      "\n",
      "Mixed type trials\n",
      "==================================================\n",
      "  Optimization terminated successfully.\n",
      "    - parameters: [  5. -10.]\n",
      "  - std. error: [1. 1.]\n",
      "\n",
      "  Confidene intervals:\n",
      "    - parameter 1: 5.0 ± 1.96\n",
      "    - parameter 2: -10.0 ± 1.96\n"
     ]
    }
   ],
   "source": [
    "alphaMoney0 = 0\n",
    "alphaCplus0 = 0.2\n",
    "alphaCminus0 = 0\n",
    "st_betaMoney0 = 10 # also used in model with only one beta\n",
    "sFactorCplus0 = 5\n",
    "sFactorCminus0= -10\n",
    "\n",
    "x0_d3_6params = (alphaMoney0, alphaCplus0, alphaCminus0, \n",
    "      st_betaMoney0,\n",
    "      sFactorCplus0, sFactorCminus0)\n",
    "\n",
    "df = neuroEcon_df[day3_mask].copy()\n",
    "\n",
    "res_st, res_mt, st_iterParams_df, mt_iterParams_df = neuroEcon.stepwise_estimate(df, x0_d3_6params)\n",
    "parsCI_d3 = neuroEcon.print_stepwiseModel_output(res_st, res_mt)\n",
    "\n"
   ]
  },
  {
   "attachments": {},
   "cell_type": "markdown",
   "metadata": {},
   "source": [
    "## Wrap up day 3"
   ]
  },
  {
   "cell_type": "code",
   "execution_count": null,
   "metadata": {},
   "outputs": [],
   "source": [
    "d3_df = pd.DataFrame([x0_d3_6params, parsCI_d3]).T\n",
    "d3_df.columns = ['init guess', 'mean and CI']\n",
    "d3_df['Day'] = 3\n",
    "d3_df['comment']=''"
   ]
  },
  {
   "attachments": {},
   "cell_type": "markdown",
   "metadata": {},
   "source": [
    "# Day 1"
   ]
  },
  {
   "cell_type": "code",
   "execution_count": 41,
   "metadata": {},
   "outputs": [
    {
     "name": "stdout",
     "output_type": "stream",
     "text": [
      "Task was not run on day 1\n"
     ]
    }
   ],
   "source": [
    "if all(day1_mask == False):\n",
    "    print('Task was not run on day 1')\n",
    "else:\n",
    "    alphaMoney0 = 0\n",
    "    alphaCplus0 = 0\n",
    "    alphaCminus0 = 0\n",
    "    st_betaMoney0 = 10 # also used in model with only one beta\n",
    "    sFactorCplus0 = 1\n",
    "    sFactorCminus0= 1\n",
    "\n",
    "    x0_d1_6params = (alphaMoney0, alphaCplus0, alphaCminus0, \n",
    "        st_betaMoney0,\n",
    "        sFactorCplus0, sFactorCminus0)\n",
    "\n",
    "    df = neuroEcon_df[day1_mask].copy()\n",
    "\n",
    "    res_st, res_mt, st_iterParams_df, mt_iterParams_df = neuroEcon.stepwise_estimate(df, x0_d1_6params)\n",
    "    parsCI_d1 = neuroEcon.print_stepwiseModel_output(res_st, res_mt)\n",
    "\n",
    "    "
   ]
  },
  {
   "attachments": {},
   "cell_type": "markdown",
   "metadata": {},
   "source": [
    "## Wrap up day 1"
   ]
  },
  {
   "cell_type": "code",
   "execution_count": 62,
   "metadata": {},
   "outputs": [],
   "source": [
    "if not all(day1_mask == False):\n",
    "    d1_df = pd.DataFrame([x0_d1_6params, parsCI_d1]).T\n",
    "    d1_df.columns = ['init guess', 'mean and CI']\n",
    "    d1_df['Day'] = 1\n",
    "    d1_df['comment']=''"
   ]
  },
  {
   "attachments": {},
   "cell_type": "markdown",
   "metadata": {},
   "source": [
    "# Save Results below"
   ]
  },
  {
   "cell_type": "code",
   "execution_count": 63,
   "metadata": {},
   "outputs": [],
   "source": [
    "if all(day1_mask == False):\n",
    "    sub_df = pd.concat([d2_df,d3_df])\n",
    "else:\n",
    "    sub_df = pd.concat([d1_df,d2_df,d3_df])\n",
    "\n",
    "fpath = 'D:/FV/Projects/NUTRECON/Results/Subject Level/{}_parameterEstimates.csv'.format(subject_id)\n",
    "sub_df.to_csv(fpath, index = False)"
   ]
  },
  {
   "cell_type": "code",
   "execution_count": null,
   "metadata": {},
   "outputs": [],
   "source": []
  }
 ],
 "metadata": {
  "kernelspec": {
   "display_name": "nutrecon",
   "language": "python",
   "name": "python3"
  },
  "language_info": {
   "codemirror_mode": {
    "name": "ipython",
    "version": 3
   },
   "file_extension": ".py",
   "mimetype": "text/x-python",
   "name": "python",
   "nbconvert_exporter": "python",
   "pygments_lexer": "ipython3",
   "version": "3.10.4"
  },
  "orig_nbformat": 4
 },
 "nbformat": 4,
 "nbformat_minor": 2
}
